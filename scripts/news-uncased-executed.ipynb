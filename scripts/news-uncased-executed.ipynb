{
 "cells": [
  {
   "cell_type": "code",
   "execution_count": 1,
   "id": "530888af",
   "metadata": {
    "execution": {
     "iopub.execute_input": "2025-07-02T23:17:45.127542Z",
     "iopub.status.busy": "2025-07-02T23:17:45.127158Z",
     "iopub.status.idle": "2025-07-02T23:18:01.802765Z",
     "shell.execute_reply": "2025-07-02T23:18:01.802239Z"
    }
   },
   "outputs": [
    {
     "name": "stderr",
     "output_type": "stream",
     "text": [
      "/scistor/guest/lre040/miniconda3/lib/python3.13/site-packages/tqdm/auto.py:21: TqdmWarning: IProgress not found. Please update jupyter and ipywidgets. See https://ipywidgets.readthedocs.io/en/stable/user_install.html\n",
      "  from .autonotebook import tqdm as notebook_tqdm\n"
     ]
    }
   ],
   "source": [
    "\n",
    "from collections import Counter\n",
    "\n",
    "import numpy as np\n",
    "\n",
    "\n",
    "import torch\n",
    "\n",
    "from datasets import (\n",
    "    \n",
    "    load_from_disk,\n",
    ")\n",
    "from transformers import (\n",
    "    DataCollatorForTokenClassification,\n",
    "    Trainer,\n",
    "    TrainingArguments,\n",
    ")\n",
    "\n",
    "\n",
    "import pickle\n",
    "\n",
    "from sklearn.metrics import  classification_report\n",
    "from transformers import BertTokenizerFast, BertForTokenClassification\n",
    "\n",
    "from evaluate import load as load_metric"
   ]
  },
  {
   "cell_type": "code",
   "execution_count": 2,
   "id": "774a9f0b",
   "metadata": {
    "execution": {
     "iopub.execute_input": "2025-07-02T23:18:01.805099Z",
     "iopub.status.busy": "2025-07-02T23:18:01.804632Z",
     "iopub.status.idle": "2025-07-02T23:18:01.807382Z",
     "shell.execute_reply": "2025-07-02T23:18:01.806987Z"
    }
   },
   "outputs": [],
   "source": [
    "model_name = \"bert-base-uncased\""
   ]
  },
  {
   "cell_type": "code",
   "execution_count": 3,
   "id": "28438fce",
   "metadata": {
    "execution": {
     "iopub.execute_input": "2025-07-02T23:18:01.808879Z",
     "iopub.status.busy": "2025-07-02T23:18:01.808642Z",
     "iopub.status.idle": "2025-07-02T23:18:01.852677Z",
     "shell.execute_reply": "2025-07-02T23:18:01.852221Z"
    }
   },
   "outputs": [],
   "source": [
    "conll_main = load_from_disk(\"./splits/conll_main\")\n",
    "\n",
    "ontonotes_main = load_from_disk(\"./splits/ontonotes_main\")\n",
    "\n",
    "ontonotes_nw_encoded = load_from_disk(\"./splits/ontonotes_newswire\")\n",
    "ontonotes_rest_encoded = load_from_disk(\"./splits/ontonotes_rest\")"
   ]
  },
  {
   "cell_type": "markdown",
   "id": "00b257b1",
   "metadata": {},
   "source": [
    "# Load GPU"
   ]
  },
  {
   "cell_type": "code",
   "execution_count": 4,
   "id": "dd8f9110",
   "metadata": {
    "execution": {
     "iopub.execute_input": "2025-07-02T23:18:01.854630Z",
     "iopub.status.busy": "2025-07-02T23:18:01.854402Z",
     "iopub.status.idle": "2025-07-02T23:18:01.894499Z",
     "shell.execute_reply": "2025-07-02T23:18:01.894031Z"
    }
   },
   "outputs": [
    {
     "name": "stdout",
     "output_type": "stream",
     "text": [
      "Using device: cuda\n"
     ]
    }
   ],
   "source": [
    "device = torch.device(\"cuda\" if torch.cuda.is_available() else \"cpu\")\n",
    "print(\"Using device:\", device)"
   ]
  },
  {
   "cell_type": "markdown",
   "id": "eedaa403",
   "metadata": {},
   "source": [
    "# Tokenisation & Alignment"
   ]
  },
  {
   "cell_type": "code",
   "execution_count": 5,
   "id": "3aa28ab8",
   "metadata": {
    "execution": {
     "iopub.execute_input": "2025-07-02T23:18:01.896252Z",
     "iopub.status.busy": "2025-07-02T23:18:01.895964Z",
     "iopub.status.idle": "2025-07-02T23:18:01.900116Z",
     "shell.execute_reply": "2025-07-02T23:18:01.899720Z"
    }
   },
   "outputs": [],
   "source": [
    "ontonotes_id_to_label = {\n",
    "    0: \"O\", 1: \"B-CARDINAL\", 2: \"B-DATE\", 3: \"I-DATE\", 4: \"B-PERSON\", 5: \"I-PERSON\",\n",
    "    6: \"B-NORP\", 7: \"B-GPE\", 8: \"I-GPE\", 9: \"B-LAW\", 10: \"I-LAW\", 11: \"B-ORG\", 12: \"I-ORG\",\n",
    "    13: \"B-PERCENT\", 14: \"I-PERCENT\", 15: \"B-ORDINAL\", 16: \"B-MONEY\", 17: \"I-MONEY\",\n",
    "    18: \"B-WORK_OF_ART\", 19: \"I-WORK_OF_ART\", 20: \"B-FAC\", 21: \"B-TIME\", 22: \"I-CARDINAL\",\n",
    "    23: \"B-LOC\", 24: \"B-QUANTITY\", 25: \"I-QUANTITY\", 26: \"I-NORP\", 27: \"I-LOC\",\n",
    "    28: \"B-PRODUCT\", 29: \"I-TIME\", 30: \"B-EVENT\", 31: \"I-EVENT\", 32: \"I-FAC\",\n",
    "    33: \"B-LANGUAGE\", 34: \"I-PRODUCT\", 35: \"I-ORDINAL\", 36: \"I-LANGUAGE\"\n",
    "}\n",
    "\n",
    "conll_label_to_id = {'O': 0, 'B-PER': 1, 'I-PER': 2, 'B-ORG': 3,\n",
    "                     'I-ORG': 4, 'B-LOC': 5, 'I-LOC': 6, 'B-MISC': 7, 'I-MISC': 8}\n",
    "id2label = {v: k for k, v in conll_label_to_id.items()}\n",
    "\n",
    "ontonotes_to_conll_entity = {\n",
    "    \"PERSON\": \"PER\", \"ORG\": \"ORG\", \"GPE\": \"LOC\", \"LOC\": \"LOC\",\n",
    "    \"NORP\": \"MISC\", \"FAC\": \"MISC\", \"EVENT\": \"MISC\", \"WORK_OF_ART\": \"MISC\",\n",
    "    \"LAW\": \"MISC\", \"PRODUCT\": \"MISC\", \"LANGUAGE\": \"MISC\",\n",
    "    \"DATE\": None, \"TIME\": None, \"PERCENT\": None, \"MONEY\": None,\n",
    "    \"QUANTITY\": None, \"ORDINAL\": None, \"CARDINAL\": None\n",
    "}"
   ]
  },
  {
   "cell_type": "code",
   "execution_count": 6,
   "id": "f10ff4db",
   "metadata": {
    "execution": {
     "iopub.execute_input": "2025-07-02T23:18:01.901614Z",
     "iopub.status.busy": "2025-07-02T23:18:01.901374Z",
     "iopub.status.idle": "2025-07-02T23:18:01.907968Z",
     "shell.execute_reply": "2025-07-02T23:18:01.907572Z"
    }
   },
   "outputs": [],
   "source": [
    "def process_data(data_list):\n",
    "\n",
    "    def process_single(data):\n",
    "        word_ids = data['word_ids']\n",
    "        predictions = data['predictions']\n",
    "        gold = data['gold']\n",
    "        tokenized_tokens = data['tokens']\n",
    "\n",
    "        word_ids = [a for a in word_ids if a is not None]\n",
    "\n",
    "        processed_predictions = []\n",
    "        processed_gold = []\n",
    "\n",
    "        current_word_id = None\n",
    "        current_predictions = []\n",
    "        current_gold = []\n",
    "\n",
    "        for idx, word_id in enumerate(word_ids):\n",
    "            if word_id != current_word_id:\n",
    "                if current_predictions:\n",
    "                    processed_predictions.append(\n",
    "                        Counter(current_predictions).most_common(1)[0][0])\n",
    "                    processed_gold.append(\n",
    "                        Counter(current_gold).most_common(1)[0][0])\n",
    "\n",
    "                current_word_id = word_id\n",
    "                current_predictions = [predictions[idx]]\n",
    "                current_gold = [gold[idx]]\n",
    "            else:\n",
    "                current_predictions.append(predictions[idx])\n",
    "                current_gold.append(gold[idx])\n",
    "\n",
    "        if current_predictions:\n",
    "            processed_predictions.append(\n",
    "                Counter(current_predictions).most_common(1)[0][0])\n",
    "            processed_gold.append(\n",
    "                Counter(current_gold).most_common(1)[0][0])\n",
    "\n",
    "        return processed_predictions, processed_gold\n",
    "\n",
    "    processed_predictions_list = []\n",
    "    processed_gold_list = []\n",
    "\n",
    "    for data in data_list:\n",
    "        processed_predictions, processed_gold = process_single(data)\n",
    "        processed_predictions_list.append(processed_predictions)\n",
    "        processed_gold_list.append(processed_gold)\n",
    "\n",
    "    return processed_predictions_list, processed_gold_list\n",
    "\n",
    "\n",
    "def evaluate_predictions(p, test_data):\n",
    "    predictions, labels, _ = p\n",
    "\n",
    "    pred_indices = [np.argmax(p, axis=-1) for p in predictions]\n",
    "    label_indices = labels\n",
    "\n",
    "    pred_tags = [[id2label[p] for p, l in zip(p_seq, l_seq) if l != -100]\n",
    "                 for p_seq, l_seq in zip(pred_indices, label_indices)]\n",
    "    gold_tags = [[id2label[l] for l in l_seq if l != -100]\n",
    "                 for l_seq in label_indices]\n",
    "\n",
    "    def add_preds(example, idx):\n",
    "        length = len(example['word_ids'])\n",
    "        example['predictions'] = pred_tags[idx][:length]\n",
    "        example['gold'] = gold_tags[idx][:length]\n",
    "        return example\n",
    "\n",
    "    test_data = test_data.map(add_preds, with_indices=True)\n",
    "\n",
    "    length = len(test_data['predictions'][0])\n",
    "\n",
    "    pred, gold = process_data(test_data)\n",
    "\n",
    "    flat_pred = [label for seq in pred for label in seq]\n",
    "    flat_gold = [label for seq in gold for label in seq]\n",
    "\n",
    "    print(classification_report(flat_gold, flat_pred, zero_division=0))\n",
    "\n",
    "    return (flat_pred, flat_gold)"
   ]
  },
  {
   "cell_type": "markdown",
   "id": "8cb80156",
   "metadata": {},
   "source": [
    "# Model"
   ]
  },
  {
   "cell_type": "code",
   "execution_count": 7,
   "id": "b8d66b36",
   "metadata": {
    "execution": {
     "iopub.execute_input": "2025-07-02T23:18:01.909549Z",
     "iopub.status.busy": "2025-07-02T23:18:01.909336Z",
     "iopub.status.idle": "2025-07-02T23:18:02.490606Z",
     "shell.execute_reply": "2025-07-02T23:18:02.490124Z"
    }
   },
   "outputs": [],
   "source": [
    "tokenizer = BertTokenizerFast.from_pretrained(model_name)\n",
    "\n",
    "label_list = ['O', 'B-PER', 'I-PER', 'B-ORG',\n",
    "              'I-ORG', 'B-LOC', 'I-LOC', 'B-MISC', 'I-MISC']\n",
    "\n",
    "\n",
    "def tokenize_and_align_labels(examples):\n",
    "    tokenized_inputs = tokenizer(\n",
    "        examples[\"tokens\"],\n",
    "        truncation=True,\n",
    "        is_split_into_words=True,\n",
    "        padding=True,\n",
    "        return_special_tokens_mask=True,\n",
    "        return_offsets_mapping=True,\n",
    "    )\n",
    "    all_word_ids = []\n",
    "    all_labels = []\n",
    "    for i, labels in enumerate(examples[\"labels\"]):\n",
    "        word_ids = tokenized_inputs.word_ids(batch_index=i)\n",
    "        all_word_ids.append(word_ids)\n",
    "        previous_word_idx = None\n",
    "        label_ids = []\n",
    "        for word_idx in word_ids:\n",
    "            if word_idx is None:\n",
    "                label_ids.append(-100)\n",
    "            else:\n",
    "                label_ids.append(labels[word_idx])\n",
    "            previous_word_idx = word_idx\n",
    "        all_labels.append(label_ids)\n",
    "\n",
    "    tokenized_inputs[\"labels\"] = all_labels\n",
    "    tokenized_inputs[\"word_ids\"] = all_word_ids\n",
    "    return tokenized_inputs"
   ]
  },
  {
   "cell_type": "code",
   "execution_count": 8,
   "id": "b6c19c9c",
   "metadata": {
    "execution": {
     "iopub.execute_input": "2025-07-02T23:18:02.492677Z",
     "iopub.status.busy": "2025-07-02T23:18:02.492410Z",
     "iopub.status.idle": "2025-07-02T23:18:02.555279Z",
     "shell.execute_reply": "2025-07-02T23:18:02.554808Z"
    }
   },
   "outputs": [],
   "source": [
    "conll_main = conll_main.map(tokenize_and_align_labels, batched=True)\n",
    "ontonotes_main = ontonotes_main.map(tokenize_and_align_labels, batched=True)\n",
    "onto_news = ontonotes_nw_encoded.map(tokenize_and_align_labels, batched=True)\n",
    "onto_rest = ontonotes_rest_encoded.map(tokenize_and_align_labels, batched=True)"
   ]
  },
  {
   "cell_type": "markdown",
   "id": "43c59b30",
   "metadata": {},
   "source": [
    "# Deciding params"
   ]
  },
  {
   "cell_type": "code",
   "execution_count": 9,
   "id": "c2a6e063",
   "metadata": {
    "execution": {
     "iopub.execute_input": "2025-07-02T23:18:02.557368Z",
     "iopub.status.busy": "2025-07-02T23:18:02.557005Z",
     "iopub.status.idle": "2025-07-02T23:18:02.559486Z",
     "shell.execute_reply": "2025-07-02T23:18:02.559115Z"
    }
   },
   "outputs": [],
   "source": [
    "train_data = conll_main\n",
    "test_data = onto_news"
   ]
  },
  {
   "cell_type": "code",
   "execution_count": 10,
   "id": "02151748",
   "metadata": {
    "execution": {
     "iopub.execute_input": "2025-07-02T23:18:02.560949Z",
     "iopub.status.busy": "2025-07-02T23:18:02.560684Z",
     "iopub.status.idle": "2025-07-02T23:18:02.562837Z",
     "shell.execute_reply": "2025-07-02T23:18:02.562471Z"
    }
   },
   "outputs": [],
   "source": [
    "train_data_name = 'news'"
   ]
  },
  {
   "cell_type": "code",
   "execution_count": 11,
   "id": "44cff0b2",
   "metadata": {
    "execution": {
     "iopub.execute_input": "2025-07-02T23:18:02.564371Z",
     "iopub.status.busy": "2025-07-02T23:18:02.564047Z",
     "iopub.status.idle": "2025-07-02T23:18:03.970314Z",
     "shell.execute_reply": "2025-07-02T23:18:03.969860Z"
    }
   },
   "outputs": [
    {
     "name": "stderr",
     "output_type": "stream",
     "text": [
      "Some weights of BertForTokenClassification were not initialized from the model checkpoint at bert-base-uncased and are newly initialized: ['classifier.bias', 'classifier.weight']\n",
      "You should probably TRAIN this model on a down-stream task to be able to use it for predictions and inference.\n"
     ]
    },
    {
     "name": "stderr",
     "output_type": "stream",
     "text": [
      "/scratch/1063416/ipykernel_1294453/1248433719.py:40: FutureWarning: `tokenizer` is deprecated and will be removed in version 5.0.0 for `Trainer.__init__`. Use `processing_class` instead.\n",
      "  trainer = Trainer(\n"
     ]
    }
   ],
   "source": [
    "mod = BertForTokenClassification.from_pretrained(\n",
    "    model_name, num_labels=len(label_list))\n",
    "\n",
    "metric = load_metric(\"seqeval\")\n",
    "\n",
    "\n",
    "def compute_metrics(p):\n",
    "    predictions, labels = p\n",
    "    predictions = np.argmax(predictions, axis=2)\n",
    "\n",
    "    true_predictions = [\n",
    "        [label_list[p] for (p, l) in zip(prediction, label) if l != -100]\n",
    "        for prediction, label in zip(predictions, labels)\n",
    "    ]\n",
    "    true_labels = [\n",
    "        [label_list[l] for (p, l) in zip(prediction, label) if l != -100]\n",
    "        for prediction, label in zip(predictions, labels)\n",
    "    ]\n",
    "\n",
    "    return metric.compute(predictions=true_predictions, references=true_labels)\n",
    "\n",
    "\n",
    "data_collator = DataCollatorForTokenClassification(tokenizer)\n",
    "\n",
    "training_args = TrainingArguments(\n",
    "    output_dir=f\"./output/{model_name}\",\n",
    "    eval_strategy=\"no\",\n",
    "    learning_rate=2e-5,\n",
    "    per_device_train_batch_size=8,\n",
    "    per_device_eval_batch_size=8,\n",
    "    gradient_accumulation_steps=2,\n",
    "    num_train_epochs=3,\n",
    "    weight_decay=0.01,\n",
    "    load_best_model_at_end=True,\n",
    "    report_to=\"none\",\n",
    "    fp16=True,\n",
    "    save_strategy=\"no\",\n",
    ")\n",
    "\n",
    "trainer = Trainer(\n",
    "    model=mod,\n",
    "    args=training_args,\n",
    "    train_dataset=train_data,\n",
    "    eval_dataset=test_data,\n",
    "    tokenizer=tokenizer,\n",
    "    compute_metrics=compute_metrics,\n",
    "    data_collator=data_collator,\n",
    ")"
   ]
  },
  {
   "cell_type": "code",
   "execution_count": 12,
   "id": "f3aba358",
   "metadata": {
    "execution": {
     "iopub.execute_input": "2025-07-02T23:18:03.972423Z",
     "iopub.status.busy": "2025-07-02T23:18:03.972004Z",
     "iopub.status.idle": "2025-07-02T23:24:38.754869Z",
     "shell.execute_reply": "2025-07-02T23:24:38.754296Z"
    }
   },
   "outputs": [
    {
     "data": {
      "text/html": [
       "\n",
       "    <div>\n",
       "      \n",
       "      <progress value='3114' max='3114' style='width:300px; height:20px; vertical-align: middle;'></progress>\n",
       "      [3114/3114 06:33, Epoch 3/3]\n",
       "    </div>\n",
       "    <table border=\"1\" class=\"dataframe\">\n",
       "  <thead>\n",
       " <tr style=\"text-align: left;\">\n",
       "      <th>Step</th>\n",
       "      <th>Training Loss</th>\n",
       "    </tr>\n",
       "  </thead>\n",
       "  <tbody>\n",
       "    <tr>\n",
       "      <td>500</td>\n",
       "      <td>0.223600</td>\n",
       "    </tr>\n",
       "    <tr>\n",
       "      <td>1000</td>\n",
       "      <td>0.080200</td>\n",
       "    </tr>\n",
       "    <tr>\n",
       "      <td>1500</td>\n",
       "      <td>0.050400</td>\n",
       "    </tr>\n",
       "    <tr>\n",
       "      <td>2000</td>\n",
       "      <td>0.045300</td>\n",
       "    </tr>\n",
       "    <tr>\n",
       "      <td>2500</td>\n",
       "      <td>0.029900</td>\n",
       "    </tr>\n",
       "    <tr>\n",
       "      <td>3000</td>\n",
       "      <td>0.027500</td>\n",
       "    </tr>\n",
       "  </tbody>\n",
       "</table><p>"
      ],
      "text/plain": [
       "<IPython.core.display.HTML object>"
      ]
     },
     "metadata": {},
     "output_type": "display_data"
    },
    {
     "data": {
      "text/plain": [
       "TrainOutput(global_step=3114, training_loss=0.07433305386939566, metrics={'train_runtime': 394.5068, 'train_samples_per_second': 126.196, 'train_steps_per_second': 7.893, 'total_flos': 3729913475126796.0, 'train_loss': 0.07433305386939566, 'epoch': 3.0})"
      ]
     },
     "execution_count": 12,
     "metadata": {},
     "output_type": "execute_result"
    }
   ],
   "source": [
    "trainer.train()"
   ]
  },
  {
   "cell_type": "code",
   "execution_count": 13,
   "id": "0ab61534",
   "metadata": {
    "execution": {
     "iopub.execute_input": "2025-07-02T23:24:38.757053Z",
     "iopub.status.busy": "2025-07-02T23:24:38.756796Z",
     "iopub.status.idle": "2025-07-02T23:24:41.589932Z",
     "shell.execute_reply": "2025-07-02T23:24:41.589456Z"
    }
   },
   "outputs": [],
   "source": [
    "trainer.save_model(f\"./saved_model/{model_name}_{train_data_name}\")"
   ]
  },
  {
   "cell_type": "code",
   "execution_count": 14,
   "id": "0501140f",
   "metadata": {
    "execution": {
     "iopub.execute_input": "2025-07-02T23:24:41.591784Z",
     "iopub.status.busy": "2025-07-02T23:24:41.591554Z",
     "iopub.status.idle": "2025-07-02T23:26:20.679720Z",
     "shell.execute_reply": "2025-07-02T23:26:20.679051Z"
    }
   },
   "outputs": [
    {
     "data": {
      "text/html": [],
      "text/plain": [
       "<IPython.core.display.HTML object>"
      ]
     },
     "metadata": {},
     "output_type": "display_data"
    }
   ],
   "source": [
    "predictions = trainer.predict(test_data)"
   ]
  },
  {
   "cell_type": "code",
   "execution_count": 15,
   "id": "fe65dbef",
   "metadata": {
    "execution": {
     "iopub.execute_input": "2025-07-02T23:26:20.681606Z",
     "iopub.status.busy": "2025-07-02T23:26:20.681229Z",
     "iopub.status.idle": "2025-07-02T23:26:24.482514Z",
     "shell.execute_reply": "2025-07-02T23:26:24.482012Z"
    }
   },
   "outputs": [],
   "source": [
    "with open(f'./results/{model_name}_{train_data_name}_results.pkl', 'wb') as f:\n",
    "    pickle.dump(predictions, f)"
   ]
  },
  {
   "cell_type": "code",
   "execution_count": 16,
   "id": "2d1254fe",
   "metadata": {
    "execution": {
     "iopub.execute_input": "2025-07-02T23:26:24.484682Z",
     "iopub.status.busy": "2025-07-02T23:26:24.484372Z",
     "iopub.status.idle": "2025-07-02T23:27:43.598845Z",
     "shell.execute_reply": "2025-07-02T23:27:43.598357Z"
    }
   },
   "outputs": [
    {
     "name": "stderr",
     "output_type": "stream",
     "text": [
      "\r",
      "Map:   0%|          | 0/42753 [00:00<?, ? examples/s]"
     ]
    },
    {
     "name": "stderr",
     "output_type": "stream",
     "text": [
      "\r",
      "Map:   2%|▏         | 667/42753 [00:00<00:06, 6582.85 examples/s]"
     ]
    },
    {
     "name": "stderr",
     "output_type": "stream",
     "text": [
      "\r",
      "Map:   3%|▎         | 1348/42753 [00:00<00:08, 5146.49 examples/s]"
     ]
    },
    {
     "name": "stderr",
     "output_type": "stream",
     "text": [
      "\r",
      "Map:   5%|▍         | 2000/42753 [00:00<00:08, 4738.80 examples/s]"
     ]
    },
    {
     "name": "stderr",
     "output_type": "stream",
     "text": [
      "\r",
      "Map:   6%|▋         | 2709/42753 [00:00<00:07, 5483.48 examples/s]"
     ]
    },
    {
     "name": "stderr",
     "output_type": "stream",
     "text": [
      "\r",
      "Map:   8%|▊         | 3401/42753 [00:00<00:07, 5247.08 examples/s]"
     ]
    },
    {
     "name": "stderr",
     "output_type": "stream",
     "text": [
      "\r",
      "Map:   9%|▉         | 4000/42753 [00:00<00:07, 5157.06 examples/s]"
     ]
    },
    {
     "name": "stderr",
     "output_type": "stream",
     "text": [
      "\r",
      "Map:  11%|█         | 4800/42753 [00:00<00:06, 5940.13 examples/s]"
     ]
    },
    {
     "name": "stderr",
     "output_type": "stream",
     "text": [
      "\r",
      "Map:  13%|█▎        | 5418/42753 [00:00<00:06, 5642.14 examples/s]"
     ]
    },
    {
     "name": "stderr",
     "output_type": "stream",
     "text": [
      "\r",
      "Map:  14%|█▍        | 6000/42753 [00:01<00:06, 5404.13 examples/s]"
     ]
    },
    {
     "name": "stderr",
     "output_type": "stream",
     "text": [
      "\r",
      "Map:  16%|█▌        | 6857/42753 [00:01<00:05, 6262.91 examples/s]"
     ]
    },
    {
     "name": "stderr",
     "output_type": "stream",
     "text": [
      "\r",
      "Map:  18%|█▊        | 7755/42753 [00:01<00:05, 5955.60 examples/s]"
     ]
    },
    {
     "name": "stderr",
     "output_type": "stream",
     "text": [
      "\r",
      "Map:  20%|█▉        | 8452/42753 [00:01<00:06, 5704.01 examples/s]"
     ]
    },
    {
     "name": "stderr",
     "output_type": "stream",
     "text": [
      "\r",
      "Map:  22%|██▏       | 9433/42753 [00:01<00:05, 5807.14 examples/s]"
     ]
    },
    {
     "name": "stderr",
     "output_type": "stream",
     "text": [
      "\r",
      "Map:  24%|██▍       | 10335/42753 [00:01<00:05, 5716.07 examples/s]"
     ]
    },
    {
     "name": "stderr",
     "output_type": "stream",
     "text": [
      "\r",
      "Map:  26%|██▌       | 11000/42753 [00:01<00:05, 5311.63 examples/s]"
     ]
    },
    {
     "name": "stderr",
     "output_type": "stream",
     "text": [
      "\r",
      "Map:  27%|██▋       | 11754/42753 [00:02<00:05, 5810.67 examples/s]"
     ]
    },
    {
     "name": "stderr",
     "output_type": "stream",
     "text": [
      "\r",
      "Map:  29%|██▉       | 12395/42753 [00:02<00:05, 5511.47 examples/s]"
     ]
    },
    {
     "name": "stderr",
     "output_type": "stream",
     "text": [
      "\r",
      "Map:  30%|███       | 13000/42753 [00:02<00:05, 5225.55 examples/s]"
     ]
    },
    {
     "name": "stderr",
     "output_type": "stream",
     "text": [
      "\r",
      "Map:  32%|███▏      | 13830/42753 [00:02<00:04, 5971.92 examples/s]"
     ]
    },
    {
     "name": "stderr",
     "output_type": "stream",
     "text": [
      "\r",
      "Map:  34%|███▍      | 14649/42753 [00:02<00:05, 5554.31 examples/s]"
     ]
    },
    {
     "name": "stderr",
     "output_type": "stream",
     "text": [
      "\r",
      "Map:  36%|███▌      | 15429/42753 [00:02<00:05, 5339.45 examples/s]"
     ]
    },
    {
     "name": "stderr",
     "output_type": "stream",
     "text": [
      "\r",
      "Map:  37%|███▋      | 16000/42753 [00:02<00:05, 5248.64 examples/s]"
     ]
    },
    {
     "name": "stderr",
     "output_type": "stream",
     "text": [
      "\r",
      "Map:  39%|███▉      | 16782/42753 [00:02<00:04, 5867.75 examples/s]"
     ]
    },
    {
     "name": "stderr",
     "output_type": "stream",
     "text": [
      "\r",
      "Map:  41%|████      | 17412/42753 [00:03<00:04, 5598.29 examples/s]"
     ]
    },
    {
     "name": "stderr",
     "output_type": "stream",
     "text": [
      "\r",
      "Map:  42%|████▏     | 18000/42753 [00:03<00:04, 5343.83 examples/s]"
     ]
    },
    {
     "name": "stderr",
     "output_type": "stream",
     "text": [
      "\r",
      "Map:  44%|████▍     | 18785/42753 [00:03<00:04, 5984.38 examples/s]"
     ]
    },
    {
     "name": "stderr",
     "output_type": "stream",
     "text": [
      "\r",
      "Map:  45%|████▌     | 19428/42753 [00:03<00:04, 5678.23 examples/s]"
     ]
    },
    {
     "name": "stderr",
     "output_type": "stream",
     "text": [
      "\r",
      "Map:  48%|████▊     | 20418/42753 [00:03<00:03, 5754.90 examples/s]"
     ]
    },
    {
     "name": "stderr",
     "output_type": "stream",
     "text": [
      "\r",
      "Map:  50%|█████     | 21415/42753 [00:03<00:03, 5810.77 examples/s]"
     ]
    },
    {
     "name": "stderr",
     "output_type": "stream",
     "text": [
      "\r",
      "Map:  52%|█████▏    | 22374/42753 [00:03<00:03, 5786.71 examples/s]"
     ]
    },
    {
     "name": "stderr",
     "output_type": "stream",
     "text": [
      "\r",
      "Map:  54%|█████▍    | 23000/42753 [00:04<00:03, 5532.63 examples/s]"
     ]
    },
    {
     "name": "stderr",
     "output_type": "stream",
     "text": [
      "\r",
      "Map:  56%|█████▌    | 23823/42753 [00:04<00:03, 6146.60 examples/s]"
     ]
    },
    {
     "name": "stderr",
     "output_type": "stream",
     "text": [
      "\r",
      "Map:  58%|█████▊    | 24844/42753 [00:04<00:02, 6082.12 examples/s]"
     ]
    },
    {
     "name": "stderr",
     "output_type": "stream",
     "text": [
      "\r",
      "Map:  60%|██████    | 25831/42753 [00:04<00:02, 5989.55 examples/s]"
     ]
    },
    {
     "name": "stderr",
     "output_type": "stream",
     "text": [
      "\r",
      "Map:  63%|██████▎   | 26807/42753 [00:04<00:02, 5911.55 examples/s]"
     ]
    },
    {
     "name": "stderr",
     "output_type": "stream",
     "text": [
      "\r",
      "Map:  65%|██████▍   | 27775/42753 [00:04<00:02, 5813.79 examples/s]"
     ]
    },
    {
     "name": "stderr",
     "output_type": "stream",
     "text": [
      "\r",
      "Map:  67%|██████▋   | 28731/42753 [00:05<00:02, 5646.11 examples/s]"
     ]
    },
    {
     "name": "stderr",
     "output_type": "stream",
     "text": [
      "\r",
      "Map:  69%|██████▉   | 29430/42753 [00:05<00:02, 5493.90 examples/s]"
     ]
    },
    {
     "name": "stderr",
     "output_type": "stream",
     "text": [
      "\r",
      "Map:  70%|███████   | 30000/42753 [00:05<00:02, 5339.24 examples/s]"
     ]
    },
    {
     "name": "stderr",
     "output_type": "stream",
     "text": [
      "\r",
      "Map:  71%|███████▏  | 30558/42753 [00:05<00:03, 3802.40 examples/s]"
     ]
    },
    {
     "name": "stderr",
     "output_type": "stream",
     "text": [
      "\r",
      "Map:  73%|███████▎  | 31000/42753 [00:05<00:03, 3897.84 examples/s]"
     ]
    },
    {
     "name": "stderr",
     "output_type": "stream",
     "text": [
      "\r",
      "Map:  74%|███████▎  | 31465/42753 [00:05<00:02, 4053.50 examples/s]"
     ]
    },
    {
     "name": "stderr",
     "output_type": "stream",
     "text": [
      "\r",
      "Map:  75%|███████▍  | 31934/42753 [00:05<00:02, 4196.90 examples/s]"
     ]
    },
    {
     "name": "stderr",
     "output_type": "stream",
     "text": [
      "\r",
      "Map:  76%|███████▌  | 32543/42753 [00:06<00:02, 3877.09 examples/s]"
     ]
    },
    {
     "name": "stderr",
     "output_type": "stream",
     "text": [
      "\r",
      "Map:  77%|███████▋  | 33000/42753 [00:06<00:02, 3653.74 examples/s]"
     ]
    },
    {
     "name": "stderr",
     "output_type": "stream",
     "text": [
      "\r",
      "Map:  78%|███████▊  | 33538/42753 [00:06<00:02, 4044.98 examples/s]"
     ]
    },
    {
     "name": "stderr",
     "output_type": "stream",
     "text": [
      "\r",
      "Map:  80%|███████▉  | 34000/42753 [00:06<00:02, 3745.35 examples/s]"
     ]
    },
    {
     "name": "stderr",
     "output_type": "stream",
     "text": [
      "\r",
      "Map:  81%|████████  | 34672/42753 [00:06<00:01, 4451.67 examples/s]"
     ]
    },
    {
     "name": "stderr",
     "output_type": "stream",
     "text": [
      "\r",
      "Map:  83%|████████▎ | 35357/42753 [00:06<00:01, 4459.71 examples/s]"
     ]
    },
    {
     "name": "stderr",
     "output_type": "stream",
     "text": [
      "\r",
      "Map:  84%|████████▍ | 36000/42753 [00:06<00:01, 4486.88 examples/s]"
     ]
    },
    {
     "name": "stderr",
     "output_type": "stream",
     "text": [
      "\r",
      "Map:  86%|████████▌ | 36591/42753 [00:07<00:01, 4307.68 examples/s]"
     ]
    },
    {
     "name": "stderr",
     "output_type": "stream",
     "text": [
      "\r",
      "Map:  87%|████████▋ | 37392/42753 [00:07<00:01, 3975.98 examples/s]"
     ]
    },
    {
     "name": "stderr",
     "output_type": "stream",
     "text": [
      "\r",
      "Map:  89%|████████▉ | 38000/42753 [00:07<00:01, 4185.28 examples/s]"
     ]
    },
    {
     "name": "stderr",
     "output_type": "stream",
     "text": [
      "\r",
      "Map:  90%|█████████ | 38662/42753 [00:07<00:00, 4711.61 examples/s]"
     ]
    },
    {
     "name": "stderr",
     "output_type": "stream",
     "text": [
      "\r",
      "Map:  92%|█████████▏| 39327/42753 [00:07<00:00, 4558.77 examples/s]"
     ]
    },
    {
     "name": "stderr",
     "output_type": "stream",
     "text": [
      "\r",
      "Map:  94%|█████████▎| 39989/42753 [00:07<00:00, 5029.84 examples/s]"
     ]
    },
    {
     "name": "stderr",
     "output_type": "stream",
     "text": [
      "\r",
      "Map:  95%|█████████▍| 40581/42753 [00:07<00:00, 4594.34 examples/s]"
     ]
    },
    {
     "name": "stderr",
     "output_type": "stream",
     "text": [
      "\r",
      "Map:  97%|█████████▋| 41437/42753 [00:08<00:00, 4643.99 examples/s]"
     ]
    },
    {
     "name": "stderr",
     "output_type": "stream",
     "text": [
      "\r",
      "Map:  98%|█████████▊| 42000/42753 [00:08<00:00, 4724.30 examples/s]"
     ]
    },
    {
     "name": "stderr",
     "output_type": "stream",
     "text": [
      "\r",
      "Map: 100%|█████████▉| 42628/42753 [00:08<00:00, 5086.35 examples/s]"
     ]
    },
    {
     "name": "stderr",
     "output_type": "stream",
     "text": [
      "\r",
      "Map: 100%|██████████| 42753/42753 [00:09<00:00, 4423.21 examples/s]"
     ]
    },
    {
     "name": "stderr",
     "output_type": "stream",
     "text": [
      "\n"
     ]
    },
    {
     "name": "stdout",
     "output_type": "stream",
     "text": [
      "              precision    recall  f1-score   support\n",
      "\n",
      "       B-LOC       0.82      0.90      0.86     16435\n",
      "      B-MISC       0.50      0.68      0.58      7455\n",
      "       B-ORG       0.74      0.73      0.73     22446\n",
      "       B-PER       0.89      0.88      0.88     12641\n",
      "       I-LOC       0.68      0.60      0.64      5154\n",
      "      I-MISC       0.52      0.27      0.36      5579\n",
      "       I-ORG       0.89      0.72      0.80     30834\n",
      "       I-PER       0.84      0.92      0.88      7761\n",
      "           O       0.99      0.99      0.99    965876\n",
      "\n",
      "    accuracy                           0.97   1074181\n",
      "   macro avg       0.76      0.74      0.75   1074181\n",
      "weighted avg       0.97      0.97      0.97   1074181\n",
      "\n"
     ]
    }
   ],
   "source": [
    "x, y = evaluate_predictions(predictions, test_data)"
   ]
  },
  {
   "cell_type": "code",
   "execution_count": 17,
   "id": "6f072bc7",
   "metadata": {
    "execution": {
     "iopub.execute_input": "2025-07-02T23:27:43.600682Z",
     "iopub.status.busy": "2025-07-02T23:27:43.600449Z",
     "iopub.status.idle": "2025-07-02T23:34:27.216632Z",
     "shell.execute_reply": "2025-07-02T23:34:27.216122Z"
    }
   },
   "outputs": [
    {
     "data": {
      "text/html": [],
      "text/plain": [
       "<IPython.core.display.HTML object>"
      ]
     },
     "metadata": {},
     "output_type": "display_data"
    },
    {
     "name": "stderr",
     "output_type": "stream",
     "text": [
      "\r",
      "Map:   0%|          | 0/100516 [00:00<?, ? examples/s]"
     ]
    },
    {
     "name": "stderr",
     "output_type": "stream",
     "text": [
      "\r",
      "Map:   1%|          | 760/100516 [00:00<00:13, 7493.37 examples/s]"
     ]
    },
    {
     "name": "stderr",
     "output_type": "stream",
     "text": [
      "\r",
      "Map:   2%|▏         | 1967/100516 [00:00<00:14, 6894.92 examples/s]"
     ]
    },
    {
     "name": "stderr",
     "output_type": "stream",
     "text": [
      "\r",
      "Map:   3%|▎         | 2911/100516 [00:00<00:14, 6614.09 examples/s]"
     ]
    },
    {
     "name": "stderr",
     "output_type": "stream",
     "text": [
      "\r",
      "Map:   4%|▍         | 3826/100516 [00:00<00:15, 6312.23 examples/s]"
     ]
    },
    {
     "name": "stderr",
     "output_type": "stream",
     "text": [
      "\r",
      "Map:   5%|▍         | 4803/100516 [00:00<00:15, 6109.74 examples/s]"
     ]
    },
    {
     "name": "stderr",
     "output_type": "stream",
     "text": [
      "\r",
      "Map:   6%|▌         | 5798/100516 [00:00<00:15, 5977.73 examples/s]"
     ]
    },
    {
     "name": "stderr",
     "output_type": "stream",
     "text": [
      "\r",
      "Map:   6%|▋         | 6406/100516 [00:01<00:26, 3601.10 examples/s]"
     ]
    },
    {
     "name": "stderr",
     "output_type": "stream",
     "text": [
      "\r",
      "Map:   7%|▋         | 7000/100516 [00:01<00:24, 3867.53 examples/s]"
     ]
    },
    {
     "name": "stderr",
     "output_type": "stream",
     "text": [
      "\r",
      "Map:   8%|▊         | 7840/100516 [00:01<00:19, 4707.88 examples/s]"
     ]
    },
    {
     "name": "stderr",
     "output_type": "stream",
     "text": [
      "\r",
      "Map:   8%|▊         | 8441/100516 [00:01<00:19, 4822.60 examples/s]"
     ]
    },
    {
     "name": "stderr",
     "output_type": "stream",
     "text": [
      "\r",
      "Map:   9%|▉         | 9408/100516 [00:01<00:17, 5218.48 examples/s]"
     ]
    },
    {
     "name": "stderr",
     "output_type": "stream",
     "text": [
      "\r",
      "Map:  10%|▉         | 10000/100516 [00:01<00:17, 5162.27 examples/s]"
     ]
    },
    {
     "name": "stderr",
     "output_type": "stream",
     "text": [
      "\r",
      "Map:  11%|█         | 10851/100516 [00:02<00:15, 5939.40 examples/s]"
     ]
    },
    {
     "name": "stderr",
     "output_type": "stream",
     "text": [
      "\r",
      "Map:  12%|█▏        | 11892/100516 [00:02<00:14, 5982.45 examples/s]"
     ]
    },
    {
     "name": "stderr",
     "output_type": "stream",
     "text": [
      "\r",
      "Map:  13%|█▎        | 12811/100516 [00:02<00:14, 5877.02 examples/s]"
     ]
    },
    {
     "name": "stderr",
     "output_type": "stream",
     "text": [
      "\r",
      "Map:  13%|█▎        | 13450/100516 [00:02<00:15, 5710.45 examples/s]"
     ]
    },
    {
     "name": "stderr",
     "output_type": "stream",
     "text": [
      "\r",
      "Map:  14%|█▍        | 14431/100516 [00:02<00:14, 5868.41 examples/s]"
     ]
    },
    {
     "name": "stderr",
     "output_type": "stream",
     "text": [
      "\r",
      "Map:  15%|█▌        | 15455/100516 [00:02<00:14, 5999.26 examples/s]"
     ]
    },
    {
     "name": "stderr",
     "output_type": "stream",
     "text": [
      "\r",
      "Map:  16%|█▋        | 16437/100516 [00:02<00:13, 6100.28 examples/s]"
     ]
    },
    {
     "name": "stderr",
     "output_type": "stream",
     "text": [
      "\r",
      "Map:  17%|█▋        | 17386/100516 [00:03<00:13, 6057.13 examples/s]"
     ]
    },
    {
     "name": "stderr",
     "output_type": "stream",
     "text": [
      "\r",
      "Map:  18%|█▊        | 18000/100516 [00:03<00:14, 5715.15 examples/s]"
     ]
    },
    {
     "name": "stderr",
     "output_type": "stream",
     "text": [
      "\r",
      "Map:  19%|█▊        | 18772/100516 [00:03<00:13, 6167.48 examples/s]"
     ]
    },
    {
     "name": "stderr",
     "output_type": "stream",
     "text": [
      "\r",
      "Map:  19%|█▉        | 19431/100516 [00:03<00:13, 5809.23 examples/s]"
     ]
    },
    {
     "name": "stderr",
     "output_type": "stream",
     "text": [
      "\r",
      "Map:  20%|██        | 20335/100516 [00:03<00:14, 5669.07 examples/s]"
     ]
    },
    {
     "name": "stderr",
     "output_type": "stream",
     "text": [
      "\r",
      "Map:  21%|██        | 21000/100516 [00:03<00:15, 5233.67 examples/s]"
     ]
    },
    {
     "name": "stderr",
     "output_type": "stream",
     "text": [
      "\r",
      "Map:  22%|██▏       | 21770/100516 [00:03<00:13, 5790.55 examples/s]"
     ]
    },
    {
     "name": "stderr",
     "output_type": "stream",
     "text": [
      "\r",
      "Map:  22%|██▏       | 22396/100516 [00:04<00:14, 5446.62 examples/s]"
     ]
    },
    {
     "name": "stderr",
     "output_type": "stream",
     "text": [
      "\r",
      "Map:  23%|██▎       | 23000/100516 [00:04<00:14, 5238.10 examples/s]"
     ]
    },
    {
     "name": "stderr",
     "output_type": "stream",
     "text": [
      "\r",
      "Map:  24%|██▎       | 23692/100516 [00:04<00:13, 5648.67 examples/s]"
     ]
    },
    {
     "name": "stderr",
     "output_type": "stream",
     "text": [
      "\r",
      "Map:  24%|██▍       | 24447/100516 [00:04<00:14, 5397.77 examples/s]"
     ]
    },
    {
     "name": "stderr",
     "output_type": "stream",
     "text": [
      "\r",
      "Map:  25%|██▌       | 25357/100516 [00:04<00:13, 5492.38 examples/s]"
     ]
    },
    {
     "name": "stderr",
     "output_type": "stream",
     "text": [
      "\r",
      "Map:  26%|██▌       | 26000/100516 [00:04<00:14, 5166.93 examples/s]"
     ]
    },
    {
     "name": "stderr",
     "output_type": "stream",
     "text": [
      "\r",
      "Map:  26%|██▋       | 26593/100516 [00:04<00:13, 5342.69 examples/s]"
     ]
    },
    {
     "name": "stderr",
     "output_type": "stream",
     "text": [
      "\r",
      "Map:  27%|██▋       | 27379/100516 [00:05<00:14, 4984.54 examples/s]"
     ]
    },
    {
     "name": "stderr",
     "output_type": "stream",
     "text": [
      "\r",
      "Map:  28%|██▊       | 28000/100516 [00:05<00:14, 4876.78 examples/s]"
     ]
    },
    {
     "name": "stderr",
     "output_type": "stream",
     "text": [
      "\r",
      "Map:  29%|██▊       | 28731/100516 [00:05<00:13, 5440.77 examples/s]"
     ]
    },
    {
     "name": "stderr",
     "output_type": "stream",
     "text": [
      "\r",
      "Map:  29%|██▉       | 29418/100516 [00:05<00:13, 5282.03 examples/s]"
     ]
    },
    {
     "name": "stderr",
     "output_type": "stream",
     "text": [
      "\r",
      "Map:  30%|██▉       | 30000/100516 [00:05<00:13, 5230.01 examples/s]"
     ]
    },
    {
     "name": "stderr",
     "output_type": "stream",
     "text": [
      "\r",
      "Map:  31%|███       | 31000/100516 [00:05<00:11, 5888.96 examples/s]"
     ]
    },
    {
     "name": "stderr",
     "output_type": "stream",
     "text": [
      "\r",
      "Map:  32%|███▏      | 31788/100516 [00:05<00:10, 6380.49 examples/s]"
     ]
    },
    {
     "name": "stderr",
     "output_type": "stream",
     "text": [
      "\r",
      "Map:  32%|███▏      | 32475/100516 [00:06<00:24, 2749.02 examples/s]"
     ]
    },
    {
     "name": "stderr",
     "output_type": "stream",
     "text": [
      "\r",
      "Map:  33%|███▎      | 33048/100516 [00:06<00:21, 3155.19 examples/s]"
     ]
    },
    {
     "name": "stderr",
     "output_type": "stream",
     "text": [
      "\r",
      "Map:  34%|███▍      | 33943/100516 [00:06<00:16, 4099.55 examples/s]"
     ]
    },
    {
     "name": "stderr",
     "output_type": "stream",
     "text": [
      "\r",
      "Map:  35%|███▍      | 35000/100516 [00:06<00:14, 4558.60 examples/s]"
     ]
    },
    {
     "name": "stderr",
     "output_type": "stream",
     "text": [
      "\r",
      "Map:  36%|███▌      | 36000/100516 [00:06<00:12, 5293.87 examples/s]"
     ]
    },
    {
     "name": "stderr",
     "output_type": "stream",
     "text": [
      "\r",
      "Map:  37%|███▋      | 36964/100516 [00:06<00:10, 6174.64 examples/s]"
     ]
    },
    {
     "name": "stderr",
     "output_type": "stream",
     "text": [
      "\r",
      "Map:  38%|███▊      | 38000/100516 [00:07<00:10, 5912.11 examples/s]"
     ]
    },
    {
     "name": "stderr",
     "output_type": "stream",
     "text": [
      "\r",
      "Map:  39%|███▉      | 39000/100516 [00:07<00:15, 4000.29 examples/s]"
     ]
    },
    {
     "name": "stderr",
     "output_type": "stream",
     "text": [
      "\r",
      "Map:  40%|███▉      | 39929/100516 [00:07<00:12, 4797.47 examples/s]"
     ]
    },
    {
     "name": "stderr",
     "output_type": "stream",
     "text": [
      "\r",
      "Map:  41%|████      | 40877/100516 [00:07<00:11, 5148.64 examples/s]"
     ]
    },
    {
     "name": "stderr",
     "output_type": "stream",
     "text": [
      "\r",
      "Map:  42%|████▏     | 41834/100516 [00:08<00:10, 5361.34 examples/s]"
     ]
    },
    {
     "name": "stderr",
     "output_type": "stream",
     "text": [
      "\r",
      "Map:  42%|████▏     | 42521/100516 [00:08<00:10, 5451.55 examples/s]"
     ]
    },
    {
     "name": "stderr",
     "output_type": "stream",
     "text": [
      "\r",
      "Map:  43%|████▎     | 43458/100516 [00:08<00:09, 5830.06 examples/s]"
     ]
    },
    {
     "name": "stderr",
     "output_type": "stream",
     "text": [
      "\r",
      "Map:  44%|████▍     | 44451/100516 [00:08<00:09, 6012.79 examples/s]"
     ]
    },
    {
     "name": "stderr",
     "output_type": "stream",
     "text": [
      "\r",
      "Map:  45%|████▌     | 45514/100516 [00:08<00:08, 6285.37 examples/s]"
     ]
    },
    {
     "name": "stderr",
     "output_type": "stream",
     "text": [
      "\r",
      "Map:  46%|████▋     | 46498/100516 [00:08<00:08, 6567.94 examples/s]"
     ]
    },
    {
     "name": "stderr",
     "output_type": "stream",
     "text": [
      "\r",
      "Map:  47%|████▋     | 47505/100516 [00:08<00:07, 6770.23 examples/s]"
     ]
    },
    {
     "name": "stderr",
     "output_type": "stream",
     "text": [
      "\r",
      "Map:  48%|████▊     | 48323/100516 [00:08<00:07, 6527.26 examples/s]"
     ]
    },
    {
     "name": "stderr",
     "output_type": "stream",
     "text": [
      "\r",
      "Map:  49%|████▊     | 49000/100516 [00:09<00:08, 5823.63 examples/s]"
     ]
    },
    {
     "name": "stderr",
     "output_type": "stream",
     "text": [
      "\r",
      "Map:  50%|████▉     | 49954/100516 [00:09<00:07, 6662.24 examples/s]"
     ]
    },
    {
     "name": "stderr",
     "output_type": "stream",
     "text": [
      "\r",
      "Map:  51%|█████     | 51000/100516 [00:09<00:07, 6199.53 examples/s]"
     ]
    },
    {
     "name": "stderr",
     "output_type": "stream",
     "text": [
      "\r",
      "Map:  52%|█████▏    | 51928/100516 [00:09<00:07, 6880.37 examples/s]"
     ]
    },
    {
     "name": "stderr",
     "output_type": "stream",
     "text": [
      "\r",
      "Map:  53%|█████▎    | 52965/100516 [00:09<00:06, 6888.07 examples/s]"
     ]
    },
    {
     "name": "stderr",
     "output_type": "stream",
     "text": [
      "\r",
      "Map:  54%|█████▎    | 53942/100516 [00:09<00:06, 6768.81 examples/s]"
     ]
    },
    {
     "name": "stderr",
     "output_type": "stream",
     "text": [
      "\r",
      "Map:  55%|█████▍    | 55000/100516 [00:10<00:07, 6429.48 examples/s]"
     ]
    },
    {
     "name": "stderr",
     "output_type": "stream",
     "text": [
      "\r",
      "Map:  56%|█████▌    | 55870/100516 [00:10<00:06, 6920.74 examples/s]"
     ]
    },
    {
     "name": "stderr",
     "output_type": "stream",
     "text": [
      "\r",
      "Map:  57%|█████▋    | 57000/100516 [00:10<00:06, 6545.80 examples/s]"
     ]
    },
    {
     "name": "stderr",
     "output_type": "stream",
     "text": [
      "\r",
      "Map:  58%|█████▊    | 57982/100516 [00:10<00:05, 7256.76 examples/s]"
     ]
    },
    {
     "name": "stderr",
     "output_type": "stream",
     "text": [
      "\r",
      "Map:  59%|█████▊    | 58965/100516 [00:10<00:05, 7031.00 examples/s]"
     ]
    },
    {
     "name": "stderr",
     "output_type": "stream",
     "text": [
      "\r",
      "Map:  60%|█████▉    | 60000/100516 [00:10<00:06, 6607.46 examples/s]"
     ]
    },
    {
     "name": "stderr",
     "output_type": "stream",
     "text": [
      "\r",
      "Map:  61%|██████    | 61000/100516 [00:10<00:05, 6947.08 examples/s]"
     ]
    },
    {
     "name": "stderr",
     "output_type": "stream",
     "text": [
      "\r",
      "Map:  62%|██████▏   | 61993/100516 [00:10<00:05, 7626.11 examples/s]"
     ]
    },
    {
     "name": "stderr",
     "output_type": "stream",
     "text": [
      "\r",
      "Map:  63%|██████▎   | 63000/100516 [00:11<00:05, 6982.35 examples/s]"
     ]
    },
    {
     "name": "stderr",
     "output_type": "stream",
     "text": [
      "\r",
      "Map:  64%|██████▎   | 63871/100516 [00:11<00:04, 7378.84 examples/s]"
     ]
    },
    {
     "name": "stderr",
     "output_type": "stream",
     "text": [
      "\r",
      "Map:  65%|██████▍   | 64956/100516 [00:11<00:05, 6495.20 examples/s]"
     ]
    },
    {
     "name": "stderr",
     "output_type": "stream",
     "text": [
      "\r",
      "Map:  66%|██████▌   | 65867/100516 [00:11<00:06, 5629.38 examples/s]"
     ]
    },
    {
     "name": "stderr",
     "output_type": "stream",
     "text": [
      "\r",
      "Map:  66%|██████▌   | 66573/100516 [00:11<00:06, 5033.39 examples/s]"
     ]
    },
    {
     "name": "stderr",
     "output_type": "stream",
     "text": [
      "\r",
      "Map:  67%|██████▋   | 67242/100516 [00:12<00:07, 4575.36 examples/s]"
     ]
    },
    {
     "name": "stderr",
     "output_type": "stream",
     "text": [
      "\r",
      "Map:  67%|██████▋   | 67730/100516 [00:12<00:07, 4633.43 examples/s]"
     ]
    },
    {
     "name": "stderr",
     "output_type": "stream",
     "text": [
      "\r",
      "Map:  68%|██████▊   | 68409/100516 [00:12<00:07, 4400.80 examples/s]"
     ]
    },
    {
     "name": "stderr",
     "output_type": "stream",
     "text": [
      "\r",
      "Map:  69%|██████▊   | 69000/100516 [00:12<00:07, 4477.56 examples/s]"
     ]
    },
    {
     "name": "stderr",
     "output_type": "stream",
     "text": [
      "\r",
      "Map:  69%|██████▉   | 69730/100516 [00:12<00:06, 5100.96 examples/s]"
     ]
    },
    {
     "name": "stderr",
     "output_type": "stream",
     "text": [
      "\r",
      "Map:  70%|███████   | 70510/100516 [00:12<00:06, 4747.13 examples/s]"
     ]
    },
    {
     "name": "stderr",
     "output_type": "stream",
     "text": [
      "\r",
      "Map:  71%|███████   | 71317/100516 [00:12<00:06, 4400.00 examples/s]"
     ]
    },
    {
     "name": "stderr",
     "output_type": "stream",
     "text": [
      "\r",
      "Map:  72%|███████▏  | 71964/100516 [00:13<00:05, 4815.65 examples/s]"
     ]
    },
    {
     "name": "stderr",
     "output_type": "stream",
     "text": [
      "\r",
      "Map:  72%|███████▏  | 72708/100516 [00:13<00:05, 4711.07 examples/s]"
     ]
    },
    {
     "name": "stderr",
     "output_type": "stream",
     "text": [
      "\r",
      "Map:  73%|███████▎  | 73437/100516 [00:13<00:08, 3186.50 examples/s]"
     ]
    },
    {
     "name": "stderr",
     "output_type": "stream",
     "text": [
      "\r",
      "Map:  74%|███████▎  | 74000/100516 [00:13<00:07, 3481.31 examples/s]"
     ]
    },
    {
     "name": "stderr",
     "output_type": "stream",
     "text": [
      "\r",
      "Map:  74%|███████▍  | 74859/100516 [00:13<00:05, 4403.01 examples/s]"
     ]
    },
    {
     "name": "stderr",
     "output_type": "stream",
     "text": [
      "\r",
      "Map:  75%|███████▌  | 75431/100516 [00:13<00:05, 4524.17 examples/s]"
     ]
    },
    {
     "name": "stderr",
     "output_type": "stream",
     "text": [
      "\r",
      "Map:  76%|███████▌  | 76000/100516 [00:14<00:05, 4628.89 examples/s]"
     ]
    },
    {
     "name": "stderr",
     "output_type": "stream",
     "text": [
      "\r",
      "Map:  76%|███████▋  | 76799/100516 [00:14<00:04, 5413.98 examples/s]"
     ]
    },
    {
     "name": "stderr",
     "output_type": "stream",
     "text": [
      "\r",
      "Map:  77%|███████▋  | 77800/100516 [00:14<00:04, 5509.02 examples/s]"
     ]
    },
    {
     "name": "stderr",
     "output_type": "stream",
     "text": [
      "\r",
      "Map:  78%|███████▊  | 78655/100516 [00:14<00:04, 5237.71 examples/s]"
     ]
    },
    {
     "name": "stderr",
     "output_type": "stream",
     "text": [
      "\r",
      "Map:  79%|███████▉  | 79332/100516 [00:14<00:04, 4894.90 examples/s]"
     ]
    },
    {
     "name": "stderr",
     "output_type": "stream",
     "text": [
      "\r",
      "Map:  80%|███████▉  | 79989/100516 [00:14<00:03, 5252.35 examples/s]"
     ]
    },
    {
     "name": "stderr",
     "output_type": "stream",
     "text": [
      "\r",
      "Map:  80%|████████  | 80603/100516 [00:14<00:04, 4752.70 examples/s]"
     ]
    },
    {
     "name": "stderr",
     "output_type": "stream",
     "text": [
      "\r",
      "Map:  81%|████████  | 81429/100516 [00:15<00:04, 4727.02 examples/s]"
     ]
    },
    {
     "name": "stderr",
     "output_type": "stream",
     "text": [
      "\r",
      "Map:  82%|████████▏ | 82000/100516 [00:15<00:03, 4855.89 examples/s]"
     ]
    },
    {
     "name": "stderr",
     "output_type": "stream",
     "text": [
      "\r",
      "Map:  83%|████████▎ | 82954/100516 [00:15<00:02, 5943.72 examples/s]"
     ]
    },
    {
     "name": "stderr",
     "output_type": "stream",
     "text": [
      "\r",
      "Map:  83%|████████▎ | 83899/100516 [00:15<00:02, 6060.34 examples/s]"
     ]
    },
    {
     "name": "stderr",
     "output_type": "stream",
     "text": [
      "\r",
      "Map:  84%|████████▍ | 84580/100516 [00:15<00:02, 5424.41 examples/s]"
     ]
    },
    {
     "name": "stderr",
     "output_type": "stream",
     "text": [
      "\r",
      "Map:  85%|████████▌ | 85445/100516 [00:15<00:02, 5156.17 examples/s]"
     ]
    },
    {
     "name": "stderr",
     "output_type": "stream",
     "text": [
      "\r",
      "Map:  86%|████████▌ | 86000/100516 [00:15<00:02, 5223.06 examples/s]"
     ]
    },
    {
     "name": "stderr",
     "output_type": "stream",
     "text": [
      "\r",
      "Map:  86%|████████▋ | 86840/100516 [00:16<00:02, 5966.56 examples/s]"
     ]
    },
    {
     "name": "stderr",
     "output_type": "stream",
     "text": [
      "\r",
      "Map:  87%|████████▋ | 87485/100516 [00:16<00:02, 5878.46 examples/s]"
     ]
    },
    {
     "name": "stderr",
     "output_type": "stream",
     "text": [
      "\r",
      "Map:  88%|████████▊ | 88327/100516 [00:16<00:02, 5784.52 examples/s]"
     ]
    },
    {
     "name": "stderr",
     "output_type": "stream",
     "text": [
      "\r",
      "Map:  89%|████████▊ | 89000/100516 [00:16<00:02, 5125.91 examples/s]"
     ]
    },
    {
     "name": "stderr",
     "output_type": "stream",
     "text": [
      "\r",
      "Map:  89%|████████▉ | 89708/100516 [00:16<00:01, 5574.08 examples/s]"
     ]
    },
    {
     "name": "stderr",
     "output_type": "stream",
     "text": [
      "\r",
      "Map:  90%|████████▉ | 90380/100516 [00:16<00:01, 5283.89 examples/s]"
     ]
    },
    {
     "name": "stderr",
     "output_type": "stream",
     "text": [
      "\r",
      "Map:  91%|█████████ | 91000/100516 [00:16<00:01, 5062.58 examples/s]"
     ]
    },
    {
     "name": "stderr",
     "output_type": "stream",
     "text": [
      "\r",
      "Map:  91%|█████████▏| 91865/100516 [00:16<00:01, 5914.01 examples/s]"
     ]
    },
    {
     "name": "stderr",
     "output_type": "stream",
     "text": [
      "\r",
      "Map:  92%|█████████▏| 92780/100516 [00:17<00:01, 5822.72 examples/s]"
     ]
    },
    {
     "name": "stderr",
     "output_type": "stream",
     "text": [
      "\r",
      "Map:  93%|█████████▎| 93421/100516 [00:17<00:01, 5593.52 examples/s]"
     ]
    },
    {
     "name": "stderr",
     "output_type": "stream",
     "text": [
      "\r",
      "Map:  94%|█████████▎| 94000/100516 [00:17<00:01, 5411.81 examples/s]"
     ]
    },
    {
     "name": "stderr",
     "output_type": "stream",
     "text": [
      "\r",
      "Map:  94%|█████████▍| 94815/100516 [00:17<00:00, 6095.18 examples/s]"
     ]
    },
    {
     "name": "stderr",
     "output_type": "stream",
     "text": [
      "\r",
      "Map:  95%|█████████▌| 95503/100516 [00:17<00:00, 5920.60 examples/s]"
     ]
    },
    {
     "name": "stderr",
     "output_type": "stream",
     "text": [
      "\r",
      "Map:  96%|█████████▌| 96564/100516 [00:17<00:00, 6316.33 examples/s]"
     ]
    },
    {
     "name": "stderr",
     "output_type": "stream",
     "text": [
      "\r",
      "Map:  97%|█████████▋| 97462/100516 [00:17<00:00, 6415.82 examples/s]"
     ]
    },
    {
     "name": "stderr",
     "output_type": "stream",
     "text": [
      "\r",
      "Map:  98%|█████████▊| 98355/100516 [00:17<00:00, 6258.93 examples/s]"
     ]
    },
    {
     "name": "stderr",
     "output_type": "stream",
     "text": [
      "\r",
      "Map:  98%|█████████▊| 99000/100516 [00:18<00:00, 5670.19 examples/s]"
     ]
    },
    {
     "name": "stderr",
     "output_type": "stream",
     "text": [
      "\r",
      "Map:  99%|█████████▉| 99758/100516 [00:18<00:00, 6116.40 examples/s]"
     ]
    },
    {
     "name": "stderr",
     "output_type": "stream",
     "text": [
      "\r",
      "Map: 100%|█████████▉| 100397/100516 [00:18<00:00, 5693.67 examples/s]"
     ]
    },
    {
     "name": "stderr",
     "output_type": "stream",
     "text": [
      "\r",
      "Map: 100%|██████████| 100516/100516 [00:20<00:00, 5002.94 examples/s]"
     ]
    },
    {
     "name": "stderr",
     "output_type": "stream",
     "text": [
      "\n"
     ]
    },
    {
     "name": "stdout",
     "output_type": "stream",
     "text": [
      "              precision    recall  f1-score   support\n",
      "\n",
      "       B-LOC       0.58      0.88      0.69     14389\n",
      "      B-MISC       0.50      0.70      0.58     10792\n",
      "       B-ORG       0.39      0.55      0.46      7517\n",
      "       B-PER       0.43      0.90      0.58     14691\n",
      "       I-LOC       0.53      0.59      0.56      4350\n",
      "      I-MISC       0.48      0.22      0.31      6920\n",
      "       I-ORG       0.68      0.51      0.58      9826\n",
      "       I-PER       0.84      0.85      0.84     11300\n",
      "           O       0.99      0.98      0.98   1568935\n",
      "\n",
      "    accuracy                           0.96   1648720\n",
      "   macro avg       0.60      0.69      0.62   1648720\n",
      "weighted avg       0.97      0.96      0.97   1648720\n",
      "\n"
     ]
    }
   ],
   "source": [
    "predictions = trainer.predict(onto_rest)\n",
    "x, y = evaluate_predictions(predictions, onto_rest)"
   ]
  }
 ],
 "metadata": {
  "kernelspec": {
   "display_name": "Python 3 (ipykernel)",
   "language": "python",
   "name": "python3"
  },
  "language_info": {
   "codemirror_mode": {
    "name": "ipython",
    "version": 3
   },
   "file_extension": ".py",
   "mimetype": "text/x-python",
   "name": "python",
   "nbconvert_exporter": "python",
   "pygments_lexer": "ipython3",
   "version": "3.12.3"
  }
 },
 "nbformat": 4,
 "nbformat_minor": 5
}
