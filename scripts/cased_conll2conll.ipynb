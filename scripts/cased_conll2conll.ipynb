{
 "cells": [
  {
   "cell_type": "code",
   "execution_count": 1,
   "id": "8a840269-1836-4e2f-b68f-cf051f8fb4bc",
   "metadata": {
    "editable": true,
    "execution": {
     "iopub.execute_input": "2025-07-02T07:08:54.239789Z",
     "iopub.status.busy": "2025-07-02T07:08:54.239789Z",
     "iopub.status.idle": "2025-07-02T07:13:04.750715Z",
     "shell.execute_reply": "2025-07-02T07:13:04.748707Z",
     "shell.execute_reply.started": "2025-07-02T07:08:54.239789Z"
    },
    "slideshow": {
     "slide_type": ""
    },
    "tags": []
   },
   "outputs": [
    {
     "name": "stdout",
     "output_type": "stream",
     "text": [
      "WARNING:tensorflow:From E:\\Software\\Anaconda\\Lib\\site-packages\\tf_keras\\src\\losses.py:2976: The name tf.losses.sparse_softmax_cross_entropy is deprecated. Please use tf.compat.v1.losses.sparse_softmax_cross_entropy instead.\n",
      "\n"
     ]
    }
   ],
   "source": [
    "import csv\n",
    "import json\n",
    "import random\n",
    "import re\n",
    "from collections import Counter, defaultdict\n",
    "\n",
    "import matplotlib.pyplot as plt\n",
    "import matplotlib.ticker as mtick\n",
    "import numpy as np\n",
    "import pandas as pd\n",
    "import seaborn as sns\n",
    "\n",
    "import torch\n",
    "\n",
    "from datasets import (\n",
    "    Dataset,\n",
    "    DatasetDict,\n",
    "    concatenate_datasets,\n",
    "    load_dataset,\n",
    "    load_from_disk,\n",
    ")\n",
    "from transformers import (\n",
    "    AutoModelForTokenClassification,\n",
    "    AutoTokenizer,\n",
    "    DataCollatorForTokenClassification,\n",
    "    Trainer,\n",
    "    TrainingArguments,\n",
    "    set_seed,\n",
    ")\n",
    "\n",
    "import evaluate\n",
    "\n",
    "from nameparser import HumanName\n",
    "from names_dataset import NameDataset, NameWrapper\n",
    "from ethnicseer import EthnicClassifier\n",
    "import nltk\n",
    "from nltk.corpus import wordnet as wn\n",
    "\n",
    "import pycountry_convert as pc\n",
    "import pycountry\n",
    "import pickle\n",
    "\n",
    "from sklearn.metrics import confusion_matrix, ConfusionMatrixDisplay, classification_report, cohen_kappa_score\n",
    "\n",
    "from transformers import BertTokenizerFast, BertForTokenClassification\n",
    "from datasets import ClassLabel\n",
    "from evaluate import load as load_metric\n",
    "from sklearn.metrics import cohen_kappa_score\n",
    "from itertools import combinations\n",
    "import krippendorff"
   ]
  },
  {
   "cell_type": "code",
   "execution_count": 2,
   "id": "b7573e05-e012-4aad-8cc8-cf1059f36e17",
   "metadata": {
    "execution": {
     "iopub.execute_input": "2025-07-02T07:13:04.756002Z",
     "iopub.status.busy": "2025-07-02T07:13:04.755002Z",
     "iopub.status.idle": "2025-07-02T07:13:04.789813Z",
     "shell.execute_reply": "2025-07-02T07:13:04.782769Z",
     "shell.execute_reply.started": "2025-07-02T07:13:04.756002Z"
    }
   },
   "outputs": [],
   "source": [
    "model_name = \"bert-base-cased\""
   ]
  },
  {
   "cell_type": "code",
   "execution_count": 5,
   "id": "d9aad505-c3e4-4097-9cbb-a52fd4904934",
   "metadata": {
    "execution": {
     "iopub.execute_input": "2025-07-02T07:35:09.800112Z",
     "iopub.status.busy": "2025-07-02T07:35:09.800112Z",
     "iopub.status.idle": "2025-07-02T07:35:10.810123Z",
     "shell.execute_reply": "2025-07-02T07:35:10.809116Z",
     "shell.execute_reply.started": "2025-07-02T07:35:09.800112Z"
    },
    "scrolled": true
   },
   "outputs": [],
   "source": [
    "conll_main = load_from_disk(\"../splits/conll_main\")\n",
    "conll_clean = load_from_disk(\"../splits/conll_clean\")\n",
    "\n",
    "ontonotes_main = load_from_disk(\"../splits/ontonotes_main\")\n",
    "ontonotes_clean = load_from_disk(\"../splits/ontonotes_clean\")"
   ]
  },
  {
   "cell_type": "markdown",
   "id": "7b2c4f89-dbd0-41cf-94ea-65816c3250ca",
   "metadata": {},
   "source": [
    "# Load GPU"
   ]
  },
  {
   "cell_type": "code",
   "execution_count": 6,
   "id": "28293a63-0d2c-4656-9288-8872aa08c838",
   "metadata": {
    "execution": {
     "iopub.execute_input": "2025-06-30T11:24:25.054779Z",
     "iopub.status.busy": "2025-06-30T11:24:25.053779Z",
     "iopub.status.idle": "2025-06-30T11:24:25.159339Z",
     "shell.execute_reply": "2025-06-30T11:24:25.157327Z",
     "shell.execute_reply.started": "2025-06-30T11:24:25.054779Z"
    }
   },
   "outputs": [
    {
     "name": "stdout",
     "output_type": "stream",
     "text": [
      "Using device: cuda\n"
     ]
    }
   ],
   "source": [
    "device = torch.device(\"cuda\" if torch.cuda.is_available() else \"cpu\")\n",
    "print(\"Using device:\", device)"
   ]
  },
  {
   "cell_type": "markdown",
   "id": "b5b951be-37ac-4db8-bcc5-945356c8bc33",
   "metadata": {},
   "source": [
    "# Tokenisation & Alignment"
   ]
  },
  {
   "cell_type": "code",
   "execution_count": 7,
   "id": "41793608-572c-473b-b770-1cda88a2f950",
   "metadata": {
    "execution": {
     "iopub.execute_input": "2025-06-30T11:24:25.439108Z",
     "iopub.status.busy": "2025-06-30T11:24:25.439108Z",
     "iopub.status.idle": "2025-06-30T11:24:25.510175Z",
     "shell.execute_reply": "2025-06-30T11:24:25.508163Z",
     "shell.execute_reply.started": "2025-06-30T11:24:25.439108Z"
    }
   },
   "outputs": [],
   "source": [
    "ontonotes_id_to_label = {\n",
    "    0: \"O\", 1: \"B-CARDINAL\", 2: \"B-DATE\", 3: \"I-DATE\", 4: \"B-PERSON\", 5: \"I-PERSON\",\n",
    "    6: \"B-NORP\", 7: \"B-GPE\", 8: \"I-GPE\", 9: \"B-LAW\", 10: \"I-LAW\", 11: \"B-ORG\", 12: \"I-ORG\",\n",
    "    13: \"B-PERCENT\", 14: \"I-PERCENT\", 15: \"B-ORDINAL\", 16: \"B-MONEY\", 17: \"I-MONEY\",\n",
    "    18: \"B-WORK_OF_ART\", 19: \"I-WORK_OF_ART\", 20: \"B-FAC\", 21: \"B-TIME\", 22: \"I-CARDINAL\",\n",
    "    23: \"B-LOC\", 24: \"B-QUANTITY\", 25: \"I-QUANTITY\", 26: \"I-NORP\", 27: \"I-LOC\",\n",
    "    28: \"B-PRODUCT\", 29: \"I-TIME\", 30: \"B-EVENT\", 31: \"I-EVENT\", 32: \"I-FAC\",\n",
    "    33: \"B-LANGUAGE\", 34: \"I-PRODUCT\", 35: \"I-ORDINAL\", 36: \"I-LANGUAGE\"\n",
    "}\n",
    "\n",
    "conll_label_to_id = {'O': 0, 'B-PER': 1, 'I-PER': 2, 'B-ORG': 3,\n",
    "                     'I-ORG': 4, 'B-LOC': 5, 'I-LOC': 6, 'B-MISC': 7, 'I-MISC': 8}\n",
    "id2label = {v: k for k, v in conll_label_to_id.items()}\n",
    "\n",
    "ontonotes_to_conll_entity = {\n",
    "    \"PERSON\": \"PER\", \"ORG\": \"ORG\", \"GPE\": \"LOC\", \"LOC\": \"LOC\",\n",
    "    \"NORP\": \"MISC\", \"FAC\": \"MISC\", \"EVENT\": \"MISC\", \"WORK_OF_ART\": \"MISC\",\n",
    "    \"LAW\": \"MISC\", \"PRODUCT\": \"MISC\", \"LANGUAGE\": \"MISC\",\n",
    "    \"DATE\": None, \"TIME\": None, \"PERCENT\": None, \"MONEY\": None,\n",
    "    \"QUANTITY\": None, \"ORDINAL\": None, \"CARDINAL\": None\n",
    "}"
   ]
  },
  {
   "cell_type": "code",
   "execution_count": 8,
   "id": "40659f38-7b60-4393-addc-ff9117eaae6d",
   "metadata": {
    "execution": {
     "iopub.execute_input": "2025-06-30T11:24:25.784253Z",
     "iopub.status.busy": "2025-06-30T11:24:25.783256Z",
     "iopub.status.idle": "2025-06-30T11:24:25.803058Z",
     "shell.execute_reply": "2025-06-30T11:24:25.802045Z",
     "shell.execute_reply.started": "2025-06-30T11:24:25.784253Z"
    }
   },
   "outputs": [],
   "source": [
    "def process_data(data_list):\n",
    "\n",
    "    def process_single(data):\n",
    "        word_ids = data['word_ids']\n",
    "        predictions = data['predictions']\n",
    "        gold = data['gold']\n",
    "        tokenized_tokens = data['tokens']\n",
    "\n",
    "        word_ids = [a for a in word_ids if a is not None]\n",
    "\n",
    "        processed_predictions = []\n",
    "        processed_gold = []\n",
    "\n",
    "        current_word_id = None\n",
    "        current_predictions = []\n",
    "        current_gold = []\n",
    "\n",
    "        for idx, word_id in enumerate(word_ids):\n",
    "            if word_id != current_word_id:\n",
    "                if current_predictions:\n",
    "                    processed_predictions.append(\n",
    "                        Counter(current_predictions).most_common(1)[0][0])\n",
    "                    processed_gold.append(\n",
    "                        Counter(current_gold).most_common(1)[0][0])\n",
    "\n",
    "                current_word_id = word_id\n",
    "                current_predictions = [predictions[idx]]\n",
    "                current_gold = [gold[idx]]\n",
    "            else:\n",
    "                current_predictions.append(predictions[idx])\n",
    "                current_gold.append(gold[idx])\n",
    "\n",
    "        if current_predictions:\n",
    "            processed_predictions.append(\n",
    "                Counter(current_predictions).most_common(1)[0][0])\n",
    "            processed_gold.append(\n",
    "                Counter(current_gold).most_common(1)[0][0])\n",
    "\n",
    "        return processed_predictions, processed_gold\n",
    "\n",
    "    processed_predictions_list = []\n",
    "    processed_gold_list = []\n",
    "\n",
    "    for data in data_list:\n",
    "        processed_predictions, processed_gold = process_single(data)\n",
    "        processed_predictions_list.append(processed_predictions)\n",
    "        processed_gold_list.append(processed_gold)\n",
    "\n",
    "    return processed_predictions_list, processed_gold_list\n",
    "\n",
    "\n",
    "def evaluate_predictions(p, test_data):\n",
    "    predictions, labels, _ = p\n",
    "\n",
    "    pred_indices = [np.argmax(p, axis=-1) for p in predictions]\n",
    "    label_indices = labels\n",
    "\n",
    "    pred_tags = [[id2label[p] for p, l in zip(p_seq, l_seq) if l != -100]\n",
    "                 for p_seq, l_seq in zip(pred_indices, label_indices)]\n",
    "    gold_tags = [[id2label[l] for l in l_seq if l != -100]\n",
    "                 for l_seq in label_indices]\n",
    "\n",
    "    def add_preds(example, idx):\n",
    "        length = len(example['word_ids'])\n",
    "        example['predictions'] = pred_tags[idx][:length]\n",
    "        example['gold'] = gold_tags[idx][:length]\n",
    "        return example\n",
    "\n",
    "    test_data = test_data.map(add_preds, with_indices=True)\n",
    "\n",
    "    length = len(test_data['predictions'][0])\n",
    "\n",
    "    pred, gold = process_data(test_data)\n",
    "\n",
    "    flat_pred = [label for seq in pred for label in seq]\n",
    "    flat_gold = [label for seq in gold for label in seq]\n",
    "\n",
    "    print(classification_report(flat_gold, flat_pred, zero_division=0))\n",
    "\n",
    "    return (flat_pred, flat_gold)"
   ]
  },
  {
   "cell_type": "markdown",
   "id": "b5aaa92f-8ae3-4b54-97e9-8ecd4ceae0a8",
   "metadata": {},
   "source": [
    "# Model"
   ]
  },
  {
   "cell_type": "code",
   "execution_count": 9,
   "id": "8f3daecd-13ac-46f9-8714-d1b09add4691",
   "metadata": {
    "execution": {
     "iopub.execute_input": "2025-06-30T11:24:26.423542Z",
     "iopub.status.busy": "2025-06-30T11:24:26.422260Z",
     "iopub.status.idle": "2025-06-30T11:24:27.183423Z",
     "shell.execute_reply": "2025-06-30T11:24:27.181403Z",
     "shell.execute_reply.started": "2025-06-30T11:24:26.423542Z"
    },
    "scrolled": true
   },
   "outputs": [],
   "source": [
    "tokenizer = BertTokenizerFast.from_pretrained(model_name)\n",
    "\n",
    "label_list = ['O', 'B-PER', 'I-PER', 'B-ORG',\n",
    "              'I-ORG', 'B-LOC', 'I-LOC', 'B-MISC', 'I-MISC']\n",
    "\n",
    "\n",
    "def tokenize_and_align_labels(examples):\n",
    "    tokenized_inputs = tokenizer(\n",
    "        examples[\"tokens\"],\n",
    "        truncation=True,\n",
    "        is_split_into_words=True,\n",
    "        padding=True,\n",
    "        return_special_tokens_mask=True,\n",
    "        return_offsets_mapping=True,\n",
    "    )\n",
    "    all_word_ids = []\n",
    "    all_labels = []\n",
    "    for i, labels in enumerate(examples[\"labels\"]):\n",
    "        word_ids = tokenized_inputs.word_ids(batch_index=i)\n",
    "        all_word_ids.append(word_ids)\n",
    "        previous_word_idx = None\n",
    "        label_ids = []\n",
    "        for word_idx in word_ids:\n",
    "            if word_idx is None:\n",
    "                label_ids.append(-100)\n",
    "            else:\n",
    "                label_ids.append(labels[word_idx])\n",
    "            previous_word_idx = word_idx\n",
    "        all_labels.append(label_ids)\n",
    "\n",
    "    tokenized_inputs[\"labels\"] = all_labels\n",
    "    tokenized_inputs[\"word_ids\"] = all_word_ids\n",
    "    return tokenized_inputs"
   ]
  },
  {
   "cell_type": "code",
   "execution_count": 10,
   "id": "6c54715b-4936-44d7-8bbb-8de8b99c9e4c",
   "metadata": {
    "execution": {
     "iopub.execute_input": "2025-06-30T11:24:27.186414Z",
     "iopub.status.busy": "2025-06-30T11:24:27.186414Z",
     "iopub.status.idle": "2025-06-30T11:24:43.730386Z",
     "shell.execute_reply": "2025-06-30T11:24:43.728372Z",
     "shell.execute_reply.started": "2025-06-30T11:24:27.186414Z"
    },
    "scrolled": true
   },
   "outputs": [
    {
     "data": {
      "application/vnd.jupyter.widget-view+json": {
       "model_id": "05ee37df03264388ba66a94c3656078f",
       "version_major": 2,
       "version_minor": 0
      },
      "text/plain": [
       "Map:   0%|          | 0/4149 [00:00<?, ? examples/s]"
      ]
     },
     "metadata": {},
     "output_type": "display_data"
    },
    {
     "data": {
      "application/vnd.jupyter.widget-view+json": {
       "model_id": "7e837ae6be454d068331bc4e136b5fd8",
       "version_major": 2,
       "version_minor": 0
      },
      "text/plain": [
       "Map:   0%|          | 0/15343 [00:00<?, ? examples/s]"
      ]
     },
     "metadata": {},
     "output_type": "display_data"
    }
   ],
   "source": [
    "conll_main = conll_main.map(tokenize_and_align_labels, batched=True)\n",
    "conll_clean = conll_clean.map(tokenize_and_align_labels, batched=True)\n",
    "ontonotes_main = ontonotes_main.map(tokenize_and_align_labels, batched=True)\n",
    "ontonotes_clean = ontonotes_clean.map(tokenize_and_align_labels, batched=True)"
   ]
  },
  {
   "cell_type": "markdown",
   "id": "bd13cc9c-62d8-4590-b3fb-38717515a142",
   "metadata": {},
   "source": [
    "# Deciding params"
   ]
  },
  {
   "cell_type": "code",
   "execution_count": 11,
   "id": "515d57ca-49d4-4048-81f1-e97ef29500db",
   "metadata": {
    "execution": {
     "iopub.execute_input": "2025-06-30T11:24:43.733384Z",
     "iopub.status.busy": "2025-06-30T11:24:43.733384Z",
     "iopub.status.idle": "2025-06-30T11:24:43.741466Z",
     "shell.execute_reply": "2025-06-30T11:24:43.739456Z",
     "shell.execute_reply.started": "2025-06-30T11:24:43.733384Z"
    }
   },
   "outputs": [],
   "source": [
    "train_data = conll_main\n",
    "test_data = conll_clean"
   ]
  },
  {
   "cell_type": "code",
   "execution_count": 12,
   "id": "9bad3561-02df-4042-9919-1c0469568e62",
   "metadata": {
    "execution": {
     "iopub.execute_input": "2025-06-30T11:24:43.743467Z",
     "iopub.status.busy": "2025-06-30T11:24:43.743467Z",
     "iopub.status.idle": "2025-06-30T11:24:43.749376Z",
     "shell.execute_reply": "2025-06-30T11:24:43.748366Z",
     "shell.execute_reply.started": "2025-06-30T11:24:43.743467Z"
    }
   },
   "outputs": [],
   "source": [
    "train_data_name = 'conll'"
   ]
  },
  {
   "cell_type": "code",
   "execution_count": 13,
   "id": "f947eb63-cced-4ef6-a353-f421fb46b50e",
   "metadata": {
    "execution": {
     "iopub.execute_input": "2025-06-30T11:24:43.752381Z",
     "iopub.status.busy": "2025-06-30T11:24:43.751379Z",
     "iopub.status.idle": "2025-06-30T11:24:48.799359Z",
     "shell.execute_reply": "2025-06-30T11:24:48.797351Z",
     "shell.execute_reply.started": "2025-06-30T11:24:43.752381Z"
    },
    "scrolled": true
   },
   "outputs": [
    {
     "name": "stderr",
     "output_type": "stream",
     "text": [
      "Some weights of BertForTokenClassification were not initialized from the model checkpoint at bert-base-cased and are newly initialized: ['classifier.bias', 'classifier.weight']\n",
      "You should probably TRAIN this model on a down-stream task to be able to use it for predictions and inference.\n"
     ]
    },
    {
     "data": {
      "application/vnd.jupyter.widget-view+json": {
       "model_id": "c59ffd224d3c4de0923e876a4a8a77d4",
       "version_major": 2,
       "version_minor": 0
      },
      "text/plain": [
       "Downloading builder script: 0.00B [00:00, ?B/s]"
      ]
     },
     "metadata": {},
     "output_type": "display_data"
    },
    {
     "name": "stderr",
     "output_type": "stream",
     "text": [
      "C:\\Users\\NIKHIL\\AppData\\Local\\Temp\\ipykernel_23684\\1248433719.py:40: FutureWarning: `tokenizer` is deprecated and will be removed in version 5.0.0 for `Trainer.__init__`. Use `processing_class` instead.\n",
      "  trainer = Trainer(\n"
     ]
    }
   ],
   "source": [
    "mod = BertForTokenClassification.from_pretrained(\n",
    "    model_name, num_labels=len(label_list))\n",
    "\n",
    "metric = load_metric(\"seqeval\")\n",
    "\n",
    "\n",
    "def compute_metrics(p):\n",
    "    predictions, labels = p\n",
    "    predictions = np.argmax(predictions, axis=2)\n",
    "\n",
    "    true_predictions = [\n",
    "        [label_list[p] for (p, l) in zip(prediction, label) if l != -100]\n",
    "        for prediction, label in zip(predictions, labels)\n",
    "    ]\n",
    "    true_labels = [\n",
    "        [label_list[l] for (p, l) in zip(prediction, label) if l != -100]\n",
    "        for prediction, label in zip(predictions, labels)\n",
    "    ]\n",
    "\n",
    "    return metric.compute(predictions=true_predictions, references=true_labels)\n",
    "\n",
    "\n",
    "data_collator = DataCollatorForTokenClassification(tokenizer)\n",
    "\n",
    "training_args = TrainingArguments(\n",
    "    output_dir=f\"./output/{model_name}\",\n",
    "    eval_strategy=\"no\",\n",
    "    learning_rate=2e-5,\n",
    "    per_device_train_batch_size=8,\n",
    "    per_device_eval_batch_size=8,\n",
    "    gradient_accumulation_steps=2,\n",
    "    num_train_epochs=3,\n",
    "    weight_decay=0.01,\n",
    "    load_best_model_at_end=True,\n",
    "    report_to=\"none\",\n",
    "    fp16=True,\n",
    "    save_strategy=\"no\",\n",
    ")\n",
    "\n",
    "trainer = Trainer(\n",
    "    model=mod,\n",
    "    args=training_args,\n",
    "    train_dataset=train_data,\n",
    "    eval_dataset=test_data,\n",
    "    tokenizer=tokenizer,\n",
    "    compute_metrics=compute_metrics,\n",
    "    data_collator=data_collator,\n",
    ")"
   ]
  },
  {
   "cell_type": "code",
   "execution_count": 14,
   "id": "405da19b-d3b0-4392-8032-8ab1722685ed",
   "metadata": {
    "execution": {
     "iopub.execute_input": "2025-06-30T11:24:48.804661Z",
     "iopub.status.busy": "2025-06-30T11:24:48.803657Z",
     "iopub.status.idle": "2025-06-30T11:26:24.011335Z",
     "shell.execute_reply": "2025-06-30T11:26:24.008322Z",
     "shell.execute_reply.started": "2025-06-30T11:24:48.803657Z"
    },
    "scrolled": true
   },
   "outputs": [
    {
     "data": {
      "text/html": [
       "\n",
       "    <div>\n",
       "      \n",
       "      <progress value='23' max='3114' style='width:300px; height:20px; vertical-align: middle;'></progress>\n",
       "      [  23/3114 01:19 < 3:15:59, 0.26 it/s, Epoch 0.02/3]\n",
       "    </div>\n",
       "    <table border=\"1\" class=\"dataframe\">\n",
       "  <thead>\n",
       " <tr style=\"text-align: left;\">\n",
       "      <th>Step</th>\n",
       "      <th>Training Loss</th>\n",
       "    </tr>\n",
       "  </thead>\n",
       "  <tbody>\n",
       "  </tbody>\n",
       "</table><p>"
      ],
      "text/plain": [
       "<IPython.core.display.HTML object>"
      ]
     },
     "metadata": {},
     "output_type": "display_data"
    },
    {
     "name": "stderr",
     "output_type": "stream",
     "text": [
      "\n",
      "KeyboardInterrupt\n",
      "\n"
     ]
    }
   ],
   "source": [
    "trainer.train()"
   ]
  },
  {
   "cell_type": "code",
   "execution_count": null,
   "id": "660e5e71-108a-45a7-932a-e4f2ccaf24ca",
   "metadata": {
    "execution": {
     "iopub.status.busy": "2025-06-30T11:26:24.012332Z",
     "iopub.status.idle": "2025-06-30T11:26:24.013338Z",
     "shell.execute_reply": "2025-06-30T11:26:24.013338Z",
     "shell.execute_reply.started": "2025-06-30T11:26:24.013338Z"
    }
   },
   "outputs": [],
   "source": [
    "trainer.save_model(f\"./saved_model/{model_name}_{train_data_name}_self\")"
   ]
  },
  {
   "cell_type": "code",
   "execution_count": null,
   "id": "4b3d9f3c-5c30-45fc-a8bb-1070b25adffe",
   "metadata": {
    "execution": {
     "iopub.status.busy": "2025-06-30T11:26:24.015335Z",
     "iopub.status.idle": "2025-06-30T11:26:24.016336Z",
     "shell.execute_reply": "2025-06-30T11:26:24.016336Z",
     "shell.execute_reply.started": "2025-06-30T11:26:24.016336Z"
    }
   },
   "outputs": [],
   "source": [
    "predictions = trainer.predict(test_data)"
   ]
  },
  {
   "cell_type": "code",
   "execution_count": null,
   "id": "af641f36-04e0-49dc-b04f-a93d415eb709",
   "metadata": {
    "execution": {
     "iopub.status.busy": "2025-06-30T11:26:24.019331Z",
     "iopub.status.idle": "2025-06-30T11:26:24.019331Z",
     "shell.execute_reply": "2025-06-30T11:26:24.019331Z",
     "shell.execute_reply.started": "2025-06-30T11:26:24.019331Z"
    }
   },
   "outputs": [],
   "source": [
    "with open(f'./results/{model_name}_{train_data_name}_results.pkl', 'wb') as f:\n",
    "    pickle.dump(predictions, f)"
   ]
  },
  {
   "cell_type": "code",
   "execution_count": null,
   "id": "0b84e338-e66a-4ca2-97a9-231acd097edb",
   "metadata": {
    "execution": {
     "iopub.status.busy": "2025-06-30T11:26:24.022335Z",
     "iopub.status.idle": "2025-06-30T11:26:24.023333Z",
     "shell.execute_reply": "2025-06-30T11:26:24.023333Z",
     "shell.execute_reply.started": "2025-06-30T11:26:24.023333Z"
    },
    "scrolled": true
   },
   "outputs": [
    {
     "name": "stderr",
     "output_type": "stream",
     "text": [
      "\r\n",
      "Map:   6%|▌         | 3423/61371 [00:00<00:14, 3949.93 examples/s]"
     ]
    },
    {
     "name": "stderr",
     "output_type": "stream",
     "text": [
      "\r\n",
      "Map:   7%|▋         | 4000/61371 [00:00<00:15, 3806.36 examples/s]"
     ]
    },
    {
     "name": "stderr",
     "output_type": "stream",
     "text": [
      "\r\n",
      "Map:   8%|▊         | 4905/61371 [00:01<00:11, 4906.18 examples/s]"
     ]
    },
    {
     "name": "stderr",
     "output_type": "stream",
     "text": [
      "\r\n",
      "Map:   9%|▉         | 5741/61371 [00:01<00:12, 4630.69 examples/s]"
     ]
    },
    {
     "name": "stderr",
     "output_type": "stream",
     "text": [
      "\r\n",
      "Map:  10%|█         | 6380/61371 [00:01<00:12, 4241.78 examples/s]"
     ]
    },
    {
     "name": "stderr",
     "output_type": "stream",
     "text": [
      "\r\n",
      "Map:  11%|█▏        | 7000/61371 [00:01<00:13, 3976.48 examples/s]"
     ]
    },
    {
     "name": "stderr",
     "output_type": "stream",
     "text": [
      "\r\n",
      "Map:  12%|█▏        | 7505/61371 [00:01<00:12, 4188.58 examples/s]"
     ]
    },
    {
     "name": "stderr",
     "output_type": "stream",
     "text": [
      "\r\n",
      "Map:  13%|█▎        | 7971/61371 [00:01<00:12, 4292.33 examples/s]"
     ]
    },
    {
     "name": "stderr",
     "output_type": "stream",
     "text": [
      "\r\n",
      "Map:  14%|█▍        | 8842/61371 [00:02<00:15, 3405.72 examples/s]"
     ]
    },
    {
     "name": "stderr",
     "output_type": "stream",
     "text": [
      "\r\n",
      "Map:  15%|█▌        | 9343/61371 [00:02<00:15, 3355.63 examples/s]"
     ]
    },
    {
     "name": "stderr",
     "output_type": "stream",
     "text": [
      "\r\n",
      "Map:  16%|█▋        | 10000/61371 [00:02<00:15, 3352.10 examples/s]"
     ]
    },
    {
     "name": "stderr",
     "output_type": "stream",
     "text": [
      "\r\n",
      "Map:  18%|█▊        | 10819/61371 [00:02<00:11, 4250.51 examples/s]"
     ]
    },
    {
     "name": "stderr",
     "output_type": "stream",
     "text": [
      "\r\n",
      "Map:  19%|█▉        | 11605/61371 [00:02<00:12, 3862.75 examples/s]"
     ]
    },
    {
     "name": "stderr",
     "output_type": "stream",
     "text": [
      "\r\n",
      "Map:  20%|██        | 12358/61371 [00:03<00:14, 3465.85 examples/s]"
     ]
    },
    {
     "name": "stderr",
     "output_type": "stream",
     "text": [
      "\r\n",
      "Map:  21%|██        | 13000/61371 [00:03<00:14, 3236.08 examples/s]"
     ]
    },
    {
     "name": "stderr",
     "output_type": "stream",
     "text": [
      "\r\n",
      "Map:  22%|██▏       | 13800/61371 [00:03<00:11, 4021.49 examples/s]"
     ]
    },
    {
     "name": "stderr",
     "output_type": "stream",
     "text": [
      "\r\n",
      "Map:  23%|██▎       | 14355/61371 [00:03<00:12, 3678.32 examples/s]"
     ]
    },
    {
     "name": "stderr",
     "output_type": "stream",
     "text": [
      "\r\n",
      "Map:  24%|██▍       | 15000/61371 [00:03<00:13, 3344.73 examples/s]"
     ]
    },
    {
     "name": "stderr",
     "output_type": "stream",
     "text": [
      "\r\n",
      "Map:  26%|██▌       | 15689/61371 [00:04<00:11, 3969.16 examples/s]"
     ]
    },
    {
     "name": "stderr",
     "output_type": "stream",
     "text": [
      "\r\n",
      "Map:  27%|██▋       | 16334/61371 [00:04<00:13, 3446.55 examples/s]"
     ]
    },
    {
     "name": "stderr",
     "output_type": "stream",
     "text": [
      "\r\n",
      "Map:  28%|██▊       | 17000/61371 [00:04<00:13, 3268.28 examples/s]"
     ]
    },
    {
     "name": "stderr",
     "output_type": "stream",
     "text": [
      "\r\n",
      "Map:  29%|██▉       | 17658/61371 [00:04<00:11, 3843.36 examples/s]"
     ]
    },
    {
     "name": "stderr",
     "output_type": "stream",
     "text": [
      "\r\n",
      "Map:  30%|██▉       | 18372/61371 [00:04<00:11, 3627.40 examples/s]"
     ]
    },
    {
     "name": "stderr",
     "output_type": "stream",
     "text": [
      "\r\n",
      "Map:  31%|███       | 19000/61371 [00:05<00:12, 3263.29 examples/s]"
     ]
    },
    {
     "name": "stderr",
     "output_type": "stream",
     "text": [
      "\r\n",
      "Map:  32%|███▏      | 19601/61371 [00:05<00:11, 3740.75 examples/s]"
     ]
    },
    {
     "name": "stderr",
     "output_type": "stream",
     "text": [
      "\r\n",
      "Map:  33%|███▎      | 20307/61371 [00:05<00:12, 3402.17 examples/s]"
     ]
    },
    {
     "name": "stderr",
     "output_type": "stream",
     "text": [
      "\r\n",
      "Map:  34%|███▍      | 21000/61371 [00:05<00:12, 3315.34 examples/s]"
     ]
    },
    {
     "name": "stderr",
     "output_type": "stream",
     "text": [
      "\r\n",
      "Map:  35%|███▌      | 21559/61371 [00:05<00:10, 3710.69 examples/s]"
     ]
    },
    {
     "name": "stderr",
     "output_type": "stream",
     "text": [
      "\r\n",
      "Map:  36%|███▌      | 22000/61371 [00:05<00:13, 2995.15 examples/s]"
     ]
    },
    {
     "name": "stderr",
     "output_type": "stream",
     "text": [
      "\r\n",
      "Map:  37%|███▋      | 22689/61371 [00:06<00:10, 3701.51 examples/s]"
     ]
    },
    {
     "name": "stderr",
     "output_type": "stream",
     "text": [
      "\r\n",
      "Map:  38%|███▊      | 23343/61371 [00:06<00:10, 3565.11 examples/s]"
     ]
    },
    {
     "name": "stderr",
     "output_type": "stream",
     "text": [
      "\r\n",
      "Map:  39%|███▉      | 24000/61371 [00:06<00:11, 3304.84 examples/s]"
     ]
    },
    {
     "name": "stderr",
     "output_type": "stream",
     "text": [
      "\r\n",
      "Map:  40%|████      | 24657/61371 [00:06<00:09, 3899.92 examples/s]"
     ]
    },
    {
     "name": "stderr",
     "output_type": "stream",
     "text": [
      "\r\n",
      "Map:  41%|████▏     | 25371/61371 [00:06<00:09, 3719.30 examples/s]"
     ]
    },
    {
     "name": "stderr",
     "output_type": "stream",
     "text": [
      "\r\n",
      "Map:  42%|████▏     | 26000/61371 [00:06<00:10, 3490.35 examples/s]"
     ]
    },
    {
     "name": "stderr",
     "output_type": "stream",
     "text": [
      "\r\n",
      "Map:  43%|████▎     | 26474/61371 [00:07<00:09, 3716.51 examples/s]"
     ]
    },
    {
     "name": "stderr",
     "output_type": "stream",
     "text": [
      "\r\n",
      "Map:  44%|████▍     | 27000/61371 [00:07<00:11, 3005.92 examples/s]"
     ]
    },
    {
     "name": "stderr",
     "output_type": "stream",
     "text": [
      "\r\n",
      "Map:  45%|████▌     | 27649/61371 [00:07<00:09, 3626.51 examples/s]"
     ]
    },
    {
     "name": "stderr",
     "output_type": "stream",
     "text": [
      "\r\n",
      "Map:  46%|████▌     | 28370/61371 [00:07<00:10, 3280.91 examples/s]"
     ]
    },
    {
     "name": "stderr",
     "output_type": "stream",
     "text": [
      "\r\n",
      "Map:  47%|████▋     | 29000/61371 [00:07<00:09, 3262.25 examples/s]"
     ]
    },
    {
     "name": "stderr",
     "output_type": "stream",
     "text": [
      "\r\n",
      "Map:  49%|████▊     | 29804/61371 [00:08<00:07, 4124.50 examples/s]"
     ]
    },
    {
     "name": "stderr",
     "output_type": "stream",
     "text": [
      "\r\n",
      "Map:  49%|████▉     | 30373/61371 [00:08<00:08, 3815.99 examples/s]"
     ]
    },
    {
     "name": "stderr",
     "output_type": "stream",
     "text": [
      "\r\n",
      "Map:  51%|█████     | 31000/61371 [00:08<00:08, 3527.60 examples/s]"
     ]
    },
    {
     "name": "stderr",
     "output_type": "stream",
     "text": [
      "\r\n",
      "Map:  52%|█████▏    | 31782/61371 [00:08<00:06, 4343.86 examples/s]"
     ]
    },
    {
     "name": "stderr",
     "output_type": "stream",
     "text": [
      "\r\n",
      "Map:  53%|█████▎    | 32556/61371 [00:08<00:07, 3888.75 examples/s]"
     ]
    },
    {
     "name": "stderr",
     "output_type": "stream",
     "text": [
      "\r\n",
      "Map:  54%|█████▍    | 33273/61371 [00:08<00:07, 3649.21 examples/s]"
     ]
    },
    {
     "name": "stderr",
     "output_type": "stream",
     "text": [
      "\r\n",
      "Map:  55%|█████▌    | 33836/61371 [00:09<00:06, 4004.20 examples/s]"
     ]
    },
    {
     "name": "stderr",
     "output_type": "stream",
     "text": [
      "\r\n",
      "Map:  56%|█████▌    | 34324/61371 [00:09<00:08, 3172.78 examples/s]"
     ]
    },
    {
     "name": "stderr",
     "output_type": "stream",
     "text": [
      "\r\n",
      "Map:  57%|█████▋    | 35000/61371 [00:09<00:07, 3297.49 examples/s]"
     ]
    },
    {
     "name": "stderr",
     "output_type": "stream",
     "text": [
      "\r\n",
      "Map:  58%|█████▊    | 35703/61371 [00:09<00:06, 3978.73 examples/s]"
     ]
    },
    {
     "name": "stderr",
     "output_type": "stream",
     "text": [
      "\r\n",
      "Map:  59%|█████▉    | 36396/61371 [00:09<00:06, 3982.89 examples/s]"
     ]
    },
    {
     "name": "stderr",
     "output_type": "stream",
     "text": [
      "\r\n",
      "Map:  60%|██████    | 37000/61371 [00:09<00:06, 3934.40 examples/s]"
     ]
    },
    {
     "name": "stderr",
     "output_type": "stream",
     "text": [
      "\r\n",
      "Map:  61%|██████▏   | 37681/61371 [00:10<00:05, 4527.81 examples/s]"
     ]
    },
    {
     "name": "stderr",
     "output_type": "stream",
     "text": [
      "\r\n",
      "Map:  62%|██████▏   | 38326/61371 [00:10<00:05, 4096.99 examples/s]"
     ]
    },
    {
     "name": "stderr",
     "output_type": "stream",
     "text": [
      "\r\n",
      "Map:  64%|██████▎   | 39000/61371 [00:10<00:06, 3677.32 examples/s]"
     ]
    },
    {
     "name": "stderr",
     "output_type": "stream",
     "text": [
      "\r\n",
      "Map:  65%|██████▍   | 39627/61371 [00:10<00:05, 4176.27 examples/s]"
     ]
    },
    {
     "name": "stderr",
     "output_type": "stream",
     "text": [
      "\r\n",
      "Map:  66%|██████▌   | 40281/61371 [00:10<00:05, 3537.26 examples/s]"
     ]
    },
    {
     "name": "stderr",
     "output_type": "stream",
     "text": [
      "\r\n",
      "Map:  67%|██████▋   | 40885/61371 [00:10<00:05, 4009.18 examples/s]"
     ]
    },
    {
     "name": "stderr",
     "output_type": "stream",
     "text": [
      "\r\n",
      "Map:  67%|██████▋   | 41377/61371 [00:11<00:06, 3131.14 examples/s]"
     ]
    },
    {
     "name": "stderr",
     "output_type": "stream",
     "text": [
      "\r\n",
      "Map:  68%|██████▊   | 42000/61371 [00:11<00:05, 3393.04 examples/s]"
     ]
    },
    {
     "name": "stderr",
     "output_type": "stream",
     "text": [
      "\r\n",
      "Map:  70%|██████▉   | 42761/61371 [00:11<00:04, 4211.99 examples/s]"
     ]
    },
    {
     "name": "stderr",
     "output_type": "stream",
     "text": [
      "\r\n",
      "Map:  71%|███████   | 43342/61371 [00:11<00:04, 3747.86 examples/s]"
     ]
    },
    {
     "name": "stderr",
     "output_type": "stream",
     "text": [
      "\r\n",
      "Map:  72%|███████▏  | 44000/61371 [00:11<00:05, 3358.73 examples/s]"
     ]
    },
    {
     "name": "stderr",
     "output_type": "stream",
     "text": [
      "\r\n",
      "Map:  73%|███████▎  | 44506/61371 [00:11<00:04, 3671.14 examples/s]"
     ]
    },
    {
     "name": "stderr",
     "output_type": "stream",
     "text": [
      "\r\n",
      "Map:  73%|███████▎  | 45000/61371 [00:12<00:08, 1925.16 examples/s]"
     ]
    },
    {
     "name": "stderr",
     "output_type": "stream",
     "text": [
      "\r\n",
      "Map:  75%|███████▍  | 45751/61371 [00:12<00:05, 2633.87 examples/s]"
     ]
    },
    {
     "name": "stderr",
     "output_type": "stream",
     "text": [
      "\r\n",
      "Map:  75%|███████▌  | 46317/61371 [00:12<00:05, 2602.65 examples/s]"
     ]
    },
    {
     "name": "stderr",
     "output_type": "stream",
     "text": [
      "\r\n",
      "Map:  77%|███████▋  | 47000/61371 [00:13<00:05, 2794.26 examples/s]"
     ]
    },
    {
     "name": "stderr",
     "output_type": "stream",
     "text": [
      "\r\n",
      "Map:  77%|███████▋  | 47554/61371 [00:13<00:04, 3230.41 examples/s]"
     ]
    },
    {
     "name": "stderr",
     "output_type": "stream",
     "text": [
      "\r\n",
      "Map:  78%|███████▊  | 48000/61371 [00:13<00:05, 2666.21 examples/s]"
     ]
    },
    {
     "name": "stderr",
     "output_type": "stream",
     "text": [
      "\r\n",
      "Map:  79%|███████▉  | 48709/61371 [00:13<00:03, 3417.37 examples/s]"
     ]
    },
    {
     "name": "stderr",
     "output_type": "stream",
     "text": [
      "\r\n",
      "Map:  80%|████████  | 49301/61371 [00:13<00:03, 3189.61 examples/s]"
     ]
    },
    {
     "name": "stderr",
     "output_type": "stream",
     "text": [
      "\r\n",
      "Map:  81%|████████▏ | 49905/61371 [00:13<00:03, 3717.29 examples/s]"
     ]
    },
    {
     "name": "stderr",
     "output_type": "stream",
     "text": [
      "\r\n",
      "Map:  83%|████████▎ | 50649/61371 [00:14<00:03, 3233.72 examples/s]"
     ]
    },
    {
     "name": "stderr",
     "output_type": "stream",
     "text": [
      "\r\n",
      "Map:  84%|████████▎ | 51322/61371 [00:14<00:03, 2949.18 examples/s]"
     ]
    },
    {
     "name": "stderr",
     "output_type": "stream",
     "text": [
      "\r\n",
      "Map:  85%|████████▍ | 52000/61371 [00:14<00:03, 2960.14 examples/s]"
     ]
    },
    {
     "name": "stderr",
     "output_type": "stream",
     "text": [
      "\r\n",
      "Map:  86%|████████▌ | 52787/61371 [00:14<00:02, 3750.68 examples/s]"
     ]
    },
    {
     "name": "stderr",
     "output_type": "stream",
     "text": [
      "\r\n",
      "Map:  87%|████████▋ | 53328/61371 [00:14<00:02, 3435.47 examples/s]"
     ]
    },
    {
     "name": "stderr",
     "output_type": "stream",
     "text": [
      "\r\n",
      "Map:  88%|████████▊ | 54000/61371 [00:15<00:02, 3285.30 examples/s]"
     ]
    },
    {
     "name": "stderr",
     "output_type": "stream",
     "text": [
      "\r\n",
      "Map:  89%|████████▉ | 54592/61371 [00:15<00:01, 3749.32 examples/s]"
     ]
    },
    {
     "name": "stderr",
     "output_type": "stream",
     "text": [
      "\r\n",
      "Map:  90%|█████████ | 55333/61371 [00:15<00:01, 3295.10 examples/s]"
     ]
    },
    {
     "name": "stderr",
     "output_type": "stream",
     "text": [
      "\r\n",
      "Map:  91%|█████████ | 56000/61371 [00:15<00:01, 3401.63 examples/s]"
     ]
    },
    {
     "name": "stderr",
     "output_type": "stream",
     "text": [
      "\r\n",
      "Map:  92%|█████████▏| 56671/61371 [00:15<00:01, 3993.89 examples/s]"
     ]
    },
    {
     "name": "stderr",
     "output_type": "stream",
     "text": [
      "\r\n",
      "Map:  93%|█████████▎| 57295/61371 [00:16<00:01, 3571.33 examples/s]"
     ]
    },
    {
     "name": "stderr",
     "output_type": "stream",
     "text": [
      "\r\n",
      "Map:  95%|█████████▍| 57996/61371 [00:16<00:00, 4220.68 examples/s]"
     ]
    },
    {
     "name": "stderr",
     "output_type": "stream",
     "text": [
      "\r\n",
      "Map:  96%|█████████▌| 58632/61371 [00:16<00:00, 3377.28 examples/s]"
     ]
    },
    {
     "name": "stderr",
     "output_type": "stream",
     "text": [
      "\r\n",
      "Map:  97%|█████████▋| 59347/61371 [00:16<00:00, 2780.84 examples/s]"
     ]
    },
    {
     "name": "stderr",
     "output_type": "stream",
     "text": [
      "\r\n",
      "Map:  98%|█████████▊| 60000/61371 [00:16<00:00, 3023.13 examples/s]"
     ]
    },
    {
     "name": "stderr",
     "output_type": "stream",
     "text": [
      "\r\n",
      "Map:  99%|█████████▉| 60705/61371 [00:17<00:00, 3675.60 examples/s]"
     ]
    },
    {
     "name": "stderr",
     "output_type": "stream",
     "text": [
      "\r\n",
      "Map: 100%|██████████| 61371/61371 [00:19<00:00, 909.80 examples/s] "
     ]
    },
    {
     "name": "stderr",
     "output_type": "stream",
     "text": [
      "\r\n",
      "Map: 100%|██████████| 61371/61371 [00:19<00:00, 3162.99 examples/s]"
     ]
    },
    {
     "name": "stderr",
     "output_type": "stream",
     "text": [
      "\n"
     ]
    },
    {
     "name": "stdout",
     "output_type": "stream",
     "text": [
      "              precision    recall  f1-score   support\n",
      "\n",
      "       B-LOC       0.83      0.89      0.86     17495\n",
      "      B-MISC       0.64      0.73      0.68     10657\n",
      "       B-ORG       0.63      0.68      0.65     13041\n",
      "       B-PER       0.90      0.93      0.91     15547\n",
      "       I-LOC       0.71      0.66      0.68      5367\n",
      "      I-MISC       0.66      0.37      0.47      7305\n",
      "       I-ORG       0.90      0.71      0.79     18313\n",
      "       I-PER       0.95      0.88      0.91     11086\n",
      "           O       0.99      0.99      0.99   1011383\n",
      "\n",
      "    accuracy                           0.97   1110194\n",
      "   macro avg       0.80      0.76      0.77   1110194\n",
      "weighted avg       0.97      0.97      0.97   1110194\n",
      "\n"
     ]
    }
   ],
   "source": [
    "x, y = evaluate_predictions(predictions, test_data)"
   ]
  },
  {
   "cell_type": "markdown",
   "id": "f8682abd-dc85-40cd-b92f-236ae01437cc",
   "metadata": {},
   "source": [
    "## Stanford"
   ]
  },
  {
   "cell_type": "code",
   "execution_count": null,
   "id": "6104ffa6-882d-4e29-b96c-8450204c8949",
   "metadata": {
    "execution": {
     "iopub.status.busy": "2025-06-30T11:23:44.016493Z",
     "iopub.status.idle": "2025-06-30T11:23:44.017493Z",
     "shell.execute_reply": "2025-06-30T11:23:44.017493Z",
     "shell.execute_reply.started": "2025-06-30T11:23:44.017493Z"
    }
   },
   "outputs": [],
   "source": [
    "df = pd.read_excel(\n",
    "    \"./Guided-Adversarial-Augmentation-main/Guided-Adversarial-Augmentation-main/data/data/conll2003/challenge_set.xlsx\", header=None)"
   ]
  },
  {
   "cell_type": "code",
   "execution_count": null,
   "id": "80bbab65-9121-40b6-9c4d-975672e74bc4",
   "metadata": {
    "execution": {
     "iopub.status.busy": "2025-06-30T11:23:44.019494Z",
     "iopub.status.idle": "2025-06-30T11:23:44.020491Z",
     "shell.execute_reply": "2025-06-30T11:23:44.020491Z",
     "shell.execute_reply.started": "2025-06-30T11:23:44.020491Z"
    }
   },
   "outputs": [],
   "source": [
    "examples = []\n",
    "\n",
    "i = 0\n",
    "while i < len(df):\n",
    "    row = df.iloc[i]\n",
    "    if str(row[0]).startswith(\"GUID\"):\n",
    "\n",
    "        guid = str(df.iloc[i][1]).strip()\n",
    "\n",
    "        try:\n",
    "            quality = int(str(df.iloc[i+1][1]).strip())\n",
    "        except (ValueError, TypeError):\n",
    "            quality = 999\n",
    "\n",
    "        try:\n",
    "            aug_type = int(str(df.iloc[i+2][1]).strip())\n",
    "        except (ValueError, TypeError):\n",
    "            aug_type = 999\n",
    "\n",
    "        tokens_row = df.iloc[i+3].dropna().tolist()[1:]\n",
    "        labels_row = df.iloc[i+4].dropna().tolist()[1:]\n",
    "        labels_row = [label.strip()\n",
    "                      for label in labels_row if label.strip() != \"\"]\n",
    "\n",
    "        if len(tokens_row) == len(labels_row):\n",
    "            examples.append({\n",
    "                \"guid\": guid,\n",
    "                \"quality\": quality,\n",
    "                \"aug_type\": aug_type,\n",
    "                \"tokens\": tokens_row,\n",
    "                \"labels\": labels_row\n",
    "            })\n",
    "\n",
    "        i += 6\n",
    "    else:\n",
    "        i += 1\n",
    "\n",
    "challenge_dataset = Dataset.from_list(examples)"
   ]
  },
  {
   "cell_type": "code",
   "execution_count": null,
   "id": "3a8581fc-bacd-4793-8b65-ac9e826e4a5c",
   "metadata": {
    "execution": {
     "iopub.status.busy": "2025-06-30T11:23:44.023493Z",
     "iopub.status.idle": "2025-06-30T11:23:44.023493Z",
     "shell.execute_reply": "2025-06-30T11:23:44.023493Z",
     "shell.execute_reply.started": "2025-06-30T11:23:44.023493Z"
    }
   },
   "outputs": [],
   "source": [
    "conll_label_to_id = {\n",
    "    'O': 0,\n",
    "    'B-PER': 1, 'I-PER': 2,\n",
    "    'B-ORG': 3, 'I-ORG': 4,\n",
    "    'B-LOC': 5, 'I-LOC': 6,\n",
    "    'B-MISC': 7, 'I-MISC': 8,\n",
    "}\n",
    "\n",
    "\n",
    "def encode_labels(example):\n",
    "    example[\"labels\"] = [conll_label_to_id.get(\n",
    "        label, 0) for label in example[\"labels\"]]\n",
    "    return example"
   ]
  },
  {
   "cell_type": "code",
   "execution_count": null,
   "id": "ebc93860-6822-4475-ae3b-d8f588b84188",
   "metadata": {
    "execution": {
     "iopub.status.busy": "2025-06-30T11:23:44.025489Z",
     "iopub.status.idle": "2025-06-30T11:23:44.025489Z",
     "shell.execute_reply": "2025-06-30T11:23:44.025489Z",
     "shell.execute_reply.started": "2025-06-30T11:23:44.025489Z"
    }
   },
   "outputs": [
    {
     "name": "stderr",
     "output_type": "stream",
     "text": [
      "\r\n",
      "Map: 100%|██████████| 1418/1418 [00:00<00:00, 10944.56 examples/s]"
     ]
    },
    {
     "name": "stderr",
     "output_type": "stream",
     "text": [
      "\n"
     ]
    }
   ],
   "source": [
    "challenge_dataset = challenge_dataset.map(encode_labels)"
   ]
  },
  {
   "cell_type": "code",
   "execution_count": 21,
   "id": "a4f992fb-3c7e-435b-9789-ae8e11d7ce73",
   "metadata": {
    "execution": {
     "iopub.execute_input": "2025-06-14T18:02:40.822840Z",
     "iopub.status.busy": "2025-06-14T18:02:40.822486Z",
     "iopub.status.idle": "2025-06-14T18:02:41.428780Z",
     "shell.execute_reply": "2025-06-14T18:02:41.428390Z"
    }
   },
   "outputs": [
    {
     "name": "stderr",
     "output_type": "stream",
     "text": [
      "\r\n",
      "Map:   0%|          | 0/1418 [00:00<?, ? examples/s]"
     ]
    },
    {
     "name": "stderr",
     "output_type": "stream",
     "text": [
      "\r\n",
      "Map:  71%|███████   | 1000/1418 [00:00<00:00, 2132.63 examples/s]"
     ]
    },
    {
     "name": "stderr",
     "output_type": "stream",
     "text": [
      "\r\n",
      "Map: 100%|██████████| 1418/1418 [00:00<00:00, 2498.01 examples/s]"
     ]
    },
    {
     "name": "stderr",
     "output_type": "stream",
     "text": [
      "\r\n",
      "Map: 100%|██████████| 1418/1418 [00:00<00:00, 2388.34 examples/s]"
     ]
    },
    {
     "name": "stderr",
     "output_type": "stream",
     "text": [
      "\n"
     ]
    }
   ],
   "source": [
    "stanford_encoded = challenge_dataset.map(\n",
    "    tokenize_and_align_labels, batched=True)"
   ]
  },
  {
   "cell_type": "code",
   "execution_count": 22,
   "id": "9f993c5b-d7ab-4055-bad5-95b1eb325c9a",
   "metadata": {
    "execution": {
     "iopub.execute_input": "2025-06-14T18:02:41.430704Z",
     "iopub.status.busy": "2025-06-14T18:02:41.430395Z",
     "iopub.status.idle": "2025-06-14T18:02:44.724760Z",
     "shell.execute_reply": "2025-06-14T18:02:44.724284Z"
    },
    "scrolled": true
   },
   "outputs": [
    {
     "data": {
      "text/html": [],
      "text/plain": [
       "<IPython.core.display.HTML object>"
      ]
     },
     "metadata": {},
     "output_type": "display_data"
    }
   ],
   "source": [
    "stanford_results = trainer.predict(stanford_encoded)"
   ]
  },
  {
   "cell_type": "code",
   "execution_count": 23,
   "id": "0b1306c0-7a1f-455d-b78f-5840f7bfde6a",
   "metadata": {
    "execution": {
     "iopub.execute_input": "2025-06-14T18:02:44.726706Z",
     "iopub.status.busy": "2025-06-14T18:02:44.726311Z",
     "iopub.status.idle": "2025-06-14T18:02:44.816017Z",
     "shell.execute_reply": "2025-06-14T18:02:44.815501Z"
    }
   },
   "outputs": [],
   "source": [
    "with open(f'./results/{model_name}_{train_data_name}_stanford', 'wb') as f:\n",
    "    pickle.dump(stanford_results, f)"
   ]
  },
  {
   "cell_type": "code",
   "execution_count": 24,
   "id": "2d20ae03-4fcb-4676-901b-a37fea28d79c",
   "metadata": {
    "execution": {
     "iopub.execute_input": "2025-06-14T18:02:44.818055Z",
     "iopub.status.busy": "2025-06-14T18:02:44.817807Z",
     "iopub.status.idle": "2025-06-14T18:02:47.155073Z",
     "shell.execute_reply": "2025-06-14T18:02:47.154637Z"
    }
   },
   "outputs": [
    {
     "name": "stderr",
     "output_type": "stream",
     "text": [
      "\r\n",
      "Map:   0%|          | 0/1418 [00:00<?, ? examples/s]"
     ]
    },
    {
     "name": "stderr",
     "output_type": "stream",
     "text": [
      "\r\n",
      "Map:  46%|████▌     | 646/1418 [00:00<00:00, 6385.92 examples/s]"
     ]
    },
    {
     "name": "stderr",
     "output_type": "stream",
     "text": [
      "\r\n",
      "Map: 100%|█████████▉| 1414/1418 [00:00<00:00, 5309.18 examples/s]"
     ]
    },
    {
     "name": "stderr",
     "output_type": "stream",
     "text": [
      "\r\n",
      "Map: 100%|██████████| 1418/1418 [00:00<00:00, 4913.02 examples/s]"
     ]
    },
    {
     "name": "stderr",
     "output_type": "stream",
     "text": [
      "\n"
     ]
    },
    {
     "name": "stdout",
     "output_type": "stream",
     "text": [
      "              precision    recall  f1-score   support\n",
      "\n",
      "       B-LOC       0.63      0.86      0.72       539\n",
      "      B-MISC       0.93      0.92      0.93       319\n",
      "       B-ORG       0.70      0.85      0.77      1214\n",
      "       B-PER       0.88      0.64      0.74      1067\n",
      "       I-LOC       0.38      0.86      0.53        79\n",
      "      I-MISC       0.87      0.88      0.87        82\n",
      "       I-ORG       0.87      0.94      0.90      2026\n",
      "       I-PER       1.00      0.63      0.77       939\n",
      "           O       1.00      0.99      1.00     22466\n",
      "\n",
      "    accuracy                           0.96     28731\n",
      "   macro avg       0.81      0.84      0.80     28731\n",
      "weighted avg       0.96      0.96      0.96     28731\n",
      "\n"
     ]
    }
   ],
   "source": [
    "x, y = evaluate_predictions(stanford_results, stanford_encoded)"
   ]
  },
  {
   "cell_type": "markdown",
   "id": "a4da7818-d0e5-4e71-9a16-178102b29167",
   "metadata": {
    "jp-MarkdownHeadingCollapsed": true
   },
   "source": [
    "## Personal"
   ]
  },
  {
   "cell_type": "code",
   "execution_count": 25,
   "id": "3cab2ed7",
   "metadata": {
    "execution": {
     "iopub.execute_input": "2025-06-14T18:02:47.156919Z",
     "iopub.status.busy": "2025-06-14T18:02:47.156661Z",
     "iopub.status.idle": "2025-06-14T18:02:57.719577Z",
     "shell.execute_reply": "2025-06-14T18:02:57.719076Z"
    }
   },
   "outputs": [],
   "source": [
    "nd = NameDataset()\n",
    "country_codes = nd.get_country_codes()\n",
    "\n",
    "continent_names = {\n",
    "    'AF': 'Africa',\n",
    "    'NA': 'North America',\n",
    "    'OC': 'Oceania',\n",
    "    'AN': 'Antarctica',\n",
    "    'AS': 'Asia',\n",
    "    'EU': 'Europe',\n",
    "    'SA': 'South America',\n",
    "}\n",
    "\n",
    "continent_to_code = defaultdict(list)\n",
    "\n",
    "continent_to_countries = defaultdict(list)\n",
    "\n",
    "for code in country_codes:\n",
    "    try:\n",
    "        alpha_2 = code.alpha_2\n",
    "        country = pycountry.countries.get(alpha_2=alpha_2)\n",
    "        if not country:\n",
    "            continue\n",
    "\n",
    "        continent_code = pc.country_alpha2_to_continent_code(alpha_2)\n",
    "        continent = continent_names[continent_code]\n",
    "\n",
    "        continent_to_code[continent].append(alpha_2)\n",
    "        continent_to_countries[continent].append((alpha_2, country.name))\n",
    "\n",
    "    except Exception as e:\n",
    "        print(f\"Skipping {code} due to error: {e}\")\n",
    "        continue"
   ]
  },
  {
   "cell_type": "code",
   "execution_count": 26,
   "id": "f7e40c24-e8b5-4227-b3eb-1b9d3f8fe084",
   "metadata": {
    "execution": {
     "iopub.execute_input": "2025-06-14T18:02:57.721722Z",
     "iopub.status.busy": "2025-06-14T18:02:57.721416Z",
     "iopub.status.idle": "2025-06-14T18:02:57.729090Z",
     "shell.execute_reply": "2025-06-14T18:02:57.728573Z"
    }
   },
   "outputs": [],
   "source": [
    "def get_names(country, n=10):\n",
    "    names_dict = nd.get_top_names(n=n, country_alpha2=country)\n",
    "    names = []\n",
    "    if country in names_dict:\n",
    "        country_names = names_dict[country]\n",
    "        for gender in ['M', 'F']:\n",
    "            if gender in country_names:\n",
    "                names.extend(country_names[gender])\n",
    "    return list(set(names))\n",
    "\n",
    "\n",
    "def tokenize(text):\n",
    "    tokens = re.findall(r\"\\w+|[^\\w\\s]\", text, re.UNICODE)\n",
    "    return tokens\n",
    "\n",
    "\n",
    "def tag_tokens(tokens, person_names):\n",
    "    tags = [\"O\"] * len(tokens)\n",
    "    for name in person_names:\n",
    "        name_tokens = name.split()\n",
    "        n_len = len(name_tokens)\n",
    "        for i in range(len(tokens) - n_len + 1):\n",
    "            if tokens[i:i + n_len] == name_tokens:\n",
    "                tags[i] = \"B-PER\"\n",
    "                for j in range(i + 1, i + n_len):\n",
    "                    tags[j] = \"I-PER\"\n",
    "    return tags\n",
    "\n",
    "\n",
    "def generate_challenge_dataset(num_samples=300):\n",
    "    dataset = []\n",
    "    failures = 0\n",
    "    max_failures = 1000\n",
    "\n",
    "    while len(dataset) < num_samples:\n",
    "        if failures >= max_failures:\n",
    "            print(f\"Stopped after {failures} failed attempts.\")\n",
    "            break\n",
    "\n",
    "        country = random.choice(chosen_countries)\n",
    "        names = get_names(country, n=10)\n",
    "\n",
    "        # Filter names: keep only those also in common_nouns\n",
    "        filtered_names = [\n",
    "            name for name in names if name.lower() in common_nouns]\n",
    "\n",
    "        if not filtered_names:\n",
    "            failures += 1\n",
    "            if failures % 10 == 0:\n",
    "                print(f\"{failures} failed attempts so far.\")\n",
    "            continue\n",
    "\n",
    "        # Pick one or two names as needed\n",
    "        if len(filtered_names) == 1:\n",
    "            name1 = filtered_names[0]\n",
    "            name2 = None\n",
    "        else:\n",
    "            name1, name2 = random.sample(filtered_names, 2)\n",
    "\n",
    "        template = random.choice(sentence_templates)\n",
    "\n",
    "        if \"{name2}\" in template and name2 is None:\n",
    "            sentence = template.format(name=name1, name2=name1)\n",
    "            person_names = [name1]\n",
    "        elif \"{name2}\" in template:\n",
    "            sentence = template.format(name=name1, name2=name2)\n",
    "            person_names = [name1, name2]\n",
    "        else:\n",
    "            sentence = template.format(name=name1)\n",
    "            person_names = [name1]\n",
    "\n",
    "        tokens = tokenize(sentence)\n",
    "        tags = tag_tokens(tokens, person_names)\n",
    "        dataset.append(list(zip(tokens, tags)))\n",
    "        print(len(dataset))\n",
    "\n",
    "    return dataset\n",
    "\n",
    "\n",
    "def save_to_csv(dataset, filepath=\"default_name.csv\"):\n",
    "    with open(filepath, mode=\"w\", encoding=\"utf-8\", newline=\"\") as f:\n",
    "        writer = csv.writer(f)\n",
    "        writer.writerow([\"sentence_id\", \"token\", \"tag\"])\n",
    "        for idx, sentence in enumerate(dataset):\n",
    "            for token, tag in sentence:\n",
    "                writer.writerow([idx, token, tag])"
   ]
  },
  {
   "cell_type": "code",
   "execution_count": 27,
   "id": "7ba8822c-450b-4b4c-8c07-284e6bd814bc",
   "metadata": {
    "execution": {
     "iopub.execute_input": "2025-06-14T18:02:57.731069Z",
     "iopub.status.busy": "2025-06-14T18:02:57.730680Z",
     "iopub.status.idle": "2025-06-14T18:02:57.735459Z",
     "shell.execute_reply": "2025-06-14T18:02:57.735013Z"
    }
   },
   "outputs": [],
   "source": [
    "def evaluate_csv(file, common=False):\n",
    "    print('evaluating', file)\n",
    "    scripted_challenge = pd.read_csv(file)\n",
    "\n",
    "    examples = []\n",
    "    for sentence_id, group in scripted_challenge.groupby(\"sentence_id\"):\n",
    "        tokens = group[\"token\"].tolist()\n",
    "        tags = group[\"tag\"].tolist()\n",
    "        examples.append({\"tokens\": tokens, \"ner_tags\": tags})\n",
    "\n",
    "    unique_tags = sorted(set(tag for ex in examples for tag in ex[\"ner_tags\"]))\n",
    "\n",
    "    for ex in examples:\n",
    "        ex[\"labels\"] = [conll_label_to_id[tag] for tag in ex[\"ner_tags\"]]\n",
    "\n",
    "    challenge_dataset = Dataset.from_list(examples)\n",
    "    tokenized = challenge_dataset.map(tokenize_and_align_labels, batched=True)\n",
    "    a = trainer.predict(tokenized)\n",
    "\n",
    "    if common:\n",
    "        with open(f'./results/{model_name}_{train_data_name}_challenge_common.pkl', 'wb') as f:\n",
    "            pickle.dump(a, f)\n",
    "    else:\n",
    "        with open(f'./results/{model_name}_{train_data_name}_challenge_{file[:-3]}.pkl', 'wb') as f:\n",
    "            pickle.dump(a, f)\n",
    "\n",
    "    x, y = evaluate_predictions(a, tokenized)\n",
    "    print()\n",
    "    print('-'*30)"
   ]
  },
  {
   "cell_type": "code",
   "execution_count": 28,
   "id": "820fdce4-2e77-479b-b276-af5952269e6f",
   "metadata": {
    "execution": {
     "iopub.execute_input": "2025-06-14T18:02:57.737174Z",
     "iopub.status.busy": "2025-06-14T18:02:57.736936Z",
     "iopub.status.idle": "2025-06-14T18:03:14.314812Z",
     "shell.execute_reply": "2025-06-14T18:03:14.314264Z"
    }
   },
   "outputs": [
    {
     "name": "stdout",
     "output_type": "stream",
     "text": [
      "evaluating North America_ner_challenge.csv\n"
     ]
    },
    {
     "name": "stderr",
     "output_type": "stream",
     "text": [
      "\r\n",
      "Map:   0%|          | 0/1000 [00:00<?, ? examples/s]"
     ]
    },
    {
     "name": "stderr",
     "output_type": "stream",
     "text": [
      "\r\n",
      "Map: 100%|██████████| 1000/1000 [00:00<00:00, 7929.91 examples/s]"
     ]
    },
    {
     "name": "stderr",
     "output_type": "stream",
     "text": [
      "\r\n",
      "Map: 100%|██████████| 1000/1000 [00:00<00:00, 7634.21 examples/s]"
     ]
    },
    {
     "name": "stderr",
     "output_type": "stream",
     "text": [
      "\n"
     ]
    },
    {
     "data": {
      "text/html": [],
      "text/plain": [
       "<IPython.core.display.HTML object>"
      ]
     },
     "metadata": {},
     "output_type": "display_data"
    },
    {
     "name": "stderr",
     "output_type": "stream",
     "text": [
      "/scistor/guest/lre040/miniconda3/lib/python3.13/site-packages/seqeval/metrics/v1.py:57: UndefinedMetricWarning: Recall and F-score are ill-defined and being set to 0.0 in labels with no true samples. Use `zero_division` parameter to control this behavior.\n",
      "  _warn_prf(average, modifier, msg_start, len(result))\n"
     ]
    },
    {
     "name": "stderr",
     "output_type": "stream",
     "text": [
      "\r\n",
      "Map:   0%|          | 0/1000 [00:00<?, ? examples/s]"
     ]
    },
    {
     "name": "stderr",
     "output_type": "stream",
     "text": [
      "\r\n",
      "Map: 100%|██████████| 1000/1000 [00:00<00:00, 8529.72 examples/s]"
     ]
    },
    {
     "name": "stderr",
     "output_type": "stream",
     "text": [
      "\r\n",
      "Map: 100%|██████████| 1000/1000 [00:00<00:00, 8228.55 examples/s]"
     ]
    },
    {
     "name": "stderr",
     "output_type": "stream",
     "text": [
      "\n"
     ]
    },
    {
     "name": "stdout",
     "output_type": "stream",
     "text": [
      "              precision    recall  f1-score   support\n",
      "\n",
      "       B-LOC       0.00      0.00      0.00         0\n",
      "       B-ORG       0.00      0.00      0.00         0\n",
      "       B-PER       1.00      0.96      0.98      1145\n",
      "       I-LOC       0.00      0.00      0.00         0\n",
      "       I-ORG       0.00      0.00      0.00         0\n",
      "       I-PER       0.99      1.00      0.99        75\n",
      "           O       1.00      0.98      0.99      9569\n",
      "\n",
      "    accuracy                           0.98     10789\n",
      "   macro avg       0.43      0.42      0.42     10789\n",
      "weighted avg       1.00      0.98      0.99     10789\n",
      "\n",
      "\n",
      "------------------------------\n",
      "evaluating South America_ner_challenge.csv\n"
     ]
    },
    {
     "name": "stderr",
     "output_type": "stream",
     "text": [
      "\r\n",
      "Map:   0%|          | 0/1000 [00:00<?, ? examples/s]"
     ]
    },
    {
     "name": "stderr",
     "output_type": "stream",
     "text": [
      "\r\n",
      "Map: 100%|██████████| 1000/1000 [00:01<00:00, 981.75 examples/s]"
     ]
    },
    {
     "name": "stderr",
     "output_type": "stream",
     "text": [
      "\r\n",
      "Map: 100%|██████████| 1000/1000 [00:01<00:00, 976.81 examples/s]"
     ]
    },
    {
     "name": "stderr",
     "output_type": "stream",
     "text": [
      "\n"
     ]
    },
    {
     "data": {
      "text/html": [],
      "text/plain": [
       "<IPython.core.display.HTML object>"
      ]
     },
     "metadata": {},
     "output_type": "display_data"
    },
    {
     "name": "stderr",
     "output_type": "stream",
     "text": [
      "/scistor/guest/lre040/miniconda3/lib/python3.13/site-packages/seqeval/metrics/v1.py:57: UndefinedMetricWarning: Recall and F-score are ill-defined and being set to 0.0 in labels with no true samples. Use `zero_division` parameter to control this behavior.\n",
      "  _warn_prf(average, modifier, msg_start, len(result))\n"
     ]
    },
    {
     "name": "stderr",
     "output_type": "stream",
     "text": [
      "\r\n",
      "Map:   0%|          | 0/1000 [00:00<?, ? examples/s]"
     ]
    },
    {
     "name": "stderr",
     "output_type": "stream",
     "text": [
      "\r\n",
      "Map: 100%|██████████| 1000/1000 [00:00<00:00, 8611.46 examples/s]"
     ]
    },
    {
     "name": "stderr",
     "output_type": "stream",
     "text": [
      "\r\n",
      "Map: 100%|██████████| 1000/1000 [00:00<00:00, 8373.82 examples/s]"
     ]
    },
    {
     "name": "stderr",
     "output_type": "stream",
     "text": [
      "\n"
     ]
    },
    {
     "name": "stdout",
     "output_type": "stream",
     "text": [
      "              precision    recall  f1-score   support\n",
      "\n",
      "       B-LOC       0.00      0.00      0.00         0\n",
      "       B-ORG       0.00      0.00      0.00         0\n",
      "       B-PER       1.00      0.97      0.99      1164\n",
      "       I-LOC       0.00      0.00      0.00         0\n",
      "       I-PER       1.00      1.00      1.00         2\n",
      "           O       1.00      0.98      0.99      9624\n",
      "\n",
      "    accuracy                           0.98     10790\n",
      "   macro avg       0.50      0.49      0.50     10790\n",
      "weighted avg       1.00      0.98      0.99     10790\n",
      "\n",
      "\n",
      "------------------------------\n",
      "evaluating Africa_ner_challenge.csv\n"
     ]
    },
    {
     "name": "stderr",
     "output_type": "stream",
     "text": [
      "\r\n",
      "Map:   0%|          | 0/1000 [00:00<?, ? examples/s]"
     ]
    },
    {
     "name": "stderr",
     "output_type": "stream",
     "text": [
      "\r\n",
      "Map: 100%|██████████| 1000/1000 [00:00<00:00, 7277.42 examples/s]"
     ]
    },
    {
     "name": "stderr",
     "output_type": "stream",
     "text": [
      "\r\n",
      "Map: 100%|██████████| 1000/1000 [00:00<00:00, 7016.00 examples/s]"
     ]
    },
    {
     "name": "stderr",
     "output_type": "stream",
     "text": [
      "\n"
     ]
    },
    {
     "data": {
      "text/html": [],
      "text/plain": [
       "<IPython.core.display.HTML object>"
      ]
     },
     "metadata": {},
     "output_type": "display_data"
    },
    {
     "name": "stderr",
     "output_type": "stream",
     "text": [
      "/scistor/guest/lre040/miniconda3/lib/python3.13/site-packages/seqeval/metrics/v1.py:57: UndefinedMetricWarning: Recall and F-score are ill-defined and being set to 0.0 in labels with no true samples. Use `zero_division` parameter to control this behavior.\n",
      "  _warn_prf(average, modifier, msg_start, len(result))\n"
     ]
    },
    {
     "name": "stderr",
     "output_type": "stream",
     "text": [
      "\r\n",
      "Map:   0%|          | 0/1000 [00:00<?, ? examples/s]"
     ]
    },
    {
     "name": "stderr",
     "output_type": "stream",
     "text": [
      "\r\n",
      "Map: 100%|██████████| 1000/1000 [00:00<00:00, 8508.04 examples/s]"
     ]
    },
    {
     "name": "stderr",
     "output_type": "stream",
     "text": [
      "\r\n",
      "Map: 100%|██████████| 1000/1000 [00:00<00:00, 8260.94 examples/s]"
     ]
    },
    {
     "name": "stderr",
     "output_type": "stream",
     "text": [
      "\n"
     ]
    },
    {
     "name": "stdout",
     "output_type": "stream",
     "text": [
      "              precision    recall  f1-score   support\n",
      "\n",
      "       B-LOC       0.00      0.00      0.00         0\n",
      "      B-MISC       0.00      0.00      0.00         0\n",
      "       B-ORG       0.00      0.00      0.00         0\n",
      "       B-PER       1.00      0.96      0.98      1163\n",
      "       I-LOC       0.00      0.00      0.00         0\n",
      "       I-PER       1.00      1.00      1.00         9\n",
      "           O       1.00      0.98      0.99      9682\n",
      "\n",
      "    accuracy                           0.98     10854\n",
      "   macro avg       0.43      0.42      0.42     10854\n",
      "weighted avg       1.00      0.98      0.99     10854\n",
      "\n",
      "\n",
      "------------------------------\n",
      "evaluating Asia_ner_challenge.csv\n"
     ]
    },
    {
     "name": "stderr",
     "output_type": "stream",
     "text": [
      "\r\n",
      "Map:   0%|          | 0/1000 [00:00<?, ? examples/s]"
     ]
    },
    {
     "name": "stderr",
     "output_type": "stream",
     "text": [
      "\r\n",
      "Map: 100%|██████████| 1000/1000 [00:00<00:00, 7559.37 examples/s]"
     ]
    },
    {
     "name": "stderr",
     "output_type": "stream",
     "text": [
      "\r\n",
      "Map: 100%|██████████| 1000/1000 [00:00<00:00, 7283.50 examples/s]"
     ]
    },
    {
     "name": "stderr",
     "output_type": "stream",
     "text": [
      "\n"
     ]
    },
    {
     "data": {
      "text/html": [],
      "text/plain": [
       "<IPython.core.display.HTML object>"
      ]
     },
     "metadata": {},
     "output_type": "display_data"
    },
    {
     "name": "stderr",
     "output_type": "stream",
     "text": [
      "/scistor/guest/lre040/miniconda3/lib/python3.13/site-packages/seqeval/metrics/v1.py:57: UndefinedMetricWarning: Recall and F-score are ill-defined and being set to 0.0 in labels with no true samples. Use `zero_division` parameter to control this behavior.\n",
      "  _warn_prf(average, modifier, msg_start, len(result))\n"
     ]
    },
    {
     "name": "stderr",
     "output_type": "stream",
     "text": [
      "\r\n",
      "Map:   0%|          | 0/1000 [00:00<?, ? examples/s]"
     ]
    },
    {
     "name": "stderr",
     "output_type": "stream",
     "text": [
      "\r\n",
      "Map: 100%|██████████| 1000/1000 [00:00<00:00, 8337.12 examples/s]"
     ]
    },
    {
     "name": "stderr",
     "output_type": "stream",
     "text": [
      "\r\n",
      "Map: 100%|██████████| 1000/1000 [00:00<00:00, 8115.79 examples/s]"
     ]
    },
    {
     "name": "stderr",
     "output_type": "stream",
     "text": [
      "\n"
     ]
    },
    {
     "name": "stdout",
     "output_type": "stream",
     "text": [
      "              precision    recall  f1-score   support\n",
      "\n",
      "       B-LOC       0.00      0.00      0.00         0\n",
      "       B-ORG       0.00      0.00      0.00         0\n",
      "       B-PER       0.97      0.97      0.97      1134\n",
      "       I-LOC       0.00      0.00      0.00         0\n",
      "       I-ORG       0.00      0.00      0.00         0\n",
      "       I-PER       0.38      1.00      0.55         6\n",
      "           O       1.00      0.98      0.99      9764\n",
      "\n",
      "    accuracy                           0.97     10904\n",
      "   macro avg       0.34      0.42      0.36     10904\n",
      "weighted avg       1.00      0.97      0.99     10904\n",
      "\n",
      "\n",
      "------------------------------\n",
      "evaluating Europe_ner_challenge.csv\n"
     ]
    },
    {
     "name": "stderr",
     "output_type": "stream",
     "text": [
      "\r\n",
      "Map:   0%|          | 0/1000 [00:00<?, ? examples/s]"
     ]
    },
    {
     "name": "stderr",
     "output_type": "stream",
     "text": [
      "\r\n",
      "Map: 100%|██████████| 1000/1000 [00:00<00:00, 7511.20 examples/s]"
     ]
    },
    {
     "name": "stderr",
     "output_type": "stream",
     "text": [
      "\r\n",
      "Map: 100%|██████████| 1000/1000 [00:00<00:00, 7213.85 examples/s]"
     ]
    },
    {
     "name": "stderr",
     "output_type": "stream",
     "text": [
      "\n"
     ]
    },
    {
     "data": {
      "text/html": [],
      "text/plain": [
       "<IPython.core.display.HTML object>"
      ]
     },
     "metadata": {},
     "output_type": "display_data"
    },
    {
     "name": "stderr",
     "output_type": "stream",
     "text": [
      "/scistor/guest/lre040/miniconda3/lib/python3.13/site-packages/seqeval/metrics/v1.py:57: UndefinedMetricWarning: Recall and F-score are ill-defined and being set to 0.0 in labels with no true samples. Use `zero_division` parameter to control this behavior.\n",
      "  _warn_prf(average, modifier, msg_start, len(result))\n"
     ]
    },
    {
     "name": "stderr",
     "output_type": "stream",
     "text": [
      "\r\n",
      "Map:   0%|          | 0/1000 [00:00<?, ? examples/s]"
     ]
    },
    {
     "name": "stderr",
     "output_type": "stream",
     "text": [
      "\r\n",
      "Map: 100%|██████████| 1000/1000 [00:00<00:00, 8468.76 examples/s]"
     ]
    },
    {
     "name": "stderr",
     "output_type": "stream",
     "text": [
      "\r\n",
      "Map: 100%|██████████| 1000/1000 [00:00<00:00, 8234.88 examples/s]"
     ]
    },
    {
     "name": "stderr",
     "output_type": "stream",
     "text": [
      "\n"
     ]
    },
    {
     "name": "stdout",
     "output_type": "stream",
     "text": [
      "              precision    recall  f1-score   support\n",
      "\n",
      "       B-LOC       0.00      0.00      0.00         0\n",
      "       B-ORG       0.00      0.00      0.00         0\n",
      "       B-PER       1.00      0.97      0.98      1136\n",
      "       I-LOC       0.00      0.00      0.00         0\n",
      "           O       1.00      0.98      0.99      9682\n",
      "\n",
      "    accuracy                           0.98     10818\n",
      "   macro avg       0.40      0.39      0.39     10818\n",
      "weighted avg       1.00      0.98      0.99     10818\n",
      "\n",
      "\n",
      "------------------------------\n",
      "evaluating Oceania_ner_challenge.csv\n"
     ]
    },
    {
     "name": "stderr",
     "output_type": "stream",
     "text": [
      "\r\n",
      "Map:   0%|          | 0/1000 [00:00<?, ? examples/s]"
     ]
    },
    {
     "name": "stderr",
     "output_type": "stream",
     "text": [
      "\r\n",
      "Map: 100%|██████████| 1000/1000 [00:00<00:00, 7705.15 examples/s]"
     ]
    },
    {
     "name": "stderr",
     "output_type": "stream",
     "text": [
      "\r\n",
      "Map: 100%|██████████| 1000/1000 [00:00<00:00, 7417.38 examples/s]"
     ]
    },
    {
     "name": "stderr",
     "output_type": "stream",
     "text": [
      "\n"
     ]
    },
    {
     "data": {
      "text/html": [],
      "text/plain": [
       "<IPython.core.display.HTML object>"
      ]
     },
     "metadata": {},
     "output_type": "display_data"
    },
    {
     "name": "stderr",
     "output_type": "stream",
     "text": [
      "/scistor/guest/lre040/miniconda3/lib/python3.13/site-packages/seqeval/metrics/v1.py:57: UndefinedMetricWarning: Recall and F-score are ill-defined and being set to 0.0 in labels with no true samples. Use `zero_division` parameter to control this behavior.\n",
      "  _warn_prf(average, modifier, msg_start, len(result))\n"
     ]
    },
    {
     "name": "stderr",
     "output_type": "stream",
     "text": [
      "\r\n",
      "Map:   0%|          | 0/1000 [00:00<?, ? examples/s]"
     ]
    },
    {
     "name": "stderr",
     "output_type": "stream",
     "text": [
      "\r\n",
      "Map: 100%|██████████| 1000/1000 [00:00<00:00, 8673.34 examples/s]"
     ]
    },
    {
     "name": "stderr",
     "output_type": "stream",
     "text": [
      "\r\n",
      "Map: 100%|██████████| 1000/1000 [00:00<00:00, 8431.34 examples/s]"
     ]
    },
    {
     "name": "stderr",
     "output_type": "stream",
     "text": [
      "\n"
     ]
    },
    {
     "name": "stdout",
     "output_type": "stream",
     "text": [
      "              precision    recall  f1-score   support\n",
      "\n",
      "       B-LOC       0.00      0.00      0.00         0\n",
      "       B-ORG       0.00      0.00      0.00         0\n",
      "       B-PER       1.00      0.91      0.95      1148\n",
      "       I-LOC       0.00      0.00      0.00         0\n",
      "           O       1.00      0.98      0.99      9548\n",
      "\n",
      "    accuracy                           0.97     10696\n",
      "   macro avg       0.40      0.38      0.39     10696\n",
      "weighted avg       1.00      0.97      0.99     10696\n",
      "\n",
      "\n",
      "------------------------------\n"
     ]
    }
   ],
   "source": [
    "for x in list(continent_to_code.keys()):\n",
    "    evaluate_csv(x+'_ner_challenge.csv')"
   ]
  },
  {
   "cell_type": "code",
   "execution_count": 29,
   "id": "fb2fde83-63c8-4b9f-8e0d-d84901a1491f",
   "metadata": {
    "execution": {
     "iopub.execute_input": "2025-06-14T18:03:14.316854Z",
     "iopub.status.busy": "2025-06-14T18:03:14.316424Z",
     "iopub.status.idle": "2025-06-14T18:03:16.822856Z",
     "shell.execute_reply": "2025-06-14T18:03:16.822335Z"
    }
   },
   "outputs": [
    {
     "name": "stdout",
     "output_type": "stream",
     "text": [
      "evaluating ./common_nouns_challenge.csv\n"
     ]
    },
    {
     "name": "stderr",
     "output_type": "stream",
     "text": [
      "\r\n",
      "Map:   0%|          | 0/1000 [00:00<?, ? examples/s]"
     ]
    },
    {
     "name": "stderr",
     "output_type": "stream",
     "text": [
      "\r\n",
      "Map: 100%|██████████| 1000/1000 [00:00<00:00, 7812.19 examples/s]"
     ]
    },
    {
     "name": "stderr",
     "output_type": "stream",
     "text": [
      "\r\n",
      "Map: 100%|██████████| 1000/1000 [00:00<00:00, 7495.83 examples/s]"
     ]
    },
    {
     "name": "stderr",
     "output_type": "stream",
     "text": [
      "\n"
     ]
    },
    {
     "data": {
      "text/html": [],
      "text/plain": [
       "<IPython.core.display.HTML object>"
      ]
     },
     "metadata": {},
     "output_type": "display_data"
    },
    {
     "name": "stderr",
     "output_type": "stream",
     "text": [
      "/scistor/guest/lre040/miniconda3/lib/python3.13/site-packages/seqeval/metrics/v1.py:57: UndefinedMetricWarning: Recall and F-score are ill-defined and being set to 0.0 in labels with no true samples. Use `zero_division` parameter to control this behavior.\n",
      "  _warn_prf(average, modifier, msg_start, len(result))\n"
     ]
    },
    {
     "name": "stderr",
     "output_type": "stream",
     "text": [
      "\r\n",
      "Map:   0%|          | 0/1000 [00:00<?, ? examples/s]"
     ]
    },
    {
     "name": "stderr",
     "output_type": "stream",
     "text": [
      "\r\n",
      "Map: 100%|██████████| 1000/1000 [00:00<00:00, 8682.39 examples/s]"
     ]
    },
    {
     "name": "stderr",
     "output_type": "stream",
     "text": [
      "\r\n",
      "Map: 100%|██████████| 1000/1000 [00:00<00:00, 8448.88 examples/s]"
     ]
    },
    {
     "name": "stderr",
     "output_type": "stream",
     "text": [
      "\n"
     ]
    },
    {
     "name": "stdout",
     "output_type": "stream",
     "text": [
      "              precision    recall  f1-score   support\n",
      "\n",
      "       B-LOC       0.00      0.00      0.00         0\n",
      "       B-ORG       0.00      0.00      0.00         0\n",
      "       B-PER       1.00      0.94      0.97      1168\n",
      "           O       1.00      1.00      1.00      9336\n",
      "\n",
      "    accuracy                           0.99     10504\n",
      "   macro avg       0.50      0.49      0.49     10504\n",
      "weighted avg       1.00      0.99      1.00     10504\n",
      "\n",
      "\n",
      "------------------------------\n"
     ]
    }
   ],
   "source": [
    "evaluate_csv('./common_nouns_challenge.csv', True)"
   ]
  },
  {
   "cell_type": "code",
   "execution_count": 30,
   "id": "7a4dd316-8556-4f45-8bcc-03c5da965b9f",
   "metadata": {
    "execution": {
     "iopub.execute_input": "2025-06-14T18:03:16.824986Z",
     "iopub.status.busy": "2025-06-14T18:03:16.824745Z",
     "iopub.status.idle": "2025-06-14T18:46:40.525223Z",
     "shell.execute_reply": "2025-06-14T18:46:40.524596Z"
    },
    "scrolled": true
   },
   "outputs": [
    {
     "name": "stderr",
     "output_type": "stream",
     "text": [
      "Some weights of BertForTokenClassification were not initialized from the model checkpoint at bert-base-cased and are newly initialized: ['classifier.bias', 'classifier.weight']\n",
      "You should probably TRAIN this model on a down-stream task to be able to use it for predictions and inference.\n"
     ]
    },
    {
     "name": "stderr",
     "output_type": "stream",
     "text": [
      "/scratch/1051127/ipykernel_196401/2779880192.py:29: FutureWarning: `tokenizer` is deprecated and will be removed in version 5.0.0 for `Trainer.__init__`. Use `processing_class` instead.\n",
      "  seed_trainer = Trainer(\n"
     ]
    },
    {
     "data": {
      "text/html": [
       "\n",
       "    <div>\n",
       "      \n",
       "      <progress value='3114' max='3114' style='width:300px; height:20px; vertical-align: middle;'></progress>\n",
       "      [3114/3114 04:32, Epoch 3/3]\n",
       "    </div>\n",
       "    <table border=\"1\" class=\"dataframe\">\n",
       "  <thead>\n",
       " <tr style=\"text-align: left;\">\n",
       "      <th>Step</th>\n",
       "      <th>Training Loss</th>\n",
       "    </tr>\n",
       "  </thead>\n",
       "  <tbody>\n",
       "    <tr>\n",
       "      <td>1000</td>\n",
       "      <td>0.176400</td>\n",
       "    </tr>\n",
       "    <tr>\n",
       "      <td>2000</td>\n",
       "      <td>0.052300</td>\n",
       "    </tr>\n",
       "    <tr>\n",
       "      <td>3000</td>\n",
       "      <td>0.031200</td>\n",
       "    </tr>\n",
       "  </tbody>\n",
       "</table><p>"
      ],
      "text/plain": [
       "<IPython.core.display.HTML object>"
      ]
     },
     "metadata": {},
     "output_type": "display_data"
    },
    {
     "data": {
      "text/html": [],
      "text/plain": [
       "<IPython.core.display.HTML object>"
      ]
     },
     "metadata": {},
     "output_type": "display_data"
    },
    {
     "name": "stderr",
     "output_type": "stream",
     "text": [
      "\r\n",
      "Map:   0%|          | 0/61371 [00:00<?, ? examples/s]"
     ]
    },
    {
     "name": "stderr",
     "output_type": "stream",
     "text": [
      "\r\n",
      "Map:   1%|          | 695/61371 [00:00<00:08, 6875.55 examples/s]"
     ]
    },
    {
     "name": "stderr",
     "output_type": "stream",
     "text": [
      "\r\n",
      "Map:   3%|▎         | 1598/61371 [00:00<00:10, 5634.68 examples/s]"
     ]
    },
    {
     "name": "stderr",
     "output_type": "stream",
     "text": [
      "\r\n",
      "Map:   4%|▍         | 2441/61371 [00:00<00:10, 5360.98 examples/s]"
     ]
    },
    {
     "name": "stderr",
     "output_type": "stream",
     "text": [
      "\r\n",
      "Map:   5%|▍         | 3000/61371 [00:00<00:10, 5348.57 examples/s]"
     ]
    },
    {
     "name": "stderr",
     "output_type": "stream",
     "text": [
      "\r\n",
      "Map:   6%|▋         | 3875/61371 [00:00<00:09, 6349.27 examples/s]"
     ]
    },
    {
     "name": "stderr",
     "output_type": "stream",
     "text": [
      "\r\n",
      "Map:   8%|▊         | 4936/61371 [00:00<00:08, 6510.32 examples/s]"
     ]
    },
    {
     "name": "stderr",
     "output_type": "stream",
     "text": [
      "\r\n",
      "Map:   9%|▉         | 5781/61371 [00:00<00:08, 6198.78 examples/s]"
     ]
    },
    {
     "name": "stderr",
     "output_type": "stream",
     "text": [
      "\r\n",
      "Map:  11%|█         | 6794/61371 [00:01<00:08, 6085.19 examples/s]"
     ]
    },
    {
     "name": "stderr",
     "output_type": "stream",
     "text": [
      "\r\n",
      "Map:  12%|█▏        | 7540/61371 [00:01<00:09, 5492.70 examples/s]"
     ]
    },
    {
     "name": "stderr",
     "output_type": "stream",
     "text": [
      "\r\n",
      "Map:  14%|█▍        | 8445/61371 [00:01<00:10, 5229.55 examples/s]"
     ]
    },
    {
     "name": "stderr",
     "output_type": "stream",
     "text": [
      "\r\n",
      "Map:  15%|█▍        | 9000/61371 [00:01<00:10, 5220.72 examples/s]"
     ]
    },
    {
     "name": "stderr",
     "output_type": "stream",
     "text": [
      "\r\n",
      "Map:  16%|█▌        | 9776/61371 [00:01<00:08, 5796.57 examples/s]"
     ]
    },
    {
     "name": "stderr",
     "output_type": "stream",
     "text": [
      "\r\n",
      "Map:  17%|█▋        | 10418/61371 [00:01<00:09, 5631.24 examples/s]"
     ]
    },
    {
     "name": "stderr",
     "output_type": "stream",
     "text": [
      "\r\n",
      "Map:  18%|█▊        | 11000/61371 [00:01<00:09, 5518.57 examples/s]"
     ]
    },
    {
     "name": "stderr",
     "output_type": "stream",
     "text": [
      "\r\n",
      "Map:  19%|█▉        | 11658/61371 [00:02<00:08, 5788.94 examples/s]"
     ]
    },
    {
     "name": "stderr",
     "output_type": "stream",
     "text": [
      "\r\n",
      "Map:  20%|██        | 12407/61371 [00:02<00:08, 5503.16 examples/s]"
     ]
    },
    {
     "name": "stderr",
     "output_type": "stream",
     "text": [
      "\r\n",
      "Map:  21%|██        | 13000/61371 [00:02<00:09, 5340.51 examples/s]"
     ]
    },
    {
     "name": "stderr",
     "output_type": "stream",
     "text": [
      "\r\n",
      "Map:  23%|██▎       | 13865/61371 [00:02<00:07, 6183.03 examples/s]"
     ]
    },
    {
     "name": "stderr",
     "output_type": "stream",
     "text": [
      "\r\n",
      "Map:  24%|██▍       | 14793/61371 [00:02<00:07, 6081.49 examples/s]"
     ]
    },
    {
     "name": "stderr",
     "output_type": "stream",
     "text": [
      "\r\n",
      "Map:  26%|██▌       | 15718/61371 [00:02<00:07, 5851.98 examples/s]"
     ]
    },
    {
     "name": "stderr",
     "output_type": "stream",
     "text": [
      "\r\n",
      "Map:  27%|██▋       | 16386/61371 [00:02<00:08, 5575.11 examples/s]"
     ]
    },
    {
     "name": "stderr",
     "output_type": "stream",
     "text": [
      "\r\n",
      "Map:  28%|██▊       | 17000/61371 [00:02<00:08, 5415.22 examples/s]"
     ]
    },
    {
     "name": "stderr",
     "output_type": "stream",
     "text": [
      "\r\n",
      "Map:  29%|██▉       | 17771/61371 [00:03<00:07, 5965.48 examples/s]"
     ]
    },
    {
     "name": "stderr",
     "output_type": "stream",
     "text": [
      "\r\n",
      "Map:  31%|███       | 18757/61371 [00:03<00:07, 5861.81 examples/s]"
     ]
    },
    {
     "name": "stderr",
     "output_type": "stream",
     "text": [
      "\r\n",
      "Map:  32%|███▏      | 19379/61371 [00:03<00:07, 5620.81 examples/s]"
     ]
    },
    {
     "name": "stderr",
     "output_type": "stream",
     "text": [
      "\r\n",
      "Map:  33%|███▎      | 20000/61371 [00:03<00:07, 5428.41 examples/s]"
     ]
    },
    {
     "name": "stderr",
     "output_type": "stream",
     "text": [
      "\r\n",
      "Map:  34%|███▍      | 20775/61371 [00:03<00:06, 5995.24 examples/s]"
     ]
    },
    {
     "name": "stderr",
     "output_type": "stream",
     "text": [
      "\r\n",
      "Map:  35%|███▌      | 21653/61371 [00:03<00:07, 5673.45 examples/s]"
     ]
    },
    {
     "name": "stderr",
     "output_type": "stream",
     "text": [
      "\r\n",
      "Map:  37%|███▋      | 22416/61371 [00:03<00:07, 5468.41 examples/s]"
     ]
    },
    {
     "name": "stderr",
     "output_type": "stream",
     "text": [
      "\r\n",
      "Map:  37%|███▋      | 23000/61371 [00:04<00:07, 5377.70 examples/s]"
     ]
    },
    {
     "name": "stderr",
     "output_type": "stream",
     "text": [
      "\r\n",
      "Map:  39%|███▉      | 23783/61371 [00:04<00:06, 5972.63 examples/s]"
     ]
    },
    {
     "name": "stderr",
     "output_type": "stream",
     "text": [
      "\r\n",
      "Map:  40%|████      | 24762/61371 [00:04<00:06, 5862.79 examples/s]"
     ]
    },
    {
     "name": "stderr",
     "output_type": "stream",
     "text": [
      "\r\n",
      "Map:  41%|████▏     | 25400/61371 [00:04<00:06, 5659.12 examples/s]"
     ]
    },
    {
     "name": "stderr",
     "output_type": "stream",
     "text": [
      "\r\n",
      "Map:  42%|████▏     | 26000/61371 [00:04<00:06, 5499.20 examples/s]"
     ]
    },
    {
     "name": "stderr",
     "output_type": "stream",
     "text": [
      "\r\n",
      "Map:  43%|████▎     | 26596/61371 [00:04<00:06, 5610.68 examples/s]"
     ]
    },
    {
     "name": "stderr",
     "output_type": "stream",
     "text": [
      "\r\n",
      "Map:  45%|████▍     | 27378/61371 [00:04<00:06, 5266.60 examples/s]"
     ]
    },
    {
     "name": "stderr",
     "output_type": "stream",
     "text": [
      "\r\n",
      "Map:  46%|████▌     | 28000/61371 [00:04<00:06, 5142.26 examples/s]"
     ]
    },
    {
     "name": "stderr",
     "output_type": "stream",
     "text": [
      "\r\n",
      "Map:  47%|████▋     | 28850/61371 [00:05<00:05, 5960.98 examples/s]"
     ]
    },
    {
     "name": "stderr",
     "output_type": "stream",
     "text": [
      "\r\n",
      "Map:  49%|████▊     | 29887/61371 [00:05<00:05, 6151.10 examples/s]"
     ]
    },
    {
     "name": "stderr",
     "output_type": "stream",
     "text": [
      "\r\n",
      "Map:  50%|█████     | 30754/61371 [00:05<00:05, 5963.75 examples/s]"
     ]
    },
    {
     "name": "stderr",
     "output_type": "stream",
     "text": [
      "\r\n",
      "Map:  51%|█████     | 31379/61371 [00:05<00:05, 5652.77 examples/s]"
     ]
    },
    {
     "name": "stderr",
     "output_type": "stream",
     "text": [
      "\r\n",
      "Map:  52%|█████▏    | 32000/61371 [00:05<00:05, 5481.30 examples/s]"
     ]
    },
    {
     "name": "stderr",
     "output_type": "stream",
     "text": [
      "\r\n",
      "Map:  53%|█████▎    | 32704/61371 [00:05<00:04, 5860.02 examples/s]"
     ]
    },
    {
     "name": "stderr",
     "output_type": "stream",
     "text": [
      "\r\n",
      "Map:  55%|█████▍    | 33569/61371 [00:05<00:05, 5356.29 examples/s]"
     ]
    },
    {
     "name": "stderr",
     "output_type": "stream",
     "text": [
      "\r\n",
      "Map:  56%|█████▌    | 34404/61371 [00:06<00:05, 5100.98 examples/s]"
     ]
    },
    {
     "name": "stderr",
     "output_type": "stream",
     "text": [
      "\r\n",
      "Map:  57%|█████▋    | 35000/61371 [00:06<00:05, 5131.67 examples/s]"
     ]
    },
    {
     "name": "stderr",
     "output_type": "stream",
     "text": [
      "\r\n",
      "Map:  58%|█████▊    | 35791/61371 [00:06<00:04, 5774.82 examples/s]"
     ]
    },
    {
     "name": "stderr",
     "output_type": "stream",
     "text": [
      "\r\n",
      "Map:  59%|█████▉    | 36442/61371 [00:06<00:04, 5645.64 examples/s]"
     ]
    },
    {
     "name": "stderr",
     "output_type": "stream",
     "text": [
      "\r\n",
      "Map:  61%|██████    | 37404/61371 [00:06<00:04, 5812.26 examples/s]"
     ]
    },
    {
     "name": "stderr",
     "output_type": "stream",
     "text": [
      "\r\n",
      "Map:  62%|██████▏   | 38000/61371 [00:06<00:04, 5614.13 examples/s]"
     ]
    },
    {
     "name": "stderr",
     "output_type": "stream",
     "text": [
      "\r\n",
      "Map:  63%|██████▎   | 38787/61371 [00:06<00:03, 6168.38 examples/s]"
     ]
    },
    {
     "name": "stderr",
     "output_type": "stream",
     "text": [
      "\r\n",
      "Map:  65%|██████▍   | 39741/61371 [00:06<00:03, 5983.03 examples/s]"
     ]
    },
    {
     "name": "stderr",
     "output_type": "stream",
     "text": [
      "\r\n",
      "Map:  66%|██████▌   | 40620/61371 [00:07<00:03, 5585.66 examples/s]"
     ]
    },
    {
     "name": "stderr",
     "output_type": "stream",
     "text": [
      "\r\n",
      "Map:  68%|██████▊   | 41470/61371 [00:07<00:03, 5481.11 examples/s]"
     ]
    },
    {
     "name": "stderr",
     "output_type": "stream",
     "text": [
      "\r\n",
      "Map:  69%|██████▉   | 42446/61371 [00:07<00:03, 5782.47 examples/s]"
     ]
    },
    {
     "name": "stderr",
     "output_type": "stream",
     "text": [
      "\r\n",
      "Map:  71%|███████   | 43366/61371 [00:07<00:03, 5808.90 examples/s]"
     ]
    },
    {
     "name": "stderr",
     "output_type": "stream",
     "text": [
      "\r\n",
      "Map:  72%|███████▏  | 44000/61371 [00:07<00:03, 5515.43 examples/s]"
     ]
    },
    {
     "name": "stderr",
     "output_type": "stream",
     "text": [
      "\r\n",
      "Map:  73%|███████▎  | 44571/61371 [00:07<00:03, 5555.54 examples/s]"
     ]
    },
    {
     "name": "stderr",
     "output_type": "stream",
     "text": [
      "\r\n",
      "Map:  74%|███████▍  | 45397/61371 [00:08<00:03, 5248.99 examples/s]"
     ]
    },
    {
     "name": "stderr",
     "output_type": "stream",
     "text": [
      "\r\n",
      "Map:  75%|███████▍  | 46000/61371 [00:08<00:02, 5218.51 examples/s]"
     ]
    },
    {
     "name": "stderr",
     "output_type": "stream",
     "text": [
      "\r\n",
      "Map:  76%|███████▌  | 46743/61371 [00:08<00:02, 5742.90 examples/s]"
     ]
    },
    {
     "name": "stderr",
     "output_type": "stream",
     "text": [
      "\r\n",
      "Map:  78%|███████▊  | 47666/61371 [00:08<00:02, 5548.69 examples/s]"
     ]
    },
    {
     "name": "stderr",
     "output_type": "stream",
     "text": [
      "\r\n",
      "Map:  79%|███████▉  | 48412/61371 [00:08<00:02, 5366.67 examples/s]"
     ]
    },
    {
     "name": "stderr",
     "output_type": "stream",
     "text": [
      "\r\n",
      "Map:  80%|███████▉  | 49000/61371 [00:08<00:02, 5236.47 examples/s]"
     ]
    },
    {
     "name": "stderr",
     "output_type": "stream",
     "text": [
      "\r\n",
      "Map:  81%|████████  | 49615/61371 [00:08<00:02, 5450.73 examples/s]"
     ]
    },
    {
     "name": "stderr",
     "output_type": "stream",
     "text": [
      "\r\n",
      "Map:  82%|████████▏ | 50342/61371 [00:08<00:02, 5168.44 examples/s]"
     ]
    },
    {
     "name": "stderr",
     "output_type": "stream",
     "text": [
      "\r\n",
      "Map:  83%|████████▎ | 51000/61371 [00:09<00:02, 5016.65 examples/s]"
     ]
    },
    {
     "name": "stderr",
     "output_type": "stream",
     "text": [
      "\r\n",
      "Map:  84%|████████▍ | 51731/61371 [00:09<00:01, 5560.68 examples/s]"
     ]
    },
    {
     "name": "stderr",
     "output_type": "stream",
     "text": [
      "\r\n",
      "Map:  85%|████████▌ | 52429/61371 [00:09<00:01, 5443.89 examples/s]"
     ]
    },
    {
     "name": "stderr",
     "output_type": "stream",
     "text": [
      "\r\n",
      "Map:  86%|████████▋ | 53000/61371 [00:09<00:01, 5411.23 examples/s]"
     ]
    },
    {
     "name": "stderr",
     "output_type": "stream",
     "text": [
      "\r\n",
      "Map:  88%|████████▊ | 53787/61371 [00:09<00:01, 6047.04 examples/s]"
     ]
    },
    {
     "name": "stderr",
     "output_type": "stream",
     "text": [
      "\r\n",
      "Map:  89%|████████▉ | 54654/61371 [00:09<00:01, 5676.46 examples/s]"
     ]
    },
    {
     "name": "stderr",
     "output_type": "stream",
     "text": [
      "\r\n",
      "Map:  90%|█████████ | 55450/61371 [00:09<00:01, 5553.51 examples/s]"
     ]
    },
    {
     "name": "stderr",
     "output_type": "stream",
     "text": [
      "\r\n",
      "Map:  92%|█████████▏| 56409/61371 [00:10<00:00, 5767.90 examples/s]"
     ]
    },
    {
     "name": "stderr",
     "output_type": "stream",
     "text": [
      "\r\n",
      "Map:  93%|█████████▎| 57000/61371 [00:10<00:00, 5602.81 examples/s]"
     ]
    },
    {
     "name": "stderr",
     "output_type": "stream",
     "text": [
      "\r\n",
      "Map:  94%|█████████▍| 57715/61371 [00:10<00:00, 5975.25 examples/s]"
     ]
    },
    {
     "name": "stderr",
     "output_type": "stream",
     "text": [
      "\r\n",
      "Map:  95%|█████████▌| 58555/61371 [00:10<00:00, 5396.29 examples/s]"
     ]
    },
    {
     "name": "stderr",
     "output_type": "stream",
     "text": [
      "\r\n",
      "Map:  97%|█████████▋| 59412/61371 [00:11<00:01, 1667.32 examples/s]"
     ]
    },
    {
     "name": "stderr",
     "output_type": "stream",
     "text": [
      "\r\n",
      "Map:  98%|█████████▊| 60000/61371 [00:11<00:00, 1994.17 examples/s]"
     ]
    },
    {
     "name": "stderr",
     "output_type": "stream",
     "text": [
      "\r\n",
      "Map:  99%|█████████▉| 60806/61371 [00:11<00:00, 2626.22 examples/s]"
     ]
    },
    {
     "name": "stderr",
     "output_type": "stream",
     "text": [
      "\r\n",
      "Map: 100%|██████████| 61371/61371 [00:12<00:00, 2404.97 examples/s]"
     ]
    },
    {
     "name": "stderr",
     "output_type": "stream",
     "text": [
      "\r\n",
      "Map: 100%|██████████| 61371/61371 [00:12<00:00, 4894.10 examples/s]"
     ]
    },
    {
     "name": "stderr",
     "output_type": "stream",
     "text": [
      "\n"
     ]
    },
    {
     "name": "stdout",
     "output_type": "stream",
     "text": [
      "              precision    recall  f1-score   support\n",
      "\n",
      "       B-LOC       0.83      0.89      0.86     17495\n",
      "      B-MISC       0.63      0.74      0.68     10657\n",
      "       B-ORG       0.63      0.68      0.65     13041\n",
      "       B-PER       0.90      0.91      0.91     15547\n",
      "       I-LOC       0.71      0.65      0.68      5367\n",
      "      I-MISC       0.65      0.39      0.49      7305\n",
      "       I-ORG       0.91      0.71      0.80     18313\n",
      "       I-PER       0.94      0.87      0.90     11086\n",
      "           O       0.99      0.99      0.99   1011383\n",
      "\n",
      "    accuracy                           0.97   1110194\n",
      "   macro avg       0.80      0.76      0.77   1110194\n",
      "weighted avg       0.97      0.97      0.97   1110194\n",
      "\n"
     ]
    },
    {
     "name": "stderr",
     "output_type": "stream",
     "text": [
      "Some weights of BertForTokenClassification were not initialized from the model checkpoint at bert-base-cased and are newly initialized: ['classifier.bias', 'classifier.weight']\n",
      "You should probably TRAIN this model on a down-stream task to be able to use it for predictions and inference.\n"
     ]
    },
    {
     "name": "stderr",
     "output_type": "stream",
     "text": [
      "/scratch/1051127/ipykernel_196401/2779880192.py:29: FutureWarning: `tokenizer` is deprecated and will be removed in version 5.0.0 for `Trainer.__init__`. Use `processing_class` instead.\n",
      "  seed_trainer = Trainer(\n"
     ]
    },
    {
     "data": {
      "text/html": [
       "\n",
       "    <div>\n",
       "      \n",
       "      <progress value='3114' max='3114' style='width:300px; height:20px; vertical-align: middle;'></progress>\n",
       "      [3114/3114 04:32, Epoch 3/3]\n",
       "    </div>\n",
       "    <table border=\"1\" class=\"dataframe\">\n",
       "  <thead>\n",
       " <tr style=\"text-align: left;\">\n",
       "      <th>Step</th>\n",
       "      <th>Training Loss</th>\n",
       "    </tr>\n",
       "  </thead>\n",
       "  <tbody>\n",
       "    <tr>\n",
       "      <td>1000</td>\n",
       "      <td>0.170900</td>\n",
       "    </tr>\n",
       "    <tr>\n",
       "      <td>2000</td>\n",
       "      <td>0.052100</td>\n",
       "    </tr>\n",
       "    <tr>\n",
       "      <td>3000</td>\n",
       "      <td>0.030700</td>\n",
       "    </tr>\n",
       "  </tbody>\n",
       "</table><p>"
      ],
      "text/plain": [
       "<IPython.core.display.HTML object>"
      ]
     },
     "metadata": {},
     "output_type": "display_data"
    },
    {
     "data": {
      "text/html": [],
      "text/plain": [
       "<IPython.core.display.HTML object>"
      ]
     },
     "metadata": {},
     "output_type": "display_data"
    },
    {
     "name": "stderr",
     "output_type": "stream",
     "text": [
      "\r\n",
      "Map:   0%|          | 0/61371 [00:00<?, ? examples/s]"
     ]
    },
    {
     "name": "stderr",
     "output_type": "stream",
     "text": [
      "\r\n",
      "Map:   1%|▏         | 849/61371 [00:00<00:07, 8394.82 examples/s]"
     ]
    },
    {
     "name": "stderr",
     "output_type": "stream",
     "text": [
      "\r\n",
      "Map:   3%|▎         | 1911/61371 [00:00<00:10, 5911.08 examples/s]"
     ]
    },
    {
     "name": "stderr",
     "output_type": "stream",
     "text": [
      "\r\n",
      "Map:   5%|▍         | 2877/61371 [00:00<00:09, 5901.32 examples/s]"
     ]
    },
    {
     "name": "stderr",
     "output_type": "stream",
     "text": [
      "\r\n",
      "Map:   6%|▋         | 3879/61371 [00:00<00:09, 6104.64 examples/s]"
     ]
    },
    {
     "name": "stderr",
     "output_type": "stream",
     "text": [
      "\r\n",
      "Map:   8%|▊         | 4929/61371 [00:00<00:08, 6322.59 examples/s]"
     ]
    },
    {
     "name": "stderr",
     "output_type": "stream",
     "text": [
      "\r\n",
      "Map:   9%|▉         | 5754/61371 [00:00<00:09, 6038.82 examples/s]"
     ]
    },
    {
     "name": "stderr",
     "output_type": "stream",
     "text": [
      "\r\n",
      "Map:  10%|█         | 6397/61371 [00:01<00:09, 5750.85 examples/s]"
     ]
    },
    {
     "name": "stderr",
     "output_type": "stream",
     "text": [
      "\r\n",
      "Map:  11%|█▏        | 7000/61371 [00:01<00:09, 5577.42 examples/s]"
     ]
    },
    {
     "name": "stderr",
     "output_type": "stream",
     "text": [
      "\r\n",
      "Map:  13%|█▎        | 7799/61371 [00:01<00:09, 5491.79 examples/s]"
     ]
    },
    {
     "name": "stderr",
     "output_type": "stream",
     "text": [
      "\r\n",
      "Map:  14%|█▍        | 8448/61371 [00:01<00:10, 5218.63 examples/s]"
     ]
    },
    {
     "name": "stderr",
     "output_type": "stream",
     "text": [
      "\r\n",
      "Map:  15%|█▍        | 9000/61371 [00:01<00:09, 5238.82 examples/s]"
     ]
    },
    {
     "name": "stderr",
     "output_type": "stream",
     "text": [
      "\r\n",
      "Map:  16%|█▌        | 9760/61371 [00:01<00:08, 5831.30 examples/s]"
     ]
    },
    {
     "name": "stderr",
     "output_type": "stream",
     "text": [
      "\r\n",
      "Map:  17%|█▋        | 10422/61371 [00:01<00:08, 5670.80 examples/s]"
     ]
    },
    {
     "name": "stderr",
     "output_type": "stream",
     "text": [
      "\r\n",
      "Map:  18%|█▊        | 11000/61371 [00:01<00:09, 5535.56 examples/s]"
     ]
    },
    {
     "name": "stderr",
     "output_type": "stream",
     "text": [
      "\r\n",
      "Map:  19%|█▉        | 11652/61371 [00:02<00:08, 5797.65 examples/s]"
     ]
    },
    {
     "name": "stderr",
     "output_type": "stream",
     "text": [
      "\r\n",
      "Map:  20%|██        | 12373/61371 [00:02<00:09, 5435.53 examples/s]"
     ]
    },
    {
     "name": "stderr",
     "output_type": "stream",
     "text": [
      "\r\n",
      "Map:  21%|██        | 13000/61371 [00:02<00:09, 5297.56 examples/s]"
     ]
    },
    {
     "name": "stderr",
     "output_type": "stream",
     "text": [
      "\r\n",
      "Map:  23%|██▎       | 13863/61371 [00:02<00:07, 6150.11 examples/s]"
     ]
    },
    {
     "name": "stderr",
     "output_type": "stream",
     "text": [
      "\r\n",
      "Map:  24%|██▍       | 14788/61371 [00:02<00:07, 6058.98 examples/s]"
     ]
    },
    {
     "name": "stderr",
     "output_type": "stream",
     "text": [
      "\r\n",
      "Map:  26%|██▌       | 15718/61371 [00:02<00:07, 5832.69 examples/s]"
     ]
    },
    {
     "name": "stderr",
     "output_type": "stream",
     "text": [
      "\r\n",
      "Map:  27%|██▋       | 16387/61371 [00:02<00:08, 5568.19 examples/s]"
     ]
    },
    {
     "name": "stderr",
     "output_type": "stream",
     "text": [
      "\r\n",
      "Map:  28%|██▊       | 17000/61371 [00:02<00:08, 5361.60 examples/s]"
     ]
    },
    {
     "name": "stderr",
     "output_type": "stream",
     "text": [
      "\r\n",
      "Map:  29%|██▉       | 17763/61371 [00:03<00:07, 5904.15 examples/s]"
     ]
    },
    {
     "name": "stderr",
     "output_type": "stream",
     "text": [
      "\r\n",
      "Map:  31%|███       | 18737/61371 [00:03<00:07, 5801.19 examples/s]"
     ]
    },
    {
     "name": "stderr",
     "output_type": "stream",
     "text": [
      "\r\n",
      "Map:  32%|███▏      | 19372/61371 [00:03<00:07, 5528.01 examples/s]"
     ]
    },
    {
     "name": "stderr",
     "output_type": "stream",
     "text": [
      "\r\n",
      "Map:  33%|███▎      | 20000/61371 [00:03<00:07, 5365.24 examples/s]"
     ]
    },
    {
     "name": "stderr",
     "output_type": "stream",
     "text": [
      "\r\n",
      "Map:  34%|███▍      | 20786/61371 [00:03<00:06, 5968.22 examples/s]"
     ]
    },
    {
     "name": "stderr",
     "output_type": "stream",
     "text": [
      "\r\n",
      "Map:  35%|███▌      | 21645/61371 [00:03<00:07, 5621.57 examples/s]"
     ]
    },
    {
     "name": "stderr",
     "output_type": "stream",
     "text": [
      "\r\n",
      "Map:  37%|███▋      | 22408/61371 [00:03<00:07, 5418.04 examples/s]"
     ]
    },
    {
     "name": "stderr",
     "output_type": "stream",
     "text": [
      "\r\n",
      "Map:  37%|███▋      | 23000/61371 [00:04<00:07, 5348.96 examples/s]"
     ]
    },
    {
     "name": "stderr",
     "output_type": "stream",
     "text": [
      "\r\n",
      "Map:  39%|███▊      | 23780/61371 [00:04<00:06, 5941.76 examples/s]"
     ]
    },
    {
     "name": "stderr",
     "output_type": "stream",
     "text": [
      "\r\n",
      "Map:  40%|████      | 24761/61371 [00:04<00:06, 5820.93 examples/s]"
     ]
    },
    {
     "name": "stderr",
     "output_type": "stream",
     "text": [
      "\r\n",
      "Map:  41%|████▏     | 25397/61371 [00:04<00:06, 5632.75 examples/s]"
     ]
    },
    {
     "name": "stderr",
     "output_type": "stream",
     "text": [
      "\r\n",
      "Map:  42%|████▏     | 26000/61371 [00:04<00:06, 5506.11 examples/s]"
     ]
    },
    {
     "name": "stderr",
     "output_type": "stream",
     "text": [
      "\r\n",
      "Map:  43%|████▎     | 26578/61371 [00:04<00:06, 5571.83 examples/s]"
     ]
    },
    {
     "name": "stderr",
     "output_type": "stream",
     "text": [
      "\r\n",
      "Map:  45%|████▍     | 27381/61371 [00:04<00:06, 5238.60 examples/s]"
     ]
    },
    {
     "name": "stderr",
     "output_type": "stream",
     "text": [
      "\r\n",
      "Map:  46%|████▌     | 28000/61371 [00:04<00:06, 5141.82 examples/s]"
     ]
    },
    {
     "name": "stderr",
     "output_type": "stream",
     "text": [
      "\r\n",
      "Map:  47%|████▋     | 28828/61371 [00:05<00:05, 5905.60 examples/s]"
     ]
    },
    {
     "name": "stderr",
     "output_type": "stream",
     "text": [
      "\r\n",
      "Map:  48%|████▊     | 29445/61371 [00:05<00:05, 5783.48 examples/s]"
     ]
    },
    {
     "name": "stderr",
     "output_type": "stream",
     "text": [
      "\r\n",
      "Map:  50%|████▉     | 30380/61371 [00:05<00:05, 5841.81 examples/s]"
     ]
    },
    {
     "name": "stderr",
     "output_type": "stream",
     "text": [
      "\r\n",
      "Map:  51%|█████     | 31000/61371 [00:05<00:05, 5585.35 examples/s]"
     ]
    },
    {
     "name": "stderr",
     "output_type": "stream",
     "text": [
      "\r\n",
      "Map:  52%|█████▏    | 31776/61371 [00:05<00:04, 6126.63 examples/s]"
     ]
    },
    {
     "name": "stderr",
     "output_type": "stream",
     "text": [
      "\r\n",
      "Map:  53%|█████▎    | 32715/61371 [00:05<00:04, 5921.42 examples/s]"
     ]
    },
    {
     "name": "stderr",
     "output_type": "stream",
     "text": [
      "\r\n",
      "Map:  55%|█████▍    | 33556/61371 [00:05<00:05, 5338.79 examples/s]"
     ]
    },
    {
     "name": "stderr",
     "output_type": "stream",
     "text": [
      "\r\n",
      "Map:  56%|█████▌    | 34425/61371 [00:06<00:05, 5166.11 examples/s]"
     ]
    },
    {
     "name": "stderr",
     "output_type": "stream",
     "text": [
      "\r\n",
      "Map:  57%|█████▋    | 35000/61371 [00:06<00:05, 5159.40 examples/s]"
     ]
    },
    {
     "name": "stderr",
     "output_type": "stream",
     "text": [
      "\r\n",
      "Map:  58%|█████▊    | 35795/61371 [00:06<00:04, 5790.97 examples/s]"
     ]
    },
    {
     "name": "stderr",
     "output_type": "stream",
     "text": [
      "\r\n",
      "Map:  59%|█████▉    | 36437/61371 [00:06<00:04, 5663.43 examples/s]"
     ]
    },
    {
     "name": "stderr",
     "output_type": "stream",
     "text": [
      "\r\n",
      "Map:  61%|██████    | 37401/61371 [00:06<00:04, 5835.15 examples/s]"
     ]
    },
    {
     "name": "stderr",
     "output_type": "stream",
     "text": [
      "\r\n",
      "Map:  62%|██████▏   | 38000/61371 [00:06<00:04, 5647.99 examples/s]"
     ]
    },
    {
     "name": "stderr",
     "output_type": "stream",
     "text": [
      "\r\n",
      "Map:  63%|██████▎   | 38778/61371 [00:06<00:03, 6172.09 examples/s]"
     ]
    },
    {
     "name": "stderr",
     "output_type": "stream",
     "text": [
      "\r\n",
      "Map:  65%|██████▍   | 39750/61371 [00:06<00:03, 5976.10 examples/s]"
     ]
    },
    {
     "name": "stderr",
     "output_type": "stream",
     "text": [
      "\r\n",
      "Map:  66%|██████▌   | 40618/61371 [00:07<00:03, 5591.67 examples/s]"
     ]
    },
    {
     "name": "stderr",
     "output_type": "stream",
     "text": [
      "\r\n",
      "Map:  68%|██████▊   | 41464/61371 [00:07<00:03, 5468.59 examples/s]"
     ]
    },
    {
     "name": "stderr",
     "output_type": "stream",
     "text": [
      "\r\n",
      "Map:  69%|██████▉   | 42452/61371 [00:07<00:03, 5796.46 examples/s]"
     ]
    },
    {
     "name": "stderr",
     "output_type": "stream",
     "text": [
      "\r\n",
      "Map:  71%|███████   | 43362/61371 [00:07<00:03, 5829.07 examples/s]"
     ]
    },
    {
     "name": "stderr",
     "output_type": "stream",
     "text": [
      "\r\n",
      "Map:  72%|███████▏  | 44000/61371 [00:07<00:03, 5527.76 examples/s]"
     ]
    },
    {
     "name": "stderr",
     "output_type": "stream",
     "text": [
      "\r\n",
      "Map:  73%|███████▎  | 44563/61371 [00:07<00:03, 5548.32 examples/s]"
     ]
    },
    {
     "name": "stderr",
     "output_type": "stream",
     "text": [
      "\r\n",
      "Map:  74%|███████▍  | 45397/61371 [00:08<00:03, 5248.88 examples/s]"
     ]
    },
    {
     "name": "stderr",
     "output_type": "stream",
     "text": [
      "\r\n",
      "Map:  75%|███████▍  | 46000/61371 [00:08<00:02, 5139.59 examples/s]"
     ]
    },
    {
     "name": "stderr",
     "output_type": "stream",
     "text": [
      "\r\n",
      "Map:  76%|███████▌  | 46756/61371 [00:08<00:02, 5706.28 examples/s]"
     ]
    },
    {
     "name": "stderr",
     "output_type": "stream",
     "text": [
      "\r\n",
      "Map:  78%|███████▊  | 47653/61371 [00:08<00:02, 5458.74 examples/s]"
     ]
    },
    {
     "name": "stderr",
     "output_type": "stream",
     "text": [
      "\r\n",
      "Map:  79%|███████▉  | 48380/61371 [00:08<00:02, 5267.33 examples/s]"
     ]
    },
    {
     "name": "stderr",
     "output_type": "stream",
     "text": [
      "\r\n",
      "Map:  80%|███████▉  | 49000/61371 [00:08<00:02, 5193.14 examples/s]"
     ]
    },
    {
     "name": "stderr",
     "output_type": "stream",
     "text": [
      "\r\n",
      "Map:  81%|████████  | 49617/61371 [00:08<00:02, 5422.48 examples/s]"
     ]
    },
    {
     "name": "stderr",
     "output_type": "stream",
     "text": [
      "\r\n",
      "Map:  82%|████████▏ | 50356/61371 [00:08<00:02, 5141.81 examples/s]"
     ]
    },
    {
     "name": "stderr",
     "output_type": "stream",
     "text": [
      "\r\n",
      "Map:  83%|████████▎ | 51000/61371 [00:09<00:02, 4997.81 examples/s]"
     ]
    },
    {
     "name": "stderr",
     "output_type": "stream",
     "text": [
      "\r\n",
      "Map:  84%|████████▍ | 51724/61371 [00:09<00:01, 5527.97 examples/s]"
     ]
    },
    {
     "name": "stderr",
     "output_type": "stream",
     "text": [
      "\r\n",
      "Map:  85%|████████▌ | 52407/61371 [00:09<00:01, 5409.84 examples/s]"
     ]
    },
    {
     "name": "stderr",
     "output_type": "stream",
     "text": [
      "\r\n",
      "Map:  86%|████████▋ | 53000/61371 [00:09<00:01, 5350.40 examples/s]"
     ]
    },
    {
     "name": "stderr",
     "output_type": "stream",
     "text": [
      "\r\n",
      "Map:  88%|████████▊ | 53779/61371 [00:09<00:01, 5975.50 examples/s]"
     ]
    },
    {
     "name": "stderr",
     "output_type": "stream",
     "text": [
      "\r\n",
      "Map:  89%|████████▉ | 54660/61371 [00:09<00:01, 5673.23 examples/s]"
     ]
    },
    {
     "name": "stderr",
     "output_type": "stream",
     "text": [
      "\r\n",
      "Map:  90%|█████████ | 55456/61371 [00:09<00:01, 5550.20 examples/s]"
     ]
    },
    {
     "name": "stderr",
     "output_type": "stream",
     "text": [
      "\r\n",
      "Map:  92%|█████████▏| 56408/61371 [00:10<00:00, 5740.95 examples/s]"
     ]
    },
    {
     "name": "stderr",
     "output_type": "stream",
     "text": [
      "\r\n",
      "Map:  93%|█████████▎| 57000/61371 [00:10<00:00, 5586.06 examples/s]"
     ]
    },
    {
     "name": "stderr",
     "output_type": "stream",
     "text": [
      "\r\n",
      "Map:  94%|█████████▍| 57710/61371 [00:10<00:00, 5948.28 examples/s]"
     ]
    },
    {
     "name": "stderr",
     "output_type": "stream",
     "text": [
      "\r\n",
      "Map:  95%|█████████▌| 58537/61371 [00:10<00:00, 5361.97 examples/s]"
     ]
    },
    {
     "name": "stderr",
     "output_type": "stream",
     "text": [
      "\r\n",
      "Map:  97%|█████████▋| 59416/61371 [00:11<00:01, 1601.33 examples/s]"
     ]
    },
    {
     "name": "stderr",
     "output_type": "stream",
     "text": [
      "\r\n",
      "Map:  98%|█████████▊| 60000/61371 [00:11<00:00, 1911.28 examples/s]"
     ]
    },
    {
     "name": "stderr",
     "output_type": "stream",
     "text": [
      "\r\n",
      "Map:  99%|█████████▉| 60801/61371 [00:11<00:00, 2522.46 examples/s]"
     ]
    },
    {
     "name": "stderr",
     "output_type": "stream",
     "text": [
      "\r\n",
      "Map: 100%|██████████| 61371/61371 [00:12<00:00, 2384.19 examples/s]"
     ]
    },
    {
     "name": "stderr",
     "output_type": "stream",
     "text": [
      "\r\n",
      "Map: 100%|██████████| 61371/61371 [00:12<00:00, 4850.14 examples/s]"
     ]
    },
    {
     "name": "stderr",
     "output_type": "stream",
     "text": [
      "\n"
     ]
    },
    {
     "name": "stdout",
     "output_type": "stream",
     "text": [
      "              precision    recall  f1-score   support\n",
      "\n",
      "       B-LOC       0.83      0.89      0.86     17495\n",
      "      B-MISC       0.65      0.73      0.68     10657\n",
      "       B-ORG       0.63      0.68      0.66     13041\n",
      "       B-PER       0.90      0.91      0.91     15547\n",
      "       I-LOC       0.70      0.65      0.68      5367\n",
      "      I-MISC       0.66      0.36      0.47      7305\n",
      "       I-ORG       0.90      0.71      0.79     18313\n",
      "       I-PER       0.94      0.88      0.91     11086\n",
      "           O       0.99      0.99      0.99   1011383\n",
      "\n",
      "    accuracy                           0.97   1110194\n",
      "   macro avg       0.80      0.76      0.77   1110194\n",
      "weighted avg       0.97      0.97      0.97   1110194\n",
      "\n"
     ]
    },
    {
     "name": "stderr",
     "output_type": "stream",
     "text": [
      "Some weights of BertForTokenClassification were not initialized from the model checkpoint at bert-base-cased and are newly initialized: ['classifier.bias', 'classifier.weight']\n",
      "You should probably TRAIN this model on a down-stream task to be able to use it for predictions and inference.\n"
     ]
    },
    {
     "name": "stderr",
     "output_type": "stream",
     "text": [
      "/scratch/1051127/ipykernel_196401/2779880192.py:29: FutureWarning: `tokenizer` is deprecated and will be removed in version 5.0.0 for `Trainer.__init__`. Use `processing_class` instead.\n",
      "  seed_trainer = Trainer(\n"
     ]
    },
    {
     "data": {
      "text/html": [
       "\n",
       "    <div>\n",
       "      \n",
       "      <progress value='3114' max='3114' style='width:300px; height:20px; vertical-align: middle;'></progress>\n",
       "      [3114/3114 04:32, Epoch 3/3]\n",
       "    </div>\n",
       "    <table border=\"1\" class=\"dataframe\">\n",
       "  <thead>\n",
       " <tr style=\"text-align: left;\">\n",
       "      <th>Step</th>\n",
       "      <th>Training Loss</th>\n",
       "    </tr>\n",
       "  </thead>\n",
       "  <tbody>\n",
       "    <tr>\n",
       "      <td>1000</td>\n",
       "      <td>0.171400</td>\n",
       "    </tr>\n",
       "    <tr>\n",
       "      <td>2000</td>\n",
       "      <td>0.050600</td>\n",
       "    </tr>\n",
       "    <tr>\n",
       "      <td>3000</td>\n",
       "      <td>0.030100</td>\n",
       "    </tr>\n",
       "  </tbody>\n",
       "</table><p>"
      ],
      "text/plain": [
       "<IPython.core.display.HTML object>"
      ]
     },
     "metadata": {},
     "output_type": "display_data"
    },
    {
     "data": {
      "text/html": [],
      "text/plain": [
       "<IPython.core.display.HTML object>"
      ]
     },
     "metadata": {},
     "output_type": "display_data"
    },
    {
     "name": "stderr",
     "output_type": "stream",
     "text": [
      "\r\n",
      "Map:   0%|          | 0/61371 [00:00<?, ? examples/s]"
     ]
    },
    {
     "name": "stderr",
     "output_type": "stream",
     "text": [
      "\r\n",
      "Map:   1%|          | 634/61371 [00:00<00:09, 6271.89 examples/s]"
     ]
    },
    {
     "name": "stderr",
     "output_type": "stream",
     "text": [
      "\r\n",
      "Map:   2%|▏         | 1306/61371 [00:00<00:11, 5404.33 examples/s]"
     ]
    },
    {
     "name": "stderr",
     "output_type": "stream",
     "text": [
      "\r\n",
      "Map:   3%|▎         | 1905/61371 [00:00<00:10, 5639.48 examples/s]"
     ]
    },
    {
     "name": "stderr",
     "output_type": "stream",
     "text": [
      "\r\n",
      "Map:   5%|▍         | 2875/61371 [00:00<00:10, 5749.30 examples/s]"
     ]
    },
    {
     "name": "stderr",
     "output_type": "stream",
     "text": [
      "\r\n",
      "Map:   6%|▋         | 3874/61371 [00:00<00:09, 6037.50 examples/s]"
     ]
    },
    {
     "name": "stderr",
     "output_type": "stream",
     "text": [
      "\r\n",
      "Map:   8%|▊         | 4935/61371 [00:00<00:08, 6346.55 examples/s]"
     ]
    },
    {
     "name": "stderr",
     "output_type": "stream",
     "text": [
      "\r\n",
      "Map:   9%|▉         | 5763/61371 [00:00<00:09, 6068.98 examples/s]"
     ]
    },
    {
     "name": "stderr",
     "output_type": "stream",
     "text": [
      "\r\n",
      "Map:  10%|█         | 6396/61371 [00:01<00:09, 5785.41 examples/s]"
     ]
    },
    {
     "name": "stderr",
     "output_type": "stream",
     "text": [
      "\r\n",
      "Map:  11%|█▏        | 7000/61371 [00:01<00:09, 5610.20 examples/s]"
     ]
    },
    {
     "name": "stderr",
     "output_type": "stream",
     "text": [
      "\r\n",
      "Map:  13%|█▎        | 7808/61371 [00:01<00:09, 5530.47 examples/s]"
     ]
    },
    {
     "name": "stderr",
     "output_type": "stream",
     "text": [
      "\r\n",
      "Map:  14%|█▎        | 8431/61371 [00:01<00:10, 5219.88 examples/s]"
     ]
    },
    {
     "name": "stderr",
     "output_type": "stream",
     "text": [
      "\r\n",
      "Map:  15%|█▍        | 9000/61371 [00:01<00:10, 5216.41 examples/s]"
     ]
    },
    {
     "name": "stderr",
     "output_type": "stream",
     "text": [
      "\r\n",
      "Map:  16%|█▌        | 9770/61371 [00:01<00:08, 5838.61 examples/s]"
     ]
    },
    {
     "name": "stderr",
     "output_type": "stream",
     "text": [
      "\r\n",
      "Map:  17%|█▋        | 10420/61371 [00:01<00:08, 5686.60 examples/s]"
     ]
    },
    {
     "name": "stderr",
     "output_type": "stream",
     "text": [
      "\r\n",
      "Map:  18%|█▊        | 11000/61371 [00:01<00:09, 5568.88 examples/s]"
     ]
    },
    {
     "name": "stderr",
     "output_type": "stream",
     "text": [
      "\r\n",
      "Map:  19%|█▉        | 11651/61371 [00:02<00:08, 5819.19 examples/s]"
     ]
    },
    {
     "name": "stderr",
     "output_type": "stream",
     "text": [
      "\r\n",
      "Map:  20%|██        | 12391/61371 [00:02<00:08, 5492.34 examples/s]"
     ]
    },
    {
     "name": "stderr",
     "output_type": "stream",
     "text": [
      "\r\n",
      "Map:  21%|██        | 13000/61371 [00:02<00:09, 5304.95 examples/s]"
     ]
    },
    {
     "name": "stderr",
     "output_type": "stream",
     "text": [
      "\r\n",
      "Map:  23%|██▎       | 13874/61371 [00:02<00:07, 6186.36 examples/s]"
     ]
    },
    {
     "name": "stderr",
     "output_type": "stream",
     "text": [
      "\r\n",
      "Map:  24%|██▍       | 14796/61371 [00:02<00:07, 6070.38 examples/s]"
     ]
    },
    {
     "name": "stderr",
     "output_type": "stream",
     "text": [
      "\r\n",
      "Map:  26%|██▌       | 15686/61371 [00:02<00:07, 5777.74 examples/s]"
     ]
    },
    {
     "name": "stderr",
     "output_type": "stream",
     "text": [
      "\r\n",
      "Map:  27%|██▋       | 16386/61371 [00:02<00:08, 5534.48 examples/s]"
     ]
    },
    {
     "name": "stderr",
     "output_type": "stream",
     "text": [
      "\r\n",
      "Map:  28%|██▊       | 17000/61371 [00:02<00:08, 5387.02 examples/s]"
     ]
    },
    {
     "name": "stderr",
     "output_type": "stream",
     "text": [
      "\r\n",
      "Map:  29%|██▉       | 17749/61371 [00:03<00:07, 5891.47 examples/s]"
     ]
    },
    {
     "name": "stderr",
     "output_type": "stream",
     "text": [
      "\r\n",
      "Map:  30%|██▉       | 18375/61371 [00:03<00:07, 5629.11 examples/s]"
     ]
    },
    {
     "name": "stderr",
     "output_type": "stream",
     "text": [
      "\r\n",
      "Map:  31%|███       | 19000/61371 [00:03<00:07, 5440.30 examples/s]"
     ]
    },
    {
     "name": "stderr",
     "output_type": "stream",
     "text": [
      "\r\n",
      "Map:  32%|███▏      | 19758/61371 [00:03<00:06, 5976.21 examples/s]"
     ]
    },
    {
     "name": "stderr",
     "output_type": "stream",
     "text": [
      "\r\n",
      "Map:  33%|███▎      | 20394/61371 [00:03<00:07, 5685.97 examples/s]"
     ]
    },
    {
     "name": "stderr",
     "output_type": "stream",
     "text": [
      "\r\n",
      "Map:  34%|███▍      | 21000/61371 [00:03<00:07, 5485.55 examples/s]"
     ]
    },
    {
     "name": "stderr",
     "output_type": "stream",
     "text": [
      "\r\n",
      "Map:  35%|███▌      | 21644/61371 [00:03<00:06, 5734.04 examples/s]"
     ]
    },
    {
     "name": "stderr",
     "output_type": "stream",
     "text": [
      "\r\n",
      "Map:  36%|███▋      | 22386/61371 [00:03<00:07, 5416.85 examples/s]"
     ]
    },
    {
     "name": "stderr",
     "output_type": "stream",
     "text": [
      "\r\n",
      "Map:  37%|███▋      | 23000/61371 [00:04<00:07, 5331.18 examples/s]"
     ]
    },
    {
     "name": "stderr",
     "output_type": "stream",
     "text": [
      "\r\n",
      "Map:  39%|███▊      | 23766/61371 [00:04<00:06, 5928.26 examples/s]"
     ]
    },
    {
     "name": "stderr",
     "output_type": "stream",
     "text": [
      "\r\n",
      "Map:  40%|███▉      | 24376/61371 [00:04<00:06, 5643.50 examples/s]"
     ]
    },
    {
     "name": "stderr",
     "output_type": "stream",
     "text": [
      "\r\n",
      "Map:  41%|████      | 25000/61371 [00:04<00:06, 5418.41 examples/s]"
     ]
    },
    {
     "name": "stderr",
     "output_type": "stream",
     "text": [
      "\r\n",
      "Map:  42%|████▏     | 25786/61371 [00:04<00:05, 6056.64 examples/s]"
     ]
    },
    {
     "name": "stderr",
     "output_type": "stream",
     "text": [
      "\r\n",
      "Map:  43%|████▎     | 26594/61371 [00:04<00:06, 5553.13 examples/s]"
     ]
    },
    {
     "name": "stderr",
     "output_type": "stream",
     "text": [
      "\r\n",
      "Map:  45%|████▍     | 27375/61371 [00:04<00:06, 5216.06 examples/s]"
     ]
    },
    {
     "name": "stderr",
     "output_type": "stream",
     "text": [
      "\r\n",
      "Map:  46%|████▌     | 28000/61371 [00:04<00:06, 5124.65 examples/s]"
     ]
    },
    {
     "name": "stderr",
     "output_type": "stream",
     "text": [
      "\r\n",
      "Map:  47%|████▋     | 28838/61371 [00:05<00:05, 5893.52 examples/s]"
     ]
    },
    {
     "name": "stderr",
     "output_type": "stream",
     "text": [
      "\r\n",
      "Map:  49%|████▊     | 29864/61371 [00:05<00:05, 6074.71 examples/s]"
     ]
    },
    {
     "name": "stderr",
     "output_type": "stream",
     "text": [
      "\r\n",
      "Map:  50%|█████     | 30774/61371 [00:05<00:05, 5954.28 examples/s]"
     ]
    },
    {
     "name": "stderr",
     "output_type": "stream",
     "text": [
      "\r\n",
      "Map:  51%|█████     | 31390/61371 [00:05<00:05, 5680.21 examples/s]"
     ]
    },
    {
     "name": "stderr",
     "output_type": "stream",
     "text": [
      "\r\n",
      "Map:  52%|█████▏    | 32000/61371 [00:05<00:05, 5504.50 examples/s]"
     ]
    },
    {
     "name": "stderr",
     "output_type": "stream",
     "text": [
      "\r\n",
      "Map:  53%|█████▎    | 32701/61371 [00:05<00:04, 5869.18 examples/s]"
     ]
    },
    {
     "name": "stderr",
     "output_type": "stream",
     "text": [
      "\r\n",
      "Map:  55%|█████▍    | 33586/61371 [00:05<00:05, 5412.95 examples/s]"
     ]
    },
    {
     "name": "stderr",
     "output_type": "stream",
     "text": [
      "\r\n",
      "Map:  56%|█████▌    | 34421/61371 [00:06<00:05, 5188.62 examples/s]"
     ]
    },
    {
     "name": "stderr",
     "output_type": "stream",
     "text": [
      "\r\n",
      "Map:  57%|█████▋    | 35000/61371 [00:06<00:05, 5170.66 examples/s]"
     ]
    },
    {
     "name": "stderr",
     "output_type": "stream",
     "text": [
      "\r\n",
      "Map:  58%|█████▊    | 35773/61371 [00:06<00:04, 5766.96 examples/s]"
     ]
    },
    {
     "name": "stderr",
     "output_type": "stream",
     "text": [
      "\r\n",
      "Map:  59%|█████▉    | 36434/61371 [00:06<00:04, 5687.11 examples/s]"
     ]
    },
    {
     "name": "stderr",
     "output_type": "stream",
     "text": [
      "\r\n",
      "Map:  61%|██████    | 37400/61371 [00:06<00:04, 5866.89 examples/s]"
     ]
    },
    {
     "name": "stderr",
     "output_type": "stream",
     "text": [
      "\r\n",
      "Map:  62%|██████▏   | 38000/61371 [00:06<00:04, 5685.18 examples/s]"
     ]
    },
    {
     "name": "stderr",
     "output_type": "stream",
     "text": [
      "\r\n",
      "Map:  63%|██████▎   | 38785/61371 [00:06<00:03, 6222.45 examples/s]"
     ]
    },
    {
     "name": "stderr",
     "output_type": "stream",
     "text": [
      "\r\n",
      "Map:  65%|██████▍   | 39745/61371 [00:06<00:03, 6015.55 examples/s]"
     ]
    },
    {
     "name": "stderr",
     "output_type": "stream",
     "text": [
      "\r\n",
      "Map:  66%|██████▌   | 40621/61371 [00:07<00:03, 5610.33 examples/s]"
     ]
    },
    {
     "name": "stderr",
     "output_type": "stream",
     "text": [
      "\r\n",
      "Map:  68%|██████▊   | 41468/61371 [00:07<00:03, 5496.22 examples/s]"
     ]
    },
    {
     "name": "stderr",
     "output_type": "stream",
     "text": [
      "\r\n",
      "Map:  69%|██████▉   | 42437/61371 [00:07<00:03, 5772.62 examples/s]"
     ]
    },
    {
     "name": "stderr",
     "output_type": "stream",
     "text": [
      "\r\n",
      "Map:  71%|███████   | 43362/61371 [00:07<00:03, 5808.96 examples/s]"
     ]
    },
    {
     "name": "stderr",
     "output_type": "stream",
     "text": [
      "\r\n",
      "Map:  72%|███████▏  | 44000/61371 [00:07<00:03, 5522.78 examples/s]"
     ]
    },
    {
     "name": "stderr",
     "output_type": "stream",
     "text": [
      "\r\n",
      "Map:  73%|███████▎  | 44564/61371 [00:07<00:03, 5546.54 examples/s]"
     ]
    },
    {
     "name": "stderr",
     "output_type": "stream",
     "text": [
      "\r\n",
      "Map:  74%|███████▍  | 45400/61371 [00:08<00:03, 5253.65 examples/s]"
     ]
    },
    {
     "name": "stderr",
     "output_type": "stream",
     "text": [
      "\r\n",
      "Map:  75%|███████▍  | 46000/61371 [00:08<00:02, 5188.10 examples/s]"
     ]
    },
    {
     "name": "stderr",
     "output_type": "stream",
     "text": [
      "\r\n",
      "Map:  76%|███████▌  | 46750/61371 [00:08<00:02, 5732.76 examples/s]"
     ]
    },
    {
     "name": "stderr",
     "output_type": "stream",
     "text": [
      "\r\n",
      "Map:  78%|███████▊  | 47675/61371 [00:08<00:02, 5536.41 examples/s]"
     ]
    },
    {
     "name": "stderr",
     "output_type": "stream",
     "text": [
      "\r\n",
      "Map:  79%|███████▉  | 48375/61371 [00:08<00:02, 5338.46 examples/s]"
     ]
    },
    {
     "name": "stderr",
     "output_type": "stream",
     "text": [
      "\r\n",
      "Map:  80%|███████▉  | 49000/61371 [00:08<00:02, 5212.76 examples/s]"
     ]
    },
    {
     "name": "stderr",
     "output_type": "stream",
     "text": [
      "\r\n",
      "Map:  81%|████████  | 49624/61371 [00:08<00:02, 5454.60 examples/s]"
     ]
    },
    {
     "name": "stderr",
     "output_type": "stream",
     "text": [
      "\r\n",
      "Map:  82%|████████▏ | 50359/61371 [00:08<00:02, 5155.50 examples/s]"
     ]
    },
    {
     "name": "stderr",
     "output_type": "stream",
     "text": [
      "\r\n",
      "Map:  83%|████████▎ | 51000/61371 [00:09<00:02, 4990.14 examples/s]"
     ]
    },
    {
     "name": "stderr",
     "output_type": "stream",
     "text": [
      "\r\n",
      "Map:  84%|████████▍ | 51713/61371 [00:09<00:01, 5497.31 examples/s]"
     ]
    },
    {
     "name": "stderr",
     "output_type": "stream",
     "text": [
      "\r\n",
      "Map:  85%|████████▌ | 52425/61371 [00:09<00:01, 5451.64 examples/s]"
     ]
    },
    {
     "name": "stderr",
     "output_type": "stream",
     "text": [
      "\r\n",
      "Map:  86%|████████▋ | 53000/61371 [00:09<00:01, 5426.69 examples/s]"
     ]
    },
    {
     "name": "stderr",
     "output_type": "stream",
     "text": [
      "\r\n",
      "Map:  88%|████████▊ | 53783/61371 [00:09<00:01, 6048.19 examples/s]"
     ]
    },
    {
     "name": "stderr",
     "output_type": "stream",
     "text": [
      "\r\n",
      "Map:  89%|████████▉ | 54652/61371 [00:09<00:01, 5693.70 examples/s]"
     ]
    },
    {
     "name": "stderr",
     "output_type": "stream",
     "text": [
      "\r\n",
      "Map:  90%|█████████ | 55423/61371 [00:09<00:01, 5502.41 examples/s]"
     ]
    },
    {
     "name": "stderr",
     "output_type": "stream",
     "text": [
      "\r\n",
      "Map:  91%|█████████ | 56000/61371 [00:09<00:00, 5448.10 examples/s]"
     ]
    },
    {
     "name": "stderr",
     "output_type": "stream",
     "text": [
      "\r\n",
      "Map:  93%|█████████▎| 56801/61371 [00:10<00:00, 6085.22 examples/s]"
     ]
    },
    {
     "name": "stderr",
     "output_type": "stream",
     "text": [
      "\r\n",
      "Map:  94%|█████████▍| 57719/61371 [00:10<00:00, 5855.58 examples/s]"
     ]
    },
    {
     "name": "stderr",
     "output_type": "stream",
     "text": [
      "\r\n",
      "Map:  95%|█████████▌| 58536/61371 [00:10<00:00, 5305.76 examples/s]"
     ]
    },
    {
     "name": "stderr",
     "output_type": "stream",
     "text": [
      "\r\n",
      "Map:  97%|█████████▋| 59416/61371 [00:11<00:01, 1465.88 examples/s]"
     ]
    },
    {
     "name": "stderr",
     "output_type": "stream",
     "text": [
      "\r\n",
      "Map:  98%|█████████▊| 60000/61371 [00:12<00:00, 1762.47 examples/s]"
     ]
    },
    {
     "name": "stderr",
     "output_type": "stream",
     "text": [
      "\r\n",
      "Map:  99%|█████████▉| 60798/61371 [00:12<00:00, 2331.10 examples/s]"
     ]
    },
    {
     "name": "stderr",
     "output_type": "stream",
     "text": [
      "\r\n",
      "Map: 100%|██████████| 61371/61371 [00:12<00:00, 2293.10 examples/s]"
     ]
    },
    {
     "name": "stderr",
     "output_type": "stream",
     "text": [
      "\r\n",
      "Map: 100%|██████████| 61371/61371 [00:12<00:00, 4814.91 examples/s]"
     ]
    },
    {
     "name": "stderr",
     "output_type": "stream",
     "text": [
      "\n"
     ]
    },
    {
     "name": "stdout",
     "output_type": "stream",
     "text": [
      "              precision    recall  f1-score   support\n",
      "\n",
      "       B-LOC       0.83      0.89      0.86     17495\n",
      "      B-MISC       0.63      0.73      0.68     10657\n",
      "       B-ORG       0.64      0.67      0.65     13041\n",
      "       B-PER       0.90      0.91      0.90     15547\n",
      "       I-LOC       0.71      0.66      0.69      5367\n",
      "      I-MISC       0.64      0.36      0.46      7305\n",
      "       I-ORG       0.90      0.71      0.79     18313\n",
      "       I-PER       0.93      0.88      0.90     11086\n",
      "           O       0.99      0.99      0.99   1011383\n",
      "\n",
      "    accuracy                           0.97   1110194\n",
      "   macro avg       0.80      0.75      0.77   1110194\n",
      "weighted avg       0.97      0.97      0.97   1110194\n",
      "\n"
     ]
    },
    {
     "name": "stderr",
     "output_type": "stream",
     "text": [
      "Some weights of BertForTokenClassification were not initialized from the model checkpoint at bert-base-cased and are newly initialized: ['classifier.bias', 'classifier.weight']\n",
      "You should probably TRAIN this model on a down-stream task to be able to use it for predictions and inference.\n"
     ]
    },
    {
     "name": "stderr",
     "output_type": "stream",
     "text": [
      "/scratch/1051127/ipykernel_196401/2779880192.py:29: FutureWarning: `tokenizer` is deprecated and will be removed in version 5.0.0 for `Trainer.__init__`. Use `processing_class` instead.\n",
      "  seed_trainer = Trainer(\n"
     ]
    },
    {
     "data": {
      "text/html": [
       "\n",
       "    <div>\n",
       "      \n",
       "      <progress value='3114' max='3114' style='width:300px; height:20px; vertical-align: middle;'></progress>\n",
       "      [3114/3114 04:32, Epoch 3/3]\n",
       "    </div>\n",
       "    <table border=\"1\" class=\"dataframe\">\n",
       "  <thead>\n",
       " <tr style=\"text-align: left;\">\n",
       "      <th>Step</th>\n",
       "      <th>Training Loss</th>\n",
       "    </tr>\n",
       "  </thead>\n",
       "  <tbody>\n",
       "    <tr>\n",
       "      <td>1000</td>\n",
       "      <td>0.171200</td>\n",
       "    </tr>\n",
       "    <tr>\n",
       "      <td>2000</td>\n",
       "      <td>0.053100</td>\n",
       "    </tr>\n",
       "    <tr>\n",
       "      <td>3000</td>\n",
       "      <td>0.033300</td>\n",
       "    </tr>\n",
       "  </tbody>\n",
       "</table><p>"
      ],
      "text/plain": [
       "<IPython.core.display.HTML object>"
      ]
     },
     "metadata": {},
     "output_type": "display_data"
    },
    {
     "data": {
      "text/html": [],
      "text/plain": [
       "<IPython.core.display.HTML object>"
      ]
     },
     "metadata": {},
     "output_type": "display_data"
    },
    {
     "name": "stderr",
     "output_type": "stream",
     "text": [
      "\r\n",
      "Map:   0%|          | 0/61371 [00:00<?, ? examples/s]"
     ]
    },
    {
     "name": "stderr",
     "output_type": "stream",
     "text": [
      "\r\n",
      "Map:   1%|          | 747/61371 [00:00<00:08, 7389.68 examples/s]"
     ]
    },
    {
     "name": "stderr",
     "output_type": "stream",
     "text": [
      "\r\n",
      "Map:   3%|▎         | 1603/61371 [00:00<00:10, 5678.23 examples/s]"
     ]
    },
    {
     "name": "stderr",
     "output_type": "stream",
     "text": [
      "\r\n",
      "Map:   4%|▍         | 2434/61371 [00:00<00:10, 5369.87 examples/s]"
     ]
    },
    {
     "name": "stderr",
     "output_type": "stream",
     "text": [
      "\r\n",
      "Map:   5%|▍         | 3000/61371 [00:00<00:10, 5392.90 examples/s]"
     ]
    },
    {
     "name": "stderr",
     "output_type": "stream",
     "text": [
      "\r\n",
      "Map:   6%|▋         | 3890/61371 [00:00<00:08, 6432.06 examples/s]"
     ]
    },
    {
     "name": "stderr",
     "output_type": "stream",
     "text": [
      "\r\n",
      "Map:   8%|▊         | 4933/61371 [00:00<00:08, 6581.75 examples/s]"
     ]
    },
    {
     "name": "stderr",
     "output_type": "stream",
     "text": [
      "\r\n",
      "Map:   9%|▉         | 5774/61371 [00:00<00:08, 6231.53 examples/s]"
     ]
    },
    {
     "name": "stderr",
     "output_type": "stream",
     "text": [
      "\r\n",
      "Map:  11%|█         | 6806/61371 [00:01<00:08, 6112.53 examples/s]"
     ]
    },
    {
     "name": "stderr",
     "output_type": "stream",
     "text": [
      "\r\n",
      "Map:  12%|█▏        | 7544/61371 [00:01<00:09, 5534.35 examples/s]"
     ]
    },
    {
     "name": "stderr",
     "output_type": "stream",
     "text": [
      "\r\n",
      "Map:  14%|█▎        | 8434/61371 [00:01<00:10, 5265.14 examples/s]"
     ]
    },
    {
     "name": "stderr",
     "output_type": "stream",
     "text": [
      "\r\n",
      "Map:  15%|█▍        | 9000/61371 [00:01<00:10, 5219.45 examples/s]"
     ]
    },
    {
     "name": "stderr",
     "output_type": "stream",
     "text": [
      "\r\n",
      "Map:  16%|█▌        | 9759/61371 [00:01<00:08, 5756.66 examples/s]"
     ]
    },
    {
     "name": "stderr",
     "output_type": "stream",
     "text": [
      "\r\n",
      "Map:  17%|█▋        | 10416/61371 [00:01<00:09, 5601.56 examples/s]"
     ]
    },
    {
     "name": "stderr",
     "output_type": "stream",
     "text": [
      "\r\n",
      "Map:  18%|█▊        | 11000/61371 [00:01<00:09, 5524.86 examples/s]"
     ]
    },
    {
     "name": "stderr",
     "output_type": "stream",
     "text": [
      "\r\n",
      "Map:  19%|█▉        | 11661/61371 [00:02<00:08, 5799.98 examples/s]"
     ]
    },
    {
     "name": "stderr",
     "output_type": "stream",
     "text": [
      "\r\n",
      "Map:  20%|██        | 12387/61371 [00:02<00:09, 5392.32 examples/s]"
     ]
    },
    {
     "name": "stderr",
     "output_type": "stream",
     "text": [
      "\r\n",
      "Map:  21%|██        | 13000/61371 [00:02<00:09, 5250.87 examples/s]"
     ]
    },
    {
     "name": "stderr",
     "output_type": "stream",
     "text": [
      "\r\n",
      "Map:  23%|██▎       | 13822/61371 [00:02<00:07, 5997.45 examples/s]"
     ]
    },
    {
     "name": "stderr",
     "output_type": "stream",
     "text": [
      "\r\n",
      "Map:  24%|██▍       | 14782/61371 [00:02<00:07, 5946.09 examples/s]"
     ]
    },
    {
     "name": "stderr",
     "output_type": "stream",
     "text": [
      "\r\n",
      "Map:  26%|██▌       | 15712/61371 [00:02<00:07, 5761.63 examples/s]"
     ]
    },
    {
     "name": "stderr",
     "output_type": "stream",
     "text": [
      "\r\n",
      "Map:  27%|██▋       | 16372/61371 [00:02<00:08, 5516.72 examples/s]"
     ]
    },
    {
     "name": "stderr",
     "output_type": "stream",
     "text": [
      "\r\n",
      "Map:  28%|██▊       | 17000/61371 [00:03<00:08, 5331.30 examples/s]"
     ]
    },
    {
     "name": "stderr",
     "output_type": "stream",
     "text": [
      "\r\n",
      "Map:  29%|██▉       | 17767/61371 [00:03<00:07, 5884.59 examples/s]"
     ]
    },
    {
     "name": "stderr",
     "output_type": "stream",
     "text": [
      "\r\n",
      "Map:  30%|██▉       | 18389/61371 [00:03<00:07, 5623.97 examples/s]"
     ]
    },
    {
     "name": "stderr",
     "output_type": "stream",
     "text": [
      "\r\n",
      "Map:  31%|███       | 19000/61371 [00:03<00:07, 5396.20 examples/s]"
     ]
    },
    {
     "name": "stderr",
     "output_type": "stream",
     "text": [
      "\r\n",
      "Map:  32%|███▏      | 19747/61371 [00:03<00:07, 5922.23 examples/s]"
     ]
    },
    {
     "name": "stderr",
     "output_type": "stream",
     "text": [
      "\r\n",
      "Map:  33%|███▎      | 20397/61371 [00:03<00:07, 5661.34 examples/s]"
     ]
    },
    {
     "name": "stderr",
     "output_type": "stream",
     "text": [
      "\r\n",
      "Map:  34%|███▍      | 21000/61371 [00:03<00:07, 5459.22 examples/s]"
     ]
    },
    {
     "name": "stderr",
     "output_type": "stream",
     "text": [
      "\r\n",
      "Map:  35%|███▌      | 21632/61371 [00:03<00:06, 5680.83 examples/s]"
     ]
    },
    {
     "name": "stderr",
     "output_type": "stream",
     "text": [
      "\r\n",
      "Map:  37%|███▋      | 22405/61371 [00:03<00:07, 5429.54 examples/s]"
     ]
    },
    {
     "name": "stderr",
     "output_type": "stream",
     "text": [
      "\r\n",
      "Map:  37%|███▋      | 23000/61371 [00:04<00:07, 5382.39 examples/s]"
     ]
    },
    {
     "name": "stderr",
     "output_type": "stream",
     "text": [
      "\r\n",
      "Map:  39%|███▉      | 23788/61371 [00:04<00:06, 6027.57 examples/s]"
     ]
    },
    {
     "name": "stderr",
     "output_type": "stream",
     "text": [
      "\r\n",
      "Map:  40%|████      | 24766/61371 [00:04<00:06, 5882.28 examples/s]"
     ]
    },
    {
     "name": "stderr",
     "output_type": "stream",
     "text": [
      "\r\n",
      "Map:  41%|████▏     | 25405/61371 [00:04<00:06, 5653.36 examples/s]"
     ]
    },
    {
     "name": "stderr",
     "output_type": "stream",
     "text": [
      "\r\n",
      "Map:  42%|████▏     | 26000/61371 [00:04<00:06, 5496.82 examples/s]"
     ]
    },
    {
     "name": "stderr",
     "output_type": "stream",
     "text": [
      "\r\n",
      "Map:  43%|████▎     | 26577/61371 [00:04<00:06, 5563.66 examples/s]"
     ]
    },
    {
     "name": "stderr",
     "output_type": "stream",
     "text": [
      "\r\n",
      "Map:  45%|████▍     | 27357/61371 [00:04<00:06, 5197.68 examples/s]"
     ]
    },
    {
     "name": "stderr",
     "output_type": "stream",
     "text": [
      "\r\n",
      "Map:  46%|████▌     | 28000/61371 [00:04<00:06, 5145.03 examples/s]"
     ]
    },
    {
     "name": "stderr",
     "output_type": "stream",
     "text": [
      "\r\n",
      "Map:  47%|████▋     | 28826/61371 [00:05<00:05, 5905.65 examples/s]"
     ]
    },
    {
     "name": "stderr",
     "output_type": "stream",
     "text": [
      "\r\n",
      "Map:  48%|████▊     | 29440/61371 [00:05<00:05, 5785.60 examples/s]"
     ]
    },
    {
     "name": "stderr",
     "output_type": "stream",
     "text": [
      "\r\n",
      "Map:  50%|████▉     | 30398/61371 [00:05<00:05, 5937.79 examples/s]"
     ]
    },
    {
     "name": "stderr",
     "output_type": "stream",
     "text": [
      "\r\n",
      "Map:  51%|█████     | 31000/61371 [00:05<00:05, 5683.28 examples/s]"
     ]
    },
    {
     "name": "stderr",
     "output_type": "stream",
     "text": [
      "\r\n",
      "Map:  52%|█████▏    | 31768/61371 [00:05<00:04, 6185.29 examples/s]"
     ]
    },
    {
     "name": "stderr",
     "output_type": "stream",
     "text": [
      "\r\n",
      "Map:  53%|█████▎    | 32709/61371 [00:05<00:04, 5863.26 examples/s]"
     ]
    },
    {
     "name": "stderr",
     "output_type": "stream",
     "text": [
      "\r\n",
      "Map:  55%|█████▍    | 33564/61371 [00:05<00:05, 5379.55 examples/s]"
     ]
    },
    {
     "name": "stderr",
     "output_type": "stream",
     "text": [
      "\r\n",
      "Map:  56%|█████▌    | 34417/61371 [00:06<00:05, 5181.07 examples/s]"
     ]
    },
    {
     "name": "stderr",
     "output_type": "stream",
     "text": [
      "\r\n",
      "Map:  57%|█████▋    | 35000/61371 [00:06<00:05, 5189.30 examples/s]"
     ]
    },
    {
     "name": "stderr",
     "output_type": "stream",
     "text": [
      "\r\n",
      "Map:  58%|█████▊    | 35800/61371 [00:06<00:04, 5828.88 examples/s]"
     ]
    },
    {
     "name": "stderr",
     "output_type": "stream",
     "text": [
      "\r\n",
      "Map:  59%|█████▉    | 36439/61371 [00:06<00:04, 5677.65 examples/s]"
     ]
    },
    {
     "name": "stderr",
     "output_type": "stream",
     "text": [
      "\r\n",
      "Map:  61%|██████    | 37409/61371 [00:06<00:04, 5839.89 examples/s]"
     ]
    },
    {
     "name": "stderr",
     "output_type": "stream",
     "text": [
      "\r\n",
      "Map:  63%|██████▎   | 38396/61371 [00:06<00:03, 5862.43 examples/s]"
     ]
    },
    {
     "name": "stderr",
     "output_type": "stream",
     "text": [
      "\r\n",
      "Map:  64%|██████▎   | 39000/61371 [00:06<00:03, 5662.59 examples/s]"
     ]
    },
    {
     "name": "stderr",
     "output_type": "stream",
     "text": [
      "\r\n",
      "Map:  65%|██████▍   | 39755/61371 [00:06<00:03, 6106.77 examples/s]"
     ]
    },
    {
     "name": "stderr",
     "output_type": "stream",
     "text": [
      "\r\n",
      "Map:  66%|██████▌   | 40616/61371 [00:07<00:03, 5640.77 examples/s]"
     ]
    },
    {
     "name": "stderr",
     "output_type": "stream",
     "text": [
      "\r\n",
      "Map:  68%|██████▊   | 41437/61371 [00:07<00:03, 5474.98 examples/s]"
     ]
    },
    {
     "name": "stderr",
     "output_type": "stream",
     "text": [
      "\r\n",
      "Map:  68%|██████▊   | 42000/61371 [00:07<00:03, 5492.84 examples/s]"
     ]
    },
    {
     "name": "stderr",
     "output_type": "stream",
     "text": [
      "\r\n",
      "Map:  70%|██████▉   | 42859/61371 [00:07<00:02, 6244.24 examples/s]"
     ]
    },
    {
     "name": "stderr",
     "output_type": "stream",
     "text": [
      "\r\n",
      "Map:  71%|███████▏  | 43728/61371 [00:07<00:02, 5988.32 examples/s]"
     ]
    },
    {
     "name": "stderr",
     "output_type": "stream",
     "text": [
      "\r\n",
      "Map:  73%|███████▎  | 44572/61371 [00:07<00:03, 5466.52 examples/s]"
     ]
    },
    {
     "name": "stderr",
     "output_type": "stream",
     "text": [
      "\r\n",
      "Map:  74%|███████▍  | 45393/61371 [00:08<00:03, 5191.88 examples/s]"
     ]
    },
    {
     "name": "stderr",
     "output_type": "stream",
     "text": [
      "\r\n",
      "Map:  75%|███████▍  | 46000/61371 [00:08<00:02, 5158.43 examples/s]"
     ]
    },
    {
     "name": "stderr",
     "output_type": "stream",
     "text": [
      "\r\n",
      "Map:  76%|███████▌  | 46755/61371 [00:08<00:02, 5700.03 examples/s]"
     ]
    },
    {
     "name": "stderr",
     "output_type": "stream",
     "text": [
      "\r\n",
      "Map:  78%|███████▊  | 47678/61371 [00:08<00:02, 5536.99 examples/s]"
     ]
    },
    {
     "name": "stderr",
     "output_type": "stream",
     "text": [
      "\r\n",
      "Map:  79%|███████▉  | 48389/61371 [00:08<00:02, 5289.78 examples/s]"
     ]
    },
    {
     "name": "stderr",
     "output_type": "stream",
     "text": [
      "\r\n",
      "Map:  80%|███████▉  | 49000/61371 [00:08<00:02, 5160.98 examples/s]"
     ]
    },
    {
     "name": "stderr",
     "output_type": "stream",
     "text": [
      "\r\n",
      "Map:  81%|████████  | 49611/61371 [00:08<00:02, 5381.36 examples/s]"
     ]
    },
    {
     "name": "stderr",
     "output_type": "stream",
     "text": [
      "\r\n",
      "Map:  82%|████████▏ | 50349/61371 [00:08<00:02, 5118.05 examples/s]"
     ]
    },
    {
     "name": "stderr",
     "output_type": "stream",
     "text": [
      "\r\n",
      "Map:  83%|████████▎ | 51000/61371 [00:09<00:02, 4976.60 examples/s]"
     ]
    },
    {
     "name": "stderr",
     "output_type": "stream",
     "text": [
      "\r\n",
      "Map:  84%|████████▍ | 51732/61371 [00:09<00:01, 5528.10 examples/s]"
     ]
    },
    {
     "name": "stderr",
     "output_type": "stream",
     "text": [
      "\r\n",
      "Map:  85%|████████▌ | 52435/61371 [00:09<00:01, 5465.23 examples/s]"
     ]
    },
    {
     "name": "stderr",
     "output_type": "stream",
     "text": [
      "\r\n",
      "Map:  86%|████████▋ | 53000/61371 [00:09<00:01, 5382.59 examples/s]"
     ]
    },
    {
     "name": "stderr",
     "output_type": "stream",
     "text": [
      "\r\n",
      "Map:  88%|████████▊ | 53804/61371 [00:09<00:01, 6067.19 examples/s]"
     ]
    },
    {
     "name": "stderr",
     "output_type": "stream",
     "text": [
      "\r\n",
      "Map:  89%|████████▉ | 54660/61371 [00:09<00:01, 5692.38 examples/s]"
     ]
    },
    {
     "name": "stderr",
     "output_type": "stream",
     "text": [
      "\r\n",
      "Map:  90%|█████████ | 55442/61371 [00:09<00:01, 5494.71 examples/s]"
     ]
    },
    {
     "name": "stderr",
     "output_type": "stream",
     "text": [
      "\r\n",
      "Map:  92%|█████████▏| 56403/61371 [00:10<00:00, 5718.19 examples/s]"
     ]
    },
    {
     "name": "stderr",
     "output_type": "stream",
     "text": [
      "\r\n",
      "Map:  93%|█████████▎| 57000/61371 [00:10<00:00, 5583.43 examples/s]"
     ]
    },
    {
     "name": "stderr",
     "output_type": "stream",
     "text": [
      "\r\n",
      "Map:  94%|█████████▍| 57704/61371 [00:10<00:00, 5932.60 examples/s]"
     ]
    },
    {
     "name": "stderr",
     "output_type": "stream",
     "text": [
      "\r\n",
      "Map:  95%|█████████▌| 58558/61371 [00:10<00:00, 5408.43 examples/s]"
     ]
    },
    {
     "name": "stderr",
     "output_type": "stream",
     "text": [
      "\r\n",
      "Map:  97%|█████████▋| 59392/61371 [00:10<00:00, 5130.90 examples/s]"
     ]
    },
    {
     "name": "stderr",
     "output_type": "stream",
     "text": [
      "\r\n",
      "Map:  98%|█████████▊| 60000/61371 [00:12<00:01, 1161.70 examples/s]"
     ]
    },
    {
     "name": "stderr",
     "output_type": "stream",
     "text": [
      "\r\n",
      "Map:  99%|█████████▉| 60802/61371 [00:12<00:00, 1596.02 examples/s]"
     ]
    },
    {
     "name": "stderr",
     "output_type": "stream",
     "text": [
      "\r\n",
      "Map: 100%|██████████| 61371/61371 [00:12<00:00, 1754.65 examples/s]"
     ]
    },
    {
     "name": "stderr",
     "output_type": "stream",
     "text": [
      "\r\n",
      "Map: 100%|██████████| 61371/61371 [00:13<00:00, 4697.90 examples/s]"
     ]
    },
    {
     "name": "stderr",
     "output_type": "stream",
     "text": [
      "\n"
     ]
    },
    {
     "name": "stdout",
     "output_type": "stream",
     "text": [
      "              precision    recall  f1-score   support\n",
      "\n",
      "       B-LOC       0.82      0.89      0.86     17495\n",
      "      B-MISC       0.64      0.73      0.68     10657\n",
      "       B-ORG       0.64      0.68      0.66     13041\n",
      "       B-PER       0.90      0.92      0.91     15547\n",
      "       I-LOC       0.70      0.66      0.68      5367\n",
      "      I-MISC       0.64      0.39      0.48      7305\n",
      "       I-ORG       0.91      0.70      0.79     18313\n",
      "       I-PER       0.95      0.87      0.91     11086\n",
      "           O       0.99      0.99      0.99   1011383\n",
      "\n",
      "    accuracy                           0.97   1110194\n",
      "   macro avg       0.80      0.76      0.77   1110194\n",
      "weighted avg       0.97      0.97      0.97   1110194\n",
      "\n"
     ]
    },
    {
     "name": "stderr",
     "output_type": "stream",
     "text": [
      "Some weights of BertForTokenClassification were not initialized from the model checkpoint at bert-base-cased and are newly initialized: ['classifier.bias', 'classifier.weight']\n",
      "You should probably TRAIN this model on a down-stream task to be able to use it for predictions and inference.\n"
     ]
    },
    {
     "name": "stderr",
     "output_type": "stream",
     "text": [
      "/scratch/1051127/ipykernel_196401/2779880192.py:29: FutureWarning: `tokenizer` is deprecated and will be removed in version 5.0.0 for `Trainer.__init__`. Use `processing_class` instead.\n",
      "  seed_trainer = Trainer(\n"
     ]
    },
    {
     "data": {
      "text/html": [
       "\n",
       "    <div>\n",
       "      \n",
       "      <progress value='3114' max='3114' style='width:300px; height:20px; vertical-align: middle;'></progress>\n",
       "      [3114/3114 04:32, Epoch 3/3]\n",
       "    </div>\n",
       "    <table border=\"1\" class=\"dataframe\">\n",
       "  <thead>\n",
       " <tr style=\"text-align: left;\">\n",
       "      <th>Step</th>\n",
       "      <th>Training Loss</th>\n",
       "    </tr>\n",
       "  </thead>\n",
       "  <tbody>\n",
       "    <tr>\n",
       "      <td>1000</td>\n",
       "      <td>0.176200</td>\n",
       "    </tr>\n",
       "    <tr>\n",
       "      <td>2000</td>\n",
       "      <td>0.053600</td>\n",
       "    </tr>\n",
       "    <tr>\n",
       "      <td>3000</td>\n",
       "      <td>0.032200</td>\n",
       "    </tr>\n",
       "  </tbody>\n",
       "</table><p>"
      ],
      "text/plain": [
       "<IPython.core.display.HTML object>"
      ]
     },
     "metadata": {},
     "output_type": "display_data"
    },
    {
     "data": {
      "text/html": [],
      "text/plain": [
       "<IPython.core.display.HTML object>"
      ]
     },
     "metadata": {},
     "output_type": "display_data"
    },
    {
     "name": "stderr",
     "output_type": "stream",
     "text": [
      "\r\n",
      "Map:   0%|          | 0/61371 [00:00<?, ? examples/s]"
     ]
    },
    {
     "name": "stderr",
     "output_type": "stream",
     "text": [
      "\r\n",
      "Map:   1%|▏         | 770/61371 [00:00<00:07, 7613.28 examples/s]"
     ]
    },
    {
     "name": "stderr",
     "output_type": "stream",
     "text": [
      "\r\n",
      "Map:   3%|▎         | 1606/61371 [00:00<00:10, 5710.46 examples/s]"
     ]
    },
    {
     "name": "stderr",
     "output_type": "stream",
     "text": [
      "\r\n",
      "Map:   4%|▍         | 2450/61371 [00:00<00:10, 5431.55 examples/s]"
     ]
    },
    {
     "name": "stderr",
     "output_type": "stream",
     "text": [
      "\r\n",
      "Map:   6%|▌         | 3441/61371 [00:00<00:09, 5842.16 examples/s]"
     ]
    },
    {
     "name": "stderr",
     "output_type": "stream",
     "text": [
      "\r\n",
      "Map:   7%|▋         | 4475/61371 [00:00<00:09, 6165.27 examples/s]"
     ]
    },
    {
     "name": "stderr",
     "output_type": "stream",
     "text": [
      "\r\n",
      "Map:   9%|▉         | 5407/61371 [00:00<00:09, 6180.11 examples/s]"
     ]
    },
    {
     "name": "stderr",
     "output_type": "stream",
     "text": [
      "\r\n",
      "Map:  10%|█         | 6400/61371 [00:01<00:09, 5992.81 examples/s]"
     ]
    },
    {
     "name": "stderr",
     "output_type": "stream",
     "text": [
      "\r\n",
      "Map:  12%|█▏        | 7270/61371 [00:01<00:09, 5726.05 examples/s]"
     ]
    },
    {
     "name": "stderr",
     "output_type": "stream",
     "text": [
      "\r\n",
      "Map:  13%|█▎        | 8000/61371 [00:01<00:10, 5073.27 examples/s]"
     ]
    },
    {
     "name": "stderr",
     "output_type": "stream",
     "text": [
      "\r\n",
      "Map:  14%|█▍        | 8876/61371 [00:01<00:08, 5834.68 examples/s]"
     ]
    },
    {
     "name": "stderr",
     "output_type": "stream",
     "text": [
      "\r\n",
      "Map:  16%|█▌        | 9760/61371 [00:01<00:08, 5772.65 examples/s]"
     ]
    },
    {
     "name": "stderr",
     "output_type": "stream",
     "text": [
      "\r\n",
      "Map:  17%|█▋        | 10424/61371 [00:01<00:09, 5649.47 examples/s]"
     ]
    },
    {
     "name": "stderr",
     "output_type": "stream",
     "text": [
      "\r\n",
      "Map:  18%|█▊        | 11339/61371 [00:01<00:08, 5639.98 examples/s]"
     ]
    },
    {
     "name": "stderr",
     "output_type": "stream",
     "text": [
      "\r\n",
      "Map:  20%|█▉        | 11995/61371 [00:02<00:08, 5845.31 examples/s]"
     ]
    },
    {
     "name": "stderr",
     "output_type": "stream",
     "text": [
      "\r\n",
      "Map:  21%|██        | 12779/61371 [00:02<00:08, 5641.84 examples/s]"
     ]
    },
    {
     "name": "stderr",
     "output_type": "stream",
     "text": [
      "\r\n",
      "Map:  22%|██▏       | 13409/61371 [00:02<00:08, 5497.75 examples/s]"
     ]
    },
    {
     "name": "stderr",
     "output_type": "stream",
     "text": [
      "\r\n",
      "Map:  23%|██▎       | 14000/61371 [00:02<00:08, 5471.80 examples/s]"
     ]
    },
    {
     "name": "stderr",
     "output_type": "stream",
     "text": [
      "\r\n",
      "Map:  24%|██▍       | 14776/61371 [00:02<00:07, 6048.22 examples/s]"
     ]
    },
    {
     "name": "stderr",
     "output_type": "stream",
     "text": [
      "\r\n",
      "Map:  26%|██▌       | 15710/61371 [00:02<00:07, 5819.53 examples/s]"
     ]
    },
    {
     "name": "stderr",
     "output_type": "stream",
     "text": [
      "\r\n",
      "Map:  27%|██▋       | 16390/61371 [00:02<00:08, 5558.83 examples/s]"
     ]
    },
    {
     "name": "stderr",
     "output_type": "stream",
     "text": [
      "\r\n",
      "Map:  28%|██▊       | 17000/61371 [00:02<00:08, 5395.93 examples/s]"
     ]
    },
    {
     "name": "stderr",
     "output_type": "stream",
     "text": [
      "\r\n",
      "Map:  29%|██▉       | 17756/61371 [00:03<00:07, 5926.27 examples/s]"
     ]
    },
    {
     "name": "stderr",
     "output_type": "stream",
     "text": [
      "\r\n",
      "Map:  30%|██▉       | 18377/61371 [00:03<00:07, 5619.28 examples/s]"
     ]
    },
    {
     "name": "stderr",
     "output_type": "stream",
     "text": [
      "\r\n",
      "Map:  31%|███       | 19000/61371 [00:03<00:07, 5433.73 examples/s]"
     ]
    },
    {
     "name": "stderr",
     "output_type": "stream",
     "text": [
      "\r\n",
      "Map:  32%|███▏      | 19741/61371 [00:03<00:07, 5941.37 examples/s]"
     ]
    },
    {
     "name": "stderr",
     "output_type": "stream",
     "text": [
      "\r\n",
      "Map:  33%|███▎      | 20386/61371 [00:03<00:07, 5671.95 examples/s]"
     ]
    },
    {
     "name": "stderr",
     "output_type": "stream",
     "text": [
      "\r\n",
      "Map:  34%|███▍      | 21000/61371 [00:03<00:07, 5504.88 examples/s]"
     ]
    },
    {
     "name": "stderr",
     "output_type": "stream",
     "text": [
      "\r\n",
      "Map:  35%|███▌      | 21648/61371 [00:03<00:06, 5759.93 examples/s]"
     ]
    },
    {
     "name": "stderr",
     "output_type": "stream",
     "text": [
      "\r\n",
      "Map:  37%|███▋      | 22420/61371 [00:03<00:07, 5500.79 examples/s]"
     ]
    },
    {
     "name": "stderr",
     "output_type": "stream",
     "text": [
      "\r\n",
      "Map:  37%|███▋      | 23000/61371 [00:04<00:07, 5369.99 examples/s]"
     ]
    },
    {
     "name": "stderr",
     "output_type": "stream",
     "text": [
      "\r\n",
      "Map:  39%|███▊      | 23770/61371 [00:04<00:06, 5972.55 examples/s]"
     ]
    },
    {
     "name": "stderr",
     "output_type": "stream",
     "text": [
      "\r\n",
      "Map:  40%|████      | 24760/61371 [00:04<00:06, 5880.26 examples/s]"
     ]
    },
    {
     "name": "stderr",
     "output_type": "stream",
     "text": [
      "\r\n",
      "Map:  41%|████▏     | 25398/61371 [00:04<00:06, 5603.21 examples/s]"
     ]
    },
    {
     "name": "stderr",
     "output_type": "stream",
     "text": [
      "\r\n",
      "Map:  42%|████▏     | 26000/61371 [00:04<00:06, 5460.41 examples/s]"
     ]
    },
    {
     "name": "stderr",
     "output_type": "stream",
     "text": [
      "\r\n",
      "Map:  43%|████▎     | 26589/61371 [00:04<00:06, 5566.31 examples/s]"
     ]
    },
    {
     "name": "stderr",
     "output_type": "stream",
     "text": [
      "\r\n",
      "Map:  45%|████▍     | 27374/61371 [00:04<00:06, 5226.72 examples/s]"
     ]
    },
    {
     "name": "stderr",
     "output_type": "stream",
     "text": [
      "\r\n",
      "Map:  46%|████▌     | 28000/61371 [00:04<00:06, 5144.30 examples/s]"
     ]
    },
    {
     "name": "stderr",
     "output_type": "stream",
     "text": [
      "\r\n",
      "Map:  47%|████▋     | 28851/61371 [00:05<00:05, 5968.85 examples/s]"
     ]
    },
    {
     "name": "stderr",
     "output_type": "stream",
     "text": [
      "\r\n",
      "Map:  49%|████▊     | 29872/61371 [00:05<00:05, 6114.35 examples/s]"
     ]
    },
    {
     "name": "stderr",
     "output_type": "stream",
     "text": [
      "\r\n",
      "Map:  50%|█████     | 30813/61371 [00:05<00:05, 6064.63 examples/s]"
     ]
    },
    {
     "name": "stderr",
     "output_type": "stream",
     "text": [
      "\r\n",
      "Map:  52%|█████▏    | 31782/61371 [00:05<00:05, 5886.85 examples/s]"
     ]
    },
    {
     "name": "stderr",
     "output_type": "stream",
     "text": [
      "\r\n",
      "Map:  53%|█████▎    | 32711/61371 [00:05<00:05, 5729.08 examples/s]"
     ]
    },
    {
     "name": "stderr",
     "output_type": "stream",
     "text": [
      "\r\n",
      "Map:  55%|█████▍    | 33582/61371 [00:05<00:05, 5380.06 examples/s]"
     ]
    },
    {
     "name": "stderr",
     "output_type": "stream",
     "text": [
      "\r\n",
      "Map:  56%|█████▌    | 34426/61371 [00:06<00:05, 5241.94 examples/s]"
     ]
    },
    {
     "name": "stderr",
     "output_type": "stream",
     "text": [
      "\r\n",
      "Map:  57%|█████▋    | 35000/61371 [00:06<00:05, 5208.86 examples/s]"
     ]
    },
    {
     "name": "stderr",
     "output_type": "stream",
     "text": [
      "\r\n",
      "Map:  58%|█████▊    | 35799/61371 [00:06<00:04, 5820.90 examples/s]"
     ]
    },
    {
     "name": "stderr",
     "output_type": "stream",
     "text": [
      "\r\n",
      "Map:  59%|█████▉    | 36438/61371 [00:06<00:04, 5713.40 examples/s]"
     ]
    },
    {
     "name": "stderr",
     "output_type": "stream",
     "text": [
      "\r\n",
      "Map:  61%|██████    | 37400/61371 [00:06<00:04, 5800.21 examples/s]"
     ]
    },
    {
     "name": "stderr",
     "output_type": "stream",
     "text": [
      "\r\n",
      "Map:  62%|██████▏   | 38000/61371 [00:06<00:04, 5549.62 examples/s]"
     ]
    },
    {
     "name": "stderr",
     "output_type": "stream",
     "text": [
      "\r\n",
      "Map:  63%|██████▎   | 38785/61371 [00:06<00:03, 6103.09 examples/s]"
     ]
    },
    {
     "name": "stderr",
     "output_type": "stream",
     "text": [
      "\r\n",
      "Map:  65%|██████▍   | 39746/61371 [00:06<00:03, 5932.53 examples/s]"
     ]
    },
    {
     "name": "stderr",
     "output_type": "stream",
     "text": [
      "\r\n",
      "Map:  66%|██████▌   | 40616/61371 [00:07<00:03, 5569.23 examples/s]"
     ]
    },
    {
     "name": "stderr",
     "output_type": "stream",
     "text": [
      "\r\n",
      "Map:  68%|██████▊   | 41436/61371 [00:07<00:03, 5426.25 examples/s]"
     ]
    },
    {
     "name": "stderr",
     "output_type": "stream",
     "text": [
      "\r\n",
      "Map:  68%|██████▊   | 42000/61371 [00:07<00:03, 5434.86 examples/s]"
     ]
    },
    {
     "name": "stderr",
     "output_type": "stream",
     "text": [
      "\r\n",
      "Map:  70%|██████▉   | 42860/61371 [00:07<00:02, 6182.45 examples/s]"
     ]
    },
    {
     "name": "stderr",
     "output_type": "stream",
     "text": [
      "\r\n",
      "Map:  71%|███████▏  | 43728/61371 [00:07<00:02, 5938.09 examples/s]"
     ]
    },
    {
     "name": "stderr",
     "output_type": "stream",
     "text": [
      "\r\n",
      "Map:  73%|███████▎  | 44574/61371 [00:07<00:03, 5430.27 examples/s]"
     ]
    },
    {
     "name": "stderr",
     "output_type": "stream",
     "text": [
      "\r\n",
      "Map:  74%|███████▍  | 45389/61371 [00:08<00:03, 5183.16 examples/s]"
     ]
    },
    {
     "name": "stderr",
     "output_type": "stream",
     "text": [
      "\r\n",
      "Map:  75%|███████▍  | 46000/61371 [00:08<00:02, 5162.82 examples/s]"
     ]
    },
    {
     "name": "stderr",
     "output_type": "stream",
     "text": [
      "\r\n",
      "Map:  76%|███████▌  | 46748/61371 [00:08<00:02, 5685.61 examples/s]"
     ]
    },
    {
     "name": "stderr",
     "output_type": "stream",
     "text": [
      "\r\n",
      "Map:  77%|███████▋  | 47346/61371 [00:08<00:02, 5391.53 examples/s]"
     ]
    },
    {
     "name": "stderr",
     "output_type": "stream",
     "text": [
      "\r\n",
      "Map:  78%|███████▊  | 48000/61371 [00:08<00:02, 5109.89 examples/s]"
     ]
    },
    {
     "name": "stderr",
     "output_type": "stream",
     "text": [
      "\r\n",
      "Map:  79%|███████▉  | 48754/61371 [00:08<00:02, 5694.23 examples/s]"
     ]
    },
    {
     "name": "stderr",
     "output_type": "stream",
     "text": [
      "\r\n",
      "Map:  81%|████████  | 49621/61371 [00:08<00:02, 5366.79 examples/s]"
     ]
    },
    {
     "name": "stderr",
     "output_type": "stream",
     "text": [
      "\r\n",
      "Map:  82%|████████▏ | 50330/61371 [00:08<00:02, 5096.32 examples/s]"
     ]
    },
    {
     "name": "stderr",
     "output_type": "stream",
     "text": [
      "\r\n",
      "Map:  83%|████████▎ | 51000/61371 [00:09<00:02, 4974.24 examples/s]"
     ]
    },
    {
     "name": "stderr",
     "output_type": "stream",
     "text": [
      "\r\n",
      "Map:  84%|████████▍ | 51713/61371 [00:09<00:01, 5464.11 examples/s]"
     ]
    },
    {
     "name": "stderr",
     "output_type": "stream",
     "text": [
      "\r\n",
      "Map:  85%|████████▌ | 52432/61371 [00:09<00:01, 5432.17 examples/s]"
     ]
    },
    {
     "name": "stderr",
     "output_type": "stream",
     "text": [
      "\r\n",
      "Map:  86%|████████▋ | 53000/61371 [00:09<00:01, 5380.45 examples/s]"
     ]
    },
    {
     "name": "stderr",
     "output_type": "stream",
     "text": [
      "\r\n",
      "Map:  88%|████████▊ | 53782/61371 [00:09<00:01, 6001.34 examples/s]"
     ]
    },
    {
     "name": "stderr",
     "output_type": "stream",
     "text": [
      "\r\n",
      "Map:  89%|████████▉ | 54653/61371 [00:09<00:01, 5639.05 examples/s]"
     ]
    },
    {
     "name": "stderr",
     "output_type": "stream",
     "text": [
      "\r\n",
      "Map:  90%|█████████ | 55446/61371 [00:09<00:01, 5523.58 examples/s]"
     ]
    },
    {
     "name": "stderr",
     "output_type": "stream",
     "text": [
      "\r\n",
      "Map:  92%|█████████▏| 56406/61371 [00:10<00:00, 5709.54 examples/s]"
     ]
    },
    {
     "name": "stderr",
     "output_type": "stream",
     "text": [
      "\r\n",
      "Map:  93%|█████████▎| 57000/61371 [00:10<00:00, 5588.08 examples/s]"
     ]
    },
    {
     "name": "stderr",
     "output_type": "stream",
     "text": [
      "\r\n",
      "Map:  94%|█████████▍| 57709/61371 [00:10<00:00, 5946.82 examples/s]"
     ]
    },
    {
     "name": "stderr",
     "output_type": "stream",
     "text": [
      "\r\n",
      "Map:  95%|█████████▌| 58554/61371 [00:10<00:00, 5362.08 examples/s]"
     ]
    },
    {
     "name": "stderr",
     "output_type": "stream",
     "text": [
      "\r\n",
      "Map:  97%|█████████▋| 59390/61371 [00:10<00:00, 5003.71 examples/s]"
     ]
    },
    {
     "name": "stderr",
     "output_type": "stream",
     "text": [
      "\r\n",
      "Map:  98%|█████████▊| 60000/61371 [00:15<00:02, 514.30 examples/s] "
     ]
    },
    {
     "name": "stderr",
     "output_type": "stream",
     "text": [
      "\r\n",
      "Map:  99%|█████████▉| 60798/61371 [00:15<00:00, 731.05 examples/s]"
     ]
    },
    {
     "name": "stderr",
     "output_type": "stream",
     "text": [
      "\r\n",
      "Map: 100%|██████████| 61371/61371 [00:15<00:00, 892.91 examples/s]"
     ]
    },
    {
     "name": "stderr",
     "output_type": "stream",
     "text": [
      "\r\n",
      "Map: 100%|██████████| 61371/61371 [00:15<00:00, 3947.61 examples/s]"
     ]
    },
    {
     "name": "stderr",
     "output_type": "stream",
     "text": [
      "\n"
     ]
    },
    {
     "name": "stdout",
     "output_type": "stream",
     "text": [
      "              precision    recall  f1-score   support\n",
      "\n",
      "       B-LOC       0.84      0.89      0.86     17495\n",
      "      B-MISC       0.63      0.73      0.67     10657\n",
      "       B-ORG       0.65      0.68      0.66     13041\n",
      "       B-PER       0.90      0.92      0.91     15547\n",
      "       I-LOC       0.70      0.66      0.68      5367\n",
      "      I-MISC       0.66      0.35      0.46      7305\n",
      "       I-ORG       0.92      0.71      0.80     18313\n",
      "       I-PER       0.95      0.87      0.91     11086\n",
      "           O       0.99      0.99      0.99   1011383\n",
      "\n",
      "    accuracy                           0.97   1110194\n",
      "   macro avg       0.80      0.76      0.77   1110194\n",
      "weighted avg       0.97      0.97      0.97   1110194\n",
      "\n"
     ]
    }
   ],
   "source": [
    "seeds = [33, 42, 57, 106, 812, ]\n",
    "results = []\n",
    "\n",
    "for seed in seeds:\n",
    "    set_seed(seed)\n",
    "\n",
    "    seed_model = AutoModelForTokenClassification.from_pretrained(\n",
    "        model_name,\n",
    "        num_labels=len(conll_label_to_id)\n",
    "    )\n",
    "\n",
    "    seed_args = TrainingArguments(\n",
    "        output_dir=f\"./output/{seed}\",\n",
    "        seed=seed,\n",
    "        eval_strategy=\"no\",\n",
    "        learning_rate=2e-5,\n",
    "        per_device_train_batch_size=8,\n",
    "        per_device_eval_batch_size=8,\n",
    "        gradient_accumulation_steps=2,\n",
    "        num_train_epochs=3,\n",
    "        weight_decay=0.01,\n",
    "        load_best_model_at_end=True,\n",
    "        report_to=\"none\",\n",
    "        fp16=True,\n",
    "        logging_steps=1000,\n",
    "        save_strategy=\"no\",\n",
    "    )\n",
    "\n",
    "    seed_trainer = Trainer(\n",
    "        model=seed_model,\n",
    "        args=seed_args,\n",
    "        train_dataset=train_data,\n",
    "        eval_dataset=test_data,\n",
    "        tokenizer=tokenizer,\n",
    "        data_collator=data_collator,\n",
    "        compute_metrics=compute_metrics,\n",
    "    )\n",
    "\n",
    "    seed_trainer.train()\n",
    "\n",
    "    pred = seed_trainer.predict(test_data)\n",
    "\n",
    "    x, y = evaluate_predictions(pred, test_data)\n",
    "    eval_result = {'predictions': x, 'seed': seed}\n",
    "    results.append(eval_result)\n",
    "    with open(f'./results/{model_name}_{train_data_name}_seed_var_results.pkl', 'wb') as f:\n",
    "        pickle.dump(results, f)"
   ]
  },
  {
   "cell_type": "code",
   "execution_count": 31,
   "id": "ee9a317a-7bc8-4283-80e2-dc82360cbe9b",
   "metadata": {
    "execution": {
     "iopub.execute_input": "2025-06-14T18:46:40.527854Z",
     "iopub.status.busy": "2025-06-14T18:46:40.527647Z",
     "iopub.status.idle": "2025-06-14T18:46:40.955015Z",
     "shell.execute_reply": "2025-06-14T18:46:40.954529Z"
    }
   },
   "outputs": [],
   "source": [
    "with open(f'./results/{model_name}_{train_data_name}_seed_var_results.pkl', 'rb') as f:\n",
    "    seed_res = pickle.load(f)"
   ]
  },
  {
   "cell_type": "code",
   "execution_count": 32,
   "id": "9c499fcf-70b1-46d4-b0b9-8217b0c17d36",
   "metadata": {
    "execution": {
     "iopub.execute_input": "2025-06-14T18:46:40.957197Z",
     "iopub.status.busy": "2025-06-14T18:46:40.957040Z",
     "iopub.status.idle": "2025-06-14T18:47:02.155340Z",
     "shell.execute_reply": "2025-06-14T18:47:02.154766Z"
    }
   },
   "outputs": [
    {
     "name": "stdout",
     "output_type": "stream",
     "text": [
      "Cohen's kappa between seed 0 and seed 1: 0.968839\n"
     ]
    },
    {
     "name": "stdout",
     "output_type": "stream",
     "text": [
      "Cohen's kappa between seed 0 and seed 2: 0.967721\n"
     ]
    },
    {
     "name": "stdout",
     "output_type": "stream",
     "text": [
      "Cohen's kappa between seed 0 and seed 3: 0.969990\n"
     ]
    },
    {
     "name": "stdout",
     "output_type": "stream",
     "text": [
      "Cohen's kappa between seed 0 and seed 4: 0.968262\n"
     ]
    },
    {
     "name": "stdout",
     "output_type": "stream",
     "text": [
      "Cohen's kappa between seed 1 and seed 2: 0.968510\n"
     ]
    },
    {
     "name": "stdout",
     "output_type": "stream",
     "text": [
      "Cohen's kappa between seed 1 and seed 3: 0.968212\n"
     ]
    },
    {
     "name": "stdout",
     "output_type": "stream",
     "text": [
      "Cohen's kappa between seed 1 and seed 4: 0.969408\n"
     ]
    },
    {
     "name": "stdout",
     "output_type": "stream",
     "text": [
      "Cohen's kappa between seed 2 and seed 3: 0.967933\n"
     ]
    },
    {
     "name": "stdout",
     "output_type": "stream",
     "text": [
      "Cohen's kappa between seed 2 and seed 4: 0.966671\n"
     ]
    },
    {
     "name": "stdout",
     "output_type": "stream",
     "text": [
      "Cohen's kappa between seed 3 and seed 4: 0.967895\n",
      "\n",
      "Average Cohen's kappa across all pairs: 0.968344\n"
     ]
    }
   ],
   "source": [
    "kappa_scores = []\n",
    "\n",
    "for i, j in combinations(range(len(seed_res)), 2):\n",
    "    preds_i = seed_res[i]['predictions']\n",
    "    preds_j = seed_res[j]['predictions']\n",
    "\n",
    "    kappa = cohen_kappa_score(preds_i, preds_j)\n",
    "    kappa_scores.append(kappa)\n",
    "\n",
    "    print(f\"Cohen's kappa between seed {i} and seed {j}: {kappa:.6f}\")\n",
    "\n",
    "average_kappa = sum(kappa_scores) / len(kappa_scores)\n",
    "print(f\"\\nAverage Cohen's kappa across all pairs: {average_kappa:.6f}\")"
   ]
  },
  {
   "cell_type": "code",
   "execution_count": 33,
   "id": "edf15a7d-d0a4-48fb-be53-2330aec4f100",
   "metadata": {
    "execution": {
     "iopub.execute_input": "2025-06-14T18:47:02.157274Z",
     "iopub.status.busy": "2025-06-14T18:47:02.156976Z",
     "iopub.status.idle": "2025-06-14T18:47:04.900603Z",
     "shell.execute_reply": "2025-06-14T18:47:04.900106Z"
    }
   },
   "outputs": [
    {
     "name": "stdout",
     "output_type": "stream",
     "text": [
      "\n",
      "Krippendorff’s alpha (nominal): 0.9683\n"
     ]
    }
   ],
   "source": [
    "data = np.array([seed['predictions'] for seed in seed_res])\n",
    "\n",
    "alpha = krippendorff.alpha(reliability_data=data,\n",
    "                           level_of_measurement='nominal')\n",
    "\n",
    "print(f\"\\nKrippendorff’s alpha (nominal): {alpha:.4f}\")"
   ]
  }
 ],
 "metadata": {
  "kernelspec": {
   "display_name": "Python 3 (ipykernel)",
   "language": "python",
   "name": "python3"
  },
  "language_info": {
   "codemirror_mode": {
    "name": "ipython",
    "version": 3
   },
   "file_extension": ".py",
   "mimetype": "text/x-python",
   "name": "python",
   "nbconvert_exporter": "python",
   "pygments_lexer": "ipython3",
   "version": "3.12.3"
  }
 },
 "nbformat": 4,
 "nbformat_minor": 5
}
