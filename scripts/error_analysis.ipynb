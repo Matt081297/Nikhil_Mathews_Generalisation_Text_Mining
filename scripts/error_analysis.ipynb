{
 "cells": [
  {
   "cell_type": "code",
   "execution_count": 1,
   "id": "292f2f20-ea3f-49de-8214-bcc7e1f93d7a",
   "metadata": {
    "execution": {
     "iopub.execute_input": "2025-06-18T11:30:12.928196Z",
     "iopub.status.busy": "2025-06-18T11:30:12.927195Z",
     "iopub.status.idle": "2025-06-18T11:32:55.938025Z",
     "shell.execute_reply": "2025-06-18T11:32:55.938025Z",
     "shell.execute_reply.started": "2025-06-18T11:30:12.928196Z"
    }
   },
   "outputs": [
    {
     "name": "stdout",
     "output_type": "stream",
     "text": [
      "WARNING:tensorflow:From E:\\Software\\Anaconda\\Lib\\site-packages\\tf_keras\\src\\losses.py:2976: The name tf.losses.sparse_softmax_cross_entropy is deprecated. Please use tf.compat.v1.losses.sparse_softmax_cross_entropy instead.\n",
      "\n"
     ]
    }
   ],
   "source": [
    "import csv\n",
    "import json\n",
    "import random\n",
    "import re\n",
    "from collections import Counter, defaultdict\n",
    "\n",
    "import matplotlib.pyplot as plt\n",
    "import matplotlib.ticker as mtick\n",
    "import numpy as np\n",
    "import pandas as pd\n",
    "import seaborn as sns\n",
    "\n",
    "import torch\n",
    "\n",
    "from datasets import (\n",
    "    Dataset,\n",
    "    DatasetDict,\n",
    "    concatenate_datasets,\n",
    "    load_dataset,\n",
    "    load_from_disk,\n",
    ")\n",
    "from transformers import (\n",
    "    AutoModelForTokenClassification,\n",
    "    AutoTokenizer,\n",
    "    DataCollatorForTokenClassification,\n",
    "    Trainer,\n",
    "    TrainingArguments,\n",
    "    set_seed,\n",
    ")\n",
    "\n",
    "import evaluate\n",
    "\n",
    "from nameparser import HumanName\n",
    "from names_dataset import NameDataset, NameWrapper\n",
    "from ethnicseer import EthnicClassifier\n",
    "import nltk\n",
    "from nltk.corpus import wordnet as wn\n",
    "\n",
    "import pycountry_convert as pc\n",
    "import pycountry\n",
    "import pickle\n",
    "\n",
    "from sklearn.metrics import confusion_matrix, ConfusionMatrixDisplay, classification_report, cohen_kappa_score\n",
    "\n",
    "from transformers import BertTokenizerFast, BertForTokenClassification\n",
    "from datasets import ClassLabel\n",
    "from evaluate import load as load_metric\n",
    "from sklearn.metrics import cohen_kappa_score\n",
    "from itertools import combinations\n",
    "import krippendorff"
   ]
  },
  {
   "cell_type": "code",
   "execution_count": 2,
   "id": "48eb048a-53fd-433f-b635-cd24a981c3ba",
   "metadata": {
    "execution": {
     "iopub.execute_input": "2025-06-18T11:32:55.938025Z",
     "iopub.status.busy": "2025-06-18T11:32:55.938025Z",
     "iopub.status.idle": "2025-06-18T11:32:56.930154Z",
     "shell.execute_reply": "2025-06-18T11:32:56.930154Z",
     "shell.execute_reply.started": "2025-06-18T11:32:55.938025Z"
    }
   },
   "outputs": [],
   "source": [
    "conll_main = load_from_disk(\"../splits/conll_main\")\n",
    "\n",
    "ontonotes_main = load_from_disk(\"../splits/ontonotes_main\")"
   ]
  },
  {
   "cell_type": "code",
   "execution_count": 8,
   "id": "dcd39e85-4ec9-4d6d-8764-1d98e5c34899",
   "metadata": {
    "execution": {
     "iopub.execute_input": "2025-06-18T11:41:59.810426Z",
     "iopub.status.busy": "2025-06-18T11:41:59.810426Z",
     "iopub.status.idle": "2025-06-18T11:42:04.672569Z",
     "shell.execute_reply": "2025-06-18T11:42:04.671396Z",
     "shell.execute_reply.started": "2025-06-18T11:41:59.810426Z"
    }
   },
   "outputs": [],
   "source": [
    "df = pd.read_excel(\n",
    "    \"../Guided-Adversarial-Augmentation-main/Guided-Adversarial-Augmentation-main/data/data/conll2003/challenge_set.xlsx\", header=None)"
   ]
  },
  {
   "cell_type": "code",
   "execution_count": 9,
   "id": "8bed92ec-108b-4372-a441-90588abb04a3",
   "metadata": {
    "execution": {
     "iopub.execute_input": "2025-06-18T11:42:13.879098Z",
     "iopub.status.busy": "2025-06-18T11:42:13.879098Z",
     "iopub.status.idle": "2025-06-18T11:42:14.930672Z",
     "shell.execute_reply": "2025-06-18T11:42:14.929665Z",
     "shell.execute_reply.started": "2025-06-18T11:42:13.879098Z"
    }
   },
   "outputs": [],
   "source": [
    "examples = []\n",
    "\n",
    "i = 0\n",
    "while i < len(df):\n",
    "    row = df.iloc[i]\n",
    "    if str(row[0]).startswith(\"GUID\"):\n",
    "\n",
    "        guid = str(df.iloc[i][1]).strip()\n",
    "\n",
    "        try:\n",
    "            quality = int(str(df.iloc[i+1][1]).strip())\n",
    "        except (ValueError, TypeError):\n",
    "            quality = 999\n",
    "\n",
    "        try:\n",
    "            aug_type = int(str(df.iloc[i+2][1]).strip())\n",
    "        except (ValueError, TypeError):\n",
    "            aug_type = 999\n",
    "\n",
    "        tokens_row = df.iloc[i+3].dropna().tolist()[1:]\n",
    "        labels_row = df.iloc[i+4].dropna().tolist()[1:]\n",
    "        labels_row = [label.strip()\n",
    "                      for label in labels_row if label.strip() != \"\"]\n",
    "\n",
    "        if len(tokens_row) == len(labels_row):\n",
    "            examples.append({\n",
    "                \"guid\": guid,\n",
    "                \"quality\": quality,\n",
    "                \"aug_type\": aug_type,\n",
    "                \"tokens\": tokens_row,\n",
    "                \"labels\": labels_row\n",
    "            })\n",
    "\n",
    "        i += 6\n",
    "    else:\n",
    "        i += 1\n",
    "\n",
    "challenge_dataset = Dataset.from_list(examples)"
   ]
  },
  {
   "cell_type": "code",
   "execution_count": 31,
   "id": "b428da72-b126-4cf0-8e26-2a63ffcdf596",
   "metadata": {
    "execution": {
     "iopub.execute_input": "2025-06-18T12:00:48.938055Z",
     "iopub.status.busy": "2025-06-18T12:00:48.934283Z",
     "iopub.status.idle": "2025-06-18T12:00:48.947920Z",
     "shell.execute_reply": "2025-06-18T12:00:48.945880Z",
     "shell.execute_reply.started": "2025-06-18T12:00:48.938055Z"
    }
   },
   "outputs": [],
   "source": [
    "# Label mapping\n",
    "conll_label_to_id = {\n",
    "    'O': 0,\n",
    "    'B-PER': 1, 'I-PER': 2,\n",
    "    'B-ORG': 3, 'I-ORG': 4,\n",
    "    'B-LOC': 5, 'I-LOC': 6,\n",
    "    'B-MISC': 7, 'I-MISC': 8,\n",
    "}\n",
    "\n",
    "# Reverse the dict: id → label\n",
    "id_to_conll_label = {v: k for k, v in conll_label_to_id.items()}"
   ]
  },
  {
   "cell_type": "code",
   "execution_count": 32,
   "id": "f09411b5-ad5a-460e-848e-0531c96898de",
   "metadata": {
    "execution": {
     "iopub.execute_input": "2025-06-18T12:02:54.834761Z",
     "iopub.status.busy": "2025-06-18T12:02:54.834761Z",
     "iopub.status.idle": "2025-06-18T12:03:02.603655Z",
     "shell.execute_reply": "2025-06-18T12:03:02.602642Z",
     "shell.execute_reply.started": "2025-06-18T12:02:54.834761Z"
    },
    "scrolled": true
   },
   "outputs": [
    {
     "data": {
      "application/vnd.jupyter.widget-view+json": {
       "model_id": "971c91dc2a584b7980bcc1f4bf8dea55",
       "version_major": 2,
       "version_minor": 0
      },
      "text/plain": [
       "Map:   0%|          | 0/1418 [00:00<?, ? examples/s]"
      ]
     },
     "metadata": {},
     "output_type": "display_data"
    },
    {
     "data": {
      "application/vnd.jupyter.widget-view+json": {
       "model_id": "f7d7c021a9d64c0a9042faf24d0b46be",
       "version_major": 2,
       "version_minor": 0
      },
      "text/plain": [
       "Map:   0%|          | 0/1418 [00:00<?, ? examples/s]"
      ]
     },
     "metadata": {},
     "output_type": "display_data"
    },
    {
     "data": {
      "application/vnd.jupyter.widget-view+json": {
       "model_id": "a61d9d9a61fd4f5b974227a65fe561f2",
       "version_major": 2,
       "version_minor": 0
      },
      "text/plain": [
       "Map:   0%|          | 0/1418 [00:00<?, ? examples/s]"
      ]
     },
     "metadata": {},
     "output_type": "display_data"
    },
    {
     "data": {
      "application/vnd.jupyter.widget-view+json": {
       "model_id": "3bb65fecd5b749659351cd9f411c2abf",
       "version_major": 2,
       "version_minor": 0
      },
      "text/plain": [
       "Map:   0%|          | 0/1418 [00:00<?, ? examples/s]"
      ]
     },
     "metadata": {},
     "output_type": "display_data"
    }
   ],
   "source": [
    "from pathlib import Path\n",
    "import pickle\n",
    "from datasets import Dataset, Features, Sequence, Value\n",
    "\n",
    "for model_name in ['bert-base-cased', 'bert-base-uncased']:\n",
    "    for train_data_name in ['conll', 'onto']:\n",
    "        pred_file = Path(f'./results/{model_name}_{train_data_name}_stanford')\n",
    "        with open(pred_file, 'rb') as f:\n",
    "            stanford_predictions, _, _ = pickle.load(f)\n",
    "\n",
    "        stanford_pred_labels = [\n",
    "            [id_to_conll_label[np.argmax(token_logits)]\n",
    "             for token_logits in sentence_logits]\n",
    "            for sentence_logits in stanford_predictions\n",
    "        ]\n",
    "\n",
    "        # Validate length\n",
    "        assert len(stanford_pred_labels) == len(challenge_dataset), \\\n",
    "            f\"Prediction length mismatch for {\n",
    "                model_name} trained on {train_data_name}\"\n",
    "\n",
    "        # Add predictions using .map to avoid Arrow 1D error\n",
    "        column_name = f\"{model_name}_{train_data_name}_predictions\"\n",
    "        challenge_dataset = challenge_dataset.map(\n",
    "            lambda example, idx: {column_name: stanford_pred_labels[idx]},\n",
    "            with_indices=True\n",
    "        )"
   ]
  },
  {
   "cell_type": "code",
   "execution_count": null,
   "id": "8702f8b0-0d39-427e-960b-6cf0d7fd2e6f",
   "metadata": {},
   "outputs": [],
   "source": []
  }
 ],
 "metadata": {
  "kernelspec": {
   "display_name": "Python 3 (ipykernel)",
   "language": "python",
   "name": "python3"
  },
  "language_info": {
   "codemirror_mode": {
    "name": "ipython",
    "version": 3
   },
   "file_extension": ".py",
   "mimetype": "text/x-python",
   "name": "python",
   "nbconvert_exporter": "python",
   "pygments_lexer": "ipython3",
   "version": "3.12.3"
  }
 },
 "nbformat": 4,
 "nbformat_minor": 5
}
