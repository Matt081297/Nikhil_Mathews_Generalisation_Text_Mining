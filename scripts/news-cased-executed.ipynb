{
 "cells": [
  {
   "cell_type": "code",
   "execution_count": 1,
   "id": "530888af",
   "metadata": {
    "execution": {
     "iopub.execute_input": "2025-07-03T09:01:51.084612Z",
     "iopub.status.busy": "2025-07-03T09:01:51.083334Z",
     "iopub.status.idle": "2025-07-03T09:04:40.303240Z",
     "shell.execute_reply": "2025-07-03T09:04:40.302233Z",
     "shell.execute_reply.started": "2025-07-03T09:01:51.084612Z"
    }
   },
   "outputs": [
    {
     "name": "stdout",
     "output_type": "stream",
     "text": [
      "WARNING:tensorflow:From E:\\Software\\Anaconda\\Lib\\site-packages\\tf_keras\\src\\losses.py:2976: The name tf.losses.sparse_softmax_cross_entropy is deprecated. Please use tf.compat.v1.losses.sparse_softmax_cross_entropy instead.\n",
      "\n"
     ]
    }
   ],
   "source": [
    "\n",
    "from collections import Counter\n",
    "\n",
    "import numpy as np\n",
    "\n",
    "\n",
    "import torch\n",
    "\n",
    "from datasets import (\n",
    "\n",
    "    load_from_disk,\n",
    ")\n",
    "from transformers import (\n",
    "    DataCollatorForTokenClassification,\n",
    "    Trainer,\n",
    "    TrainingArguments,\n",
    ")\n",
    "\n",
    "\n",
    "import pickle\n",
    "\n",
    "from sklearn.metrics import classification_report\n",
    "from transformers import BertTokenizerFast, BertForTokenClassification\n",
    "\n",
    "from evaluate import load as load_metric"
   ]
  },
  {
   "cell_type": "code",
   "execution_count": 2,
   "id": "774a9f0b",
   "metadata": {
    "execution": {
     "iopub.execute_input": "2025-07-03T09:04:40.306240Z",
     "iopub.status.busy": "2025-07-03T09:04:40.305244Z",
     "iopub.status.idle": "2025-07-03T09:04:40.315434Z",
     "shell.execute_reply": "2025-07-03T09:04:40.312407Z",
     "shell.execute_reply.started": "2025-07-03T09:04:40.306240Z"
    }
   },
   "outputs": [],
   "source": [
    "model_name = \"bert-base-cased\""
   ]
  },
  {
   "cell_type": "code",
   "execution_count": 3,
   "id": "28438fce",
   "metadata": {
    "execution": {
     "iopub.execute_input": "2025-07-03T09:04:40.326440Z",
     "iopub.status.busy": "2025-07-03T09:04:40.323447Z",
     "iopub.status.idle": "2025-07-03T09:04:42.893657Z",
     "shell.execute_reply": "2025-07-03T09:04:42.892652Z",
     "shell.execute_reply.started": "2025-07-03T09:04:40.326440Z"
    }
   },
   "outputs": [],
   "source": [
    "conll_main = load_from_disk(\"./splits/conll_main\")\n",
    "\n",
    "ontonotes_main = load_from_disk(\"./splits/ontonotes_main\")\n",
    "\n",
    "ontonotes_nw_encoded = load_from_disk(\"./splits/ontonotes_newswire\")\n",
    "ontonotes_rest_encoded = load_from_disk(\"./splits/ontonotes_rest\")"
   ]
  },
  {
   "cell_type": "code",
   "execution_count": 22,
   "id": "0b63903b-4722-4a79-89ef-b6263513a341",
   "metadata": {
    "execution": {
     "iopub.execute_input": "2025-07-03T09:48:21.289382Z",
     "iopub.status.busy": "2025-07-03T09:48:21.288370Z",
     "iopub.status.idle": "2025-07-03T09:48:25.700467Z",
     "shell.execute_reply": "2025-07-03T09:48:25.699457Z",
     "shell.execute_reply.started": "2025-07-03T09:48:21.289382Z"
    }
   },
   "outputs": [
    {
     "data": {
      "application/vnd.jupyter.widget-view+json": {
       "model_id": "2a9cd6d90ef144c5923a80b8bb2c48c8",
       "version_major": 2,
       "version_minor": 0
      },
      "text/plain": [
       "Map:   0%|          | 0/16595 [00:00<?, ? examples/s]"
      ]
     },
     "metadata": {},
     "output_type": "display_data"
    }
   ],
   "source": [
    "from datasets import Dataset\n",
    "\n",
    "# Reverse map: int → string label\n",
    "id2label = {0: 'O', 1: 'B-PER', 2: 'I-PER', 3: 'B-ORG', 4: 'I-ORG',\n",
    "            5: 'B-LOC', 6: 'I-LOC', 7: 'B-MISC', 8: 'I-MISC'}\n",
    "\n",
    "# Define a function to map the list of integer labels to strings\n",
    "\n",
    "\n",
    "def map_labels_to_names(example):\n",
    "    example['label_names'] = [id2label[label] for label in example['labels']]\n",
    "    return example\n",
    "\n",
    "\n",
    "# Apply to entire dataset\n",
    "conll_main = conll_main.map(map_labels_to_names)"
   ]
  },
  {
   "cell_type": "code",
   "execution_count": 25,
   "id": "9910886c-4bf0-4ea7-95db-391adf2ddd5b",
   "metadata": {
    "execution": {
     "iopub.execute_input": "2025-07-03T09:49:27.991450Z",
     "iopub.status.busy": "2025-07-03T09:49:27.991450Z",
     "iopub.status.idle": "2025-07-03T09:49:37.284237Z",
     "shell.execute_reply": "2025-07-03T09:49:37.282711Z",
     "shell.execute_reply.started": "2025-07-03T09:49:27.991450Z"
    },
    "scrolled": true
   },
   "outputs": [
    {
     "data": {
      "application/vnd.jupyter.widget-view+json": {
       "model_id": "ee6dc58a0a4e411b8c07987a386351b3",
       "version_major": 2,
       "version_minor": 0
      },
      "text/plain": [
       "Map:   0%|          | 0/61371 [00:00<?, ? examples/s]"
      ]
     },
     "metadata": {},
     "output_type": "display_data"
    }
   ],
   "source": [
    "def map_ontonotes_labels(example):\n",
    "    example['label_names'] = [ontonotes_id_to_label[i]\n",
    "                              for i in example['labels']]\n",
    "    return example\n",
    "\n",
    "\n",
    "# Apply to dataset\n",
    "ontonotes_main = ontonotes_main.map(map_ontonotes_labels)"
   ]
  },
  {
   "cell_type": "code",
   "execution_count": 44,
   "id": "183a6edf-006b-4dca-a537-3e0919146046",
   "metadata": {
    "execution": {
     "iopub.execute_input": "2025-07-03T11:05:20.729868Z",
     "iopub.status.busy": "2025-07-03T11:05:20.727867Z",
     "iopub.status.idle": "2025-07-03T11:05:21.111560Z",
     "shell.execute_reply": "2025-07-03T11:05:21.109555Z",
     "shell.execute_reply.started": "2025-07-03T11:05:20.729868Z"
    }
   },
   "outputs": [],
   "source": [
    "# Replace 'your_file.pkl' with your actual path\n",
    "with open('results/results/bert-base-cased_conll_results.pkl', 'rb') as f:\n",
    "    onto_pred = pickle.load(f)"
   ]
  },
  {
   "cell_type": "code",
   "execution_count": 61,
   "id": "8ec8e9b0-2ce6-45bd-b9a0-c620da2df09d",
   "metadata": {
    "collapsed": true,
    "execution": {
     "iopub.execute_input": "2025-07-03T11:36:50.988304Z",
     "iopub.status.busy": "2025-07-03T11:36:50.987308Z",
     "iopub.status.idle": "2025-07-03T11:36:53.773830Z",
     "shell.execute_reply": "2025-07-03T11:36:53.771819Z",
     "shell.execute_reply.started": "2025-07-03T11:36:50.988304Z"
    },
    "jupyter": {
     "outputs_hidden": true
    },
    "scrolled": true
   },
   "outputs": [
    {
     "data": {
      "application/vnd.jupyter.widget-view+json": {
       "model_id": "494d98c4d478451893e1aea84e5df668",
       "version_major": 2,
       "version_minor": 0
      },
      "text/plain": [
       "Map:   0%|          | 0/61371 [00:00<?, ? examples/s]"
      ]
     },
     "metadata": {},
     "output_type": "display_data"
    },
    {
     "ename": "IndexError",
     "evalue": "list index out of range",
     "output_type": "error",
     "traceback": [
      "\u001b[1;31m---------------------------------------------------------------------------\u001b[0m",
      "\u001b[1;31mIndexError\u001b[0m                                Traceback (most recent call last)",
      "Cell \u001b[1;32mIn[61], line 1\u001b[0m\n\u001b[1;32m----> 1\u001b[0m flat_pred, flat_gold \u001b[38;5;241m=\u001b[39m \u001b[43mevaluate_predictions\u001b[49m\u001b[43m(\u001b[49m\u001b[43monto_pred\u001b[49m\u001b[43m,\u001b[49m\u001b[43m \u001b[49m\u001b[43montonotes_main\u001b[49m\u001b[43m)\u001b[49m\n",
      "Cell \u001b[1;32mIn[56], line 69\u001b[0m, in \u001b[0;36mevaluate_predictions\u001b[1;34m(p, test_data)\u001b[0m\n\u001b[0;32m     66\u001b[0m     example[\u001b[38;5;124m'\u001b[39m\u001b[38;5;124mgold\u001b[39m\u001b[38;5;124m'\u001b[39m] \u001b[38;5;241m=\u001b[39m gold_tags[idx][:length]\n\u001b[0;32m     67\u001b[0m     \u001b[38;5;28;01mreturn\u001b[39;00m example\n\u001b[1;32m---> 69\u001b[0m test_data \u001b[38;5;241m=\u001b[39m \u001b[43mtest_data\u001b[49m\u001b[38;5;241;43m.\u001b[39;49m\u001b[43mmap\u001b[49m\u001b[43m(\u001b[49m\u001b[43madd_preds\u001b[49m\u001b[43m,\u001b[49m\u001b[43m \u001b[49m\u001b[43mwith_indices\u001b[49m\u001b[38;5;241;43m=\u001b[39;49m\u001b[38;5;28;43;01mTrue\u001b[39;49;00m\u001b[43m)\u001b[49m\n\u001b[0;32m     71\u001b[0m length \u001b[38;5;241m=\u001b[39m \u001b[38;5;28mlen\u001b[39m(test_data[\u001b[38;5;124m'\u001b[39m\u001b[38;5;124mpredictions\u001b[39m\u001b[38;5;124m'\u001b[39m][\u001b[38;5;241m0\u001b[39m])\n\u001b[0;32m     73\u001b[0m pred, gold \u001b[38;5;241m=\u001b[39m process_data(test_data)\n",
      "File \u001b[1;32mE:\\Software\\Anaconda\\Lib\\site-packages\\datasets\\arrow_dataset.py:557\u001b[0m, in \u001b[0;36mtransmit_format.<locals>.wrapper\u001b[1;34m(*args, **kwargs)\u001b[0m\n\u001b[0;32m    550\u001b[0m self_format \u001b[38;5;241m=\u001b[39m {\n\u001b[0;32m    551\u001b[0m     \u001b[38;5;124m\"\u001b[39m\u001b[38;5;124mtype\u001b[39m\u001b[38;5;124m\"\u001b[39m: \u001b[38;5;28mself\u001b[39m\u001b[38;5;241m.\u001b[39m_format_type,\n\u001b[0;32m    552\u001b[0m     \u001b[38;5;124m\"\u001b[39m\u001b[38;5;124mformat_kwargs\u001b[39m\u001b[38;5;124m\"\u001b[39m: \u001b[38;5;28mself\u001b[39m\u001b[38;5;241m.\u001b[39m_format_kwargs,\n\u001b[0;32m    553\u001b[0m     \u001b[38;5;124m\"\u001b[39m\u001b[38;5;124mcolumns\u001b[39m\u001b[38;5;124m\"\u001b[39m: \u001b[38;5;28mself\u001b[39m\u001b[38;5;241m.\u001b[39m_format_columns,\n\u001b[0;32m    554\u001b[0m     \u001b[38;5;124m\"\u001b[39m\u001b[38;5;124moutput_all_columns\u001b[39m\u001b[38;5;124m\"\u001b[39m: \u001b[38;5;28mself\u001b[39m\u001b[38;5;241m.\u001b[39m_output_all_columns,\n\u001b[0;32m    555\u001b[0m }\n\u001b[0;32m    556\u001b[0m \u001b[38;5;66;03m# apply actual function\u001b[39;00m\n\u001b[1;32m--> 557\u001b[0m out: Union[\u001b[38;5;124m\"\u001b[39m\u001b[38;5;124mDataset\u001b[39m\u001b[38;5;124m\"\u001b[39m, \u001b[38;5;124m\"\u001b[39m\u001b[38;5;124mDatasetDict\u001b[39m\u001b[38;5;124m\"\u001b[39m] \u001b[38;5;241m=\u001b[39m \u001b[43mfunc\u001b[49m\u001b[43m(\u001b[49m\u001b[38;5;28;43mself\u001b[39;49m\u001b[43m,\u001b[49m\u001b[43m \u001b[49m\u001b[38;5;241;43m*\u001b[39;49m\u001b[43margs\u001b[49m\u001b[43m,\u001b[49m\u001b[43m \u001b[49m\u001b[38;5;241;43m*\u001b[39;49m\u001b[38;5;241;43m*\u001b[39;49m\u001b[43mkwargs\u001b[49m\u001b[43m)\u001b[49m\n\u001b[0;32m    558\u001b[0m datasets: \u001b[38;5;28mlist\u001b[39m[\u001b[38;5;124m\"\u001b[39m\u001b[38;5;124mDataset\u001b[39m\u001b[38;5;124m\"\u001b[39m] \u001b[38;5;241m=\u001b[39m \u001b[38;5;28mlist\u001b[39m(out\u001b[38;5;241m.\u001b[39mvalues()) \u001b[38;5;28;01mif\u001b[39;00m \u001b[38;5;28misinstance\u001b[39m(out, \u001b[38;5;28mdict\u001b[39m) \u001b[38;5;28;01melse\u001b[39;00m [out]\n\u001b[0;32m    559\u001b[0m \u001b[38;5;66;03m# re-apply format to the output\u001b[39;00m\n",
      "File \u001b[1;32mE:\\Software\\Anaconda\\Lib\\site-packages\\datasets\\arrow_dataset.py:3079\u001b[0m, in \u001b[0;36mDataset.map\u001b[1;34m(self, function, with_indices, with_rank, input_columns, batched, batch_size, drop_last_batch, remove_columns, keep_in_memory, load_from_cache_file, cache_file_name, writer_batch_size, features, disable_nullable, fn_kwargs, num_proc, suffix_template, new_fingerprint, desc, try_original_type)\u001b[0m\n\u001b[0;32m   3073\u001b[0m \u001b[38;5;28;01mif\u001b[39;00m transformed_dataset \u001b[38;5;129;01mis\u001b[39;00m \u001b[38;5;28;01mNone\u001b[39;00m:\n\u001b[0;32m   3074\u001b[0m     \u001b[38;5;28;01mwith\u001b[39;00m hf_tqdm(\n\u001b[0;32m   3075\u001b[0m         unit\u001b[38;5;241m=\u001b[39m\u001b[38;5;124m\"\u001b[39m\u001b[38;5;124m examples\u001b[39m\u001b[38;5;124m\"\u001b[39m,\n\u001b[0;32m   3076\u001b[0m         total\u001b[38;5;241m=\u001b[39mpbar_total,\n\u001b[0;32m   3077\u001b[0m         desc\u001b[38;5;241m=\u001b[39mdesc \u001b[38;5;129;01mor\u001b[39;00m \u001b[38;5;124m\"\u001b[39m\u001b[38;5;124mMap\u001b[39m\u001b[38;5;124m\"\u001b[39m,\n\u001b[0;32m   3078\u001b[0m     ) \u001b[38;5;28;01mas\u001b[39;00m pbar:\n\u001b[1;32m-> 3079\u001b[0m \u001b[43m        \u001b[49m\u001b[38;5;28;43;01mfor\u001b[39;49;00m\u001b[43m \u001b[49m\u001b[43mrank\u001b[49m\u001b[43m,\u001b[49m\u001b[43m \u001b[49m\u001b[43mdone\u001b[49m\u001b[43m,\u001b[49m\u001b[43m \u001b[49m\u001b[43mcontent\u001b[49m\u001b[43m \u001b[49m\u001b[38;5;129;43;01min\u001b[39;49;00m\u001b[43m \u001b[49m\u001b[43mDataset\u001b[49m\u001b[38;5;241;43m.\u001b[39;49m\u001b[43m_map_single\u001b[49m\u001b[43m(\u001b[49m\u001b[38;5;241;43m*\u001b[39;49m\u001b[38;5;241;43m*\u001b[39;49m\u001b[43mdataset_kwargs\u001b[49m\u001b[43m)\u001b[49m\u001b[43m:\u001b[49m\n\u001b[0;32m   3080\u001b[0m \u001b[43m            \u001b[49m\u001b[38;5;28;43;01mif\u001b[39;49;00m\u001b[43m \u001b[49m\u001b[43mdone\u001b[49m\u001b[43m:\u001b[49m\n\u001b[0;32m   3081\u001b[0m \u001b[43m                \u001b[49m\u001b[43mshards_done\u001b[49m\u001b[43m \u001b[49m\u001b[38;5;241;43m+\u001b[39;49m\u001b[38;5;241;43m=\u001b[39;49m\u001b[43m \u001b[49m\u001b[38;5;241;43m1\u001b[39;49m\n",
      "File \u001b[1;32mE:\\Software\\Anaconda\\Lib\\site-packages\\datasets\\arrow_dataset.py:3501\u001b[0m, in \u001b[0;36mDataset._map_single\u001b[1;34m(shard, function, with_indices, with_rank, input_columns, batched, batch_size, drop_last_batch, remove_columns, keep_in_memory, cache_file_name, writer_batch_size, features, disable_nullable, fn_kwargs, new_fingerprint, rank, offset, try_original_type)\u001b[0m\n\u001b[0;32m   3499\u001b[0m \u001b[38;5;28;01mif\u001b[39;00m \u001b[38;5;129;01mnot\u001b[39;00m batched:\n\u001b[0;32m   3500\u001b[0m     _time \u001b[38;5;241m=\u001b[39m time\u001b[38;5;241m.\u001b[39mtime()\n\u001b[1;32m-> 3501\u001b[0m \u001b[43m    \u001b[49m\u001b[38;5;28;43;01mfor\u001b[39;49;00m\u001b[43m \u001b[49m\u001b[43mi\u001b[49m\u001b[43m,\u001b[49m\u001b[43m \u001b[49m\u001b[43mexample\u001b[49m\u001b[43m \u001b[49m\u001b[38;5;129;43;01min\u001b[39;49;00m\u001b[43m \u001b[49m\u001b[43miter_outputs\u001b[49m\u001b[43m(\u001b[49m\u001b[43mshard_iterable\u001b[49m\u001b[43m)\u001b[49m\u001b[43m:\u001b[49m\n\u001b[0;32m   3502\u001b[0m \u001b[43m        \u001b[49m\u001b[38;5;28;43;01mif\u001b[39;49;00m\u001b[43m \u001b[49m\u001b[43mupdate_data\u001b[49m\u001b[43m:\u001b[49m\n\u001b[0;32m   3503\u001b[0m \u001b[43m            \u001b[49m\u001b[38;5;28;43;01mif\u001b[39;49;00m\u001b[43m \u001b[49m\u001b[43mi\u001b[49m\u001b[43m \u001b[49m\u001b[38;5;241;43m==\u001b[39;49m\u001b[43m \u001b[49m\u001b[38;5;241;43m0\u001b[39;49m\u001b[43m:\u001b[49m\n",
      "File \u001b[1;32mE:\\Software\\Anaconda\\Lib\\site-packages\\datasets\\arrow_dataset.py:3475\u001b[0m, in \u001b[0;36mDataset._map_single.<locals>.iter_outputs\u001b[1;34m(shard_iterable)\u001b[0m\n\u001b[0;32m   3473\u001b[0m \u001b[38;5;28;01melse\u001b[39;00m:\n\u001b[0;32m   3474\u001b[0m     \u001b[38;5;28;01mfor\u001b[39;00m i, example \u001b[38;5;129;01min\u001b[39;00m shard_iterable:\n\u001b[1;32m-> 3475\u001b[0m         \u001b[38;5;28;01myield\u001b[39;00m i, \u001b[43mapply_function\u001b[49m\u001b[43m(\u001b[49m\u001b[43mexample\u001b[49m\u001b[43m,\u001b[49m\u001b[43m \u001b[49m\u001b[43mi\u001b[49m\u001b[43m,\u001b[49m\u001b[43m \u001b[49m\u001b[43moffset\u001b[49m\u001b[38;5;241;43m=\u001b[39;49m\u001b[43moffset\u001b[49m\u001b[43m)\u001b[49m\n",
      "File \u001b[1;32mE:\\Software\\Anaconda\\Lib\\site-packages\\datasets\\arrow_dataset.py:3398\u001b[0m, in \u001b[0;36mDataset._map_single.<locals>.apply_function\u001b[1;34m(pa_inputs, indices, offset)\u001b[0m\n\u001b[0;32m   3396\u001b[0m \u001b[38;5;250m\u001b[39m\u001b[38;5;124;03m\"\"\"Utility to apply the function on a selection of columns.\"\"\"\u001b[39;00m\n\u001b[0;32m   3397\u001b[0m inputs, fn_args, additional_args, fn_kwargs \u001b[38;5;241m=\u001b[39m prepare_inputs(pa_inputs, indices, offset\u001b[38;5;241m=\u001b[39moffset)\n\u001b[1;32m-> 3398\u001b[0m processed_inputs \u001b[38;5;241m=\u001b[39m \u001b[43mfunction\u001b[49m\u001b[43m(\u001b[49m\u001b[38;5;241;43m*\u001b[39;49m\u001b[43mfn_args\u001b[49m\u001b[43m,\u001b[49m\u001b[43m \u001b[49m\u001b[38;5;241;43m*\u001b[39;49m\u001b[43madditional_args\u001b[49m\u001b[43m,\u001b[49m\u001b[43m \u001b[49m\u001b[38;5;241;43m*\u001b[39;49m\u001b[38;5;241;43m*\u001b[39;49m\u001b[43mfn_kwargs\u001b[49m\u001b[43m)\u001b[49m\n\u001b[0;32m   3399\u001b[0m \u001b[38;5;28;01mreturn\u001b[39;00m prepare_outputs(pa_inputs, inputs, processed_inputs)\n",
      "Cell \u001b[1;32mIn[56], line 65\u001b[0m, in \u001b[0;36mevaluate_predictions.<locals>.add_preds\u001b[1;34m(example, idx)\u001b[0m\n\u001b[0;32m     63\u001b[0m \u001b[38;5;28;01mdef\u001b[39;00m \u001b[38;5;21madd_preds\u001b[39m(example, idx):\n\u001b[0;32m     64\u001b[0m     length \u001b[38;5;241m=\u001b[39m \u001b[38;5;28mlen\u001b[39m(example[\u001b[38;5;124m'\u001b[39m\u001b[38;5;124mword_ids\u001b[39m\u001b[38;5;124m'\u001b[39m])\n\u001b[1;32m---> 65\u001b[0m     example[\u001b[38;5;124m'\u001b[39m\u001b[38;5;124mpredictions\u001b[39m\u001b[38;5;124m'\u001b[39m] \u001b[38;5;241m=\u001b[39m \u001b[43mpred_tags\u001b[49m\u001b[43m[\u001b[49m\u001b[43midx\u001b[49m\u001b[43m]\u001b[49m[:length]\n\u001b[0;32m     66\u001b[0m     example[\u001b[38;5;124m'\u001b[39m\u001b[38;5;124mgold\u001b[39m\u001b[38;5;124m'\u001b[39m] \u001b[38;5;241m=\u001b[39m gold_tags[idx][:length]\n\u001b[0;32m     67\u001b[0m     \u001b[38;5;28;01mreturn\u001b[39;00m example\n",
      "\u001b[1;31mIndexError\u001b[0m: list index out of range"
     ]
    }
   ],
   "source": [
    "flat_pred, flat_gold = evaluate_predictions(onto_pred, ontonotes_main)"
   ]
  },
  {
   "cell_type": "code",
   "execution_count": 55,
   "id": "2904342f-c135-49ab-986a-a7db224e9019",
   "metadata": {
    "execution": {
     "iopub.execute_input": "2025-07-03T11:16:49.269711Z",
     "iopub.status.busy": "2025-07-03T11:16:49.268713Z",
     "iopub.status.idle": "2025-07-03T11:16:52.591064Z",
     "shell.execute_reply": "2025-07-03T11:16:52.590047Z",
     "shell.execute_reply.started": "2025-07-03T11:16:49.269711Z"
    }
   },
   "outputs": [
    {
     "data": {
      "text/plain": [
       "1110194"
      ]
     },
     "execution_count": 55,
     "metadata": {},
     "output_type": "execute_result"
    }
   ],
   "source": [
    "from itertools import chain\n",
    "\n",
    "# Flatten all token sequences into a single list\n",
    "flat_tokens = list(chain.from_iterable(ontonotes_main['tokens']))\n",
    "len(flat_tokens)"
   ]
  },
  {
   "cell_type": "code",
   "execution_count": 51,
   "id": "d339863f-be7f-401f-82bd-123097b7a4f2",
   "metadata": {
    "execution": {
     "iopub.execute_input": "2025-07-03T11:11:34.596798Z",
     "iopub.status.busy": "2025-07-03T11:11:34.596798Z",
     "iopub.status.idle": "2025-07-03T11:11:34.606737Z",
     "shell.execute_reply": "2025-07-03T11:11:34.604728Z",
     "shell.execute_reply.started": "2025-07-03T11:11:34.596798Z"
    }
   },
   "outputs": [
    {
     "data": {
      "text/plain": [
       "4149"
      ]
     },
     "execution_count": 51,
     "metadata": {},
     "output_type": "execute_result"
    }
   ],
   "source": [
    "len(predictions[0])"
   ]
  },
  {
   "cell_type": "code",
   "execution_count": 19,
   "id": "a8cb9f9e-3d92-4560-ab1f-be40529a5ed6",
   "metadata": {
    "collapsed": true,
    "execution": {
     "iopub.execute_input": "2025-07-03T09:15:17.385475Z",
     "iopub.status.busy": "2025-07-03T09:15:17.384475Z",
     "iopub.status.idle": "2025-07-03T09:15:23.858057Z",
     "shell.execute_reply": "2025-07-03T09:15:23.857047Z",
     "shell.execute_reply.started": "2025-07-03T09:15:17.385475Z"
    },
    "jupyter": {
     "outputs_hidden": true
    },
    "scrolled": true
   },
   "outputs": [
    {
     "name": "stdout",
     "output_type": "stream",
     "text": [
      "news\n",
      "      Tag  Count  Percentage\n",
      "0   B-LOC  16435   15.174738\n",
      "1  B-MISC   7455    6.883339\n",
      "2   B-ORG  22446   20.724805\n",
      "3   B-PER  12641   11.671668\n",
      "4   I-LOC   5154    4.758783\n",
      "5  I-MISC   5579    5.151193\n",
      "6   I-ORG  30834   28.469600\n",
      "7   I-PER   7761    7.165874\n",
      "rest\n",
      "      Tag  Count  Percentage\n",
      "0   B-LOC  14389   18.034718\n",
      "1  B-MISC  10792   13.526352\n",
      "2   B-ORG   7517    9.421570\n",
      "3   B-PER  14691   18.413236\n",
      "4   I-LOC   4350    5.452153\n",
      "5  I-MISC   6920    8.673310\n",
      "6   I-ORG   9826   12.315598\n",
      "7   I-PER  11300   14.163063\n"
     ]
    }
   ],
   "source": [
    "from collections import Counter\n",
    "import pandas as pd\n",
    "\n",
    "\n",
    "def compute_ner_distribution(dataset):\n",
    "    # Flatten and filter out 'O'\n",
    "    all_tags = [tag for example in dataset['ner_conll2003'] for tag in example]\n",
    "    filtered_tags = [tag for tag in all_tags if tag != 'O']\n",
    "\n",
    "    # Count tag frequencies\n",
    "    tag_counts = Counter(filtered_tags)\n",
    "    total = sum(tag_counts.values())\n",
    "\n",
    "    # Create (tag, count, percentage) triples\n",
    "    stats = sorted([(tag, count, count / total * 100)\n",
    "                   for tag, count in tag_counts.items()])\n",
    "\n",
    "    # Create DataFrame\n",
    "    df = pd.DataFrame(stats, columns=[\"Tag\", \"Count\", \"Percentage\"])\n",
    "    return df\n",
    "\n",
    "\n",
    "# Example usage\n",
    "df = compute_ner_distribution(ontonotes_nw_encoded)\n",
    "df2 = compute_ner_distribution(ontonotes_rest_encoded)\n",
    "print('news')\n",
    "print(df)\n",
    "print('rest')\n",
    "print(df2)"
   ]
  },
  {
   "cell_type": "markdown",
   "id": "00b257b1",
   "metadata": {},
   "source": [
    "# Load GPU"
   ]
  },
  {
   "cell_type": "code",
   "execution_count": 4,
   "id": "dd8f9110",
   "metadata": {
    "execution": {
     "iopub.execute_input": "2025-07-02T23:16:22.424629Z",
     "iopub.status.busy": "2025-07-02T23:16:22.424337Z",
     "iopub.status.idle": "2025-07-02T23:16:23.953449Z",
     "shell.execute_reply": "2025-07-02T23:16:23.953004Z"
    }
   },
   "outputs": [
    {
     "name": "stdout",
     "output_type": "stream",
     "text": [
      "Using device: cuda\n"
     ]
    }
   ],
   "source": [
    "device = torch.device(\"cuda\" if torch.cuda.is_available() else \"cpu\")\n",
    "print(\"Using device:\", device)"
   ]
  },
  {
   "cell_type": "markdown",
   "id": "eedaa403",
   "metadata": {},
   "source": [
    "# Tokenisation & Alignment"
   ]
  },
  {
   "cell_type": "code",
   "execution_count": 24,
   "id": "3aa28ab8",
   "metadata": {
    "execution": {
     "iopub.execute_input": "2025-07-03T09:49:24.755489Z",
     "iopub.status.busy": "2025-07-03T09:49:24.754487Z",
     "iopub.status.idle": "2025-07-03T09:49:24.765444Z",
     "shell.execute_reply": "2025-07-03T09:49:24.764434Z",
     "shell.execute_reply.started": "2025-07-03T09:49:24.755489Z"
    }
   },
   "outputs": [],
   "source": [
    "ontonotes_id_to_label = {\n",
    "    0: \"O\", 1: \"B-CARDINAL\", 2: \"B-DATE\", 3: \"I-DATE\", 4: \"B-PERSON\", 5: \"I-PERSON\",\n",
    "    6: \"B-NORP\", 7: \"B-GPE\", 8: \"I-GPE\", 9: \"B-LAW\", 10: \"I-LAW\", 11: \"B-ORG\", 12: \"I-ORG\",\n",
    "    13: \"B-PERCENT\", 14: \"I-PERCENT\", 15: \"B-ORDINAL\", 16: \"B-MONEY\", 17: \"I-MONEY\",\n",
    "    18: \"B-WORK_OF_ART\", 19: \"I-WORK_OF_ART\", 20: \"B-FAC\", 21: \"B-TIME\", 22: \"I-CARDINAL\",\n",
    "    23: \"B-LOC\", 24: \"B-QUANTITY\", 25: \"I-QUANTITY\", 26: \"I-NORP\", 27: \"I-LOC\",\n",
    "    28: \"B-PRODUCT\", 29: \"I-TIME\", 30: \"B-EVENT\", 31: \"I-EVENT\", 32: \"I-FAC\",\n",
    "    33: \"B-LANGUAGE\", 34: \"I-PRODUCT\", 35: \"I-ORDINAL\", 36: \"I-LANGUAGE\"\n",
    "}\n",
    "\n",
    "conll_label_to_id = {'O': 0, 'B-PER': 1, 'I-PER': 2, 'B-ORG': 3,\n",
    "                     'I-ORG': 4, 'B-LOC': 5, 'I-LOC': 6, 'B-MISC': 7, 'I-MISC': 8}\n",
    "id2label = {v: k for k, v in conll_label_to_id.items()}\n",
    "\n",
    "ontonotes_to_conll_entity = {\n",
    "    \"PERSON\": \"PER\", \"ORG\": \"ORG\", \"GPE\": \"LOC\", \"LOC\": \"LOC\",\n",
    "    \"NORP\": \"MISC\", \"FAC\": \"MISC\", \"EVENT\": \"MISC\", \"WORK_OF_ART\": \"MISC\",\n",
    "    \"LAW\": \"MISC\", \"PRODUCT\": \"MISC\", \"LANGUAGE\": \"MISC\",\n",
    "    \"DATE\": None, \"TIME\": None, \"PERCENT\": None, \"MONEY\": None,\n",
    "    \"QUANTITY\": None, \"ORDINAL\": None, \"CARDINAL\": None\n",
    "}"
   ]
  },
  {
   "cell_type": "code",
   "execution_count": 56,
   "id": "f10ff4db",
   "metadata": {
    "execution": {
     "iopub.execute_input": "2025-07-03T11:33:47.369710Z",
     "iopub.status.busy": "2025-07-03T11:33:47.368688Z",
     "iopub.status.idle": "2025-07-03T11:33:49.094836Z",
     "shell.execute_reply": "2025-07-03T11:33:49.092820Z",
     "shell.execute_reply.started": "2025-07-03T11:33:47.369710Z"
    }
   },
   "outputs": [],
   "source": [
    "def process_data(data_list):\n",
    "\n",
    "    def process_single(data):\n",
    "        word_ids = data['word_ids']\n",
    "        predictions = data['predictions']\n",
    "        gold = data['gold']\n",
    "        tokenized_tokens = data['tokens']\n",
    "\n",
    "        word_ids = [a for a in word_ids if a is not None]\n",
    "\n",
    "        processed_predictions = []\n",
    "        processed_gold = []\n",
    "\n",
    "        current_word_id = None\n",
    "        current_predictions = []\n",
    "        current_gold = []\n",
    "\n",
    "        for idx, word_id in enumerate(word_ids):\n",
    "            if word_id != current_word_id:\n",
    "                if current_predictions:\n",
    "                    processed_predictions.append(\n",
    "                        Counter(current_predictions).most_common(1)[0][0])\n",
    "                    processed_gold.append(\n",
    "                        Counter(current_gold).most_common(1)[0][0])\n",
    "\n",
    "                current_word_id = word_id\n",
    "                current_predictions = [predictions[idx]]\n",
    "                current_gold = [gold[idx]]\n",
    "            else:\n",
    "                current_predictions.append(predictions[idx])\n",
    "                current_gold.append(gold[idx])\n",
    "\n",
    "        if current_predictions:\n",
    "            processed_predictions.append(\n",
    "                Counter(current_predictions).most_common(1)[0][0])\n",
    "            processed_gold.append(\n",
    "                Counter(current_gold).most_common(1)[0][0])\n",
    "\n",
    "        return processed_predictions, processed_gold\n",
    "\n",
    "    processed_predictions_list = []\n",
    "    processed_gold_list = []\n",
    "\n",
    "    for data in data_list:\n",
    "        processed_predictions, processed_gold = process_single(data)\n",
    "        processed_predictions_list.append(processed_predictions)\n",
    "        processed_gold_list.append(processed_gold)\n",
    "\n",
    "    return processed_predictions_list, processed_gold_list\n",
    "\n",
    "\n",
    "def evaluate_predictions(p, test_data):\n",
    "    predictions, labels, _ = p\n",
    "\n",
    "    pred_indices = [np.argmax(p, axis=-1) for p in predictions]\n",
    "    label_indices = labels\n",
    "\n",
    "    pred_tags = [[id2label[p] for p, l in zip(p_seq, l_seq) if l != -100]\n",
    "                 for p_seq, l_seq in zip(pred_indices, label_indices)]\n",
    "    gold_tags = [[id2label[l] for l in l_seq if l != -100]\n",
    "                 for l_seq in label_indices]\n",
    "\n",
    "    def add_preds(example, idx):\n",
    "        length = len(example['word_ids'])\n",
    "        example['predictions'] = pred_tags[idx][:length]\n",
    "        example['gold'] = gold_tags[idx][:length]\n",
    "        return example\n",
    "\n",
    "    test_data = test_data.map(add_preds, with_indices=True)\n",
    "\n",
    "    length = len(test_data['predictions'][0])\n",
    "\n",
    "    pred, gold = process_data(test_data)\n",
    "\n",
    "    flat_pred = [label for seq in pred for label in seq]\n",
    "    flat_gold = [label for seq in gold for label in seq]\n",
    "\n",
    "    print(classification_report(flat_gold, flat_pred, zero_division=0))\n",
    "\n",
    "    return (flat_pred, flat_gold)"
   ]
  },
  {
   "cell_type": "markdown",
   "id": "8cb80156",
   "metadata": {},
   "source": [
    "# Model"
   ]
  },
  {
   "cell_type": "code",
   "execution_count": 59,
   "id": "b8d66b36",
   "metadata": {
    "execution": {
     "iopub.execute_input": "2025-07-03T11:35:16.668232Z",
     "iopub.status.busy": "2025-07-03T11:35:16.668232Z",
     "iopub.status.idle": "2025-07-03T11:35:18.427033Z",
     "shell.execute_reply": "2025-07-03T11:35:18.426526Z",
     "shell.execute_reply.started": "2025-07-03T11:35:16.668232Z"
    }
   },
   "outputs": [],
   "source": [
    "tokenizer = BertTokenizerFast.from_pretrained(model_name)\n",
    "\n",
    "label_list = ['O', 'B-PER', 'I-PER', 'B-ORG',\n",
    "              'I-ORG', 'B-LOC', 'I-LOC', 'B-MISC', 'I-MISC']\n",
    "\n",
    "\n",
    "def tokenize_and_align_labels(examples):\n",
    "    tokenized_inputs = tokenizer(\n",
    "        examples[\"tokens\"],\n",
    "        truncation=True,\n",
    "        is_split_into_words=True,\n",
    "        padding=True,\n",
    "        return_special_tokens_mask=True,\n",
    "        return_offsets_mapping=True,\n",
    "    )\n",
    "    all_word_ids = []\n",
    "    all_labels = []\n",
    "    for i, labels in enumerate(examples[\"labels\"]):\n",
    "        word_ids = tokenized_inputs.word_ids(batch_index=i)\n",
    "        all_word_ids.append(word_ids)\n",
    "        previous_word_idx = None\n",
    "        label_ids = []\n",
    "        for word_idx in word_ids:\n",
    "            if word_idx is None:\n",
    "                label_ids.append(-100)\n",
    "            else:\n",
    "                label_ids.append(labels[word_idx])\n",
    "            previous_word_idx = word_idx\n",
    "        all_labels.append(label_ids)\n",
    "\n",
    "    tokenized_inputs[\"labels\"] = all_labels\n",
    "    tokenized_inputs[\"word_ids\"] = all_word_ids\n",
    "    return tokenized_inputs"
   ]
  },
  {
   "cell_type": "code",
   "execution_count": 60,
   "id": "b6c19c9c",
   "metadata": {
    "execution": {
     "iopub.execute_input": "2025-07-03T11:35:18.431579Z",
     "iopub.status.busy": "2025-07-03T11:35:18.430579Z",
     "iopub.status.idle": "2025-07-03T11:36:29.855374Z",
     "shell.execute_reply": "2025-07-03T11:36:29.854367Z",
     "shell.execute_reply.started": "2025-07-03T11:35:18.431579Z"
    }
   },
   "outputs": [
    {
     "data": {
      "application/vnd.jupyter.widget-view+json": {
       "model_id": "bbe8bbb39ee1414385b12b87c81593bf",
       "version_major": 2,
       "version_minor": 0
      },
      "text/plain": [
       "Map:   0%|          | 0/16595 [00:00<?, ? examples/s]"
      ]
     },
     "metadata": {},
     "output_type": "display_data"
    },
    {
     "data": {
      "application/vnd.jupyter.widget-view+json": {
       "model_id": "acf5857409284d399d32f612492a8282",
       "version_major": 2,
       "version_minor": 0
      },
      "text/plain": [
       "Map:   0%|          | 0/61371 [00:00<?, ? examples/s]"
      ]
     },
     "metadata": {},
     "output_type": "display_data"
    },
    {
     "data": {
      "application/vnd.jupyter.widget-view+json": {
       "model_id": "abd594b59e7844d987c204be5e85851e",
       "version_major": 2,
       "version_minor": 0
      },
      "text/plain": [
       "Map:   0%|          | 0/42753 [00:00<?, ? examples/s]"
      ]
     },
     "metadata": {},
     "output_type": "display_data"
    }
   ],
   "source": [
    "conll_main = conll_main.map(tokenize_and_align_labels, batched=True)\n",
    "ontonotes_main = ontonotes_main.map(tokenize_and_align_labels, batched=True)\n",
    "onto_news = ontonotes_nw_encoded.map(tokenize_and_align_labels, batched=True)\n",
    "onto_rest = ontonotes_rest_encoded.map(tokenize_and_align_labels, batched=True)"
   ]
  },
  {
   "cell_type": "markdown",
   "id": "43c59b30",
   "metadata": {},
   "source": [
    "# Deciding params"
   ]
  },
  {
   "cell_type": "code",
   "execution_count": 9,
   "id": "c2a6e063",
   "metadata": {
    "execution": {
     "iopub.execute_input": "2025-07-02T23:16:24.412981Z",
     "iopub.status.busy": "2025-07-02T23:16:24.412584Z",
     "iopub.status.idle": "2025-07-02T23:16:24.415054Z",
     "shell.execute_reply": "2025-07-02T23:16:24.414683Z"
    }
   },
   "outputs": [],
   "source": [
    "train_data = conll_main\n",
    "test_data = onto_news"
   ]
  },
  {
   "cell_type": "code",
   "execution_count": 10,
   "id": "02151748",
   "metadata": {
    "execution": {
     "iopub.execute_input": "2025-07-02T23:16:24.416506Z",
     "iopub.status.busy": "2025-07-02T23:16:24.416299Z",
     "iopub.status.idle": "2025-07-02T23:16:24.418472Z",
     "shell.execute_reply": "2025-07-02T23:16:24.418088Z"
    }
   },
   "outputs": [],
   "source": [
    "train_data_name = 'news'"
   ]
  },
  {
   "cell_type": "code",
   "execution_count": 11,
   "id": "44cff0b2",
   "metadata": {
    "execution": {
     "iopub.execute_input": "2025-07-02T23:16:24.420080Z",
     "iopub.status.busy": "2025-07-02T23:16:24.419873Z",
     "iopub.status.idle": "2025-07-02T23:16:25.683829Z",
     "shell.execute_reply": "2025-07-02T23:16:25.683354Z"
    }
   },
   "outputs": [
    {
     "name": "stderr",
     "output_type": "stream",
     "text": [
      "Some weights of BertForTokenClassification were not initialized from the model checkpoint at bert-base-cased and are newly initialized: ['classifier.bias', 'classifier.weight']\n",
      "You should probably TRAIN this model on a down-stream task to be able to use it for predictions and inference.\n"
     ]
    },
    {
     "name": "stderr",
     "output_type": "stream",
     "text": [
      "/scratch/1063415/ipykernel_1294300/1248433719.py:40: FutureWarning: `tokenizer` is deprecated and will be removed in version 5.0.0 for `Trainer.__init__`. Use `processing_class` instead.\n",
      "  trainer = Trainer(\n"
     ]
    }
   ],
   "source": [
    "mod = BertForTokenClassification.from_pretrained(\n",
    "    model_name, num_labels=len(label_list))\n",
    "\n",
    "metric = load_metric(\"seqeval\")\n",
    "\n",
    "\n",
    "def compute_metrics(p):\n",
    "    predictions, labels = p\n",
    "    predictions = np.argmax(predictions, axis=2)\n",
    "\n",
    "    true_predictions = [\n",
    "        [label_list[p] for (p, l) in zip(prediction, label) if l != -100]\n",
    "        for prediction, label in zip(predictions, labels)\n",
    "    ]\n",
    "    true_labels = [\n",
    "        [label_list[l] for (p, l) in zip(prediction, label) if l != -100]\n",
    "        for prediction, label in zip(predictions, labels)\n",
    "    ]\n",
    "\n",
    "    return metric.compute(predictions=true_predictions, references=true_labels)\n",
    "\n",
    "\n",
    "data_collator = DataCollatorForTokenClassification(tokenizer)\n",
    "\n",
    "training_args = TrainingArguments(\n",
    "    output_dir=f\"./output/{model_name}\",\n",
    "    eval_strategy=\"no\",\n",
    "    learning_rate=2e-5,\n",
    "    per_device_train_batch_size=8,\n",
    "    per_device_eval_batch_size=8,\n",
    "    gradient_accumulation_steps=2,\n",
    "    num_train_epochs=3,\n",
    "    weight_decay=0.01,\n",
    "    load_best_model_at_end=True,\n",
    "    report_to=\"none\",\n",
    "    fp16=True,\n",
    "    save_strategy=\"no\",\n",
    ")\n",
    "\n",
    "trainer = Trainer(\n",
    "    model=mod,\n",
    "    args=training_args,\n",
    "    train_dataset=train_data,\n",
    "    eval_dataset=test_data,\n",
    "    tokenizer=tokenizer,\n",
    "    compute_metrics=compute_metrics,\n",
    "    data_collator=data_collator,\n",
    ")"
   ]
  },
  {
   "cell_type": "code",
   "execution_count": 12,
   "id": "f3aba358",
   "metadata": {
    "execution": {
     "iopub.execute_input": "2025-07-02T23:16:25.685844Z",
     "iopub.status.busy": "2025-07-02T23:16:25.685615Z",
     "iopub.status.idle": "2025-07-02T23:22:37.592996Z",
     "shell.execute_reply": "2025-07-02T23:22:37.592433Z"
    }
   },
   "outputs": [
    {
     "data": {
      "text/html": [
       "\n",
       "    <div>\n",
       "      \n",
       "      <progress value='3114' max='3114' style='width:300px; height:20px; vertical-align: middle;'></progress>\n",
       "      [3114/3114 06:11, Epoch 3/3]\n",
       "    </div>\n",
       "    <table border=\"1\" class=\"dataframe\">\n",
       "  <thead>\n",
       " <tr style=\"text-align: left;\">\n",
       "      <th>Step</th>\n",
       "      <th>Training Loss</th>\n",
       "    </tr>\n",
       "  </thead>\n",
       "  <tbody>\n",
       "    <tr>\n",
       "      <td>500</td>\n",
       "      <td>0.248300</td>\n",
       "    </tr>\n",
       "    <tr>\n",
       "      <td>1000</td>\n",
       "      <td>0.089300</td>\n",
       "    </tr>\n",
       "    <tr>\n",
       "      <td>1500</td>\n",
       "      <td>0.055000</td>\n",
       "    </tr>\n",
       "    <tr>\n",
       "      <td>2000</td>\n",
       "      <td>0.050500</td>\n",
       "    </tr>\n",
       "    <tr>\n",
       "      <td>2500</td>\n",
       "      <td>0.033300</td>\n",
       "    </tr>\n",
       "    <tr>\n",
       "      <td>3000</td>\n",
       "      <td>0.028500</td>\n",
       "    </tr>\n",
       "  </tbody>\n",
       "</table><p>"
      ],
      "text/plain": [
       "<IPython.core.display.HTML object>"
      ]
     },
     "metadata": {},
     "output_type": "display_data"
    },
    {
     "data": {
      "text/plain": [
       "TrainOutput(global_step=3114, training_loss=0.08204985621960101, metrics={'train_runtime': 371.7057, 'train_samples_per_second': 133.937, 'train_steps_per_second': 8.378, 'total_flos': 3916666226042982.0, 'train_loss': 0.08204985621960101, 'epoch': 3.0})"
      ]
     },
     "execution_count": 12,
     "metadata": {},
     "output_type": "execute_result"
    }
   ],
   "source": [
    "trainer.train()"
   ]
  },
  {
   "cell_type": "code",
   "execution_count": 13,
   "id": "0ab61534",
   "metadata": {
    "execution": {
     "iopub.execute_input": "2025-07-02T23:22:37.595147Z",
     "iopub.status.busy": "2025-07-02T23:22:37.594877Z",
     "iopub.status.idle": "2025-07-02T23:22:40.235177Z",
     "shell.execute_reply": "2025-07-02T23:22:40.234689Z"
    }
   },
   "outputs": [],
   "source": [
    "trainer.save_model(f\"./saved_model/{model_name}_{train_data_name}\")"
   ]
  },
  {
   "cell_type": "code",
   "execution_count": 14,
   "id": "0501140f",
   "metadata": {
    "execution": {
     "iopub.execute_input": "2025-07-02T23:22:40.237166Z",
     "iopub.status.busy": "2025-07-02T23:22:40.236924Z",
     "iopub.status.idle": "2025-07-02T23:25:11.179995Z",
     "shell.execute_reply": "2025-07-02T23:25:11.179501Z"
    }
   },
   "outputs": [
    {
     "data": {
      "text/html": [],
      "text/plain": [
       "<IPython.core.display.HTML object>"
      ]
     },
     "metadata": {},
     "output_type": "display_data"
    }
   ],
   "source": [
    "predictions = trainer.predict(test_data)"
   ]
  },
  {
   "cell_type": "code",
   "execution_count": 15,
   "id": "fe65dbef",
   "metadata": {
    "execution": {
     "iopub.execute_input": "2025-07-02T23:25:11.181966Z",
     "iopub.status.busy": "2025-07-02T23:25:11.181572Z",
     "iopub.status.idle": "2025-07-02T23:25:14.946190Z",
     "shell.execute_reply": "2025-07-02T23:25:14.945714Z"
    }
   },
   "outputs": [],
   "source": [
    "with open(f'./results/{model_name}_{train_data_name}_results.pkl', 'wb') as f:\n",
    "    pickle.dump(predictions, f)"
   ]
  },
  {
   "cell_type": "code",
   "execution_count": 16,
   "id": "2d1254fe",
   "metadata": {
    "execution": {
     "iopub.execute_input": "2025-07-02T23:25:14.948146Z",
     "iopub.status.busy": "2025-07-02T23:25:14.947865Z",
     "iopub.status.idle": "2025-07-02T23:26:34.509183Z",
     "shell.execute_reply": "2025-07-02T23:26:34.508550Z"
    }
   },
   "outputs": [
    {
     "name": "stderr",
     "output_type": "stream",
     "text": [
      "\r",
      "Map:   0%|          | 0/42753 [00:00<?, ? examples/s]"
     ]
    },
    {
     "name": "stderr",
     "output_type": "stream",
     "text": [
      "\r",
      "Map:   2%|▏         | 664/42753 [00:00<00:06, 6559.56 examples/s]"
     ]
    },
    {
     "name": "stderr",
     "output_type": "stream",
     "text": [
      "\r",
      "Map:   3%|▎         | 1342/42753 [00:00<00:08, 5096.73 examples/s]"
     ]
    },
    {
     "name": "stderr",
     "output_type": "stream",
     "text": [
      "\r",
      "Map:   5%|▍         | 2000/42753 [00:00<00:08, 4715.84 examples/s]"
     ]
    },
    {
     "name": "stderr",
     "output_type": "stream",
     "text": [
      "\r",
      "Map:   6%|▋         | 2723/42753 [00:00<00:07, 5505.22 examples/s]"
     ]
    },
    {
     "name": "stderr",
     "output_type": "stream",
     "text": [
      "\r",
      "Map:   8%|▊         | 3404/42753 [00:00<00:07, 5266.50 examples/s]"
     ]
    },
    {
     "name": "stderr",
     "output_type": "stream",
     "text": [
      "\r",
      "Map:   9%|▉         | 4000/42753 [00:00<00:07, 5129.90 examples/s]"
     ]
    },
    {
     "name": "stderr",
     "output_type": "stream",
     "text": [
      "\r",
      "Map:  11%|█         | 4800/42753 [00:00<00:06, 5919.96 examples/s]"
     ]
    },
    {
     "name": "stderr",
     "output_type": "stream",
     "text": [
      "\r",
      "Map:  13%|█▎        | 5418/42753 [00:00<00:06, 5576.56 examples/s]"
     ]
    },
    {
     "name": "stderr",
     "output_type": "stream",
     "text": [
      "\r",
      "Map:  14%|█▍        | 6000/42753 [00:01<00:06, 5355.86 examples/s]"
     ]
    },
    {
     "name": "stderr",
     "output_type": "stream",
     "text": [
      "\r",
      "Map:  16%|█▌        | 6866/42753 [00:01<00:05, 6246.79 examples/s]"
     ]
    },
    {
     "name": "stderr",
     "output_type": "stream",
     "text": [
      "\r",
      "Map:  18%|█▊        | 7795/42753 [00:01<00:05, 6022.60 examples/s]"
     ]
    },
    {
     "name": "stderr",
     "output_type": "stream",
     "text": [
      "\r",
      "Map:  20%|█▉        | 8444/42753 [00:01<00:05, 5743.14 examples/s]"
     ]
    },
    {
     "name": "stderr",
     "output_type": "stream",
     "text": [
      "\r",
      "Map:  22%|██▏       | 9404/42753 [00:01<00:05, 5828.32 examples/s]"
     ]
    },
    {
     "name": "stderr",
     "output_type": "stream",
     "text": [
      "\r",
      "Map:  23%|██▎       | 10000/42753 [00:01<00:05, 5603.14 examples/s]"
     ]
    },
    {
     "name": "stderr",
     "output_type": "stream",
     "text": [
      "\r",
      "Map:  25%|██▍       | 10652/42753 [00:01<00:05, 5825.65 examples/s]"
     ]
    },
    {
     "name": "stderr",
     "output_type": "stream",
     "text": [
      "\r",
      "Map:  27%|██▋       | 11366/42753 [00:02<00:05, 5370.73 examples/s]"
     ]
    },
    {
     "name": "stderr",
     "output_type": "stream",
     "text": [
      "\r",
      "Map:  28%|██▊       | 12000/42753 [00:02<00:06, 5090.16 examples/s]"
     ]
    },
    {
     "name": "stderr",
     "output_type": "stream",
     "text": [
      "\r",
      "Map:  30%|██▉       | 12771/42753 [00:02<00:05, 5717.93 examples/s]"
     ]
    },
    {
     "name": "stderr",
     "output_type": "stream",
     "text": [
      "\r",
      "Map:  31%|███▏      | 13408/42753 [00:02<00:05, 5450.70 examples/s]"
     ]
    },
    {
     "name": "stderr",
     "output_type": "stream",
     "text": [
      "\r",
      "Map:  33%|███▎      | 14000/42753 [00:02<00:05, 5247.45 examples/s]"
     ]
    },
    {
     "name": "stderr",
     "output_type": "stream",
     "text": [
      "\r",
      "Map:  34%|███▍      | 14642/42753 [00:02<00:05, 5543.26 examples/s]"
     ]
    },
    {
     "name": "stderr",
     "output_type": "stream",
     "text": [
      "\r",
      "Map:  36%|███▌      | 15433/42753 [00:02<00:05, 5324.71 examples/s]"
     ]
    },
    {
     "name": "stderr",
     "output_type": "stream",
     "text": [
      "\r",
      "Map:  37%|███▋      | 16000/42753 [00:02<00:05, 5222.19 examples/s]"
     ]
    },
    {
     "name": "stderr",
     "output_type": "stream",
     "text": [
      "\r",
      "Map:  39%|███▉      | 16802/42753 [00:03<00:04, 5931.32 examples/s]"
     ]
    },
    {
     "name": "stderr",
     "output_type": "stream",
     "text": [
      "\r",
      "Map:  42%|████▏     | 17807/42753 [00:03<00:04, 5837.52 examples/s]"
     ]
    },
    {
     "name": "stderr",
     "output_type": "stream",
     "text": [
      "\r",
      "Map:  44%|████▍     | 18792/42753 [00:03<00:04, 5754.43 examples/s]"
     ]
    },
    {
     "name": "stderr",
     "output_type": "stream",
     "text": [
      "\r",
      "Map:  45%|████▌     | 19414/42753 [00:03<00:04, 5518.82 examples/s]"
     ]
    },
    {
     "name": "stderr",
     "output_type": "stream",
     "text": [
      "\r",
      "Map:  47%|████▋     | 20000/42753 [00:03<00:04, 5332.40 examples/s]"
     ]
    },
    {
     "name": "stderr",
     "output_type": "stream",
     "text": [
      "\r",
      "Map:  49%|████▊     | 20810/42753 [00:03<00:03, 5995.28 examples/s]"
     ]
    },
    {
     "name": "stderr",
     "output_type": "stream",
     "text": [
      "\r",
      "Map:  50%|█████     | 21438/42753 [00:03<00:03, 5701.18 examples/s]"
     ]
    },
    {
     "name": "stderr",
     "output_type": "stream",
     "text": [
      "\r",
      "Map:  52%|█████▏    | 22402/42753 [00:04<00:03, 5788.11 examples/s]"
     ]
    },
    {
     "name": "stderr",
     "output_type": "stream",
     "text": [
      "\r",
      "Map:  54%|█████▍    | 23000/42753 [00:04<00:03, 5483.95 examples/s]"
     ]
    },
    {
     "name": "stderr",
     "output_type": "stream",
     "text": [
      "\r",
      "Map:  56%|█████▌    | 23816/42753 [00:04<00:03, 6134.36 examples/s]"
     ]
    },
    {
     "name": "stderr",
     "output_type": "stream",
     "text": [
      "\r",
      "Map:  58%|█████▊    | 24837/42753 [00:04<00:02, 6029.79 examples/s]"
     ]
    },
    {
     "name": "stderr",
     "output_type": "stream",
     "text": [
      "\r",
      "Map:  60%|██████    | 25855/42753 [00:04<00:02, 6012.09 examples/s]"
     ]
    },
    {
     "name": "stderr",
     "output_type": "stream",
     "text": [
      "\r",
      "Map:  63%|██████▎   | 26829/42753 [00:04<00:02, 5955.25 examples/s]"
     ]
    },
    {
     "name": "stderr",
     "output_type": "stream",
     "text": [
      "\r",
      "Map:  65%|██████▌   | 27790/42753 [00:04<00:02, 5813.28 examples/s]"
     ]
    },
    {
     "name": "stderr",
     "output_type": "stream",
     "text": [
      "\r",
      "Map:  67%|██████▋   | 28739/42753 [00:05<00:02, 5647.77 examples/s]"
     ]
    },
    {
     "name": "stderr",
     "output_type": "stream",
     "text": [
      "\r",
      "Map:  69%|██████▉   | 29434/42753 [00:05<00:02, 5477.54 examples/s]"
     ]
    },
    {
     "name": "stderr",
     "output_type": "stream",
     "text": [
      "\r",
      "Map:  70%|███████   | 30000/42753 [00:05<00:02, 5335.41 examples/s]"
     ]
    },
    {
     "name": "stderr",
     "output_type": "stream",
     "text": [
      "\r",
      "Map:  72%|███████▏  | 30800/42753 [00:05<00:02, 5941.11 examples/s]"
     ]
    },
    {
     "name": "stderr",
     "output_type": "stream",
     "text": [
      "\r",
      "Map:  74%|███████▎  | 31491/42753 [00:05<00:03, 3598.45 examples/s]"
     ]
    },
    {
     "name": "stderr",
     "output_type": "stream",
     "text": [
      "\r",
      "Map:  75%|███████▍  | 32000/42753 [00:06<00:03, 3414.89 examples/s]"
     ]
    },
    {
     "name": "stderr",
     "output_type": "stream",
     "text": [
      "\r",
      "Map:  76%|███████▌  | 32548/42753 [00:06<00:02, 3778.55 examples/s]"
     ]
    },
    {
     "name": "stderr",
     "output_type": "stream",
     "text": [
      "\r",
      "Map:  78%|███████▊  | 33269/42753 [00:06<00:02, 3733.47 examples/s]"
     ]
    },
    {
     "name": "stderr",
     "output_type": "stream",
     "text": [
      "\r",
      "Map:  79%|███████▉  | 33797/42753 [00:06<00:02, 4032.00 examples/s]"
     ]
    },
    {
     "name": "stderr",
     "output_type": "stream",
     "text": [
      "\r",
      "Map:  80%|████████  | 34336/42753 [00:06<00:02, 3915.26 examples/s]"
     ]
    },
    {
     "name": "stderr",
     "output_type": "stream",
     "text": [
      "\r",
      "Map:  82%|████████▏ | 35000/42753 [00:06<00:01, 4063.72 examples/s]"
     ]
    },
    {
     "name": "stderr",
     "output_type": "stream",
     "text": [
      "\r",
      "Map:  84%|████████▎ | 35714/42753 [00:06<00:01, 4739.49 examples/s]"
     ]
    },
    {
     "name": "stderr",
     "output_type": "stream",
     "text": [
      "\r",
      "Map:  85%|████████▌ | 36412/42753 [00:07<00:01, 4312.91 examples/s]"
     ]
    },
    {
     "name": "stderr",
     "output_type": "stream",
     "text": [
      "\r",
      "Map:  87%|████████▋ | 37000/42753 [00:07<00:01, 3722.05 examples/s]"
     ]
    },
    {
     "name": "stderr",
     "output_type": "stream",
     "text": [
      "\r",
      "Map:  88%|████████▊ | 37761/42753 [00:07<00:01, 4497.66 examples/s]"
     ]
    },
    {
     "name": "stderr",
     "output_type": "stream",
     "text": [
      "\r",
      "Map:  90%|████████▉ | 38332/42753 [00:07<00:00, 4441.11 examples/s]"
     ]
    },
    {
     "name": "stderr",
     "output_type": "stream",
     "text": [
      "\r",
      "Map:  91%|█████████ | 38997/42753 [00:07<00:00, 4942.55 examples/s]"
     ]
    },
    {
     "name": "stderr",
     "output_type": "stream",
     "text": [
      "\r",
      "Map:  93%|█████████▎| 39645/42753 [00:07<00:00, 4684.78 examples/s]"
     ]
    },
    {
     "name": "stderr",
     "output_type": "stream",
     "text": [
      "\r",
      "Map:  94%|█████████▍| 40289/42753 [00:07<00:00, 4462.63 examples/s]"
     ]
    },
    {
     "name": "stderr",
     "output_type": "stream",
     "text": [
      "\r",
      "Map:  96%|█████████▌| 40861/42753 [00:07<00:00, 4747.30 examples/s]"
     ]
    },
    {
     "name": "stderr",
     "output_type": "stream",
     "text": [
      "\r",
      "Map:  97%|█████████▋| 41423/42753 [00:08<00:00, 4547.59 examples/s]"
     ]
    },
    {
     "name": "stderr",
     "output_type": "stream",
     "text": [
      "\r",
      "Map:  98%|█████████▊| 42000/42753 [00:08<00:00, 4625.95 examples/s]"
     ]
    },
    {
     "name": "stderr",
     "output_type": "stream",
     "text": [
      "\r",
      "Map: 100%|█████████▉| 42632/42753 [00:08<00:00, 5045.78 examples/s]"
     ]
    },
    {
     "name": "stderr",
     "output_type": "stream",
     "text": [
      "\r",
      "Map: 100%|██████████| 42753/42753 [00:09<00:00, 4401.07 examples/s]"
     ]
    },
    {
     "name": "stderr",
     "output_type": "stream",
     "text": [
      "\n"
     ]
    },
    {
     "name": "stdout",
     "output_type": "stream",
     "text": [
      "              precision    recall  f1-score   support\n",
      "\n",
      "       B-LOC       0.83      0.91      0.87     16435\n",
      "      B-MISC       0.52      0.73      0.60      7455\n",
      "       B-ORG       0.72      0.76      0.74     22446\n",
      "       B-PER       0.91      0.94      0.92     12641\n",
      "       I-LOC       0.71      0.68      0.69      5154\n",
      "      I-MISC       0.55      0.43      0.48      5579\n",
      "       I-ORG       0.92      0.77      0.84     30834\n",
      "       I-PER       0.91      0.92      0.92      7761\n",
      "           O       0.99      0.99      0.99    965876\n",
      "\n",
      "    accuracy                           0.97   1074181\n",
      "   macro avg       0.78      0.79      0.78   1074181\n",
      "weighted avg       0.97      0.97      0.97   1074181\n",
      "\n"
     ]
    }
   ],
   "source": [
    "x, y = evaluate_predictions(predictions, test_data)"
   ]
  },
  {
   "cell_type": "code",
   "execution_count": 17,
   "id": "6f072bc7",
   "metadata": {
    "execution": {
     "iopub.execute_input": "2025-07-02T23:26:34.511500Z",
     "iopub.status.busy": "2025-07-02T23:26:34.511198Z",
     "iopub.status.idle": "2025-07-02T23:33:01.521796Z",
     "shell.execute_reply": "2025-07-02T23:33:01.521197Z"
    }
   },
   "outputs": [
    {
     "data": {
      "text/html": [],
      "text/plain": [
       "<IPython.core.display.HTML object>"
      ]
     },
     "metadata": {},
     "output_type": "display_data"
    },
    {
     "name": "stderr",
     "output_type": "stream",
     "text": [
      "\r",
      "Map:   0%|          | 0/100516 [00:00<?, ? examples/s]"
     ]
    },
    {
     "name": "stderr",
     "output_type": "stream",
     "text": [
      "\r",
      "Map:   1%|          | 766/100516 [00:00<00:13, 7546.51 examples/s]"
     ]
    },
    {
     "name": "stderr",
     "output_type": "stream",
     "text": [
      "\r",
      "Map:   2%|▏         | 1953/100516 [00:00<00:15, 6300.17 examples/s]"
     ]
    },
    {
     "name": "stderr",
     "output_type": "stream",
     "text": [
      "\r",
      "Map:   3%|▎         | 2862/100516 [00:00<00:15, 6165.79 examples/s]"
     ]
    },
    {
     "name": "stderr",
     "output_type": "stream",
     "text": [
      "\r",
      "Map:   4%|▍         | 3803/100516 [00:00<00:16, 5936.14 examples/s]"
     ]
    },
    {
     "name": "stderr",
     "output_type": "stream",
     "text": [
      "\r",
      "Map:   5%|▍         | 4702/100516 [00:00<00:17, 5470.05 examples/s]"
     ]
    },
    {
     "name": "stderr",
     "output_type": "stream",
     "text": [
      "\r",
      "Map:   5%|▌         | 5393/100516 [00:00<00:18, 5084.74 examples/s]"
     ]
    },
    {
     "name": "stderr",
     "output_type": "stream",
     "text": [
      "\r",
      "Map:   6%|▌         | 6000/100516 [00:01<00:20, 4641.92 examples/s]"
     ]
    },
    {
     "name": "stderr",
     "output_type": "stream",
     "text": [
      "\r",
      "Map:   7%|▋         | 6845/100516 [00:01<00:28, 3313.09 examples/s]"
     ]
    },
    {
     "name": "stderr",
     "output_type": "stream",
     "text": [
      "\r",
      "Map:   7%|▋         | 7418/100516 [00:01<00:26, 3519.99 examples/s]"
     ]
    },
    {
     "name": "stderr",
     "output_type": "stream",
     "text": [
      "\r",
      "Map:   8%|▊         | 8000/100516 [00:01<00:24, 3802.32 examples/s]"
     ]
    },
    {
     "name": "stderr",
     "output_type": "stream",
     "text": [
      "\r",
      "Map:   9%|▉         | 8869/100516 [00:01<00:19, 4765.92 examples/s]"
     ]
    },
    {
     "name": "stderr",
     "output_type": "stream",
     "text": [
      "\r",
      "Map:  10%|▉         | 9805/100516 [00:02<00:18, 4914.48 examples/s]"
     ]
    },
    {
     "name": "stderr",
     "output_type": "stream",
     "text": [
      "\r",
      "Map:  10%|█         | 10372/100516 [00:02<00:19, 4713.08 examples/s]"
     ]
    },
    {
     "name": "stderr",
     "output_type": "stream",
     "text": [
      "\r",
      "Map:  11%|█         | 11000/100516 [00:02<00:19, 4682.31 examples/s]"
     ]
    },
    {
     "name": "stderr",
     "output_type": "stream",
     "text": [
      "\r",
      "Map:  12%|█▏        | 11849/100516 [00:02<00:16, 5534.78 examples/s]"
     ]
    },
    {
     "name": "stderr",
     "output_type": "stream",
     "text": [
      "\r",
      "Map:  13%|█▎        | 12832/100516 [00:02<00:16, 5455.96 examples/s]"
     ]
    },
    {
     "name": "stderr",
     "output_type": "stream",
     "text": [
      "\r",
      "Map:  13%|█▎        | 13416/100516 [00:02<00:17, 5026.05 examples/s]"
     ]
    },
    {
     "name": "stderr",
     "output_type": "stream",
     "text": [
      "\r",
      "Map:  14%|█▍        | 14000/100516 [00:02<00:17, 5042.12 examples/s]"
     ]
    },
    {
     "name": "stderr",
     "output_type": "stream",
     "text": [
      "\r",
      "Map:  15%|█▍        | 14843/100516 [00:02<00:14, 5842.25 examples/s]"
     ]
    },
    {
     "name": "stderr",
     "output_type": "stream",
     "text": [
      "\r",
      "Map:  16%|█▌        | 15923/100516 [00:03<00:15, 5587.99 examples/s]"
     ]
    },
    {
     "name": "stderr",
     "output_type": "stream",
     "text": [
      "\r",
      "Map:  17%|█▋        | 16871/100516 [00:03<00:14, 5643.58 examples/s]"
     ]
    },
    {
     "name": "stderr",
     "output_type": "stream",
     "text": [
      "\r",
      "Map:  18%|█▊        | 17778/100516 [00:03<00:14, 5616.31 examples/s]"
     ]
    },
    {
     "name": "stderr",
     "output_type": "stream",
     "text": [
      "\r",
      "Map:  18%|█▊        | 18382/100516 [00:03<00:15, 5359.93 examples/s]"
     ]
    },
    {
     "name": "stderr",
     "output_type": "stream",
     "text": [
      "\r",
      "Map:  19%|█▉        | 19000/100516 [00:03<00:15, 5121.37 examples/s]"
     ]
    },
    {
     "name": "stderr",
     "output_type": "stream",
     "text": [
      "\r",
      "Map:  20%|█▉        | 19862/100516 [00:03<00:13, 5914.92 examples/s]"
     ]
    },
    {
     "name": "stderr",
     "output_type": "stream",
     "text": [
      "\r",
      "Map:  21%|██        | 20680/100516 [00:04<00:14, 5533.51 examples/s]"
     ]
    },
    {
     "name": "stderr",
     "output_type": "stream",
     "text": [
      "\r",
      "Map:  21%|██▏       | 21378/100516 [00:04<00:15, 5201.14 examples/s]"
     ]
    },
    {
     "name": "stderr",
     "output_type": "stream",
     "text": [
      "\r",
      "Map:  22%|██▏       | 22000/100516 [00:04<00:15, 4999.55 examples/s]"
     ]
    },
    {
     "name": "stderr",
     "output_type": "stream",
     "text": [
      "\r",
      "Map:  23%|██▎       | 22648/100516 [00:04<00:14, 5336.54 examples/s]"
     ]
    },
    {
     "name": "stderr",
     "output_type": "stream",
     "text": [
      "\r",
      "Map:  23%|██▎       | 23321/100516 [00:04<00:16, 4755.43 examples/s]"
     ]
    },
    {
     "name": "stderr",
     "output_type": "stream",
     "text": [
      "\r",
      "Map:  24%|██▍       | 23991/100516 [00:04<00:14, 5196.35 examples/s]"
     ]
    },
    {
     "name": "stderr",
     "output_type": "stream",
     "text": [
      "\r",
      "Map:  25%|██▍       | 24861/100516 [00:04<00:14, 5251.36 examples/s]"
     ]
    },
    {
     "name": "stderr",
     "output_type": "stream",
     "text": [
      "\r",
      "Map:  26%|██▌       | 25704/100516 [00:05<00:14, 5136.12 examples/s]"
     ]
    },
    {
     "name": "stderr",
     "output_type": "stream",
     "text": [
      "\r",
      "Map:  26%|██▌       | 26293/100516 [00:05<00:16, 4563.14 examples/s]"
     ]
    },
    {
     "name": "stderr",
     "output_type": "stream",
     "text": [
      "\r",
      "Map:  27%|██▋       | 26880/100516 [00:05<00:15, 4842.89 examples/s]"
     ]
    },
    {
     "name": "stderr",
     "output_type": "stream",
     "text": [
      "\r",
      "Map:  28%|██▊       | 27647/100516 [00:05<00:15, 4569.30 examples/s]"
     ]
    },
    {
     "name": "stderr",
     "output_type": "stream",
     "text": [
      "\r",
      "Map:  28%|██▊       | 28348/100516 [00:06<00:30, 2364.75 examples/s]"
     ]
    },
    {
     "name": "stderr",
     "output_type": "stream",
     "text": [
      "\r",
      "Map:  29%|██▉       | 29000/100516 [00:06<00:27, 2643.95 examples/s]"
     ]
    },
    {
     "name": "stderr",
     "output_type": "stream",
     "text": [
      "\r",
      "Map:  30%|██▉       | 29857/100516 [00:06<00:20, 3481.08 examples/s]"
     ]
    },
    {
     "name": "stderr",
     "output_type": "stream",
     "text": [
      "\r",
      "Map:  30%|███       | 30533/100516 [00:06<00:17, 3924.24 examples/s]"
     ]
    },
    {
     "name": "stderr",
     "output_type": "stream",
     "text": [
      "\r",
      "Map:  31%|███       | 31390/100516 [00:06<00:15, 4511.06 examples/s]"
     ]
    },
    {
     "name": "stderr",
     "output_type": "stream",
     "text": [
      "\r",
      "Map:  32%|███▏      | 32000/100516 [00:06<00:14, 4569.72 examples/s]"
     ]
    },
    {
     "name": "stderr",
     "output_type": "stream",
     "text": [
      "\r",
      "Map:  33%|███▎      | 32960/100516 [00:06<00:11, 5650.20 examples/s]"
     ]
    },
    {
     "name": "stderr",
     "output_type": "stream",
     "text": [
      "\r",
      "Map:  34%|███▎      | 33869/100516 [00:07<00:11, 5749.12 examples/s]"
     ]
    },
    {
     "name": "stderr",
     "output_type": "stream",
     "text": [
      "\r",
      "Map:  35%|███▍      | 35000/100516 [00:07<00:11, 5672.79 examples/s]"
     ]
    },
    {
     "name": "stderr",
     "output_type": "stream",
     "text": [
      "\r",
      "Map:  36%|███▌      | 36000/100516 [00:07<00:10, 6157.47 examples/s]"
     ]
    },
    {
     "name": "stderr",
     "output_type": "stream",
     "text": [
      "\r",
      "Map:  37%|███▋      | 36956/100516 [00:07<00:09, 6901.54 examples/s]"
     ]
    },
    {
     "name": "stderr",
     "output_type": "stream",
     "text": [
      "\r",
      "Map:  38%|███▊      | 37951/100516 [00:07<00:09, 6793.58 examples/s]"
     ]
    },
    {
     "name": "stderr",
     "output_type": "stream",
     "text": [
      "\r",
      "Map:  39%|███▉      | 39000/100516 [00:07<00:10, 5977.30 examples/s]"
     ]
    },
    {
     "name": "stderr",
     "output_type": "stream",
     "text": [
      "\r",
      "Map:  40%|███▉      | 40000/100516 [00:08<00:15, 4016.40 examples/s]"
     ]
    },
    {
     "name": "stderr",
     "output_type": "stream",
     "text": [
      "\r",
      "Map:  41%|████      | 40861/100516 [00:08<00:12, 4695.24 examples/s]"
     ]
    },
    {
     "name": "stderr",
     "output_type": "stream",
     "text": [
      "\r",
      "Map:  42%|████▏     | 41836/100516 [00:08<00:11, 4972.46 examples/s]"
     ]
    },
    {
     "name": "stderr",
     "output_type": "stream",
     "text": [
      "\r",
      "Map:  42%|████▏     | 42494/100516 [00:08<00:11, 5079.74 examples/s]"
     ]
    },
    {
     "name": "stderr",
     "output_type": "stream",
     "text": [
      "\r",
      "Map:  43%|████▎     | 43484/100516 [00:08<00:10, 5494.29 examples/s]"
     ]
    },
    {
     "name": "stderr",
     "output_type": "stream",
     "text": [
      "\r",
      "Map:  44%|████▍     | 44430/100516 [00:08<00:09, 5679.36 examples/s]"
     ]
    },
    {
     "name": "stderr",
     "output_type": "stream",
     "text": [
      "\r",
      "Map:  45%|████▌     | 45523/100516 [00:09<00:09, 5893.48 examples/s]"
     ]
    },
    {
     "name": "stderr",
     "output_type": "stream",
     "text": [
      "\r",
      "Map:  46%|████▋     | 46498/100516 [00:09<00:08, 6169.22 examples/s]"
     ]
    },
    {
     "name": "stderr",
     "output_type": "stream",
     "text": [
      "\r",
      "Map:  47%|████▋     | 47502/100516 [00:09<00:08, 6251.09 examples/s]"
     ]
    },
    {
     "name": "stderr",
     "output_type": "stream",
     "text": [
      "\r",
      "Map:  48%|████▊     | 48320/100516 [00:09<00:08, 6136.85 examples/s]"
     ]
    },
    {
     "name": "stderr",
     "output_type": "stream",
     "text": [
      "\r",
      "Map:  49%|████▊     | 49000/100516 [00:09<00:09, 5587.57 examples/s]"
     ]
    },
    {
     "name": "stderr",
     "output_type": "stream",
     "text": [
      "\r",
      "Map:  50%|████▉     | 49920/100516 [00:09<00:07, 6371.74 examples/s]"
     ]
    },
    {
     "name": "stderr",
     "output_type": "stream",
     "text": [
      "\r",
      "Map:  51%|█████     | 50983/100516 [00:10<00:07, 6522.21 examples/s]"
     ]
    },
    {
     "name": "stderr",
     "output_type": "stream",
     "text": [
      "\r",
      "Map:  52%|█████▏    | 51939/100516 [00:10<00:07, 6300.34 examples/s]"
     ]
    },
    {
     "name": "stderr",
     "output_type": "stream",
     "text": [
      "\r",
      "Map:  53%|█████▎    | 52934/100516 [00:10<00:07, 6295.10 examples/s]"
     ]
    },
    {
     "name": "stderr",
     "output_type": "stream",
     "text": [
      "\r",
      "Map:  54%|█████▎    | 53903/100516 [00:10<00:07, 6293.40 examples/s]"
     ]
    },
    {
     "name": "stderr",
     "output_type": "stream",
     "text": [
      "\r",
      "Map:  55%|█████▍    | 55000/100516 [00:10<00:07, 6050.83 examples/s]"
     ]
    },
    {
     "name": "stderr",
     "output_type": "stream",
     "text": [
      "\r",
      "Map:  56%|█████▌    | 55877/100516 [00:10<00:06, 6610.10 examples/s]"
     ]
    },
    {
     "name": "stderr",
     "output_type": "stream",
     "text": [
      "\r",
      "Map:  57%|█████▋    | 57000/100516 [00:10<00:06, 6242.95 examples/s]"
     ]
    },
    {
     "name": "stderr",
     "output_type": "stream",
     "text": [
      "\r",
      "Map:  58%|█████▊    | 57987/100516 [00:11<00:06, 6999.82 examples/s]"
     ]
    },
    {
     "name": "stderr",
     "output_type": "stream",
     "text": [
      "\r",
      "Map:  59%|█████▊    | 58935/100516 [00:11<00:06, 6787.81 examples/s]"
     ]
    },
    {
     "name": "stderr",
     "output_type": "stream",
     "text": [
      "\r",
      "Map:  60%|█████▉    | 60000/100516 [00:11<00:06, 6405.18 examples/s]"
     ]
    },
    {
     "name": "stderr",
     "output_type": "stream",
     "text": [
      "\r",
      "Map:  61%|██████    | 61000/100516 [00:11<00:05, 6740.28 examples/s]"
     ]
    },
    {
     "name": "stderr",
     "output_type": "stream",
     "text": [
      "\r",
      "Map:  62%|██████▏   | 61980/100516 [00:11<00:05, 7420.44 examples/s]"
     ]
    },
    {
     "name": "stderr",
     "output_type": "stream",
     "text": [
      "\r",
      "Map:  63%|██████▎   | 63000/100516 [00:11<00:05, 6781.58 examples/s]"
     ]
    },
    {
     "name": "stderr",
     "output_type": "stream",
     "text": [
      "\r",
      "Map:  64%|██████▎   | 63865/100516 [00:11<00:05, 7197.49 examples/s]"
     ]
    },
    {
     "name": "stderr",
     "output_type": "stream",
     "text": [
      "\r",
      "Map:  65%|██████▍   | 64931/100516 [00:12<00:05, 6212.82 examples/s]"
     ]
    },
    {
     "name": "stderr",
     "output_type": "stream",
     "text": [
      "\r",
      "Map:  66%|██████▌   | 65877/100516 [00:12<00:06, 5453.57 examples/s]"
     ]
    },
    {
     "name": "stderr",
     "output_type": "stream",
     "text": [
      "\r",
      "Map:  66%|██████▌   | 66575/100516 [00:12<00:06, 4939.48 examples/s]"
     ]
    },
    {
     "name": "stderr",
     "output_type": "stream",
     "text": [
      "\r",
      "Map:  67%|██████▋   | 67248/100516 [00:12<00:07, 4486.45 examples/s]"
     ]
    },
    {
     "name": "stderr",
     "output_type": "stream",
     "text": [
      "\r",
      "Map:  67%|██████▋   | 67740/100516 [00:12<00:07, 4567.43 examples/s]"
     ]
    },
    {
     "name": "stderr",
     "output_type": "stream",
     "text": [
      "\r",
      "Map:  68%|██████▊   | 68396/100516 [00:13<00:07, 4306.02 examples/s]"
     ]
    },
    {
     "name": "stderr",
     "output_type": "stream",
     "text": [
      "\r",
      "Map:  69%|██████▊   | 69000/100516 [00:13<00:07, 4395.46 examples/s]"
     ]
    },
    {
     "name": "stderr",
     "output_type": "stream",
     "text": [
      "\r",
      "Map:  69%|██████▉   | 69758/100516 [00:13<00:06, 5087.62 examples/s]"
     ]
    },
    {
     "name": "stderr",
     "output_type": "stream",
     "text": [
      "\r",
      "Map:  70%|███████   | 70415/100516 [00:13<00:09, 3157.88 examples/s]"
     ]
    },
    {
     "name": "stderr",
     "output_type": "stream",
     "text": [
      "\r",
      "Map:  71%|███████   | 70936/100516 [00:13<00:08, 3494.34 examples/s]"
     ]
    },
    {
     "name": "stderr",
     "output_type": "stream",
     "text": [
      "\r",
      "Map:  71%|███████   | 71594/100516 [00:13<00:08, 3545.77 examples/s]"
     ]
    },
    {
     "name": "stderr",
     "output_type": "stream",
     "text": [
      "\r",
      "Map:  72%|███████▏  | 72343/100516 [00:14<00:07, 3626.18 examples/s]"
     ]
    },
    {
     "name": "stderr",
     "output_type": "stream",
     "text": [
      "\r",
      "Map:  73%|███████▎  | 73000/100516 [00:14<00:07, 3815.02 examples/s]"
     ]
    },
    {
     "name": "stderr",
     "output_type": "stream",
     "text": [
      "\r",
      "Map:  73%|███████▎  | 73841/100516 [00:14<00:05, 4715.26 examples/s]"
     ]
    },
    {
     "name": "stderr",
     "output_type": "stream",
     "text": [
      "\r",
      "Map:  74%|███████▍  | 74413/100516 [00:14<00:05, 4644.17 examples/s]"
     ]
    },
    {
     "name": "stderr",
     "output_type": "stream",
     "text": [
      "\r",
      "Map:  75%|███████▍  | 75000/100516 [00:14<00:05, 4681.79 examples/s]"
     ]
    },
    {
     "name": "stderr",
     "output_type": "stream",
     "text": [
      "\r",
      "Map:  75%|███████▌  | 75819/100516 [00:14<00:04, 5508.79 examples/s]"
     ]
    },
    {
     "name": "stderr",
     "output_type": "stream",
     "text": [
      "\r",
      "Map:  76%|███████▋  | 76804/100516 [00:14<00:04, 5470.07 examples/s]"
     ]
    },
    {
     "name": "stderr",
     "output_type": "stream",
     "text": [
      "\r",
      "Map:  77%|███████▋  | 77757/100516 [00:15<00:04, 5338.94 examples/s]"
     ]
    },
    {
     "name": "stderr",
     "output_type": "stream",
     "text": [
      "\r",
      "Map:  78%|███████▊  | 78319/100516 [00:15<00:04, 4958.47 examples/s]"
     ]
    },
    {
     "name": "stderr",
     "output_type": "stream",
     "text": [
      "\r",
      "Map:  79%|███████▊  | 78964/100516 [00:15<00:04, 5283.49 examples/s]"
     ]
    },
    {
     "name": "stderr",
     "output_type": "stream",
     "text": [
      "\r",
      "Map:  79%|███████▉  | 79646/100516 [00:15<00:04, 4825.89 examples/s]"
     ]
    },
    {
     "name": "stderr",
     "output_type": "stream",
     "text": [
      "\r",
      "Map:  80%|███████▉  | 80295/100516 [00:15<00:04, 4515.24 examples/s]"
     ]
    },
    {
     "name": "stderr",
     "output_type": "stream",
     "text": [
      "\r",
      "Map:  80%|████████  | 80890/100516 [00:15<00:04, 4827.21 examples/s]"
     ]
    },
    {
     "name": "stderr",
     "output_type": "stream",
     "text": [
      "\r",
      "Map:  81%|████████  | 81442/100516 [00:15<00:04, 4621.43 examples/s]"
     ]
    },
    {
     "name": "stderr",
     "output_type": "stream",
     "text": [
      "\r",
      "Map:  82%|████████▏ | 82000/100516 [00:16<00:03, 4733.36 examples/s]"
     ]
    },
    {
     "name": "stderr",
     "output_type": "stream",
     "text": [
      "\r",
      "Map:  83%|████████▎ | 82947/100516 [00:16<00:02, 5916.57 examples/s]"
     ]
    },
    {
     "name": "stderr",
     "output_type": "stream",
     "text": [
      "\r",
      "Map:  83%|████████▎ | 83872/100516 [00:16<00:02, 5955.95 examples/s]"
     ]
    },
    {
     "name": "stderr",
     "output_type": "stream",
     "text": [
      "\r",
      "Map:  84%|████████▍ | 84557/100516 [00:16<00:03, 5305.36 examples/s]"
     ]
    },
    {
     "name": "stderr",
     "output_type": "stream",
     "text": [
      "\r",
      "Map:  85%|████████▌ | 85472/100516 [00:16<00:02, 5090.42 examples/s]"
     ]
    },
    {
     "name": "stderr",
     "output_type": "stream",
     "text": [
      "\r",
      "Map:  86%|████████▌ | 86400/100516 [00:16<00:02, 5401.33 examples/s]"
     ]
    },
    {
     "name": "stderr",
     "output_type": "stream",
     "text": [
      "\r",
      "Map:  87%|████████▋ | 87000/100516 [00:16<00:02, 5304.65 examples/s]"
     ]
    },
    {
     "name": "stderr",
     "output_type": "stream",
     "text": [
      "\r",
      "Map:  87%|████████▋ | 87945/100516 [00:17<00:02, 6252.41 examples/s]"
     ]
    },
    {
     "name": "stderr",
     "output_type": "stream",
     "text": [
      "\r",
      "Map:  88%|████████▊ | 88866/100516 [00:17<00:02, 5431.90 examples/s]"
     ]
    },
    {
     "name": "stderr",
     "output_type": "stream",
     "text": [
      "\r",
      "Map:  89%|████████▉ | 89724/100516 [00:17<00:02, 5144.75 examples/s]"
     ]
    },
    {
     "name": "stderr",
     "output_type": "stream",
     "text": [
      "\r",
      "Map:  90%|████████▉ | 90368/100516 [00:17<00:02, 4963.56 examples/s]"
     ]
    },
    {
     "name": "stderr",
     "output_type": "stream",
     "text": [
      "\r",
      "Map:  91%|█████████ | 91000/100516 [00:17<00:01, 4836.20 examples/s]"
     ]
    },
    {
     "name": "stderr",
     "output_type": "stream",
     "text": [
      "\r",
      "Map:  91%|█████████▏| 91866/100516 [00:17<00:01, 5670.41 examples/s]"
     ]
    },
    {
     "name": "stderr",
     "output_type": "stream",
     "text": [
      "\r",
      "Map:  92%|█████████▏| 92799/100516 [00:17<00:01, 5660.36 examples/s]"
     ]
    },
    {
     "name": "stderr",
     "output_type": "stream",
     "text": [
      "\r",
      "Map:  93%|█████████▎| 93400/100516 [00:18<00:01, 5411.05 examples/s]"
     ]
    },
    {
     "name": "stderr",
     "output_type": "stream",
     "text": [
      "\r",
      "Map:  94%|█████████▎| 94000/100516 [00:18<00:01, 5245.47 examples/s]"
     ]
    },
    {
     "name": "stderr",
     "output_type": "stream",
     "text": [
      "\r",
      "Map:  94%|█████████▍| 94805/100516 [00:18<00:00, 5918.89 examples/s]"
     ]
    },
    {
     "name": "stderr",
     "output_type": "stream",
     "text": [
      "\r",
      "Map:  95%|█████████▌| 95501/100516 [00:18<00:00, 5766.78 examples/s]"
     ]
    },
    {
     "name": "stderr",
     "output_type": "stream",
     "text": [
      "\r",
      "Map:  96%|█████████▌| 96581/100516 [00:18<00:00, 6247.59 examples/s]"
     ]
    },
    {
     "name": "stderr",
     "output_type": "stream",
     "text": [
      "\r",
      "Map:  97%|█████████▋| 97456/100516 [00:18<00:00, 6306.33 examples/s]"
     ]
    },
    {
     "name": "stderr",
     "output_type": "stream",
     "text": [
      "\r",
      "Map:  98%|█████████▊| 98354/100516 [00:18<00:00, 6199.39 examples/s]"
     ]
    },
    {
     "name": "stderr",
     "output_type": "stream",
     "text": [
      "\r",
      "Map:  98%|█████████▊| 99000/100516 [00:19<00:00, 5587.67 examples/s]"
     ]
    },
    {
     "name": "stderr",
     "output_type": "stream",
     "text": [
      "\r",
      "Map:  99%|█████████▉| 99773/100516 [00:19<00:00, 6079.85 examples/s]"
     ]
    },
    {
     "name": "stderr",
     "output_type": "stream",
     "text": [
      "\r",
      "Map: 100%|██████████| 100516/100516 [00:20<00:00, 1224.34 examples/s]"
     ]
    },
    {
     "name": "stderr",
     "output_type": "stream",
     "text": [
      "\r",
      "Map: 100%|██████████| 100516/100516 [00:21<00:00, 4760.87 examples/s]"
     ]
    },
    {
     "name": "stderr",
     "output_type": "stream",
     "text": [
      "\n"
     ]
    },
    {
     "name": "stdout",
     "output_type": "stream",
     "text": [
      "              precision    recall  f1-score   support\n",
      "\n",
      "       B-LOC       0.58      0.88      0.70     14389\n",
      "      B-MISC       0.48      0.72      0.58     10792\n",
      "       B-ORG       0.42      0.61      0.50      7517\n",
      "       B-PER       0.45      0.90      0.60     14691\n",
      "       I-LOC       0.54      0.66      0.59      4350\n",
      "      I-MISC       0.44      0.39      0.41      6920\n",
      "       I-ORG       0.70      0.62      0.66      9826\n",
      "       I-PER       0.85      0.85      0.85     11300\n",
      "           O       0.99      0.98      0.98   1568935\n",
      "\n",
      "    accuracy                           0.96   1648720\n",
      "   macro avg       0.61      0.73      0.65   1648720\n",
      "weighted avg       0.97      0.96      0.97   1648720\n",
      "\n"
     ]
    }
   ],
   "source": [
    "predictions = trainer.predict(onto_rest)\n",
    "x, y = evaluate_predictions(predictions, onto_rest)"
   ]
  }
 ],
 "metadata": {
  "kernelspec": {
   "display_name": "Python 3 (ipykernel)",
   "language": "python",
   "name": "python3"
  },
  "language_info": {
   "codemirror_mode": {
    "name": "ipython",
    "version": 3
   },
   "file_extension": ".py",
   "mimetype": "text/x-python",
   "name": "python",
   "nbconvert_exporter": "python",
   "pygments_lexer": "ipython3",
   "version": "3.12.3"
  }
 },
 "nbformat": 4,
 "nbformat_minor": 5
}
