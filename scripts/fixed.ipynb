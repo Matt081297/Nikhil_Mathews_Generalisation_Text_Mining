{
 "cells": [
  {
   "cell_type": "code",
   "execution_count": 1,
   "id": "a255d5cd-8a68-4d36-b82d-1cfc40f7a2b4",
   "metadata": {
    "execution": {
     "iopub.execute_input": "2025-06-05T10:50:38.539470Z",
     "iopub.status.busy": "2025-06-05T10:50:38.538470Z",
     "iopub.status.idle": "2025-06-05T10:53:10.916303Z",
     "shell.execute_reply": "2025-06-05T10:53:10.916303Z",
     "shell.execute_reply.started": "2025-06-05T10:50:38.539470Z"
    }
   },
   "outputs": [
    {
     "name": "stdout",
     "output_type": "stream",
     "text": [
      "WARNING:tensorflow:From E:\\Software\\Anaconda\\Lib\\site-packages\\tf_keras\\src\\losses.py:2976: The name tf.losses.sparse_softmax_cross_entropy is deprecated. Please use tf.compat.v1.losses.sparse_softmax_cross_entropy instead.\n",
      "\n"
     ]
    }
   ],
   "source": [
    "import csv\n",
    "import json\n",
    "import random\n",
    "import re\n",
    "from collections import Counter, defaultdict\n",
    "\n",
    "import matplotlib.pyplot as plt\n",
    "import matplotlib.ticker as mtick\n",
    "import numpy as np\n",
    "import pandas as pd\n",
    "import seaborn as sns\n",
    "\n",
    "import torch\n",
    "\n",
    "from datasets import (\n",
    "    Dataset,\n",
    "    DatasetDict,\n",
    "    concatenate_datasets,\n",
    "    load_dataset,\n",
    "    load_from_disk,\n",
    ")\n",
    "from transformers import (\n",
    "    AutoModelForTokenClassification,\n",
    "    AutoTokenizer,\n",
    "    DataCollatorForTokenClassification,\n",
    "    Trainer,\n",
    "    TrainingArguments,\n",
    "    set_seed,\n",
    ")\n",
    "\n",
    "import evaluate\n",
    "\n",
    "from nameparser import HumanName\n",
    "from names_dataset import NameDataset, NameWrapper\n",
    "from ethnicseer import EthnicClassifier\n",
    "import nltk\n",
    "\n",
    "import pycountry_convert as pc\n",
    "import pycountry\n",
    "import pickle\n",
    "\n",
    "from sklearn.metrics import confusion_matrix, ConfusionMatrixDisplay, classification_report, cohen_kappa_score"
   ]
  },
  {
   "cell_type": "code",
   "execution_count": 2,
   "id": "8fb82d0d-a413-42eb-9743-97e0cb0c7826",
   "metadata": {
    "execution": {
     "iopub.execute_input": "2025-06-05T10:53:10.916303Z",
     "iopub.status.busy": "2025-06-05T10:53:10.916303Z",
     "iopub.status.idle": "2025-06-05T10:53:11.050835Z",
     "shell.execute_reply": "2025-06-05T10:53:11.050182Z",
     "shell.execute_reply.started": "2025-06-05T10:53:10.916303Z"
    }
   },
   "outputs": [
    {
     "name": "stdout",
     "output_type": "stream",
     "text": [
      "Using device: cuda\n"
     ]
    }
   ],
   "source": [
    "device = torch.device(\"cuda\" if torch.cuda.is_available() else \"cpu\")\n",
    "print(\"Using device:\", device)"
   ]
  },
  {
   "cell_type": "code",
   "execution_count": 3,
   "id": "f8dfa911-d2c4-4492-99ce-1137369d99c2",
   "metadata": {
    "execution": {
     "iopub.execute_input": "2025-06-05T10:53:11.055387Z",
     "iopub.status.busy": "2025-06-05T10:53:11.050835Z",
     "iopub.status.idle": "2025-06-05T10:53:11.070709Z",
     "shell.execute_reply": "2025-06-05T10:53:11.068697Z",
     "shell.execute_reply.started": "2025-06-05T10:53:11.055387Z"
    }
   },
   "outputs": [],
   "source": [
    "ontonotes_id_to_label = {\n",
    "    0: \"O\", 1: \"B-CARDINAL\", 2: \"B-DATE\", 3: \"I-DATE\", 4: \"B-PERSON\", 5: \"I-PERSON\",\n",
    "    6: \"B-NORP\", 7: \"B-GPE\", 8: \"I-GPE\", 9: \"B-LAW\", 10: \"I-LAW\", 11: \"B-ORG\", 12: \"I-ORG\",\n",
    "    13: \"B-PERCENT\", 14: \"I-PERCENT\", 15: \"B-ORDINAL\", 16: \"B-MONEY\", 17: \"I-MONEY\",\n",
    "    18: \"B-WORK_OF_ART\", 19: \"I-WORK_OF_ART\", 20: \"B-FAC\", 21: \"B-TIME\", 22: \"I-CARDINAL\",\n",
    "    23: \"B-LOC\", 24: \"B-QUANTITY\", 25: \"I-QUANTITY\", 26: \"I-NORP\", 27: \"I-LOC\",\n",
    "    28: \"B-PRODUCT\", 29: \"I-TIME\", 30: \"B-EVENT\", 31: \"I-EVENT\", 32: \"I-FAC\",\n",
    "    33: \"B-LANGUAGE\", 34: \"I-PRODUCT\", 35: \"I-ORDINAL\", 36: \"I-LANGUAGE\"\n",
    "}\n",
    "\n",
    "conll_label_to_id = {'O': 0, 'B-PER': 1, 'I-PER': 2, 'B-ORG': 3,\n",
    "                     'I-ORG': 4, 'B-LOC': 5, 'I-LOC': 6, 'B-MISC': 7, 'I-MISC': 8}\n",
    "id2label = {v: k for k, v in conll_label_to_id.items()}\n",
    "\n",
    "ontonotes_to_conll_entity = {\n",
    "    \"PERSON\": \"PER\", \"ORG\": \"ORG\", \"GPE\": \"LOC\", \"LOC\": \"LOC\",\n",
    "    \"NORP\": \"MISC\", \"FAC\": \"MISC\", \"EVENT\": \"MISC\", \"WORK_OF_ART\": \"MISC\",\n",
    "    \"LAW\": \"MISC\", \"PRODUCT\": \"MISC\", \"LANGUAGE\": \"MISC\",\n",
    "    \"DATE\": None, \"TIME\": None, \"PERCENT\": None, \"MONEY\": None,\n",
    "    \"QUANTITY\": None, \"ORDINAL\": None, \"CARDINAL\": None\n",
    "}"
   ]
  },
  {
   "cell_type": "code",
   "execution_count": 4,
   "id": "94c7637f-3189-4e03-bb2c-3504a3861a3d",
   "metadata": {
    "execution": {
     "iopub.execute_input": "2025-06-05T10:53:11.072719Z",
     "iopub.status.busy": "2025-06-05T10:53:11.072719Z",
     "iopub.status.idle": "2025-06-05T10:53:12.069648Z",
     "shell.execute_reply": "2025-06-05T10:53:12.069648Z",
     "shell.execute_reply.started": "2025-06-05T10:53:11.072719Z"
    }
   },
   "outputs": [],
   "source": [
    "model_name = \"bert-base-uncased\"\n",
    "tokenizer = AutoTokenizer.from_pretrained(model_name)"
   ]
  },
  {
   "cell_type": "code",
   "execution_count": 5,
   "id": "dda7a98a-6021-4a93-a9d6-eab134f97de7",
   "metadata": {
    "execution": {
     "iopub.execute_input": "2025-06-05T10:53:12.069648Z",
     "iopub.status.busy": "2025-06-05T10:53:12.069648Z",
     "iopub.status.idle": "2025-06-05T10:53:12.084131Z",
     "shell.execute_reply": "2025-06-05T10:53:12.084131Z",
     "shell.execute_reply.started": "2025-06-05T10:53:12.069648Z"
    }
   },
   "outputs": [],
   "source": [
    "def tokenize_and_align_labels(examples):\n",
    "    tokenized_inputs = tokenizer(\n",
    "        examples[\"tokens\"],\n",
    "        truncation=True,\n",
    "        is_split_into_words=True,\n",
    "        padding=True,\n",
    "        return_special_tokens_mask=True,\n",
    "    )\n",
    "    all_word_ids = []\n",
    "    all_labels = []\n",
    "    for i, labels in enumerate(examples[\"labels\"]):\n",
    "        word_ids = tokenized_inputs.word_ids(batch_index=i)\n",
    "        all_word_ids.append(word_ids)\n",
    "        previous_word_idx = None\n",
    "        label_ids = []\n",
    "        for word_idx in word_ids:\n",
    "            if word_idx is None:\n",
    "                label_ids.append(-100)\n",
    "            else:\n",
    "                label_ids.append(labels[word_idx])\n",
    "            previous_word_idx = word_idx\n",
    "        all_labels.append(label_ids)\n",
    "\n",
    "    tokenized_inputs[\"labels\"] = all_labels\n",
    "    tokenized_inputs[\"word_ids\"] = all_word_ids\n",
    "    return tokenized_inputs"
   ]
  },
  {
   "cell_type": "code",
   "execution_count": 6,
   "id": "0498a87b-6e09-48d7-a497-93777817692b",
   "metadata": {
    "execution": {
     "iopub.execute_input": "2025-06-05T10:53:12.088902Z",
     "iopub.status.busy": "2025-06-05T10:53:12.088902Z",
     "iopub.status.idle": "2025-06-05T10:53:15.085435Z",
     "shell.execute_reply": "2025-06-05T10:53:15.085435Z",
     "shell.execute_reply.started": "2025-06-05T10:53:12.088902Z"
    }
   },
   "outputs": [],
   "source": [
    "conll_encoded = load_from_disk(\"./splits/conll_encoded\")\n",
    "ontonotes_encoded = load_from_disk(\"./splits/ontonotes_encoded\")"
   ]
  },
  {
   "cell_type": "code",
   "execution_count": 64,
   "id": "35566ee3-ecaa-4632-a55c-ac06751e8adb",
   "metadata": {
    "execution": {
     "iopub.execute_input": "2025-06-05T14:39:45.212737Z",
     "iopub.status.busy": "2025-06-05T14:39:45.211725Z",
     "iopub.status.idle": "2025-06-05T14:39:46.144173Z",
     "shell.execute_reply": "2025-06-05T14:39:46.143163Z",
     "shell.execute_reply.started": "2025-06-05T14:39:45.212737Z"
    }
   },
   "outputs": [],
   "source": [
    "metric = evaluate.load(\"seqeval\")\n",
    "\n",
    "\n",
    "def compute_metrics(p):\n",
    "    predictions, labels = p\n",
    "    predictions = predictions.argmax(axis=-1)\n",
    "\n",
    "    true_predictions = []\n",
    "    true_labels = []\n",
    "\n",
    "    for pred_seq, label_seq in zip(predictions, labels):\n",
    "        true_predictions.append(\n",
    "            [id2label[p] for p, l in zip(pred_seq, label_seq) if l != -100])\n",
    "        true_labels.append([id2label[l] for l in label_seq if l != -100])\n",
    "\n",
    "    return metric.compute(predictions=true_predictions, references=true_labels, zero_division=0)"
   ]
  },
  {
   "cell_type": "code",
   "execution_count": 10,
   "id": "4c208e61-3d3c-427a-ae64-2fab31d21b76",
   "metadata": {
    "execution": {
     "iopub.execute_input": "2025-06-05T10:53:27.027118Z",
     "iopub.status.busy": "2025-06-05T10:53:27.027118Z",
     "iopub.status.idle": "2025-06-05T10:53:27.033411Z",
     "shell.execute_reply": "2025-06-05T10:53:27.033411Z",
     "shell.execute_reply.started": "2025-06-05T10:53:27.027118Z"
    }
   },
   "outputs": [],
   "source": [
    "data_collator = DataCollatorForTokenClassification(tokenizer)"
   ]
  },
  {
   "cell_type": "code",
   "execution_count": 43,
   "id": "fa916438-f7a5-42ed-a97f-125a8a01c854",
   "metadata": {
    "execution": {
     "iopub.execute_input": "2025-06-05T12:51:13.815432Z",
     "iopub.status.busy": "2025-06-05T12:51:13.814425Z",
     "iopub.status.idle": "2025-06-05T12:51:13.835095Z",
     "shell.execute_reply": "2025-06-05T12:51:13.835095Z",
     "shell.execute_reply.started": "2025-06-05T12:51:13.815432Z"
    }
   },
   "outputs": [],
   "source": [
    "def process_data(data_list):\n",
    "\n",
    "    def process_single(data):\n",
    "        word_ids = data['word_ids']\n",
    "        predictions = data['predictions']\n",
    "        gold = data['gold']\n",
    "        tokenized_tokens = data['tokens']\n",
    "\n",
    "        word_ids = [a for a in word_ids if a is not None]\n",
    "        predictions = [b for a, b in zip(\n",
    "            word_ids, predictions) if a is not None]\n",
    "        gold = [b for a, b in zip(word_ids, gold) if a is not None]\n",
    "\n",
    "        processed_predictions = []\n",
    "        processed_gold = []\n",
    "\n",
    "        current_word_id = None\n",
    "        current_predictions = []\n",
    "        current_gold = []\n",
    "\n",
    "        for idx, word_id in enumerate(word_ids):\n",
    "            if word_id != current_word_id:\n",
    "                if current_predictions:\n",
    "                    processed_predictions.append(\n",
    "                        Counter(current_predictions).most_common(1)[0][0])\n",
    "                    processed_gold.append(\n",
    "                        Counter(current_gold).most_common(1)[0][0])\n",
    "\n",
    "                current_word_id = word_id\n",
    "                current_predictions = [predictions[idx]]\n",
    "                current_gold = [gold[idx]]\n",
    "            else:\n",
    "                current_predictions.append(predictions[idx])\n",
    "                current_gold.append(gold[idx])\n",
    "\n",
    "        if current_predictions:\n",
    "            processed_predictions.append(\n",
    "                Counter(current_predictions).most_common(1)[0][0])\n",
    "            processed_gold.append(\n",
    "                Counter(current_gold).most_common(1)[0][0])\n",
    "\n",
    "        return processed_predictions, processed_gold\n",
    "\n",
    "    processed_predictions_list = []\n",
    "    processed_gold_list = []\n",
    "\n",
    "    for data in data_list:\n",
    "        processed_predictions, processed_gold = process_single(data)\n",
    "        processed_predictions_list.append(processed_predictions)\n",
    "        processed_gold_list.append(processed_gold)\n",
    "\n",
    "    return processed_predictions_list, processed_gold_list\n",
    "\n",
    "\n",
    "def evaluate_predictions(p, test_data):\n",
    "    predictions, labels, _ = p\n",
    "\n",
    "    pred_indices = [np.argmax(p, axis=-1) for p in predictions]\n",
    "    label_indices = labels\n",
    "\n",
    "    pred_tags = [[id2label[p] for p, l in zip(p_seq, l_seq) if l != -100]\n",
    "                 for p_seq, l_seq in zip(pred_indices, label_indices)]\n",
    "    gold_tags = [[id2label[l] for l in l_seq if l != -100]\n",
    "                 for l_seq in label_indices]\n",
    "\n",
    "    def add_preds(example, idx):\n",
    "        length = len(example['word_ids'])\n",
    "        example['predictions'] = pred_tags[idx][:length]\n",
    "        example['gold'] = gold_tags[idx][:length]\n",
    "        return example\n",
    "\n",
    "    test_data = test_data.map(add_preds, with_indices=True)\n",
    "\n",
    "    length = len(test_data['predictions'][0])\n",
    "\n",
    "    pred, gold = process_data(test_data)\n",
    "\n",
    "    flat_pred = [label for seq in pred for label in seq]\n",
    "    flat_gold = [label for seq in gold for label in seq]\n",
    "\n",
    "    print(classification_report(flat_gold, flat_pred, zero_division=0))\n",
    "\n",
    "    return (pred, gold)"
   ]
  },
  {
   "cell_type": "code",
   "execution_count": 44,
   "id": "32dde2e6-ef32-4b0a-8670-2413ec205758",
   "metadata": {
    "execution": {
     "iopub.execute_input": "2025-06-05T12:51:15.454467Z",
     "iopub.status.busy": "2025-06-05T12:51:15.453467Z",
     "iopub.status.idle": "2025-06-05T12:51:22.830824Z",
     "shell.execute_reply": "2025-06-05T12:51:22.830824Z",
     "shell.execute_reply.started": "2025-06-05T12:51:15.454467Z"
    }
   },
   "outputs": [
    {
     "name": "stderr",
     "output_type": "stream",
     "text": [
      "C:\\Users\\NIKHIL\\AppData\\Local\\Temp\\ipykernel_17492\\3354838511.py:7: FutureWarning: `tokenizer` is deprecated and will be removed in version 5.0.0 for `Trainer.__init__`. Use `processing_class` instead.\n",
      "  conll_trainer = Trainer(\n"
     ]
    }
   ],
   "source": [
    "model = AutoModelForTokenClassification.from_pretrained(\"./saved_model/conll\")\n",
    "tokenizer = AutoTokenizer.from_pretrained(model_name)\n",
    "\n",
    "conll_args = TrainingArguments(output_dir=\"./results/conll\",\n",
    "                               per_device_eval_batch_size=8, report_to=\"none\")\n",
    "\n",
    "conll_trainer = Trainer(\n",
    "    model=model,\n",
    "    tokenizer=tokenizer,\n",
    "    data_collator=DataCollatorForTokenClassification(tokenizer),\n",
    "    compute_metrics=compute_metrics,\n",
    "    args=conll_args,\n",
    ")"
   ]
  },
  {
   "cell_type": "code",
   "execution_count": 13,
   "id": "43f46655-46dc-4286-8d1e-ecb802e83991",
   "metadata": {
    "execution": {
     "iopub.execute_input": "2025-06-05T10:59:52.014651Z",
     "iopub.status.busy": "2025-06-05T10:59:51.998899Z",
     "iopub.status.idle": "2025-06-05T10:59:58.737073Z",
     "shell.execute_reply": "2025-06-05T10:59:58.737073Z",
     "shell.execute_reply.started": "2025-06-05T10:59:52.014651Z"
    }
   },
   "outputs": [],
   "source": [
    "with open('./results/base_conll.pkl', 'rb') as f:\n",
    "    base_conll = pickle.load(f)"
   ]
  },
  {
   "cell_type": "code",
   "execution_count": 45,
   "id": "b8ae238a-f197-4838-9b68-195cef6767e6",
   "metadata": {
    "execution": {
     "iopub.execute_input": "2025-06-05T12:51:26.415784Z",
     "iopub.status.busy": "2025-06-05T12:51:26.415784Z",
     "iopub.status.idle": "2025-06-05T12:53:11.204994Z",
     "shell.execute_reply": "2025-06-05T12:53:11.203984Z",
     "shell.execute_reply.started": "2025-06-05T12:51:26.415784Z"
    },
    "scrolled": true
   },
   "outputs": [
    {
     "name": "stdout",
     "output_type": "stream",
     "text": [
      "              precision    recall  f1-score   support\n",
      "\n",
      "       B-LOC       0.82      0.89      0.85     17495\n",
      "      B-MISC       0.63      0.70      0.66     10657\n",
      "       B-ORG       0.62      0.64      0.63     13041\n",
      "       B-PER       0.91      0.91      0.91     15547\n",
      "       I-LOC       0.67      0.57      0.62      5367\n",
      "      I-MISC       0.61      0.24      0.34      7305\n",
      "       I-ORG       0.87      0.61      0.72     18313\n",
      "       I-PER       0.94      0.87      0.90     11086\n",
      "           O       0.98      0.99      0.99   1011383\n",
      "\n",
      "    accuracy                           0.97   1110194\n",
      "   macro avg       0.78      0.71      0.73   1110194\n",
      "weighted avg       0.97      0.97      0.97   1110194\n",
      "\n"
     ]
    }
   ],
   "source": [
    "x, y = evaluate_predictions(base_conll, ontonotes_encoded)"
   ]
  },
  {
   "cell_type": "code",
   "execution_count": 46,
   "id": "50a8748c-c69c-41ed-8738-201ca10899da",
   "metadata": {
    "execution": {
     "iopub.execute_input": "2025-06-05T12:53:42.406245Z",
     "iopub.status.busy": "2025-06-05T12:53:42.397135Z",
     "iopub.status.idle": "2025-06-05T12:53:43.697488Z",
     "shell.execute_reply": "2025-06-05T12:53:43.696480Z",
     "shell.execute_reply.started": "2025-06-05T12:53:42.406245Z"
    }
   },
   "outputs": [],
   "source": [
    "with open('./results/base_onto.pkl', 'rb') as f:\n",
    "    base_onto = pickle.load(f)"
   ]
  },
  {
   "cell_type": "code",
   "execution_count": 47,
   "id": "4eeb56ef-1c28-4a9c-ac07-d4db0dbd675b",
   "metadata": {
    "execution": {
     "iopub.execute_input": "2025-06-05T12:53:43.701491Z",
     "iopub.status.busy": "2025-06-05T12:53:43.700496Z",
     "iopub.status.idle": "2025-06-05T12:54:09.669530Z",
     "shell.execute_reply": "2025-06-05T12:54:09.668521Z",
     "shell.execute_reply.started": "2025-06-05T12:53:43.700496Z"
    }
   },
   "outputs": [
    {
     "name": "stdout",
     "output_type": "stream",
     "text": [
      "              precision    recall  f1-score   support\n",
      "\n",
      "       B-LOC       0.78      0.90      0.84      8535\n",
      "      B-MISC       0.76      0.69      0.72      4062\n",
      "       B-ORG       0.73      0.51      0.60      7398\n",
      "       B-PER       0.91      0.93      0.92      7975\n",
      "       I-LOC       0.60      0.77      0.67      1356\n",
      "      I-MISC       0.43      0.68      0.53      1380\n",
      "       I-ORG       0.62      0.75      0.68      4251\n",
      "       I-PER       0.89      0.98      0.93      5503\n",
      "           O       0.99      0.98      0.99    201398\n",
      "\n",
      "    accuracy                           0.95    241858\n",
      "   macro avg       0.75      0.80      0.76    241858\n",
      "weighted avg       0.95      0.95      0.95    241858\n",
      "\n"
     ]
    }
   ],
   "source": [
    "x, y = evaluate_predictions(base_onto, conll_encoded)"
   ]
  },
  {
   "cell_type": "code",
   "execution_count": 21,
   "id": "83b5af05-45c7-4871-b470-0222fefca1e7",
   "metadata": {
    "execution": {
     "iopub.execute_input": "2025-06-05T11:46:56.626572Z",
     "iopub.status.busy": "2025-06-05T11:46:56.625570Z",
     "iopub.status.idle": "2025-06-05T11:46:56.963325Z",
     "shell.execute_reply": "2025-06-05T11:46:56.963325Z",
     "shell.execute_reply.started": "2025-06-05T11:46:56.626572Z"
    }
   },
   "outputs": [],
   "source": [
    "stanford_encoded = load_from_disk(\"./splits/stanford_challenge_encoded\")"
   ]
  },
  {
   "cell_type": "code",
   "execution_count": 22,
   "id": "a4dc0187-969a-480a-b946-c5028bafbb93",
   "metadata": {
    "execution": {
     "iopub.execute_input": "2025-06-05T11:46:56.963325Z",
     "iopub.status.busy": "2025-06-05T11:46:56.963325Z",
     "iopub.status.idle": "2025-06-05T11:46:57.140094Z",
     "shell.execute_reply": "2025-06-05T11:46:57.138934Z",
     "shell.execute_reply.started": "2025-06-05T11:46:56.963325Z"
    }
   },
   "outputs": [],
   "source": [
    "with open('./results/base_stanford.pkl', 'rb') as f:\n",
    "    base_stanford = pickle.load(f)"
   ]
  },
  {
   "cell_type": "code",
   "execution_count": 42,
   "id": "4985c7f8-870e-4e71-a4f6-51228fa18cf4",
   "metadata": {
    "execution": {
     "iopub.execute_input": "2025-06-05T12:50:29.915683Z",
     "iopub.status.busy": "2025-06-05T12:50:29.915683Z",
     "iopub.status.idle": "2025-06-05T12:50:32.370777Z",
     "shell.execute_reply": "2025-06-05T12:50:32.369764Z",
     "shell.execute_reply.started": "2025-06-05T12:50:29.915683Z"
    }
   },
   "outputs": [
    {
     "name": "stdout",
     "output_type": "stream",
     "text": [
      "              precision    recall  f1-score   support\n",
      "\n",
      "       B-LOC       0.63      0.81      0.71       539\n",
      "      B-MISC       0.94      0.92      0.93       319\n",
      "       B-ORG       0.68      0.84      0.75      1214\n",
      "       B-PER       0.87      0.61      0.72      1067\n",
      "       I-LOC       0.78      0.87      0.82        79\n",
      "      I-MISC       0.85      0.87      0.86        82\n",
      "       I-ORG       0.79      0.91      0.84      2026\n",
      "       I-PER       1.00      0.57      0.72       939\n",
      "           O       0.99      0.99      0.99     22466\n",
      "\n",
      "    accuracy                           0.94     28731\n",
      "   macro avg       0.83      0.82      0.82     28731\n",
      "weighted avg       0.95      0.94      0.94     28731\n",
      "\n",
      "\n"
     ]
    }
   ],
   "source": [
    "evaluate_predictions(base_stanford, stanford_encoded)\n",
    "print()"
   ]
  },
  {
   "cell_type": "code",
   "execution_count": 48,
   "id": "3b5beee9-3325-4018-aca0-5e036ee774cc",
   "metadata": {
    "execution": {
     "iopub.execute_input": "2025-06-05T12:54:59.218680Z",
     "iopub.status.busy": "2025-06-05T12:54:59.218680Z",
     "iopub.status.idle": "2025-06-05T12:54:59.453042Z",
     "shell.execute_reply": "2025-06-05T12:54:59.451058Z",
     "shell.execute_reply.started": "2025-06-05T12:54:59.218680Z"
    }
   },
   "outputs": [],
   "source": [
    "with open('./results/base_stanford_onto.pkl', 'rb') as f:\n",
    "    base_stanford_onto = pickle.load(f)"
   ]
  },
  {
   "cell_type": "code",
   "execution_count": 49,
   "id": "70f8e3cb-3da3-4660-9649-a2c22d745b17",
   "metadata": {
    "execution": {
     "iopub.execute_input": "2025-06-05T12:55:00.086654Z",
     "iopub.status.busy": "2025-06-05T12:55:00.086654Z",
     "iopub.status.idle": "2025-06-05T12:55:03.064515Z",
     "shell.execute_reply": "2025-06-05T12:55:03.063507Z",
     "shell.execute_reply.started": "2025-06-05T12:55:00.086654Z"
    },
    "scrolled": true
   },
   "outputs": [
    {
     "name": "stdout",
     "output_type": "stream",
     "text": [
      "              precision    recall  f1-score   support\n",
      "\n",
      "       B-LOC       0.61      0.81      0.70       539\n",
      "      B-MISC       0.75      0.75      0.75       319\n",
      "       B-ORG       0.43      0.43      0.43      1214\n",
      "       B-PER       0.80      0.71      0.75      1067\n",
      "       I-LOC       0.53      0.71      0.61        79\n",
      "      I-MISC       0.40      0.70      0.51        82\n",
      "       I-ORG       0.69      0.89      0.78      2026\n",
      "       I-PER       0.95      0.69      0.80       939\n",
      "           O       0.98      0.96      0.97     22466\n",
      "\n",
      "    accuracy                           0.91     28731\n",
      "   macro avg       0.68      0.74      0.70     28731\n",
      "weighted avg       0.92      0.91      0.91     28731\n",
      "\n"
     ]
    }
   ],
   "source": [
    "x, y = evaluate_predictions(base_stanford_onto, stanford_encoded)"
   ]
  },
  {
   "cell_type": "code",
   "execution_count": 51,
   "id": "cf67169d-636b-4e75-aafb-5df3a0cd66cc",
   "metadata": {
    "execution": {
     "iopub.execute_input": "2025-06-05T12:56:46.187684Z",
     "iopub.status.busy": "2025-06-05T12:56:46.187684Z",
     "iopub.status.idle": "2025-06-05T12:57:01.493538Z",
     "shell.execute_reply": "2025-06-05T12:57:01.492526Z",
     "shell.execute_reply.started": "2025-06-05T12:56:46.187684Z"
    }
   },
   "outputs": [],
   "source": [
    "nd = NameDataset()\n",
    "country_codes = nd.get_country_codes()\n",
    "\n",
    "continent_names = {\n",
    "    'AF': 'Africa',\n",
    "    'NA': 'North America',\n",
    "    'OC': 'Oceania',\n",
    "    'AN': 'Antarctica',\n",
    "    'AS': 'Asia',\n",
    "    'EU': 'Europe',\n",
    "    'SA': 'South America',\n",
    "}\n",
    "\n",
    "continent_to_code = defaultdict(list)\n",
    "\n",
    "continent_to_countries = defaultdict(list)\n",
    "\n",
    "for code in country_codes:\n",
    "    try:\n",
    "        alpha_2 = code.alpha_2\n",
    "        country = pycountry.countries.get(alpha_2=alpha_2)\n",
    "        if not country:\n",
    "            continue\n",
    "\n",
    "        continent_code = pc.country_alpha2_to_continent_code(alpha_2)\n",
    "        continent = continent_names[continent_code]\n",
    "\n",
    "        continent_to_code[continent].append(alpha_2)\n",
    "        continent_to_countries[continent].append((alpha_2, country.name))\n",
    "\n",
    "    except Exception as e:\n",
    "        print(f\"Skipping {code} due to error: {e}\")\n",
    "        continue"
   ]
  },
  {
   "cell_type": "code",
   "execution_count": 52,
   "id": "f7e40c24-e8b5-4227-b3eb-1b9d3f8fe084",
   "metadata": {
    "execution": {
     "iopub.execute_input": "2025-06-05T12:57:04.103638Z",
     "iopub.status.busy": "2025-06-05T12:57:04.102636Z",
     "iopub.status.idle": "2025-06-05T12:57:04.353318Z",
     "shell.execute_reply": "2025-06-05T12:57:04.350579Z",
     "shell.execute_reply.started": "2025-06-05T12:57:04.103638Z"
    }
   },
   "outputs": [],
   "source": [
    "def get_names(country, n=10):\n",
    "    names_dict = nd.get_top_names(n=n, country_alpha2=country)\n",
    "    names = []\n",
    "    if country in names_dict:\n",
    "        country_names = names_dict[country]\n",
    "        for gender in ['M', 'F']:\n",
    "            if gender in country_names:\n",
    "                names.extend(country_names[gender])\n",
    "    return list(set(names))\n",
    "\n",
    "\n",
    "def tokenize(text):\n",
    "    tokens = re.findall(r\"\\w+|[^\\w\\s]\", text, re.UNICODE)\n",
    "    return tokens\n",
    "\n",
    "\n",
    "def tag_tokens(tokens, person_names):\n",
    "    tags = [\"O\"] * len(tokens)\n",
    "    for name in person_names:\n",
    "        name_tokens = name.split()\n",
    "        n_len = len(name_tokens)\n",
    "        for i in range(len(tokens) - n_len + 1):\n",
    "            if tokens[i:i + n_len] == name_tokens:\n",
    "                tags[i] = \"B-PER\"\n",
    "                for j in range(i + 1, i + n_len):\n",
    "                    tags[j] = \"I-PER\"\n",
    "    return tags\n",
    "\n",
    "\n",
    "def generate_challenge_dataset(num_samples=300):\n",
    "    dataset = []\n",
    "\n",
    "    for _ in range(num_samples):\n",
    "        country = random.choice(chosen_countries)\n",
    "        names = get_names(country, n=10)\n",
    "        if not names:\n",
    "            continue\n",
    "\n",
    "        if len(names) == 1:\n",
    "            name1 = names[0]\n",
    "            name2 = None\n",
    "        else:\n",
    "            name1, name2 = random.sample(names, 2)\n",
    "\n",
    "        template = random.choice(sentence_templates)\n",
    "\n",
    "        if \"{name2}\" in template and name2 is None:\n",
    "            sentence = template.format(name=name1, name2=name1)\n",
    "            person_names = [name1]\n",
    "        elif \"{name2}\" in template:\n",
    "            sentence = template.format(name=name1, name2=name2)\n",
    "            person_names = [name1, name2]\n",
    "        else:\n",
    "            sentence = template.format(name=name1)\n",
    "            person_names = [name1]\n",
    "\n",
    "        tokens = tokenize(sentence)\n",
    "        tags = tag_tokens(tokens, person_names)\n",
    "\n",
    "        dataset.append(list(zip(tokens, tags)))\n",
    "\n",
    "    return dataset\n",
    "\n",
    "\n",
    "def save_to_csv(dataset, filepath=\"non_western_ner_challenge.csv\"):\n",
    "    with open(filepath, mode=\"w\", encoding=\"utf-8\", newline=\"\") as f:\n",
    "        writer = csv.writer(f)\n",
    "        writer.writerow([\"sentence_id\", \"token\", \"tag\"])\n",
    "        for idx, sentence in enumerate(dataset):\n",
    "            for token, tag in sentence:\n",
    "                writer.writerow([idx, token, tag])"
   ]
  },
  {
   "cell_type": "code",
   "execution_count": 53,
   "id": "7d15692e-4755-48a7-9d01-9e79100108cd",
   "metadata": {
    "execution": {
     "iopub.execute_input": "2025-06-05T12:57:26.038024Z",
     "iopub.status.busy": "2025-06-05T12:57:26.037022Z",
     "iopub.status.idle": "2025-06-05T12:57:26.082589Z",
     "shell.execute_reply": "2025-06-05T12:57:26.080571Z",
     "shell.execute_reply.started": "2025-06-05T12:57:26.038024Z"
    }
   },
   "outputs": [],
   "source": [
    "name_data = []\n",
    "\n",
    "\n",
    "def evaluate_csv(file):\n",
    "    print('evaluating', file)\n",
    "    scripted_challenge = pd.read_csv(file)\n",
    "\n",
    "    examples = []\n",
    "    for sentence_id, group in scripted_challenge.groupby(\"sentence_id\"):\n",
    "        tokens = group[\"token\"].tolist()\n",
    "        tags = group[\"tag\"].tolist()\n",
    "        examples.append({\"tokens\": tokens, \"ner_tags\": tags})\n",
    "\n",
    "    unique_tags = sorted(set(tag for ex in examples for tag in ex[\"ner_tags\"]))\n",
    "\n",
    "    for ex in examples:\n",
    "        ex[\"labels\"] = [conll_label_to_id[tag] for tag in ex[\"ner_tags\"]]\n",
    "\n",
    "    challenge_dataset = Dataset.from_list(examples)\n",
    "    tokenized = challenge_dataset.map(tokenize_and_align_labels, batched=True)\n",
    "\n",
    "    a = conll_trainer.predict(tokenized)\n",
    "\n",
    "    with open(f'./results/challenge_{file[:-3]}.pkl', 'wb') as f:\n",
    "        pickle.dump(a, f)\n",
    "\n",
    "    x, y = evaluate_predictions(a, tokenized)\n",
    "    print()\n",
    "    print('-'*30)\n",
    "\n",
    "    # a['eval_PER']['name'] = file\n",
    "    # name_data.append(a['eval_PER'])\n",
    "    # print(a['eval_PER'])\n",
    "    # print()"
   ]
  },
  {
   "cell_type": "code",
   "execution_count": 55,
   "id": "afae3db7-3b02-4621-b0a8-68bbb736debb",
   "metadata": {
    "execution": {
     "iopub.execute_input": "2025-06-05T12:59:22.125454Z",
     "iopub.status.busy": "2025-06-05T12:59:22.124456Z",
     "iopub.status.idle": "2025-06-05T13:00:03.653032Z",
     "shell.execute_reply": "2025-06-05T13:00:03.653032Z",
     "shell.execute_reply.started": "2025-06-05T12:59:22.125454Z"
    },
    "scrolled": true
   },
   "outputs": [
    {
     "name": "stdout",
     "output_type": "stream",
     "text": [
      "evaluating Asia_ner_challenge.csv\n"
     ]
    },
    {
     "data": {
      "application/vnd.jupyter.widget-view+json": {
       "model_id": "9f4360d2eddc4002afa7e7ce8c6295a3",
       "version_major": 2,
       "version_minor": 0
      },
      "text/plain": [
       "Map:   0%|          | 0/1000 [00:00<?, ? examples/s]"
      ]
     },
     "metadata": {},
     "output_type": "display_data"
    },
    {
     "data": {
      "text/html": [],
      "text/plain": [
       "<IPython.core.display.HTML object>"
      ]
     },
     "metadata": {},
     "output_type": "display_data"
    },
    {
     "data": {
      "application/vnd.jupyter.widget-view+json": {
       "model_id": "ec9ca7af06f14a3ab9691c6948108e62",
       "version_major": 2,
       "version_minor": 0
      },
      "text/plain": [
       "Map:   0%|          | 0/1000 [00:00<?, ? examples/s]"
      ]
     },
     "metadata": {},
     "output_type": "display_data"
    },
    {
     "name": "stdout",
     "output_type": "stream",
     "text": [
      "              precision    recall  f1-score   support\n",
      "\n",
      "       B-LOC       0.00      0.00      0.00         0\n",
      "      B-MISC       0.00      0.00      0.00         0\n",
      "       B-ORG       0.00      0.00      0.00         0\n",
      "       B-PER       0.98      0.93      0.96      1134\n",
      "       I-LOC       0.00      0.00      0.00         0\n",
      "       I-ORG       0.00      0.00      0.00         0\n",
      "       I-PER       1.00      1.00      1.00         6\n",
      "           O       1.00      0.98      0.99      9744\n",
      "\n",
      "    accuracy                           0.97     10884\n",
      "   macro avg       0.37      0.36      0.37     10884\n",
      "weighted avg       1.00      0.97      0.98     10884\n",
      "\n",
      "\n",
      "------------------------------\n",
      "evaluating North America_ner_challenge.csv\n"
     ]
    },
    {
     "data": {
      "application/vnd.jupyter.widget-view+json": {
       "model_id": "8aaef9ebb39543b0b2b9299aabd8296f",
       "version_major": 2,
       "version_minor": 0
      },
      "text/plain": [
       "Map:   0%|          | 0/1000 [00:00<?, ? examples/s]"
      ]
     },
     "metadata": {},
     "output_type": "display_data"
    },
    {
     "data": {
      "text/html": [],
      "text/plain": [
       "<IPython.core.display.HTML object>"
      ]
     },
     "metadata": {},
     "output_type": "display_data"
    },
    {
     "data": {
      "application/vnd.jupyter.widget-view+json": {
       "model_id": "0b78a739a34d44f8b9ca8029fe4e6599",
       "version_major": 2,
       "version_minor": 0
      },
      "text/plain": [
       "Map:   0%|          | 0/1000 [00:00<?, ? examples/s]"
      ]
     },
     "metadata": {},
     "output_type": "display_data"
    },
    {
     "name": "stdout",
     "output_type": "stream",
     "text": [
      "              precision    recall  f1-score   support\n",
      "\n",
      "       B-LOC       0.00      0.00      0.00         0\n",
      "       B-ORG       0.00      0.00      0.00         0\n",
      "       B-PER       0.98      0.95      0.97      1145\n",
      "       I-LOC       0.00      0.00      0.00         0\n",
      "       I-ORG       0.00      0.00      0.00         0\n",
      "       I-PER       1.00      1.00      1.00        75\n",
      "           O       1.00      0.98      0.99      9569\n",
      "\n",
      "    accuracy                           0.97     10789\n",
      "   macro avg       0.43      0.42      0.42     10789\n",
      "weighted avg       1.00      0.97      0.99     10789\n",
      "\n",
      "\n",
      "------------------------------\n",
      "evaluating Europe_ner_challenge.csv\n"
     ]
    },
    {
     "data": {
      "application/vnd.jupyter.widget-view+json": {
       "model_id": "1e8cfbfbb9b44f5ea980f29fe874a4a8",
       "version_major": 2,
       "version_minor": 0
      },
      "text/plain": [
       "Map:   0%|          | 0/1000 [00:00<?, ? examples/s]"
      ]
     },
     "metadata": {},
     "output_type": "display_data"
    },
    {
     "data": {
      "text/html": [],
      "text/plain": [
       "<IPython.core.display.HTML object>"
      ]
     },
     "metadata": {},
     "output_type": "display_data"
    },
    {
     "data": {
      "application/vnd.jupyter.widget-view+json": {
       "model_id": "265d3d022d08415c9ebee01eb667b46b",
       "version_major": 2,
       "version_minor": 0
      },
      "text/plain": [
       "Map:   0%|          | 0/1000 [00:00<?, ? examples/s]"
      ]
     },
     "metadata": {},
     "output_type": "display_data"
    },
    {
     "name": "stdout",
     "output_type": "stream",
     "text": [
      "              precision    recall  f1-score   support\n",
      "\n",
      "       B-LOC       0.00      0.00      0.00         0\n",
      "       B-ORG       0.00      0.00      0.00         0\n",
      "       B-PER       0.98      0.96      0.97      1136\n",
      "       I-LOC       0.00      0.00      0.00         0\n",
      "       I-ORG       0.00      0.00      0.00         0\n",
      "           O       1.00      0.98      0.99      9682\n",
      "\n",
      "    accuracy                           0.98     10818\n",
      "   macro avg       0.33      0.32      0.33     10818\n",
      "weighted avg       1.00      0.98      0.99     10818\n",
      "\n",
      "\n",
      "------------------------------\n",
      "evaluating South America_ner_challenge.csv\n"
     ]
    },
    {
     "data": {
      "application/vnd.jupyter.widget-view+json": {
       "model_id": "7b361d1f59704aeb93c4afea428dbdc0",
       "version_major": 2,
       "version_minor": 0
      },
      "text/plain": [
       "Map:   0%|          | 0/1000 [00:00<?, ? examples/s]"
      ]
     },
     "metadata": {},
     "output_type": "display_data"
    },
    {
     "data": {
      "text/html": [],
      "text/plain": [
       "<IPython.core.display.HTML object>"
      ]
     },
     "metadata": {},
     "output_type": "display_data"
    },
    {
     "data": {
      "application/vnd.jupyter.widget-view+json": {
       "model_id": "99da3d7a6983403dbb381a8c85411f48",
       "version_major": 2,
       "version_minor": 0
      },
      "text/plain": [
       "Map:   0%|          | 0/1000 [00:00<?, ? examples/s]"
      ]
     },
     "metadata": {},
     "output_type": "display_data"
    },
    {
     "name": "stdout",
     "output_type": "stream",
     "text": [
      "              precision    recall  f1-score   support\n",
      "\n",
      "       B-LOC       0.00      0.00      0.00         0\n",
      "       B-ORG       0.00      0.00      0.00         0\n",
      "       B-PER       0.98      0.98      0.98      1164\n",
      "       I-LOC       0.00      0.00      0.00         0\n",
      "       I-ORG       0.00      0.00      0.00         0\n",
      "       I-PER       1.00      1.00      1.00         2\n",
      "           O       1.00      0.98      0.99      9624\n",
      "\n",
      "    accuracy                           0.98     10790\n",
      "   macro avg       0.43      0.42      0.42     10790\n",
      "weighted avg       1.00      0.98      0.99     10790\n",
      "\n",
      "\n",
      "------------------------------\n",
      "evaluating Africa_ner_challenge.csv\n"
     ]
    },
    {
     "data": {
      "application/vnd.jupyter.widget-view+json": {
       "model_id": "bdb548cb36aa4e6288df1c333720d020",
       "version_major": 2,
       "version_minor": 0
      },
      "text/plain": [
       "Map:   0%|          | 0/1000 [00:00<?, ? examples/s]"
      ]
     },
     "metadata": {},
     "output_type": "display_data"
    },
    {
     "data": {
      "text/html": [],
      "text/plain": [
       "<IPython.core.display.HTML object>"
      ]
     },
     "metadata": {},
     "output_type": "display_data"
    },
    {
     "data": {
      "application/vnd.jupyter.widget-view+json": {
       "model_id": "eee15b83cbd34a9ab32d47a3fd3591d8",
       "version_major": 2,
       "version_minor": 0
      },
      "text/plain": [
       "Map:   0%|          | 0/1000 [00:00<?, ? examples/s]"
      ]
     },
     "metadata": {},
     "output_type": "display_data"
    },
    {
     "name": "stdout",
     "output_type": "stream",
     "text": [
      "              precision    recall  f1-score   support\n",
      "\n",
      "       B-LOC       0.00      0.00      0.00         0\n",
      "       B-ORG       0.00      0.00      0.00         0\n",
      "       B-PER       0.97      0.94      0.96      1163\n",
      "       I-LOC       0.00      0.00      0.00         0\n",
      "       I-ORG       0.00      0.00      0.00         0\n",
      "       I-PER       1.00      1.00      1.00         9\n",
      "           O       1.00      0.98      0.99      9682\n",
      "\n",
      "    accuracy                           0.98     10854\n",
      "   macro avg       0.42      0.42      0.42     10854\n",
      "weighted avg       1.00      0.98      0.99     10854\n",
      "\n",
      "\n",
      "------------------------------\n",
      "evaluating Oceania_ner_challenge.csv\n"
     ]
    },
    {
     "data": {
      "application/vnd.jupyter.widget-view+json": {
       "model_id": "84b2987466484972b5134d04356d9061",
       "version_major": 2,
       "version_minor": 0
      },
      "text/plain": [
       "Map:   0%|          | 0/1000 [00:00<?, ? examples/s]"
      ]
     },
     "metadata": {},
     "output_type": "display_data"
    },
    {
     "data": {
      "text/html": [],
      "text/plain": [
       "<IPython.core.display.HTML object>"
      ]
     },
     "metadata": {},
     "output_type": "display_data"
    },
    {
     "data": {
      "application/vnd.jupyter.widget-view+json": {
       "model_id": "407ae55593b04da1b29163225b4ac75c",
       "version_major": 2,
       "version_minor": 0
      },
      "text/plain": [
       "Map:   0%|          | 0/1000 [00:00<?, ? examples/s]"
      ]
     },
     "metadata": {},
     "output_type": "display_data"
    },
    {
     "name": "stdout",
     "output_type": "stream",
     "text": [
      "              precision    recall  f1-score   support\n",
      "\n",
      "       B-LOC       0.00      0.00      0.00         0\n",
      "       B-ORG       0.00      0.00      0.00         0\n",
      "       B-PER       0.98      0.86      0.92      1148\n",
      "       I-LOC       0.00      0.00      0.00         0\n",
      "       I-ORG       0.00      0.00      0.00         0\n",
      "           O       1.00      0.98      0.99      9548\n",
      "\n",
      "    accuracy                           0.97     10696\n",
      "   macro avg       0.33      0.31      0.32     10696\n",
      "weighted avg       1.00      0.97      0.98     10696\n",
      "\n",
      "\n",
      "------------------------------\n"
     ]
    }
   ],
   "source": [
    "for x in list(continent_to_code.keys()):\n",
    "    evaluate_csv(x+'_ner_challenge.csv')"
   ]
  },
  {
   "cell_type": "code",
   "execution_count": 61,
   "id": "51bc1cee-a2ab-4730-bb59-aabc9ad0c812",
   "metadata": {
    "collapsed": true,
    "execution": {
     "iopub.execute_input": "2025-06-05T13:07:18.320221Z",
     "iopub.status.busy": "2025-06-05T13:07:18.319047Z",
     "iopub.status.idle": "2025-06-05T13:07:18.587149Z",
     "shell.execute_reply": "2025-06-05T13:07:18.586140Z",
     "shell.execute_reply.started": "2025-06-05T13:07:18.320221Z"
    },
    "jupyter": {
     "outputs_hidden": true
    }
   },
   "outputs": [
    {
     "data": {
      "image/png": "[encoded data removed]",
      "text/plain": [
       "<Figure size 1000x500 with 1 Axes>"
      ]
     },
     "metadata": {},
     "output_type": "display_data"
    }
   ],
   "source": [
    "import matplotlib.pyplot as plt\n",
    "\n",
    "# B-PER metrics per continent\n",
    "b_per_metrics = {\n",
    "    'Asia':     {'precision': 0.98, 'recall': 0.93, 'f1': 0.96},\n",
    "    'North America': {'precision': 0.98, 'recall': 0.95, 'f1': 0.97},\n",
    "    'Europe':   {'precision': 0.98, 'recall': 0.96, 'f1': 0.97},\n",
    "    'South America': {'precision': 0.98, 'recall': 0.98, 'f1': 0.98},\n",
    "    'Africa':   {'precision': 0.97, 'recall': 0.94, 'f1': 0.96},\n",
    "    'Oceania':  {'precision': 0.98, 'recall': 0.86, 'f1': 0.92}\n",
    "}\n",
    "\n",
    "# I-PER metrics per continent\n",
    "i_per_metrics = {\n",
    "    'Asia':     {'precision': 1.00, 'recall': 1.00, 'f1': 1.00},\n",
    "    'North America': {'precision': 1.00, 'recall': 1.00, 'f1': 1.00},\n",
    "    'Europe':   {'precision': None, 'recall': None, 'f1': None},  # No support\n",
    "    'South America': {'precision': 1.00, 'recall': 1.00, 'f1': 1.00},\n",
    "    'Africa':   {'precision': 1.00, 'recall': 1.00, 'f1': 1.00},\n",
    "    'Oceania':  {'precision': None, 'recall': None, 'f1': None}   # No support\n",
    "}\n",
    "\n",
    "\n",
    "def plot_metric(data, label, metric):\n",
    "    continents = list(data.keys())\n",
    "    values = [data[continent][metric] if data[continent]\n",
    "              [metric] is not None else 0 for continent in continents]\n",
    "\n",
    "    plt.figure(figsize=(10, 5))\n",
    "    bars = plt.bar(continents, values, color='skyblue', edgecolor='black')\n",
    "    plt.ylim(0.8, 1.05)\n",
    "    plt.title(f'{label} - {metric.capitalize()} per Continent')\n",
    "    plt.ylabel(metric.capitalize())\n",
    "    plt.xticks(rotation=45)\n",
    "\n",
    "    # Label bars with values\n",
    "    for bar, val in zip(bars, values):\n",
    "        label = f'{val:.2f}' if val is not None else 'N/A'\n",
    "        plt.text(bar.get_x() + bar.get_width() / 2, bar.get_height() + 0.01, label,\n",
    "                 ha='center', va='bottom', fontsize=9)\n",
    "\n",
    "    plt.tight_layout()\n",
    "    plt.show()\n",
    "\n",
    "\n",
    "# B-PER plots\n",
    "# plot_metric(b_per_metrics, label='B-PER', metric='precision')\n",
    "plot_metric(b_per_metrics, label='B-PER', metric='recall')\n",
    "# plot_metric(b_per_metrics, label='B-PER', metric='f1')"
   ]
  },
  {
   "cell_type": "code",
   "execution_count": 103,
   "id": "71e3aa46-6643-4b08-853d-c62a9587893c",
   "metadata": {
    "execution": {
     "iopub.execute_input": "2025-06-05T15:05:42.907811Z",
     "iopub.status.busy": "2025-06-05T15:05:42.891917Z",
     "iopub.status.idle": "2025-06-05T15:05:42.919827Z",
     "shell.execute_reply": "2025-06-05T15:05:42.918819Z",
     "shell.execute_reply.started": "2025-06-05T15:05:42.907811Z"
    }
   },
   "outputs": [],
   "source": [
    "def evaluate_csv_error(file):\n",
    "    print('evaluating', file)\n",
    "    scripted_challenge = pd.read_csv(file)\n",
    "\n",
    "    examples = []\n",
    "    for sentence_id, group in scripted_challenge.groupby(\"sentence_id\"):\n",
    "        tokens = group[\"token\"].tolist()\n",
    "        tags = group[\"tag\"].tolist()\n",
    "        examples.append({\"tokens\": tokens, \"ner_tags\": tags})\n",
    "\n",
    "    for ex in examples:\n",
    "        ex[\"labels\"] = [conll_label_to_id[tag] for tag in ex[\"ner_tags\"]]\n",
    "\n",
    "    challenge_dataset = Dataset.from_list(examples)\n",
    "    tokenized = challenge_dataset.map(tokenize_and_align_labels, batched=True)\n",
    "\n",
    "    # Get model predictions\n",
    "    outputs = conll_trainer.predict(tokenized)\n",
    "\n",
    "    predictions, true_labels = evaluate_predictions(outputs, tokenized)\n",
    "\n",
    "    flat_pred = [label for seq in predictions for label in seq]\n",
    "    flat_gold = [label for seq in true_labels for label in seq]\n",
    "    cm = confusion_matrix(flat_gold, flat_pred)\n",
    "    all_labels = sorted(set(flat_gold) | set(flat_pred))\n",
    "    for i in range(len(all_labels)):\n",
    "        cm[i][i] = 0\n",
    "\n",
    "    disp = ConfusionMatrixDisplay(\n",
    "        confusion_matrix=cm, display_labels=all_labels)\n",
    "    disp.plot()\n",
    "    plt.show()\n",
    "\n",
    "    # Error analysis\n",
    "    for i, example in enumerate(examples):\n",
    "        tokens = example['tokens']\n",
    "        expected_tags = example['ner_tags']\n",
    "        predicted_ids = predictions[i]\n",
    "        true_ids = true_labels[i]\n",
    "\n",
    "        # for token, expected, predicted in zip(tokens, expected_tags, predicted_ids):\n",
    "        #     if expected != predicted:\n",
    "        #         if expected == 'B-PER' and predicted == 'B-ORG':\n",
    "        #             print(f\"Word: {token}\")\n",
    "        #             print(f\"Expected tag: {expected}\")\n",
    "        #             print(f\"Predicted tag: {predicted}\")\n",
    "        #             print(f\"Full sentence: {' '.join(tokens)}\")\n",
    "        #             print(\"------\")"
   ]
  },
  {
   "cell_type": "code",
   "execution_count": 104,
   "id": "4b353153-8ffd-4f49-875b-3fd5702ccd4a",
   "metadata": {
    "execution": {
     "iopub.execute_input": "2025-06-05T15:05:45.613393Z",
     "iopub.status.busy": "2025-06-05T15:05:45.612428Z",
     "iopub.status.idle": "2025-06-05T15:05:52.353108Z",
     "shell.execute_reply": "2025-06-05T15:05:52.353108Z",
     "shell.execute_reply.started": "2025-06-05T15:05:45.613393Z"
    },
    "scrolled": true
   },
   "outputs": [
    {
     "name": "stdout",
     "output_type": "stream",
     "text": [
      "evaluating Oceania_ner_challenge.csv\n"
     ]
    },
    {
     "data": {
      "application/vnd.jupyter.widget-view+json": {
       "model_id": "ed6a69cb6950417c94f81bedb330fcc5",
       "version_major": 2,
       "version_minor": 0
      },
      "text/plain": [
       "Map:   0%|          | 0/1000 [00:00<?, ? examples/s]"
      ]
     },
     "metadata": {},
     "output_type": "display_data"
    },
    {
     "data": {
      "text/html": [],
      "text/plain": [
       "<IPython.core.display.HTML object>"
      ]
     },
     "metadata": {},
     "output_type": "display_data"
    },
    {
     "data": {
      "application/vnd.jupyter.widget-view+json": {
       "model_id": "ae112c07d529414dbb6b636f6163e9d7",
       "version_major": 2,
       "version_minor": 0
      },
      "text/plain": [
       "Map:   0%|          | 0/1000 [00:00<?, ? examples/s]"
      ]
     },
     "metadata": {},
     "output_type": "display_data"
    },
    {
     "name": "stdout",
     "output_type": "stream",
     "text": [
      "              precision    recall  f1-score   support\n",
      "\n",
      "       B-LOC       0.00      0.00      0.00         0\n",
      "       B-ORG       0.00      0.00      0.00         0\n",
      "       B-PER       0.98      0.86      0.92      1148\n",
      "       I-LOC       0.00      0.00      0.00         0\n",
      "       I-ORG       0.00      0.00      0.00         0\n",
      "           O       1.00      0.98      0.99      9548\n",
      "\n",
      "    accuracy                           0.97     10696\n",
      "   macro avg       0.33      0.31      0.32     10696\n",
      "weighted avg       1.00      0.97      0.98     10696\n",
      "\n"
     ]
    },
    {
     "data": {
      "image/png": "[encoded data removed]",
      "text/plain": [
       "<Figure size 640x480 with 2 Axes>"
      ]
     },
     "metadata": {},
     "output_type": "display_data"
    },
    {
     "name": "stdout",
     "output_type": "stream",
     "text": [
      "Word: Litia\n",
      "Expected tag: B-PER\n",
      "Predicted tag: B-ORG\n",
      "Full sentence: It was Litia who finalized the agreement .\n",
      "------\n",
      "Word: Melaia\n",
      "Expected tag: B-PER\n",
      "Predicted tag: B-ORG\n",
      "Full sentence: The final report was prepared by Melaia .\n",
      "------\n",
      "Word: Litia\n",
      "Expected tag: B-PER\n",
      "Predicted tag: B-ORG\n",
      "Full sentence: Litia introduced Seru as the lead consultant on the project .\n",
      "------\n",
      "Word: Siteri\n",
      "Expected tag: B-PER\n",
      "Predicted tag: B-ORG\n",
      "Full sentence: Siteri introduced Inoke as the lead consultant on the project .\n",
      "------\n",
      "Word: Joseva\n",
      "Expected tag: B-PER\n",
      "Predicted tag: B-ORG\n",
      "Full sentence: The final report was prepared by Joseva .\n",
      "------\n",
      "Word: Rusiate\n",
      "Expected tag: B-PER\n",
      "Predicted tag: B-ORG\n",
      "Full sentence: Rusiate introduced Akanisi as the lead consultant on the project .\n",
      "------\n",
      "Word: Joseva\n",
      "Expected tag: B-PER\n",
      "Predicted tag: B-ORG\n",
      "Full sentence: The final report was prepared by Joseva .\n",
      "------\n",
      "Word: Tevita\n",
      "Expected tag: B-PER\n",
      "Predicted tag: B-ORG\n",
      "Full sentence: The final report was prepared by Tevita .\n",
      "------\n",
      "Word: Unaisi\n",
      "Expected tag: B-PER\n",
      "Predicted tag: B-ORG\n",
      "Full sentence: The report , as mentioned by Unaisi ( our new data analyst ) , needs a revision .\n",
      "------\n",
      "Word: Esala\n",
      "Expected tag: B-PER\n",
      "Predicted tag: B-ORG\n",
      "Full sentence: Esala introduced Joseva as the lead consultant on the project .\n",
      "------\n",
      "Word: Siteri\n",
      "Expected tag: B-PER\n",
      "Predicted tag: B-ORG\n",
      "Full sentence: Krishneel said that Siteri might be late due to traffic .\n",
      "------\n",
      "Word: Inoke\n",
      "Expected tag: B-PER\n",
      "Predicted tag: B-ORG\n",
      "Full sentence: The report , as mentioned by Inoke ( our new data analyst ) , needs a revision .\n",
      "------\n",
      "Word: Siteri\n",
      "Expected tag: B-PER\n",
      "Predicted tag: B-ORG\n",
      "Full sentence: The report , as mentioned by Siteri ( our new data analyst ) , needs a revision .\n",
      "------\n",
      "Word: Waisea\n",
      "Expected tag: B-PER\n",
      "Predicted tag: B-ORG\n",
      "Full sentence: While the proposal was being finalized by the marketing team , Waisea , who had just returned from Singapore , raised an objection .\n",
      "------\n",
      "Word: Waisea\n",
      "Expected tag: B-PER\n",
      "Predicted tag: B-ORG\n",
      "Full sentence: It was Waisea who finalized the agreement .\n",
      "------\n",
      "Word: Unaisi\n",
      "Expected tag: B-PER\n",
      "Predicted tag: B-ORG\n",
      "Full sentence: Can you schedule a meeting with Unaisi next week ?\n",
      "------\n",
      "Word: Litia\n",
      "Expected tag: B-PER\n",
      "Predicted tag: B-ORG\n",
      "Full sentence: Can you schedule a meeting with Litia next week ?\n",
      "------\n",
      "Word: Unaisi\n",
      "Expected tag: B-PER\n",
      "Predicted tag: B-ORG\n",
      "Full sentence: Nobody expected Unaisi to handle the crisis so well .\n",
      "------\n",
      "Word: Unaisi\n",
      "Expected tag: B-PER\n",
      "Predicted tag: B-ORG\n",
      "Full sentence: Both Unaisi and Tevita have extensive experience in logistics .\n",
      "------\n",
      "Word: Tevita\n",
      "Expected tag: B-PER\n",
      "Predicted tag: B-ORG\n",
      "Full sentence: Both Unaisi and Tevita have extensive experience in logistics .\n",
      "------\n",
      "Word: Viliame\n",
      "Expected tag: B-PER\n",
      "Predicted tag: B-ORG\n",
      "Full sentence: The final report was prepared by Viliame .\n",
      "------\n",
      "Word: Unaisi\n",
      "Expected tag: B-PER\n",
      "Predicted tag: B-ORG\n",
      "Full sentence: The final report was prepared by Unaisi .\n",
      "------\n",
      "Word: Waisea\n",
      "Expected tag: B-PER\n",
      "Predicted tag: B-ORG\n",
      "Full sentence: Do you remember when Waisea joined the company ?\n",
      "------\n",
      "Word: Tevita\n",
      "Expected tag: B-PER\n",
      "Predicted tag: B-ORG\n",
      "Full sentence: Both Tevita and Litia have extensive experience in logistics .\n",
      "------\n",
      "Word: Litia\n",
      "Expected tag: B-PER\n",
      "Predicted tag: B-ORG\n",
      "Full sentence: Both Tevita and Litia have extensive experience in logistics .\n",
      "------\n",
      "Word: Waisea\n",
      "Expected tag: B-PER\n",
      "Predicted tag: B-ORG\n",
      "Full sentence: Nobody expected Waisea to handle the crisis so well .\n",
      "------\n",
      "Word: Waisea\n",
      "Expected tag: B-PER\n",
      "Predicted tag: B-ORG\n",
      "Full sentence: While the proposal was being finalized by the marketing team , Waisea , who had just returned from Singapore , raised an objection .\n",
      "------\n",
      "Word: Waisea\n",
      "Expected tag: B-PER\n",
      "Predicted tag: B-ORG\n",
      "Full sentence: Waisea said that Litia might be late due to traffic .\n",
      "------\n",
      "Word: Litia\n",
      "Expected tag: B-PER\n",
      "Predicted tag: B-ORG\n",
      "Full sentence: Nobody expected Litia to handle the crisis so well .\n",
      "------\n",
      "Word: Litia\n",
      "Expected tag: B-PER\n",
      "Predicted tag: B-ORG\n",
      "Full sentence: The report , as mentioned by Litia ( our new data analyst ) , needs a revision .\n",
      "------\n",
      "Word: Esala\n",
      "Expected tag: B-PER\n",
      "Predicted tag: B-ORG\n",
      "Full sentence: Esala introduced Siteri as the lead consultant on the project .\n",
      "------\n",
      "Word: Litia\n",
      "Expected tag: B-PER\n",
      "Predicted tag: B-ORG\n",
      "Full sentence: Litia said that Siteri might be late due to traffic .\n",
      "------\n",
      "Word: Akanisi\n",
      "Expected tag: B-PER\n",
      "Predicted tag: B-ORG\n",
      "Full sentence: Both Akanisi and Waisea have extensive experience in logistics .\n",
      "------\n",
      "Word: Waisea\n",
      "Expected tag: B-PER\n",
      "Predicted tag: B-ORG\n",
      "Full sentence: Both Akanisi and Waisea have extensive experience in logistics .\n",
      "------\n",
      "Word: Litia\n",
      "Expected tag: B-PER\n",
      "Predicted tag: B-ORG\n",
      "Full sentence: Can you schedule a meeting with Litia next week ?\n",
      "------\n",
      "Word: Tevita\n",
      "Expected tag: B-PER\n",
      "Predicted tag: B-ORG\n",
      "Full sentence: Tevita said that Waisea might be late due to traffic .\n",
      "------\n",
      "Word: Rusiate\n",
      "Expected tag: B-PER\n",
      "Predicted tag: B-ORG\n",
      "Full sentence: The final report was prepared by Rusiate .\n",
      "------\n",
      "Word: Tevita\n",
      "Expected tag: B-PER\n",
      "Predicted tag: B-ORG\n",
      "Full sentence: Tevita introduced Eroni as the lead consultant on the project .\n",
      "------\n",
      "Word: Waisea\n",
      "Expected tag: B-PER\n",
      "Predicted tag: B-ORG\n",
      "Full sentence: Both Waisea and Viliame have extensive experience in logistics .\n",
      "------\n",
      "Word: Viliame\n",
      "Expected tag: B-PER\n",
      "Predicted tag: B-ORG\n",
      "Full sentence: Both Waisea and Viliame have extensive experience in logistics .\n",
      "------\n",
      "Word: Tinai\n",
      "Expected tag: B-PER\n",
      "Predicted tag: B-ORG\n",
      "Full sentence: Both Tinai and Siteri have extensive experience in logistics .\n",
      "------\n",
      "Word: Siteri\n",
      "Expected tag: B-PER\n",
      "Predicted tag: B-ORG\n",
      "Full sentence: Both Tinai and Siteri have extensive experience in logistics .\n",
      "------\n",
      "Word: Litia\n",
      "Expected tag: B-PER\n",
      "Predicted tag: B-ORG\n",
      "Full sentence: Can you schedule a meeting with Litia next week ?\n",
      "------\n",
      "Word: Litia\n",
      "Expected tag: B-PER\n",
      "Predicted tag: B-ORG\n",
      "Full sentence: The final report was prepared by Litia .\n",
      "------\n",
      "Word: Tevita\n",
      "Expected tag: B-PER\n",
      "Predicted tag: B-ORG\n",
      "Full sentence: Both Tevita and Melaia have extensive experience in logistics .\n",
      "------\n",
      "Word: Melaia\n",
      "Expected tag: B-PER\n",
      "Predicted tag: B-ORG\n",
      "Full sentence: Both Tevita and Melaia have extensive experience in logistics .\n",
      "------\n",
      "Word: Waisea\n",
      "Expected tag: B-PER\n",
      "Predicted tag: B-ORG\n",
      "Full sentence: Waisea said that Krishneel might be late due to traffic .\n",
      "------\n",
      "Word: Tinai\n",
      "Expected tag: B-PER\n",
      "Predicted tag: B-ORG\n",
      "Full sentence: The final report was prepared by Tinai .\n",
      "------\n",
      "Word: Litia\n",
      "Expected tag: B-PER\n",
      "Predicted tag: B-ORG\n",
      "Full sentence: The report , as mentioned by Litia ( our new data analyst ) , needs a revision .\n",
      "------\n",
      "Word: Viliame\n",
      "Expected tag: B-PER\n",
      "Predicted tag: B-ORG\n",
      "Full sentence: It was Viliame who finalized the agreement .\n",
      "------\n",
      "Word: Waisea\n",
      "Expected tag: B-PER\n",
      "Predicted tag: B-ORG\n",
      "Full sentence: The final report was prepared by Waisea .\n",
      "------\n",
      "Word: Unaisi\n",
      "Expected tag: B-PER\n",
      "Predicted tag: B-ORG\n",
      "Full sentence: Nobody expected Unaisi to handle the crisis so well .\n",
      "------\n",
      "Word: Viliame\n",
      "Expected tag: B-PER\n",
      "Predicted tag: B-ORG\n",
      "Full sentence: The final report was prepared by Viliame .\n",
      "------\n",
      "Word: Litia\n",
      "Expected tag: B-PER\n",
      "Predicted tag: B-ORG\n",
      "Full sentence: Both Litia and Eroni have extensive experience in logistics .\n",
      "------\n",
      "Word: Eroni\n",
      "Expected tag: B-PER\n",
      "Predicted tag: B-ORG\n",
      "Full sentence: Both Litia and Eroni have extensive experience in logistics .\n",
      "------\n",
      "Word: Waisea\n",
      "Expected tag: B-PER\n",
      "Predicted tag: B-ORG\n",
      "Full sentence: Nobody expected Waisea to handle the crisis so well .\n",
      "------\n",
      "Word: Akanisi\n",
      "Expected tag: B-PER\n",
      "Predicted tag: B-ORG\n",
      "Full sentence: The final report was prepared by Akanisi .\n",
      "------\n",
      "Word: Esala\n",
      "Expected tag: B-PER\n",
      "Predicted tag: B-ORG\n",
      "Full sentence: Esala introduced Waisea as the lead consultant on the project .\n",
      "------\n",
      "Word: Waisea\n",
      "Expected tag: B-PER\n",
      "Predicted tag: B-ORG\n",
      "Full sentence: Can you schedule a meeting with Waisea next week ?\n",
      "------\n",
      "Word: Litia\n",
      "Expected tag: B-PER\n",
      "Predicted tag: B-ORG\n",
      "Full sentence: Litia said that Inoke might be late due to traffic .\n",
      "------\n",
      "Word: Litia\n",
      "Expected tag: B-PER\n",
      "Predicted tag: B-ORG\n",
      "Full sentence: Litia introduced Tomasi as the lead consultant on the project .\n",
      "------\n",
      "Word: Tinai\n",
      "Expected tag: B-PER\n",
      "Predicted tag: B-ORG\n",
      "Full sentence: The final report was prepared by Tinai .\n",
      "------\n",
      "Word: Litia\n",
      "Expected tag: B-PER\n",
      "Predicted tag: B-ORG\n",
      "Full sentence: Can you schedule a meeting with Litia next week ?\n",
      "------\n",
      "Word: Unaisi\n",
      "Expected tag: B-PER\n",
      "Predicted tag: B-ORG\n",
      "Full sentence: Unaisi , the regional director , approved the budget .\n",
      "------\n",
      "Word: Unaisi\n",
      "Expected tag: B-PER\n",
      "Predicted tag: B-ORG\n",
      "Full sentence: The report , as mentioned by Unaisi ( our new data analyst ) , needs a revision .\n",
      "------\n",
      "Word: Litia\n",
      "Expected tag: B-PER\n",
      "Predicted tag: B-ORG\n",
      "Full sentence: Litia introduced Tinai as the lead consultant on the project .\n",
      "------\n",
      "Word: Unaisi\n",
      "Expected tag: B-PER\n",
      "Predicted tag: B-ORG\n",
      "Full sentence: While the proposal was being finalized by the marketing team , Unaisi , who had just returned from Singapore , raised an objection .\n",
      "------\n",
      "Word: Waisea\n",
      "Expected tag: B-PER\n",
      "Predicted tag: B-ORG\n",
      "Full sentence: It was Waisea who finalized the agreement .\n",
      "------\n",
      "Word: Waisea\n",
      "Expected tag: B-PER\n",
      "Predicted tag: B-ORG\n",
      "Full sentence: The report , as mentioned by Waisea ( our new data analyst ) , needs a revision .\n",
      "------\n",
      "Word: Mereoni\n",
      "Expected tag: B-PER\n",
      "Predicted tag: B-ORG\n",
      "Full sentence: While the proposal was being finalized by the marketing team , Mereoni , who had just returned from Singapore , raised an objection .\n",
      "------\n",
      "Word: Unaisi\n",
      "Expected tag: B-PER\n",
      "Predicted tag: B-ORG\n",
      "Full sentence: What did Unaisi say about the proposal yesterday ?\n",
      "------\n",
      "Word: Unaisi\n",
      "Expected tag: B-PER\n",
      "Predicted tag: B-ORG\n",
      "Full sentence: The final report was prepared by Unaisi .\n",
      "------\n",
      "Word: Rusiate\n",
      "Expected tag: B-PER\n",
      "Predicted tag: B-ORG\n",
      "Full sentence: The report , as mentioned by Rusiate ( our new data analyst ) , needs a revision .\n",
      "------\n",
      "Word: Esala\n",
      "Expected tag: B-PER\n",
      "Predicted tag: B-ORG\n",
      "Full sentence: The report , as mentioned by Esala ( our new data analyst ) , needs a revision .\n",
      "------\n",
      "Word: Waisea\n",
      "Expected tag: B-PER\n",
      "Predicted tag: B-ORG\n",
      "Full sentence: Inoke said that Waisea might be late due to traffic .\n",
      "------\n",
      "Word: Viliame\n",
      "Expected tag: B-PER\n",
      "Predicted tag: B-ORG\n",
      "Full sentence: Viliame introduced Mosese as the lead consultant on the project .\n",
      "------\n",
      "Word: Inoke\n",
      "Expected tag: B-PER\n",
      "Predicted tag: B-ORG\n",
      "Full sentence: The report , as mentioned by Inoke ( our new data analyst ) , needs a revision .\n",
      "------\n",
      "Word: Melaia\n",
      "Expected tag: B-PER\n",
      "Predicted tag: B-ORG\n",
      "Full sentence: The final report was prepared by Melaia .\n",
      "------\n",
      "Word: Waisea\n",
      "Expected tag: B-PER\n",
      "Predicted tag: B-ORG\n",
      "Full sentence: It was Waisea who finalized the agreement .\n",
      "------\n",
      "Word: Esala\n",
      "Expected tag: B-PER\n",
      "Predicted tag: B-ORG\n",
      "Full sentence: Esala introduced Viliame as the lead consultant on the project .\n",
      "------\n",
      "Word: Litia\n",
      "Expected tag: B-PER\n",
      "Predicted tag: B-ORG\n",
      "Full sentence: Both Litia and Inoke have extensive experience in logistics .\n",
      "------\n",
      "Word: Inoke\n",
      "Expected tag: B-PER\n",
      "Predicted tag: B-ORG\n",
      "Full sentence: Both Litia and Inoke have extensive experience in logistics .\n",
      "------\n",
      "Word: Waisea\n",
      "Expected tag: B-PER\n",
      "Predicted tag: B-ORG\n",
      "Full sentence: Do you remember when Waisea joined the company ?\n",
      "------\n",
      "Word: Waisea\n",
      "Expected tag: B-PER\n",
      "Predicted tag: B-ORG\n",
      "Full sentence: Both Waisea and Rusiate have extensive experience in logistics .\n",
      "------\n",
      "Word: Rusiate\n",
      "Expected tag: B-PER\n",
      "Predicted tag: B-ORG\n",
      "Full sentence: Both Waisea and Rusiate have extensive experience in logistics .\n",
      "------\n",
      "Word: Waisea\n",
      "Expected tag: B-PER\n",
      "Predicted tag: B-ORG\n",
      "Full sentence: What did Waisea say about the proposal yesterday ?\n",
      "------\n",
      "Word: Siteri\n",
      "Expected tag: B-PER\n",
      "Predicted tag: B-ORG\n",
      "Full sentence: While the proposal was being finalized by the marketing team , Siteri , who had just returned from Singapore , raised an objection .\n",
      "------\n",
      "Word: Viliame\n",
      "Expected tag: B-PER\n",
      "Predicted tag: B-ORG\n",
      "Full sentence: The report , as mentioned by Viliame ( our new data analyst ) , needs a revision .\n",
      "------\n",
      "Word: Viliame\n",
      "Expected tag: B-PER\n",
      "Predicted tag: B-ORG\n",
      "Full sentence: The final report was prepared by Viliame .\n",
      "------\n",
      "Word: Rusiate\n",
      "Expected tag: B-PER\n",
      "Predicted tag: B-ORG\n",
      "Full sentence: The report , as mentioned by Rusiate ( our new data analyst ) , needs a revision .\n",
      "------\n",
      "Word: Litia\n",
      "Expected tag: B-PER\n",
      "Predicted tag: B-ORG\n",
      "Full sentence: Nobody expected Litia to handle the crisis so well .\n",
      "------\n",
      "Word: Unaisi\n",
      "Expected tag: B-PER\n",
      "Predicted tag: B-ORG\n",
      "Full sentence: The report , as mentioned by Unaisi ( our new data analyst ) , needs a revision .\n",
      "------\n",
      "Word: Mereoni\n",
      "Expected tag: B-PER\n",
      "Predicted tag: B-ORG\n",
      "Full sentence: The final report was prepared by Mereoni .\n",
      "------\n",
      "Word: Siteri\n",
      "Expected tag: B-PER\n",
      "Predicted tag: B-ORG\n",
      "Full sentence: Siteri said that Waisea might be late due to traffic .\n",
      "------\n",
      "Word: Waisea\n",
      "Expected tag: B-PER\n",
      "Predicted tag: B-ORG\n",
      "Full sentence: Siteri said that Waisea might be late due to traffic .\n",
      "------\n",
      "Word: Waisea\n",
      "Expected tag: B-PER\n",
      "Predicted tag: B-ORG\n",
      "Full sentence: Nobody expected Waisea to handle the crisis so well .\n",
      "------\n",
      "Word: Litia\n",
      "Expected tag: B-PER\n",
      "Predicted tag: B-ORG\n",
      "Full sentence: Litia introduced Joeli as the lead consultant on the project .\n",
      "------\n",
      "Word: Mereoni\n",
      "Expected tag: B-PER\n",
      "Predicted tag: B-ORG\n",
      "Full sentence: While the proposal was being finalized by the marketing team , Mereoni , who had just returned from Singapore , raised an objection .\n",
      "------\n",
      "Word: Litia\n",
      "Expected tag: B-PER\n",
      "Predicted tag: B-ORG\n",
      "Full sentence: Litia said that Joeli might be late due to traffic .\n",
      "------\n",
      "Word: Litia\n",
      "Expected tag: B-PER\n",
      "Predicted tag: B-ORG\n",
      "Full sentence: Litia said that Inoke might be late due to traffic .\n",
      "------\n",
      "Word: Waisea\n",
      "Expected tag: B-PER\n",
      "Predicted tag: B-ORG\n",
      "Full sentence: While the proposal was being finalized by the marketing team , Waisea , who had just returned from Singapore , raised an objection .\n",
      "------\n",
      "Word: Esala\n",
      "Expected tag: B-PER\n",
      "Predicted tag: B-ORG\n",
      "Full sentence: The final report was prepared by Esala .\n",
      "------\n",
      "Word: Mereoni\n",
      "Expected tag: B-PER\n",
      "Predicted tag: B-ORG\n",
      "Full sentence: Both Mereoni and Waisea have extensive experience in logistics .\n",
      "------\n",
      "Word: Waisea\n",
      "Expected tag: B-PER\n",
      "Predicted tag: B-ORG\n",
      "Full sentence: Both Mereoni and Waisea have extensive experience in logistics .\n",
      "------\n",
      "Word: Waisea\n",
      "Expected tag: B-PER\n",
      "Predicted tag: B-ORG\n",
      "Full sentence: Joseva said that Waisea might be late due to traffic .\n",
      "------\n",
      "Word: Tevita\n",
      "Expected tag: B-PER\n",
      "Predicted tag: B-ORG\n",
      "Full sentence: The report , as mentioned by Tevita ( our new data analyst ) , needs a revision .\n",
      "------\n",
      "Word: Waisea\n",
      "Expected tag: B-PER\n",
      "Predicted tag: B-ORG\n",
      "Full sentence: Both Waisea and Litia have extensive experience in logistics .\n",
      "------\n",
      "Word: Litia\n",
      "Expected tag: B-PER\n",
      "Predicted tag: B-ORG\n",
      "Full sentence: Both Waisea and Litia have extensive experience in logistics .\n",
      "------\n",
      "Word: Litia\n",
      "Expected tag: B-PER\n",
      "Predicted tag: B-ORG\n",
      "Full sentence: The final report was prepared by Litia .\n",
      "------\n",
      "Word: Litia\n",
      "Expected tag: B-PER\n",
      "Predicted tag: B-ORG\n",
      "Full sentence: Both Litia and Akanisi have extensive experience in logistics .\n",
      "------\n",
      "Word: Akanisi\n",
      "Expected tag: B-PER\n",
      "Predicted tag: B-ORG\n",
      "Full sentence: Both Litia and Akanisi have extensive experience in logistics .\n",
      "------\n",
      "Word: Joseva\n",
      "Expected tag: B-PER\n",
      "Predicted tag: B-ORG\n",
      "Full sentence: The final report was prepared by Joseva .\n",
      "------\n",
      "Word: Waisea\n",
      "Expected tag: B-PER\n",
      "Predicted tag: B-ORG\n",
      "Full sentence: Viliame said that Waisea might be late due to traffic .\n",
      "------\n",
      "Word: Waisea\n",
      "Expected tag: B-PER\n",
      "Predicted tag: B-ORG\n",
      "Full sentence: What did Waisea say about the proposal yesterday ?\n",
      "------\n",
      "Word: Tevita\n",
      "Expected tag: B-PER\n",
      "Predicted tag: B-ORG\n",
      "Full sentence: The final report was prepared by Tevita .\n",
      "------\n",
      "Word: Unaisi\n",
      "Expected tag: B-PER\n",
      "Predicted tag: B-ORG\n",
      "Full sentence: Can you schedule a meeting with Unaisi next week ?\n",
      "------\n",
      "Word: Akanisi\n",
      "Expected tag: B-PER\n",
      "Predicted tag: B-ORG\n",
      "Full sentence: The final report was prepared by Akanisi .\n",
      "------\n",
      "Word: Rusiate\n",
      "Expected tag: B-PER\n",
      "Predicted tag: B-ORG\n",
      "Full sentence: The final report was prepared by Rusiate .\n",
      "------\n",
      "Word: Waisea\n",
      "Expected tag: B-PER\n",
      "Predicted tag: B-ORG\n",
      "Full sentence: While the proposal was being finalized by the marketing team , Waisea , who had just returned from Singapore , raised an objection .\n",
      "------\n",
      "Word: Unaisi\n",
      "Expected tag: B-PER\n",
      "Predicted tag: B-ORG\n",
      "Full sentence: Both Unaisi and Rusiate have extensive experience in logistics .\n",
      "------\n",
      "Word: Rusiate\n",
      "Expected tag: B-PER\n",
      "Predicted tag: B-ORG\n",
      "Full sentence: Both Unaisi and Rusiate have extensive experience in logistics .\n",
      "------\n",
      "Word: Inoke\n",
      "Expected tag: B-PER\n",
      "Predicted tag: B-ORG\n",
      "Full sentence: The report , as mentioned by Inoke ( our new data analyst ) , needs a revision .\n",
      "------\n",
      "Word: Litia\n",
      "Expected tag: B-PER\n",
      "Predicted tag: B-ORG\n",
      "Full sentence: While the proposal was being finalized by the marketing team , Litia , who had just returned from Singapore , raised an objection .\n",
      "------\n",
      "Word: Unaisi\n",
      "Expected tag: B-PER\n",
      "Predicted tag: B-ORG\n",
      "Full sentence: The report , as mentioned by Unaisi ( our new data analyst ) , needs a revision .\n",
      "------\n",
      "Word: Waisea\n",
      "Expected tag: B-PER\n",
      "Predicted tag: B-ORG\n",
      "Full sentence: Can you schedule a meeting with Waisea next week ?\n",
      "------\n",
      "Word: Litia\n",
      "Expected tag: B-PER\n",
      "Predicted tag: B-ORG\n",
      "Full sentence: Litia introduced Viliame as the lead consultant on the project .\n",
      "------\n",
      "Word: Esala\n",
      "Expected tag: B-PER\n",
      "Predicted tag: B-ORG\n",
      "Full sentence: The final report was prepared by Esala .\n",
      "------\n",
      "Word: Unaisi\n",
      "Expected tag: B-PER\n",
      "Predicted tag: B-ORG\n",
      "Full sentence: The report , as mentioned by Unaisi ( our new data analyst ) , needs a revision .\n",
      "------\n",
      "Word: Waisea\n",
      "Expected tag: B-PER\n",
      "Predicted tag: B-ORG\n",
      "Full sentence: Do you remember when Waisea joined the company ?\n",
      "------\n",
      "Word: Waisea\n",
      "Expected tag: B-PER\n",
      "Predicted tag: B-ORG\n",
      "Full sentence: Can you schedule a meeting with Waisea next week ?\n",
      "------\n",
      "Word: Siteri\n",
      "Expected tag: B-PER\n",
      "Predicted tag: B-ORG\n",
      "Full sentence: The report , as mentioned by Siteri ( our new data analyst ) , needs a revision .\n",
      "------\n",
      "Word: Unaisi\n",
      "Expected tag: B-PER\n",
      "Predicted tag: B-ORG\n",
      "Full sentence: It was Unaisi who finalized the agreement .\n",
      "------\n",
      "Word: Waisea\n",
      "Expected tag: B-PER\n",
      "Predicted tag: B-ORG\n",
      "Full sentence: Can you schedule a meeting with Waisea next week ?\n",
      "------\n",
      "Word: Waisea\n",
      "Expected tag: B-PER\n",
      "Predicted tag: B-ORG\n",
      "Full sentence: The final report was prepared by Waisea .\n",
      "------\n",
      "Word: Siteri\n",
      "Expected tag: B-PER\n",
      "Predicted tag: B-ORG\n",
      "Full sentence: Nobody expected Siteri to handle the crisis so well .\n",
      "------\n",
      "Word: Tevita\n",
      "Expected tag: B-PER\n",
      "Predicted tag: B-ORG\n",
      "Full sentence: The final report was prepared by Tevita .\n",
      "------\n",
      "Word: Litia\n",
      "Expected tag: B-PER\n",
      "Predicted tag: B-ORG\n",
      "Full sentence: Litia said that Eroni might be late due to traffic .\n",
      "------\n",
      "Word: Waisea\n",
      "Expected tag: B-PER\n",
      "Predicted tag: B-ORG\n",
      "Full sentence: What did Waisea say about the proposal yesterday ?\n",
      "------\n",
      "Word: Unaisi\n",
      "Expected tag: B-PER\n",
      "Predicted tag: B-ORG\n",
      "Full sentence: Nobody expected Unaisi to handle the crisis so well .\n",
      "------\n",
      "Word: Melaia\n",
      "Expected tag: B-PER\n",
      "Predicted tag: B-ORG\n",
      "Full sentence: The final report was prepared by Melaia .\n",
      "------\n",
      "Word: Litia\n",
      "Expected tag: B-PER\n",
      "Predicted tag: B-ORG\n",
      "Full sentence: What did Litia say about the proposal yesterday ?\n",
      "------\n",
      "Word: Waisea\n",
      "Expected tag: B-PER\n",
      "Predicted tag: B-ORG\n",
      "Full sentence: It was Waisea who finalized the agreement .\n",
      "------\n",
      "Word: Viliame\n",
      "Expected tag: B-PER\n",
      "Predicted tag: B-ORG\n",
      "Full sentence: Viliame introduced Krishneel as the lead consultant on the project .\n",
      "------\n",
      "Word: Litia\n",
      "Expected tag: B-PER\n",
      "Predicted tag: B-ORG\n",
      "Full sentence: The final report was prepared by Litia .\n",
      "------\n",
      "Word: Viliame\n",
      "Expected tag: B-PER\n",
      "Predicted tag: B-ORG\n",
      "Full sentence: It was Viliame who finalized the agreement .\n",
      "------\n",
      "Word: Akanisi\n",
      "Expected tag: B-PER\n",
      "Predicted tag: B-ORG\n",
      "Full sentence: The final report was prepared by Akanisi .\n",
      "------\n",
      "Word: Waisea\n",
      "Expected tag: B-PER\n",
      "Predicted tag: B-ORG\n",
      "Full sentence: Do you remember when Waisea joined the company ?\n",
      "------\n",
      "Word: Seru\n",
      "Expected tag: B-PER\n",
      "Predicted tag: B-ORG\n",
      "Full sentence: The final report was prepared by Seru .\n",
      "------\n",
      "Word: Litia\n",
      "Expected tag: B-PER\n",
      "Predicted tag: B-ORG\n",
      "Full sentence: Can you schedule a meeting with Litia next week ?\n",
      "------\n",
      "Word: Tinai\n",
      "Expected tag: B-PER\n",
      "Predicted tag: B-ORG\n",
      "Full sentence: The final report was prepared by Tinai .\n",
      "------\n",
      "Word: Esala\n",
      "Expected tag: B-PER\n",
      "Predicted tag: B-ORG\n",
      "Full sentence: The report , as mentioned by Esala ( our new data analyst ) , needs a revision .\n",
      "------\n",
      "Word: Unaisi\n",
      "Expected tag: B-PER\n",
      "Predicted tag: B-ORG\n",
      "Full sentence: The report , as mentioned by Unaisi ( our new data analyst ) , needs a revision .\n",
      "------\n",
      "Word: Waisea\n",
      "Expected tag: B-PER\n",
      "Predicted tag: B-ORG\n",
      "Full sentence: Do you remember when Waisea joined the company ?\n",
      "------\n",
      "Word: Litia\n",
      "Expected tag: B-PER\n",
      "Predicted tag: B-ORG\n",
      "Full sentence: The final report was prepared by Litia .\n",
      "------\n"
     ]
    }
   ],
   "source": [
    "evaluate_csv_error('Oceania_ner_challenge.csv')"
   ]
  }
 ],
 "metadata": {
  "kernelspec": {
   "display_name": "Python 3 (ipykernel)",
   "language": "python",
   "name": "python3"
  },
  "language_info": {
   "codemirror_mode": {
    "name": "ipython",
    "version": 3
   },
   "file_extension": ".py",
   "mimetype": "text/x-python",
   "name": "python",
   "nbconvert_exporter": "python",
   "pygments_lexer": "ipython3",
   "version": "3.12.3"
  }
 },
 "nbformat": 4,
 "nbformat_minor": 5
}
