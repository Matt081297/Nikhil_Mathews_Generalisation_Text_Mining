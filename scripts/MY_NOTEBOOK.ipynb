{
 "cells": [
  {
   "cell_type": "markdown",
   "id": "007fc4ab-42d5-48c6-883d-0ce8122a17c5",
   "metadata": {},
   "source": [
    "# Imports"
   ]
  },
  {
   "cell_type": "code",
   "execution_count": 1,
   "id": "c5ad4477-afe1-4b71-9262-2787e9bb8d3b",
   "metadata": {
    "editable": true,
    "execution": {
     "iopub.execute_input": "2025-07-06T16:38:34.591026Z",
     "iopub.status.busy": "2025-07-06T16:38:34.591026Z",
     "iopub.status.idle": "2025-07-06T16:40:01.435950Z",
     "shell.execute_reply": "2025-07-06T16:40:01.433936Z",
     "shell.execute_reply.started": "2025-07-06T16:38:34.591026Z"
    },
    "slideshow": {
     "slide_type": ""
    },
    "tags": []
   },
   "outputs": [
    {
     "name": "stdout",
     "output_type": "stream",
     "text": [
      "WARNING:tensorflow:From E:\\Software\\Anaconda\\Lib\\site-packages\\tf_keras\\src\\losses.py:2976: The name tf.losses.sparse_softmax_cross_entropy is deprecated. Please use tf.compat.v1.losses.sparse_softmax_cross_entropy instead.\n",
      "\n"
     ]
    }
   ],
   "source": [
    "import csv\n",
    "import json\n",
    "import random\n",
    "import re\n",
    "from collections import Counter, defaultdict\n",
    "\n",
    "import matplotlib.pyplot as plt\n",
    "import matplotlib.ticker as mtick\n",
    "import numpy as np\n",
    "import pandas as pd\n",
    "import seaborn as sns\n",
    "\n",
    "import torch\n",
    "\n",
    "from datasets import (\n",
    "    Dataset,\n",
    "    DatasetDict,\n",
    "    concatenate_datasets,\n",
    "    load_dataset,\n",
    "    load_from_disk,\n",
    ")\n",
    "from transformers import (\n",
    "    AutoModelForTokenClassification,\n",
    "    AutoTokenizer,\n",
    "    DataCollatorForTokenClassification,\n",
    "    Trainer,\n",
    "    TrainingArguments,\n",
    "    set_seed,\n",
    ")\n",
    "\n",
    "import evaluate\n",
    "\n",
    "from nameparser import HumanName\n",
    "from names_dataset import NameDataset, NameWrapper\n",
    "from ethnicseer import EthnicClassifier\n",
    "import nltk\n",
    "from nltk.corpus import wordnet as wn\n",
    "\n",
    "import pycountry_convert as pc\n",
    "import pycountry\n",
    "import pickle\n",
    "\n",
    "from sklearn.metrics import confusion_matrix, ConfusionMatrixDisplay, classification_report, cohen_kappa_score\n",
    "\n",
    "\n",
    "# ------------------------------------------------------------------------------\n",
    "\n",
    "from transformers import BertTokenizerFast, BertForTokenClassification\n",
    "from datasets import ClassLabel\n",
    "from evaluate import load as load_metric"
   ]
  },
  {
   "cell_type": "code",
   "execution_count": 2,
   "id": "7da6ae0f-f381-4bfb-bac5-ec48368924c7",
   "metadata": {
    "execution": {
     "iopub.execute_input": "2025-07-06T16:40:01.440964Z",
     "iopub.status.busy": "2025-07-06T16:40:01.439963Z",
     "iopub.status.idle": "2025-07-06T16:40:01.449357Z",
     "shell.execute_reply": "2025-07-06T16:40:01.447343Z",
     "shell.execute_reply.started": "2025-07-06T16:40:01.440964Z"
    }
   },
   "outputs": [],
   "source": [
    "model_name = \"bert-base-cased\""
   ]
  },
  {
   "cell_type": "markdown",
   "id": "31137eff-49e3-4dfd-8b63-56134b972bd0",
   "metadata": {},
   "source": [
    "# Load GPU"
   ]
  },
  {
   "cell_type": "code",
   "execution_count": 3,
   "id": "e55d0559-1ad8-478c-8f5d-b26ae9f588cb",
   "metadata": {
    "execution": {
     "iopub.execute_input": "2025-07-06T16:40:01.453391Z",
     "iopub.status.busy": "2025-07-06T16:40:01.452361Z",
     "iopub.status.idle": "2025-07-06T16:40:01.582917Z",
     "shell.execute_reply": "2025-07-06T16:40:01.579873Z",
     "shell.execute_reply.started": "2025-07-06T16:40:01.453391Z"
    }
   },
   "outputs": [
    {
     "name": "stdout",
     "output_type": "stream",
     "text": [
      "Using device: cuda\n"
     ]
    }
   ],
   "source": [
    "device = torch.device(\"cuda\" if torch.cuda.is_available() else \"cpu\")\n",
    "print(\"Using device:\", device)"
   ]
  },
  {
   "cell_type": "markdown",
   "id": "8e6db58e-3399-4b9c-ac60-52c20d9f2687",
   "metadata": {},
   "source": [
    "# Tokenisation & Alignment"
   ]
  },
  {
   "cell_type": "code",
   "execution_count": 4,
   "id": "65f6224d-636e-457d-b2b4-ddda5197d138",
   "metadata": {
    "execution": {
     "iopub.execute_input": "2025-07-06T16:40:01.585455Z",
     "iopub.status.busy": "2025-07-06T16:40:01.584441Z",
     "iopub.status.idle": "2025-07-06T16:40:01.599597Z",
     "shell.execute_reply": "2025-07-06T16:40:01.598221Z",
     "shell.execute_reply.started": "2025-07-06T16:40:01.585455Z"
    }
   },
   "outputs": [],
   "source": [
    "ontonotes_id_to_label = {\n",
    "    0: \"O\", 1: \"B-CARDINAL\", 2: \"B-DATE\", 3: \"I-DATE\", 4: \"B-PERSON\", 5: \"I-PERSON\",\n",
    "    6: \"B-NORP\", 7: \"B-GPE\", 8: \"I-GPE\", 9: \"B-LAW\", 10: \"I-LAW\", 11: \"B-ORG\", 12: \"I-ORG\",\n",
    "    13: \"B-PERCENT\", 14: \"I-PERCENT\", 15: \"B-ORDINAL\", 16: \"B-MONEY\", 17: \"I-MONEY\",\n",
    "    18: \"B-WORK_OF_ART\", 19: \"I-WORK_OF_ART\", 20: \"B-FAC\", 21: \"B-TIME\", 22: \"I-CARDINAL\",\n",
    "    23: \"B-LOC\", 24: \"B-QUANTITY\", 25: \"I-QUANTITY\", 26: \"I-NORP\", 27: \"I-LOC\",\n",
    "    28: \"B-PRODUCT\", 29: \"I-TIME\", 30: \"B-EVENT\", 31: \"I-EVENT\", 32: \"I-FAC\",\n",
    "    33: \"B-LANGUAGE\", 34: \"I-PRODUCT\", 35: \"I-ORDINAL\", 36: \"I-LANGUAGE\"\n",
    "}\n",
    "\n",
    "conll_label_to_id = {'O': 0, 'B-PER': 1, 'I-PER': 2, 'B-ORG': 3,\n",
    "                     'I-ORG': 4, 'B-LOC': 5, 'I-LOC': 6, 'B-MISC': 7, 'I-MISC': 8}\n",
    "id2label = {v: k for k, v in conll_label_to_id.items()}\n",
    "\n",
    "ontonotes_to_conll_entity = {\n",
    "    \"PERSON\": \"PER\", \"ORG\": \"ORG\", \"GPE\": \"LOC\", \"LOC\": \"LOC\",\n",
    "    \"NORP\": \"MISC\", \"FAC\": \"MISC\", \"EVENT\": \"MISC\", \"WORK_OF_ART\": \"MISC\",\n",
    "    \"LAW\": \"MISC\", \"PRODUCT\": \"MISC\", \"LANGUAGE\": \"MISC\",\n",
    "    \"DATE\": None, \"TIME\": None, \"PERCENT\": None, \"MONEY\": None,\n",
    "    \"QUANTITY\": None, \"ORDINAL\": None, \"CARDINAL\": None\n",
    "}"
   ]
  },
  {
   "cell_type": "code",
   "execution_count": 6,
   "id": "fa916438-f7a5-42ed-a97f-125a8a01c854",
   "metadata": {
    "execution": {
     "iopub.execute_input": "2025-07-06T16:40:08.888282Z",
     "iopub.status.busy": "2025-07-06T16:40:08.888282Z",
     "iopub.status.idle": "2025-07-06T16:40:08.904342Z",
     "shell.execute_reply": "2025-07-06T16:40:08.902810Z",
     "shell.execute_reply.started": "2025-07-06T16:40:08.888282Z"
    }
   },
   "outputs": [],
   "source": [
    "def process_data(data_list):\n",
    "\n",
    "    def process_single(data):\n",
    "        word_ids = data['word_ids']\n",
    "        predictions = data['predictions']\n",
    "        gold = data['gold']\n",
    "        tokenized_tokens = data['tokens']\n",
    "\n",
    "        word_ids = [a for a in word_ids if a is not None]\n",
    "\n",
    "        processed_predictions = []\n",
    "        processed_gold = []\n",
    "\n",
    "        current_word_id = None\n",
    "        current_predictions = []\n",
    "        current_gold = []\n",
    "\n",
    "        for idx, word_id in enumerate(word_ids):\n",
    "            if word_id != current_word_id:\n",
    "                if current_predictions:\n",
    "                    processed_predictions.append(\n",
    "                        Counter(current_predictions).most_common(1)[0][0])\n",
    "                    processed_gold.append(\n",
    "                        Counter(current_gold).most_common(1)[0][0])\n",
    "\n",
    "                current_word_id = word_id\n",
    "                current_predictions = [predictions[idx]]\n",
    "                current_gold = [gold[idx]]\n",
    "            else:\n",
    "                current_predictions.append(predictions[idx])\n",
    "                current_gold.append(gold[idx])\n",
    "\n",
    "        if current_predictions:\n",
    "            processed_predictions.append(\n",
    "                Counter(current_predictions).most_common(1)[0][0])\n",
    "            processed_gold.append(\n",
    "                Counter(current_gold).most_common(1)[0][0])\n",
    "\n",
    "        return processed_predictions, processed_gold\n",
    "\n",
    "    processed_predictions_list = []\n",
    "    processed_gold_list = []\n",
    "\n",
    "    for data in data_list:\n",
    "        processed_predictions, processed_gold = process_single(data)\n",
    "        processed_predictions_list.append(processed_predictions)\n",
    "        processed_gold_list.append(processed_gold)\n",
    "\n",
    "    return processed_predictions_list, processed_gold_list\n",
    "\n",
    "\n",
    "def evaluate_predictions(p, test_data):\n",
    "    predictions, labels, _ = p\n",
    "\n",
    "    pred_indices = [np.argmax(p, axis=-1) for p in predictions]\n",
    "    label_indices = labels\n",
    "\n",
    "    pred_tags = [[id2label[p] for p, l in zip(p_seq, l_seq) if l != -100]\n",
    "                 for p_seq, l_seq in zip(pred_indices, label_indices)]\n",
    "    gold_tags = [[id2label[l] for l in l_seq if l != -100]\n",
    "                 for l_seq in label_indices]\n",
    "\n",
    "    def add_preds(example, idx):\n",
    "        length = len(example['word_ids'])\n",
    "        example['predictions'] = pred_tags[idx][:length]\n",
    "        example['gold'] = gold_tags[idx][:length]\n",
    "        return example\n",
    "\n",
    "    test_data = test_data.map(add_preds, with_indices=True)\n",
    "\n",
    "    length = len(test_data['predictions'][0])\n",
    "\n",
    "    pred, gold = process_data(test_data)\n",
    "\n",
    "    flat_pred = [label for seq in pred for label in seq]\n",
    "    flat_gold = [label for seq in gold for label in seq]\n",
    "\n",
    "    print(classification_report(flat_gold, flat_pred, zero_division=0))\n",
    "\n",
    "    return (flat_pred, flat_gold)"
   ]
  },
  {
   "cell_type": "code",
   "execution_count": null,
   "id": "9eeff25b-3e33-4ff3-979b-e621e934d9a6",
   "metadata": {},
   "outputs": [],
   "source": []
  },
  {
   "cell_type": "markdown",
   "id": "942a8298-1541-4c83-94ad-2e544eb85459",
   "metadata": {},
   "source": [
    "# Model"
   ]
  },
  {
   "cell_type": "markdown",
   "id": "5660332d-478e-4d59-bd20-6f99a992c9ab",
   "metadata": {},
   "source": [
    "## ConLL Trained mode"
   ]
  },
  {
   "cell_type": "code",
   "execution_count": 7,
   "id": "d9aad505-c3e4-4097-9cbb-a52fd4904934",
   "metadata": {
    "execution": {
     "iopub.execute_input": "2025-07-06T16:41:25.300016Z",
     "iopub.status.busy": "2025-07-06T16:41:25.300016Z",
     "iopub.status.idle": "2025-07-06T16:41:25.778843Z",
     "shell.execute_reply": "2025-07-06T16:41:25.777742Z",
     "shell.execute_reply.started": "2025-07-06T16:41:25.300016Z"
    },
    "scrolled": true
   },
   "outputs": [],
   "source": [
    "conll_main = load_from_disk(\"./splits/conll_main\")\n",
    "conll_clean = load_from_disk(\"./splits/conll_clean\")\n",
    "\n",
    "ontonotes_main = load_from_disk(\"./splits/ontonotes_main\")\n",
    "ontonotes_clean = load_from_disk(\"./splits/ontonotes_clean\")"
   ]
  },
  {
   "cell_type": "code",
   "execution_count": 7,
   "id": "8f3daecd-13ac-46f9-8714-d1b09add4691",
   "metadata": {
    "execution": {
     "iopub.execute_input": "2025-06-16T17:58:40.733899Z",
     "iopub.status.busy": "2025-06-16T17:58:40.732902Z",
     "iopub.status.idle": "2025-06-16T17:58:55.872288Z",
     "shell.execute_reply": "2025-06-16T17:58:55.871278Z",
     "shell.execute_reply.started": "2025-06-16T17:58:40.732902Z"
    },
    "scrolled": true
   },
   "outputs": [],
   "source": [
    "tokenizer = BertTokenizerFast.from_pretrained(\"bert-base-cased\")\n",
    "\n",
    "label_list = ['O', 'B-PER', 'I-PER', 'B-ORG',\n",
    "              'I-ORG', 'B-LOC', 'I-LOC', 'B-MISC', 'I-MISC']\n",
    "\n",
    "\n",
    "def tokenize_and_align_labels(examples):\n",
    "    tokenized_inputs = tokenizer(\n",
    "        examples[\"tokens\"],\n",
    "        truncation=True,\n",
    "        is_split_into_words=True,\n",
    "        padding=True,\n",
    "        return_special_tokens_mask=True,\n",
    "        return_offsets_mapping=True,\n",
    "    )\n",
    "    all_word_ids = []\n",
    "    all_labels = []\n",
    "    for i, labels in enumerate(examples[\"labels\"]):\n",
    "        word_ids = tokenized_inputs.word_ids(batch_index=i)\n",
    "        all_word_ids.append(word_ids)\n",
    "        previous_word_idx = None\n",
    "        label_ids = []\n",
    "        for word_idx in word_ids:\n",
    "            if word_idx is None:\n",
    "                label_ids.append(-100)\n",
    "            else:\n",
    "                label_ids.append(labels[word_idx])\n",
    "            previous_word_idx = word_idx\n",
    "        all_labels.append(label_ids)\n",
    "\n",
    "    tokenized_inputs[\"labels\"] = all_labels\n",
    "    tokenized_inputs[\"word_ids\"] = all_word_ids\n",
    "    return tokenized_inputs"
   ]
  },
  {
   "cell_type": "code",
   "execution_count": 8,
   "id": "6c54715b-4936-44d7-8bbb-8de8b99c9e4c",
   "metadata": {
    "execution": {
     "iopub.execute_input": "2025-06-14T15:01:53.789441Z",
     "iopub.status.busy": "2025-06-14T15:01:53.789441Z",
     "iopub.status.idle": "2025-06-14T15:01:58.802543Z",
     "shell.execute_reply": "2025-06-14T15:01:58.801058Z",
     "shell.execute_reply.started": "2025-06-14T15:01:53.789441Z"
    },
    "scrolled": true
   },
   "outputs": [],
   "source": [
    "conll_main = conll_main.map(tokenize_and_align_labels, batched=True)\n",
    "ontonotes_main = ontonotes_main.map(tokenize_and_align_labels, batched=True)"
   ]
  },
  {
   "cell_type": "markdown",
   "id": "1119efa5-7f4e-45b0-868c-79a1d6b526fa",
   "metadata": {},
   "source": [
    "### investigating data"
   ]
  },
  {
   "cell_type": "code",
   "execution_count": 9,
   "id": "274f3d85-20e0-44da-9d76-7b5c562b556a",
   "metadata": {
    "execution": {
     "iopub.execute_input": "2025-06-16T17:59:07.269293Z",
     "iopub.status.busy": "2025-06-16T17:59:07.268031Z",
     "iopub.status.idle": "2025-06-16T17:59:50.577445Z",
     "shell.execute_reply": "2025-06-16T17:59:50.575930Z",
     "shell.execute_reply.started": "2025-06-16T17:59:07.269293Z"
    }
   },
   "outputs": [
    {
     "name": "stdout",
     "output_type": "stream",
     "text": [
      "conll2003\n"
     ]
    },
    {
     "data": {
      "image/png": "[encoded data removed]",
      "text/plain": [
       "<Figure size 800x500 with 1 Axes>"
      ]
     },
     "metadata": {},
     "output_type": "display_data"
    },
    {
     "data": {
      "image/png": "[encoded data removed]",
      "text/plain": [
       "<Figure size 1000x600 with 1 Axes>"
      ]
     },
     "metadata": {},
     "output_type": "display_data"
    },
    {
     "name": "stdout",
     "output_type": "stream",
     "text": [
      "parquet\n"
     ]
    },
    {
     "data": {
      "image/png": "[encoded data removed]",
      "text/plain": [
       "<Figure size 800x500 with 1 Axes>"
      ]
     },
     "metadata": {},
     "output_type": "display_data"
    },
    {
     "data": {
      "image/png": "[encoded data removed]",
      "text/plain": [
       "<Figure size 1000x600 with 1 Axes>"
      ]
     },
     "metadata": {},
     "output_type": "display_data"
    }
   ],
   "source": [
    "def build_entity_db(dataset, id2label):\n",
    "    rows = []\n",
    "    for i in range(len(dataset)):\n",
    "        tokens = dataset[i]['tokens']\n",
    "        label_ids = dataset[i]['labels']\n",
    "        labels = [id2label[l] for l in label_ids]\n",
    "        for token, label in zip(tokens, labels):\n",
    "            entity_type = label.split(\"-\")[-1] if label != \"O\" else \"O\"\n",
    "            rows.append({\n",
    "                \"sentence_id\": i,\n",
    "                \"token\": token,\n",
    "                \"label\": label,\n",
    "                \"entity_type\": entity_type\n",
    "            })\n",
    "    return pd.DataFrame(rows)\n",
    "\n",
    "\n",
    "for i in [conll_main, ontonotes_main]:\n",
    "\n",
    "    print(i.builder_name)\n",
    "\n",
    "    name = ''\n",
    "    if i.builder_name == 'conll2003':\n",
    "        name = 'ConLL 2003'\n",
    "    else:\n",
    "        name = 'OntoNotes 5.0'\n",
    "    entity_df = build_entity_db(i, id2label)\n",
    "\n",
    "    # Filter out \"O\" and group by entity_type\n",
    "    entity_only = entity_df[entity_df[\"entity_type\"] != \"O\"]\n",
    "\n",
    "    # Count and calculate percentages\n",
    "    type_counts = entity_only[\"entity_type\"].value_counts().reset_index()\n",
    "    type_counts.columns = [\"entity_type\", \"count\"]\n",
    "    type_counts[\"percentage\"] = 100 * \\\n",
    "        type_counts[\"count\"] / type_counts[\"count\"].sum()\n",
    "\n",
    "    # Plot\n",
    "    plt.figure(figsize=(8, 5))\n",
    "    ax = sns.barplot(data=type_counts, x=\"entity_type\", y=\"percentage\")\n",
    "\n",
    "    # Add percentage labels on top of bars\n",
    "    for bar, perc in zip(ax.patches, type_counts[\"percentage\"]):\n",
    "        height = bar.get_height()\n",
    "        ax.text(\n",
    "            bar.get_x() + bar.get_width() / 2,\n",
    "            height + 0.5,\n",
    "            f'{perc:.1f}%',\n",
    "            ha='center',\n",
    "            va='bottom'\n",
    "        )\n",
    "\n",
    "    # Aesthetics\n",
    "    plt.ylabel(\"Percentage (%)\")\n",
    "    plt.xlabel(\"Entity Type\")\n",
    "    plt.title(f\" {name} Distribution of Entity Types (Excluding 'O')\")\n",
    "    plt.tight_layout()\n",
    "    plt.show()\n",
    "\n",
    "    # Add capitalization info: True if first character is uppercase\n",
    "    entity_df[\"is_capitalized\"] = entity_df[\"token\"].str[0].str.isupper()\n",
    "\n",
    "    # Group by entity type and capitalization, count tokens\n",
    "    cap_counts = (\n",
    "        entity_df\n",
    "        .groupby([\"entity_type\", \"is_capitalized\"])\n",
    "        .size()\n",
    "        .reset_index(name=\"count\")\n",
    "    )\n",
    "\n",
    "    # Calculate percentages within each entity type\n",
    "    cap_counts[\"percentage\"] = (\n",
    "        cap_counts.groupby(\"entity_type\")[\"count\"]\n",
    "        .transform(lambda x: 100 * x / x.sum())\n",
    "    )\n",
    "\n",
    "    # Map boolean to readable label\n",
    "    cap_counts[\"capitalization\"] = cap_counts[\"is_capitalized\"].map(\n",
    "        {True: \"Capitalized\", False: \"Not Capitalized\"})\n",
    "\n",
    "    # Plot\n",
    "    plt.figure(figsize=(10, 6))\n",
    "    ax = sns.barplot(\n",
    "        data=cap_counts,\n",
    "        x=\"entity_type\",\n",
    "        y=\"percentage\",\n",
    "        hue=\"capitalization\"\n",
    "    )\n",
    "\n",
    "    # Add labels on top of bars\n",
    "    for bar in ax.patches:\n",
    "        height = bar.get_height()\n",
    "        if height > 0:\n",
    "            ax.text(\n",
    "                bar.get_x() + bar.get_width() / 2,\n",
    "                height + 0.5,\n",
    "                f\"{height:.1f}%\",\n",
    "                ha=\"center\",\n",
    "                va=\"bottom\"\n",
    "            )\n",
    "\n",
    "    # Aesthetics\n",
    "    plt.title(\n",
    "        f\" {name} Capitalization Distribution per Entity Type (including 'O')\")\n",
    "    plt.ylabel(\"Percentage (%)\")\n",
    "    plt.xlabel(\"Entity Type\")\n",
    "    plt.legend(title=\"Token Capitalization\")\n",
    "    plt.tight_layout()\n",
    "    plt.show()"
   ]
  },
  {
   "cell_type": "code",
   "execution_count": 67,
   "id": "1c3c6a18-6043-4ed1-83bc-d076a4d49e78",
   "metadata": {
    "execution": {
     "iopub.execute_input": "2025-06-14T16:38:34.807073Z",
     "iopub.status.busy": "2025-06-14T16:38:34.807073Z",
     "iopub.status.idle": "2025-06-14T16:38:35.430479Z",
     "shell.execute_reply": "2025-06-14T16:38:35.429469Z",
     "shell.execute_reply.started": "2025-06-14T16:38:34.807073Z"
    }
   },
   "outputs": [],
   "source": [
    "import gender_guesser.detector as gender\n",
    "\n",
    "detector = gender.Detector()"
   ]
  },
  {
   "cell_type": "code",
   "execution_count": 68,
   "id": "48ce4de6-8b97-4de3-b5ef-76a824fe3ab9",
   "metadata": {
    "execution": {
     "iopub.execute_input": "2025-06-14T16:40:06.237748Z",
     "iopub.status.busy": "2025-06-14T16:40:06.236746Z",
     "iopub.status.idle": "2025-06-14T16:45:21.023570Z",
     "shell.execute_reply": "2025-06-14T16:45:21.022334Z",
     "shell.execute_reply.started": "2025-06-14T16:40:06.237748Z"
    }
   },
   "outputs": [
    {
     "name": "stdout",
     "output_type": "stream",
     "text": [
      "conll2003\n"
     ]
    },
    {
     "name": "stderr",
     "output_type": "stream",
     "text": [
      "E:\\Software\\Anaconda\\Lib\\site-packages\\sklearn\\base.py:376: InconsistentVersionWarning: Trying to unpickle estimator CountVectorizer from version 1.0.2 when using version 1.5.2. This might lead to breaking code or invalid results. Use at your own risk. For more info please refer to:\n",
      "https://scikit-learn.org/stable/model_persistence.html#security-maintainability-limitations\n",
      "  warnings.warn(\n",
      "E:\\Software\\Anaconda\\Lib\\site-packages\\sklearn\\base.py:376: InconsistentVersionWarning: Trying to unpickle estimator LogisticRegression from version 1.0.2 when using version 1.5.2. This might lead to breaking code or invalid results. Use at your own risk. For more info please refer to:\n",
      "https://scikit-learn.org/stable/model_persistence.html#security-maintainability-limitations\n",
      "  warnings.warn(\n"
     ]
    },
    {
     "data": {
      "image/png": "[encoded data removed]",
      "text/plain": [
       "<Figure size 1000x600 with 1 Axes>"
      ]
     },
     "metadata": {},
     "output_type": "display_data"
    },
    {
     "data": {
      "image/png": "[encoded data removed]",
      "text/plain": [
       "<Figure size 600x400 with 1 Axes>"
      ]
     },
     "metadata": {},
     "output_type": "display_data"
    },
    {
     "name": "stdout",
     "output_type": "stream",
     "text": [
      "parquet\n"
     ]
    },
    {
     "name": "stderr",
     "output_type": "stream",
     "text": [
      "E:\\Software\\Anaconda\\Lib\\site-packages\\sklearn\\base.py:376: InconsistentVersionWarning: Trying to unpickle estimator CountVectorizer from version 1.0.2 when using version 1.5.2. This might lead to breaking code or invalid results. Use at your own risk. For more info please refer to:\n",
      "https://scikit-learn.org/stable/model_persistence.html#security-maintainability-limitations\n",
      "  warnings.warn(\n",
      "E:\\Software\\Anaconda\\Lib\\site-packages\\sklearn\\base.py:376: InconsistentVersionWarning: Trying to unpickle estimator LogisticRegression from version 1.0.2 when using version 1.5.2. This might lead to breaking code or invalid results. Use at your own risk. For more info please refer to:\n",
      "https://scikit-learn.org/stable/model_persistence.html#security-maintainability-limitations\n",
      "  warnings.warn(\n"
     ]
    },
    {
     "data": {
      "image/png": "[encoded data removed]",
      "text/plain": [
       "<Figure size 1000x600 with 1 Axes>"
      ]
     },
     "metadata": {},
     "output_type": "display_data"
    },
    {
     "data": {
      "image/png": "[encoded data removed]",
      "text/plain": [
       "<Figure size 600x400 with 1 Axes>"
      ]
     },
     "metadata": {},
     "output_type": "display_data"
    }
   ],
   "source": [
    "for i in [conll_main, ontonotes_main]:\n",
    "\n",
    "    print(i.builder_name)\n",
    "    entity_df = build_entity_db(i, id2label)\n",
    "\n",
    "    # Step 1: Reconstruct full names using BIO labels\n",
    "    names_by_sentence = defaultdict(list)\n",
    "    current_name = []\n",
    "    current_sentence = None\n",
    "\n",
    "    for _, row in entity_df.iterrows():\n",
    "        sent_id = row[\"sentence_id\"]\n",
    "        label = row[\"label\"]\n",
    "        token = row[\"token\"]\n",
    "\n",
    "        if label.startswith(\"B-PER\"):\n",
    "            if current_name:\n",
    "                names_by_sentence[current_sentence].append(\n",
    "                    \" \".join(current_name))\n",
    "            current_name = [token]\n",
    "            current_sentence = sent_id\n",
    "        elif label.startswith(\"I-PER\") and current_name:\n",
    "            current_name.append(token)\n",
    "        else:\n",
    "            if current_name:\n",
    "                names_by_sentence[current_sentence].append(\n",
    "                    \" \".join(current_name))\n",
    "                current_name = []\n",
    "\n",
    "    # Catch leftover\n",
    "    if current_name:\n",
    "        names_by_sentence[current_sentence].append(\" \".join(current_name))\n",
    "\n",
    "    # Step 2: Flatten list of names and deduplicate\n",
    "    full_names = [name for names in names_by_sentence.values()\n",
    "                  for name in names]\n",
    "    unique_names = list(set(full_names))\n",
    "\n",
    "    ec = EthnicClassifier.load_pretrained_model()\n",
    "    ethnicity_preds = ec.classify_names(unique_names)\n",
    "\n",
    "    # Create a mapping from name to ethnicity\n",
    "    name_to_ethnicity = dict(zip(unique_names, ethnicity_preds))\n",
    "    entity_df[\"full_name\"] = None\n",
    "\n",
    "    current_name = []\n",
    "    current_indices = []\n",
    "\n",
    "    for idx, row in entity_df.iterrows():\n",
    "        label = row[\"label\"]\n",
    "        token = row[\"token\"]\n",
    "\n",
    "        if label.startswith(\"B-PER\"):\n",
    "            # If we had a previous name, save it\n",
    "            if current_name:\n",
    "                full = \" \".join(current_name)\n",
    "                for i in current_indices:\n",
    "                    entity_df.at[i, \"full_name\"] = full\n",
    "            # Start a new name\n",
    "            current_name = [token]\n",
    "            current_indices = [idx]\n",
    "\n",
    "        elif label.startswith(\"I-PER\") and current_name:\n",
    "            current_name.append(token)\n",
    "            current_indices.append(idx)\n",
    "\n",
    "        else:\n",
    "            # End of a PER span\n",
    "            if current_name:\n",
    "                full = \" \".join(current_name)\n",
    "                for i in current_indices:\n",
    "                    entity_df.at[i, \"full_name\"] = full\n",
    "            current_name = []\n",
    "            current_indices = []\n",
    "\n",
    "    # Save last name if it was left unprocessed\n",
    "    if current_name:\n",
    "        full = \" \".join(current_name)\n",
    "        for i in current_indices:\n",
    "            entity_df.at[i, \"full_name\"] = full\n",
    "\n",
    "    # Add ethnicity column based on full_name\n",
    "    entity_df[\"ethnicity\"] = entity_df[\"full_name\"].map(name_to_ethnicity)\n",
    "\n",
    "    # Drop NaNs (i.e., keep only tokens that were part of PER entities)\n",
    "    eth_dist = (\n",
    "        entity_df.dropna(subset=[\"ethnicity\"])\n",
    "        [\"ethnicity\"]\n",
    "        .value_counts(normalize=True) * 100\n",
    "    ).reset_index()\n",
    "    eth_dist.columns = [\"ethnicity\", \"percentage\"]\n",
    "    # Mapping dictionary\n",
    "    code_to_nationality = {\n",
    "        \"eng\": \"English\",\n",
    "        \"chi\": \"Chinese\",\n",
    "        \"ger\": \"German\",\n",
    "        \"mea\": \"Middle Eastern / Arabic\",\n",
    "        \"frn\": \"French\",\n",
    "        \"ita\": \"Italian\",\n",
    "        \"ind\": \"Indian\",\n",
    "        \"spa\": \"Spanish / Hispanic\",\n",
    "        \"rus\": \"Russian\",\n",
    "        \"jap\": \"Japanese\",\n",
    "        \"kor\": \"Korean\",\n",
    "        \"vie\": \"Vietnamese\"\n",
    "    }\n",
    "\n",
    "    # Apply to your DataFrame\n",
    "    eth_dist[\"nationality\"] = eth_dist[\"ethnicity\"].map(code_to_nationality)\n",
    "\n",
    "    plt.figure(figsize=(10, 6))\n",
    "    ax = sns.barplot(data=eth_dist, x=\"nationality\", y=\"percentage\")\n",
    "\n",
    "    # Add labels on top of each bar\n",
    "    for bar in ax.patches:\n",
    "        height = bar.get_height()\n",
    "        ax.text(\n",
    "            bar.get_x() + bar.get_width() / 2,\n",
    "            height + 0.5,\n",
    "            f\"{height:.1f}%\",\n",
    "            ha=\"center\",\n",
    "            va=\"bottom\"\n",
    "        )\n",
    "\n",
    "    plt.title(\"Ethnicity Distribution of Named Persons\")\n",
    "    plt.ylabel(\"Percentage\")\n",
    "    plt.xticks(rotation=45)\n",
    "    plt.tight_layout()\n",
    "    plt.show()\n",
    "\n",
    "    # Extract first names only\n",
    "    entity_df[\"first_name\"] = entity_df[\"full_name\"].str.split().str[0]\n",
    "\n",
    "    # Apply gender detection\n",
    "    entity_df[\"gender\"] = entity_df[\"first_name\"].apply(\n",
    "        lambda x: detector.get_gender(x) if pd.notnull(x) else None)\n",
    "\n",
    "    gender_dist = (\n",
    "        entity_df.dropna(subset=[\"gender\"])\n",
    "        [\"gender\"]\n",
    "        .value_counts(normalize=True) * 100\n",
    "    ).reset_index()\n",
    "    gender_dist.columns = [\"gender\", \"percentage\"]\n",
    "\n",
    "    plt.figure(figsize=(6, 4))\n",
    "    ax = sns.barplot(data=gender_dist, x=\"gender\", y=\"percentage\")\n",
    "\n",
    "    for bar in ax.patches:\n",
    "        height = bar.get_height()\n",
    "        ax.text(\n",
    "            bar.get_x() + bar.get_width() / 2,\n",
    "            height + 0.5,\n",
    "            f\"{height:.1f}%\",\n",
    "            ha=\"center\",\n",
    "            va=\"bottom\"\n",
    "        )\n",
    "\n",
    "    plt.title(\"Gender Distribution of Named Persons\")\n",
    "    plt.ylabel(\"Percentage\")\n",
    "    plt.xticks(rotation=45)\n",
    "    plt.tight_layout()\n",
    "    plt.show()"
   ]
  },
  {
   "cell_type": "markdown",
   "id": "c831729e-9ecc-4915-9e90-7a4d44003711",
   "metadata": {
    "jp-MarkdownHeadingCollapsed": true
   },
   "source": [
    "## Model stuff"
   ]
  },
  {
   "cell_type": "code",
   "execution_count": 9,
   "id": "f947eb63-cced-4ef6-a353-f421fb46b50e",
   "metadata": {
    "execution": {
     "iopub.execute_input": "2025-06-12T13:37:46.237161Z",
     "iopub.status.busy": "2025-06-12T13:37:46.237161Z",
     "iopub.status.idle": "2025-06-12T13:37:52.003158Z",
     "shell.execute_reply": "2025-06-12T13:37:52.002150Z",
     "shell.execute_reply.started": "2025-06-12T13:37:46.237161Z"
    },
    "scrolled": true
   },
   "outputs": [
    {
     "name": "stderr",
     "output_type": "stream",
     "text": [
      "Some weights of BertForTokenClassification were not initialized from the model checkpoint at bert-base-cased and are newly initialized: ['classifier.bias', 'classifier.weight']\n",
      "You should probably TRAIN this model on a down-stream task to be able to use it for predictions and inference.\n",
      "C:\\Users\\NIKHIL\\AppData\\Local\\Temp\\ipykernel_22636\\4147057675.py:40: FutureWarning: `tokenizer` is deprecated and will be removed in version 5.0.0 for `Trainer.__init__`. Use `processing_class` instead.\n",
      "  CBC_trainer = Trainer(\n"
     ]
    }
   ],
   "source": [
    "mod = BertForTokenClassification.from_pretrained(\n",
    "    \"bert-base-cased\", num_labels=len(label_list))\n",
    "\n",
    "metric = load_metric(\"seqeval\")\n",
    "\n",
    "\n",
    "def compute_metrics(p):\n",
    "    predictions, labels = p\n",
    "    predictions = np.argmax(predictions, axis=2)\n",
    "\n",
    "    true_predictions = [\n",
    "        [label_list[p] for (p, l) in zip(prediction, label) if l != -100]\n",
    "        for prediction, label in zip(predictions, labels)\n",
    "    ]\n",
    "    true_labels = [\n",
    "        [label_list[l] for (p, l) in zip(prediction, label) if l != -100]\n",
    "        for prediction, label in zip(predictions, labels)\n",
    "    ]\n",
    "\n",
    "    return metric.compute(predictions=true_predictions, references=true_labels)\n",
    "\n",
    "\n",
    "data_collator = DataCollatorForTokenClassification(tokenizer)\n",
    "\n",
    "training_args = TrainingArguments(\n",
    "    output_dir=\"./results/conll-case\",\n",
    "    eval_strategy=\"no\",\n",
    "    learning_rate=2e-5,\n",
    "    per_device_train_batch_size=8,\n",
    "    per_device_eval_batch_size=8,\n",
    "    gradient_accumulation_steps=2,\n",
    "    num_train_epochs=3,\n",
    "    weight_decay=0.01,\n",
    "    load_best_model_at_end=True,\n",
    "    report_to=\"none\",\n",
    "    fp16=True,\n",
    "    save_strategy=\"no\",\n",
    ")\n",
    "\n",
    "CBC_trainer = Trainer(\n",
    "    model=mod,\n",
    "    args=training_args,\n",
    "    train_dataset=conll_main,\n",
    "    eval_dataset=ontonotes_main,\n",
    "    tokenizer=tokenizer,\n",
    "    compute_metrics=compute_metrics,\n",
    "    data_collator=data_collator,\n",
    ")"
   ]
  },
  {
   "cell_type": "code",
   "execution_count": 10,
   "id": "405da19b-d3b0-4392-8032-8ab1722685ed",
   "metadata": {
    "execution": {
     "iopub.execute_input": "2025-06-12T13:37:52.006162Z",
     "iopub.status.busy": "2025-06-12T13:37:52.005164Z",
     "iopub.status.idle": "2025-06-12T13:38:04.942909Z",
     "shell.execute_reply": "2025-06-12T13:38:04.941898Z",
     "shell.execute_reply.started": "2025-06-12T13:37:52.006162Z"
    },
    "scrolled": true
   },
   "outputs": [
    {
     "data": {
      "text/html": [
       "\n",
       "    <div>\n",
       "      \n",
       "      <progress value='3' max='3' style='width:300px; height:20px; vertical-align: middle;'></progress>\n",
       "      [3/3 00:03, Epoch 3/3]\n",
       "    </div>\n",
       "    <table border=\"1\" class=\"dataframe\">\n",
       "  <thead>\n",
       " <tr style=\"text-align: left;\">\n",
       "      <th>Step</th>\n",
       "      <th>Training Loss</th>\n",
       "    </tr>\n",
       "  </thead>\n",
       "  <tbody>\n",
       "  </tbody>\n",
       "</table><p>"
      ],
      "text/plain": [
       "<IPython.core.display.HTML object>"
      ]
     },
     "metadata": {},
     "output_type": "display_data"
    },
    {
     "data": {
      "text/plain": [
       "TrainOutput(global_step=3, training_loss=2.1497244834899902, metrics={'train_runtime': 12.408, 'train_samples_per_second': 2.418, 'train_steps_per_second': 0.242, 'total_flos': 1454575949100.0, 'train_loss': 2.1497244834899902, 'epoch': 3.0})"
      ]
     },
     "execution_count": 10,
     "metadata": {},
     "output_type": "execute_result"
    }
   ],
   "source": [
    "CBC_trainer.train()"
   ]
  },
  {
   "cell_type": "code",
   "execution_count": 7,
   "id": "660e5e71-108a-45a7-932a-e4f2ccaf24ca",
   "metadata": {
    "execution": {
     "iopub.execute_input": "2025-06-09T15:58:40.323309Z",
     "iopub.status.busy": "2025-06-09T15:58:40.322305Z",
     "iopub.status.idle": "2025-06-09T15:58:42.124690Z",
     "shell.execute_reply": "2025-06-09T15:58:42.124690Z",
     "shell.execute_reply.started": "2025-06-09T15:58:40.323309Z"
    }
   },
   "outputs": [],
   "source": [
    "CBC_trainer.save_model(\"./saved_model/conll-cased\")"
   ]
  },
  {
   "cell_type": "code",
   "execution_count": 10,
   "id": "b6e16f82-7ee7-48a2-9ebb-0b62169aef09",
   "metadata": {
    "execution": {
     "iopub.execute_input": "2025-06-11T12:07:41.806645Z",
     "iopub.status.busy": "2025-06-11T12:07:41.806645Z",
     "iopub.status.idle": "2025-06-11T12:07:48.936771Z",
     "shell.execute_reply": "2025-06-11T12:07:48.935765Z",
     "shell.execute_reply.started": "2025-06-11T12:07:41.806645Z"
    }
   },
   "outputs": [
    {
     "name": "stderr",
     "output_type": "stream",
     "text": [
      "C:\\Users\\NIKHIL\\AppData\\Local\\Temp\\ipykernel_14080\\1038975773.py:31: FutureWarning: `tokenizer` is deprecated and will be removed in version 5.0.0 for `Trainer.__init__`. Use `processing_class` instead.\n",
      "  CBC_trainer = Trainer(\n"
     ]
    }
   ],
   "source": [
    "model = AutoModelForTokenClassification.from_pretrained(\n",
    "    \"./saved_model/conll-cased\")\n",
    "tokenizer = AutoTokenizer.from_pretrained(\"bert-base-cased\")\n",
    "\n",
    "id2label = {\n",
    "    0: \"O\", 1: \"B-PER\", 2: \"I-PER\", 3: \"B-ORG\", 4: \"I-ORG\",\n",
    "    5: \"B-LOC\", 6: \"I-LOC\", 7: \"B-MISC\", 8: \"I-MISC\"\n",
    "}\n",
    "\n",
    "metric = evaluate.load(\"seqeval\")\n",
    "\n",
    "\n",
    "def compute_metrics(p):\n",
    "    predictions, labels = p\n",
    "    predictions = predictions.argmax(axis=-1)\n",
    "\n",
    "    true_predictions = []\n",
    "    true_labels = []\n",
    "\n",
    "    for pred_seq, label_seq in zip(predictions, labels):\n",
    "        true_predictions.append(\n",
    "            [id2label[p] for p, l in zip(pred_seq, label_seq) if l != -100])\n",
    "        true_labels.append([id2label[l] for l in label_seq if l != -100])\n",
    "\n",
    "    return metric.compute(predictions=true_predictions, references=true_labels)\n",
    "\n",
    "\n",
    "conll_args = TrainingArguments(output_dir=\"./results/conll\",\n",
    "                               per_device_eval_batch_size=8, report_to=\"none\")\n",
    "\n",
    "CBC_trainer = Trainer(\n",
    "    model=model,\n",
    "    tokenizer=tokenizer,\n",
    "    data_collator=DataCollatorForTokenClassification(tokenizer),\n",
    "    compute_metrics=compute_metrics,\n",
    "    args=conll_args,\n",
    ")"
   ]
  },
  {
   "cell_type": "code",
   "execution_count": 11,
   "id": "4b3d9f3c-5c30-45fc-a8bb-1070b25adffe",
   "metadata": {
    "execution": {
     "iopub.execute_input": "2025-06-12T13:38:04.945918Z",
     "iopub.status.busy": "2025-06-12T13:38:04.944910Z",
     "iopub.status.idle": "2025-06-12T13:38:05.962188Z",
     "shell.execute_reply": "2025-06-12T13:38:05.960643Z",
     "shell.execute_reply.started": "2025-06-12T13:38:04.945918Z"
    }
   },
   "outputs": [
    {
     "data": {
      "text/html": [],
      "text/plain": [
       "<IPython.core.display.HTML object>"
      ]
     },
     "metadata": {},
     "output_type": "display_data"
    },
    {
     "name": "stderr",
     "output_type": "stream",
     "text": [
      "E:\\Software\\Anaconda\\Lib\\site-packages\\seqeval\\metrics\\v1.py:57: UndefinedMetricWarning: Recall and F-score are ill-defined and being set to 0.0 in labels with no true samples. Use `zero_division` parameter to control this behavior.\n",
      "  _warn_prf(average, modifier, msg_start, len(result))\n"
     ]
    }
   ],
   "source": [
    "cased_conll = CBC_trainer.predict(ontonotes_main)"
   ]
  },
  {
   "cell_type": "code",
   "execution_count": 19,
   "id": "00bbbc68-d687-4f66-898a-5a2fba6257ad",
   "metadata": {
    "execution": {
     "iopub.execute_input": "2025-06-12T14:05:22.819529Z",
     "iopub.status.busy": "2025-06-12T14:05:22.818535Z",
     "iopub.status.idle": "2025-06-12T14:05:22.833188Z",
     "shell.execute_reply": "2025-06-12T14:05:22.832169Z",
     "shell.execute_reply.started": "2025-06-12T14:05:22.819529Z"
    },
    "scrolled": true
   },
   "outputs": [
    {
     "data": {
      "text/plain": [
       "{'test_loss': 1.8883984088897705,\n",
       " 'test_LOC': {'precision': 0.0, 'recall': 0.0, 'f1': 0.0, 'number': 1},\n",
       " 'test_MISC': {'precision': 0.0, 'recall': 0.0, 'f1': 0.0, 'number': 4},\n",
       " 'test_ORG': {'precision': 0.0, 'recall': 0.0, 'f1': 0.0, 'number': 0},\n",
       " 'test_PER': {'precision': 0.0, 'recall': 0.0, 'f1': 0.0, 'number': 0},\n",
       " 'test_overall_precision': 0.0,\n",
       " 'test_overall_recall': 0.0,\n",
       " 'test_overall_f1': 0.0,\n",
       " 'test_overall_accuracy': 0.6305418719211823,\n",
       " 'test_runtime': 0.9954,\n",
       " 'test_samples_per_second': 10.046,\n",
       " 'test_steps_per_second': 2.009}"
      ]
     },
     "execution_count": 19,
     "metadata": {},
     "output_type": "execute_result"
    }
   ],
   "source": [
    "pred, gold, q = cased_conll\n",
    "\n",
    "pred_indices = [np.argmax(p, axis=-1) for p in pred]\n",
    "pred_tags = [[id2label[p] for p, l in zip(p_seq, l_seq) if l != -100]\n",
    "             for p_seq, l_seq in zip(pred_indices, gold)]\n",
    "q"
   ]
  },
  {
   "cell_type": "code",
   "execution_count": 10,
   "id": "af641f36-04e0-49dc-b04f-a93d415eb709",
   "metadata": {
    "execution": {
     "iopub.execute_input": "2025-06-09T15:58:51.027225Z",
     "iopub.status.busy": "2025-06-09T15:58:51.026225Z",
     "iopub.status.idle": "2025-06-09T15:58:51.034654Z",
     "shell.execute_reply": "2025-06-09T15:58:51.033643Z",
     "shell.execute_reply.started": "2025-06-09T15:58:51.027225Z"
    }
   },
   "outputs": [],
   "source": [
    "with open('./results/cased_conll.pkl', 'wb') as f:\n",
    "    pickle.dump(cased_conll, f)"
   ]
  },
  {
   "cell_type": "code",
   "execution_count": 11,
   "id": "e1a04d39-fb08-4637-babe-89b2b2955d86",
   "metadata": {
    "execution": {
     "iopub.execute_input": "2025-06-09T15:58:51.038224Z",
     "iopub.status.busy": "2025-06-09T15:58:51.037138Z",
     "iopub.status.idle": "2025-06-09T15:58:51.071037Z",
     "shell.execute_reply": "2025-06-09T15:58:51.068319Z",
     "shell.execute_reply.started": "2025-06-09T15:58:51.038224Z"
    }
   },
   "outputs": [],
   "source": [
    "with open('./results/cased_conll.pkl', 'rb') as f:\n",
    "    cased_conll = pickle.load(f)"
   ]
  },
  {
   "cell_type": "code",
   "execution_count": 19,
   "id": "0b84e338-e66a-4ca2-97a9-231acd097edb",
   "metadata": {
    "execution": {
     "iopub.execute_input": "2025-06-09T16:03:58.220186Z",
     "iopub.status.busy": "2025-06-09T16:03:58.219175Z",
     "iopub.status.idle": "2025-06-09T16:03:58.437106Z",
     "shell.execute_reply": "2025-06-09T16:03:58.437106Z",
     "shell.execute_reply.started": "2025-06-09T16:03:58.220186Z"
    },
    "scrolled": true
   },
   "outputs": [
    {
     "data": {
      "application/vnd.jupyter.widget-view+json": {
       "model_id": "2b29dec27d9f4b39aa9c4f33af303c78",
       "version_major": 2,
       "version_minor": 0
      },
      "text/plain": [
       "Map:   0%|          | 0/10 [00:00<?, ? examples/s]"
      ]
     },
     "metadata": {},
     "output_type": "display_data"
    },
    {
     "name": "stdout",
     "output_type": "stream",
     "text": [
      "10 10 95 8\n",
      "10 10 95 8\n",
      "10 10 95 8\n",
      "10 10 95 8\n",
      "10 10 95 8\n",
      "10 10 95 8\n",
      "10 10 95 8\n",
      "10 10 95 8\n",
      "10 10 95 8\n",
      "10 10 95 8\n",
      "              precision    recall  f1-score   support\n",
      "\n",
      "       B-LOC       0.00      0.00      0.00         1\n",
      "      B-MISC       0.00      0.00      0.00         3\n",
      "       I-LOC       0.00      0.00      0.00         0\n",
      "      I-MISC       0.00      0.00      0.00         2\n",
      "       I-ORG       0.00      0.00      0.00         0\n",
      "       I-PER       0.00      0.00      0.00         0\n",
      "           O       0.96      0.15      0.27       175\n",
      "\n",
      "    accuracy                           0.15       181\n",
      "   macro avg       0.14      0.02      0.04       181\n",
      "weighted avg       0.93      0.15      0.26       181\n",
      "\n"
     ]
    }
   ],
   "source": [
    "x, y = evaluate_predictions(cased_conll, ontonotes_main)"
   ]
  },
  {
   "cell_type": "markdown",
   "id": "13d0e368-5f01-4fb4-966d-7612c93bd731",
   "metadata": {
    "jp-MarkdownHeadingCollapsed": true
   },
   "source": [
    "## OntoNotes Trained Mode"
   ]
  },
  {
   "cell_type": "code",
   "execution_count": 22,
   "id": "2a959613-6ddc-4e34-9a26-dfb5b9442f45",
   "metadata": {
    "execution": {
     "iopub.execute_input": "2025-06-09T16:09:13.616066Z",
     "iopub.status.busy": "2025-06-09T16:09:13.616066Z",
     "iopub.status.idle": "2025-06-09T16:09:38.569405Z",
     "shell.execute_reply": "2025-06-09T16:09:38.567835Z",
     "shell.execute_reply.started": "2025-06-09T16:09:13.616066Z"
    },
    "scrolled": true
   },
   "outputs": [
    {
     "name": "stderr",
     "output_type": "stream",
     "text": [
      "Some weights of BertForTokenClassification were not initialized from the model checkpoint at bert-base-cased and are newly initialized: ['classifier.bias', 'classifier.weight']\n",
      "You should probably TRAIN this model on a down-stream task to be able to use it for predictions and inference.\n",
      "C:\\Users\\NIKHIL\\AppData\\Local\\Temp\\ipykernel_8112\\4136997834.py:72: FutureWarning: `tokenizer` is deprecated and will be removed in version 5.0.0 for `Trainer.__init__`. Use `processing_class` instead.\n",
      "  OBC_trainer = Trainer(\n"
     ]
    },
    {
     "data": {
      "text/html": [
       "\n",
       "    <div>\n",
       "      \n",
       "      <progress value='3' max='3' style='width:300px; height:20px; vertical-align: middle;'></progress>\n",
       "      [3/3 00:14, Epoch 3/3]\n",
       "    </div>\n",
       "    <table border=\"1\" class=\"dataframe\">\n",
       "  <thead>\n",
       " <tr style=\"text-align: left;\">\n",
       "      <th>Step</th>\n",
       "      <th>Training Loss</th>\n",
       "    </tr>\n",
       "  </thead>\n",
       "  <tbody>\n",
       "  </tbody>\n",
       "</table><p>"
      ],
      "text/plain": [
       "<IPython.core.display.HTML object>"
      ]
     },
     "metadata": {},
     "output_type": "display_data"
    },
    {
     "data": {
      "text/plain": [
       "TrainOutput(global_step=3, training_loss=2.125772476196289, metrics={'train_runtime': 21.607, 'train_samples_per_second': 1.388, 'train_steps_per_second': 0.139, 'total_flos': 1454575949100.0, 'train_loss': 2.125772476196289, 'epoch': 3.0})"
      ]
     },
     "execution_count": 22,
     "metadata": {},
     "output_type": "execute_result"
    }
   ],
   "source": [
    "tokenizer = BertTokenizerFast.from_pretrained(\"bert-base-cased\")\n",
    "\n",
    "label_list = ['O', 'B-PER', 'I-PER', 'B-ORG',\n",
    "              'I-ORG', 'B-LOC', 'I-LOC', 'B-MISC', 'I-MISC']\n",
    "\n",
    "\n",
    "mod = BertForTokenClassification.from_pretrained(\n",
    "    \"bert-base-cased\", num_labels=len(label_list))\n",
    "\n",
    "metric = load_metric(\"seqeval\")\n",
    "\n",
    "\n",
    "def compute_metrics(p):\n",
    "    predictions, labels = p\n",
    "    predictions = np.argmax(predictions, axis=2)\n",
    "\n",
    "    true_predictions = [\n",
    "        [label_list[p] for (p, l) in zip(prediction, label) if l != -100]\n",
    "        for prediction, label in zip(predictions, labels)\n",
    "    ]\n",
    "    true_labels = [\n",
    "        [label_list[l] for (p, l) in zip(prediction, label) if l != -100]\n",
    "        for prediction, label in zip(predictions, labels)\n",
    "    ]\n",
    "\n",
    "    return metric.compute(predictions=true_predictions, references=true_labels)\n",
    "\n",
    "\n",
    "data_collator = DataCollatorForTokenClassification(tokenizer)\n",
    "\n",
    "training_args = TrainingArguments(\n",
    "    output_dir=\"./results/onto-case\",\n",
    "    eval_strategy=\"no\",\n",
    "    learning_rate=2e-5,\n",
    "    per_device_train_batch_size=8,\n",
    "    per_device_eval_batch_size=8,\n",
    "    gradient_accumulation_steps=2,\n",
    "    num_train_epochs=3,\n",
    "    weight_decay=0.01,\n",
    "    load_best_model_at_end=True,\n",
    "    report_to=\"none\",\n",
    "    fp16=True,\n",
    "    save_strategy=\"no\",)\n",
    "\n",
    "OBC_trainer = Trainer(\n",
    "    model=mod,\n",
    "    args=training_args,\n",
    "    train_dataset=ontonotes_main,\n",
    "    eval_dataset=conll_main,\n",
    "    tokenizer=tokenizer,\n",
    "    compute_metrics=compute_metrics,\n",
    "    data_collator=data_collator,\n",
    ")\n",
    "\n",
    "OBC_trainer.train()"
   ]
  },
  {
   "cell_type": "code",
   "execution_count": 23,
   "id": "3d1925d2-7041-47b1-bca9-8d70362d858b",
   "metadata": {
    "execution": {
     "iopub.execute_input": "2025-06-09T16:09:46.769886Z",
     "iopub.status.busy": "2025-06-09T16:09:46.769886Z",
     "iopub.status.idle": "2025-06-09T16:09:48.167888Z",
     "shell.execute_reply": "2025-06-09T16:09:48.165875Z",
     "shell.execute_reply.started": "2025-06-09T16:09:46.769886Z"
    }
   },
   "outputs": [],
   "source": [
    "OBC_trainer.save_model(\"./saved_model/onto-cased\")"
   ]
  },
  {
   "cell_type": "code",
   "execution_count": 26,
   "id": "a0ffd213-b365-43a6-b982-268b1cee8990",
   "metadata": {
    "execution": {
     "iopub.execute_input": "2025-06-09T16:10:28.967661Z",
     "iopub.status.busy": "2025-06-09T16:10:28.967661Z",
     "iopub.status.idle": "2025-06-09T16:10:31.453673Z",
     "shell.execute_reply": "2025-06-09T16:10:31.453673Z",
     "shell.execute_reply.started": "2025-06-09T16:10:28.967661Z"
    }
   },
   "outputs": [
    {
     "name": "stderr",
     "output_type": "stream",
     "text": [
      "C:\\Users\\NIKHIL\\AppData\\Local\\Temp\\ipykernel_8112\\4175723938.py:31: FutureWarning: `tokenizer` is deprecated and will be removed in version 5.0.0 for `Trainer.__init__`. Use `processing_class` instead.\n",
      "  OBC_trainer = Trainer(\n"
     ]
    }
   ],
   "source": [
    "model = AutoModelForTokenClassification.from_pretrained(\n",
    "    \"./saved_model/onto-cased\")\n",
    "tokenizer = AutoTokenizer.from_pretrained(model_name)\n",
    "\n",
    "id2label = {\n",
    "    0: \"O\", 1: \"B-PER\", 2: \"I-PER\", 3: \"B-ORG\", 4: \"I-ORG\",\n",
    "    5: \"B-LOC\", 6: \"I-LOC\", 7: \"B-MISC\", 8: \"I-MISC\"\n",
    "}\n",
    "\n",
    "metric = evaluate.load(\"seqeval\")\n",
    "\n",
    "\n",
    "def compute_metrics(p):\n",
    "    predictions, labels = p\n",
    "    predictions = predictions.argmax(axis=-1)\n",
    "\n",
    "    true_predictions = []\n",
    "    true_labels = []\n",
    "\n",
    "    for pred_seq, label_seq in zip(predictions, labels):\n",
    "        true_predictions.append(\n",
    "            [id2label[p] for p, l in zip(pred_seq, label_seq) if l != -100])\n",
    "        true_labels.append([id2label[l] for l in label_seq if l != -100])\n",
    "\n",
    "    return metric.compute(predictions=true_predictions, references=true_labels)\n",
    "\n",
    "\n",
    "onto_args = TrainingArguments(output_dir=\"./results/onto\",\n",
    "                              per_device_eval_batch_size=8, report_to=\"none\")\n",
    "\n",
    "OBC_trainer = Trainer(\n",
    "    model=model,\n",
    "    tokenizer=tokenizer,\n",
    "    data_collator=DataCollatorForTokenClassification(tokenizer),\n",
    "    compute_metrics=compute_metrics,\n",
    "    args=onto_args,\n",
    ")"
   ]
  },
  {
   "cell_type": "code",
   "execution_count": 32,
   "id": "447f14c3-56a1-4370-b1ca-80aaf85754e9",
   "metadata": {
    "execution": {
     "iopub.execute_input": "2025-06-09T16:11:39.530749Z",
     "iopub.status.busy": "2025-06-09T16:11:39.530749Z",
     "iopub.status.idle": "2025-06-09T16:11:42.336704Z",
     "shell.execute_reply": "2025-06-09T16:11:42.334967Z",
     "shell.execute_reply.started": "2025-06-09T16:11:39.530749Z"
    }
   },
   "outputs": [
    {
     "data": {
      "text/html": [],
      "text/plain": [
       "<IPython.core.display.HTML object>"
      ]
     },
     "metadata": {},
     "output_type": "display_data"
    }
   ],
   "source": [
    "cased_onto = OBC_trainer.predict(conll_main)"
   ]
  },
  {
   "cell_type": "code",
   "execution_count": 33,
   "id": "5a461a43-cc0a-4fa1-86a1-5709d2123056",
   "metadata": {
    "execution": {
     "iopub.execute_input": "2025-06-09T16:11:42.340403Z",
     "iopub.status.busy": "2025-06-09T16:11:42.339256Z",
     "iopub.status.idle": "2025-06-09T16:11:42.348922Z",
     "shell.execute_reply": "2025-06-09T16:11:42.347396Z",
     "shell.execute_reply.started": "2025-06-09T16:11:42.340403Z"
    }
   },
   "outputs": [],
   "source": [
    "with open('./results/cased_onto.pkl', 'wb') as f:\n",
    "    pickle.dump(cased_onto, f)"
   ]
  },
  {
   "cell_type": "code",
   "execution_count": 34,
   "id": "e9f4fce0-d7a4-4ca5-9731-6ea2df961fb8",
   "metadata": {
    "execution": {
     "iopub.execute_input": "2025-06-09T16:11:42.352635Z",
     "iopub.status.busy": "2025-06-09T16:11:42.351477Z",
     "iopub.status.idle": "2025-06-09T16:11:42.385369Z",
     "shell.execute_reply": "2025-06-09T16:11:42.381563Z",
     "shell.execute_reply.started": "2025-06-09T16:11:42.352635Z"
    }
   },
   "outputs": [],
   "source": [
    "with open('./results/cased_onto.pkl', 'rb') as f:\n",
    "    cased_onto = pickle.load(f)"
   ]
  },
  {
   "cell_type": "code",
   "execution_count": 35,
   "id": "1f029ca8-6797-4b74-a812-47d76e439484",
   "metadata": {
    "execution": {
     "iopub.execute_input": "2025-06-09T16:11:42.389392Z",
     "iopub.status.busy": "2025-06-09T16:11:42.387378Z",
     "iopub.status.idle": "2025-06-09T16:11:42.547892Z",
     "shell.execute_reply": "2025-06-09T16:11:42.547892Z",
     "shell.execute_reply.started": "2025-06-09T16:11:42.389392Z"
    },
    "scrolled": true
   },
   "outputs": [
    {
     "data": {
      "application/vnd.jupyter.widget-view+json": {
       "model_id": "0babd728f743428184d35513ee3e44e7",
       "version_major": 2,
       "version_minor": 0
      },
      "text/plain": [
       "Map:   0%|          | 0/10 [00:00<?, ? examples/s]"
      ]
     },
     "metadata": {},
     "output_type": "display_data"
    },
    {
     "name": "stdout",
     "output_type": "stream",
     "text": [
      "10 10 95 11\n",
      "10 10 95 11\n",
      "10 10 95 11\n",
      "10 10 95 11\n",
      "10 10 95 11\n",
      "10 10 95 11\n",
      "10 10 95 11\n",
      "10 10 95 11\n",
      "10 10 95 11\n",
      "10 10 95 11\n",
      "              precision    recall  f1-score   support\n",
      "\n",
      "       B-LOC       0.13      0.22      0.17         9\n",
      "      B-MISC       0.02      0.25      0.04         4\n",
      "       B-ORG       0.00      0.00      0.00         8\n",
      "       B-PER       0.00      0.00      0.00         7\n",
      "       I-LOC       0.00      0.00      0.00         1\n",
      "      I-MISC       0.00      0.00      0.00         4\n",
      "       I-ORG       0.00      0.00      0.00         7\n",
      "       I-PER       0.00      0.00      0.00         5\n",
      "           O       0.72      0.19      0.30       122\n",
      "\n",
      "    accuracy                           0.16       167\n",
      "   macro avg       0.10      0.07      0.06       167\n",
      "weighted avg       0.53      0.16      0.23       167\n",
      "\n"
     ]
    }
   ],
   "source": [
    "x, y = evaluate_predictions(cased_onto, conll_main)"
   ]
  },
  {
   "cell_type": "markdown",
   "id": "785684fe-fb43-4e59-826b-20f2dcca628e",
   "metadata": {},
   "source": [
    "# Challenge dataset"
   ]
  },
  {
   "cell_type": "markdown",
   "id": "6e4faa4d-7fe3-4217-bc80-67c9b01a3248",
   "metadata": {
    "jp-MarkdownHeadingCollapsed": true
   },
   "source": [
    "## Stanford"
   ]
  },
  {
   "cell_type": "code",
   "execution_count": 53,
   "id": "6104ffa6-882d-4e29-b96c-8450204c8949",
   "metadata": {
    "execution": {
     "iopub.execute_input": "2025-06-09T16:18:57.557697Z",
     "iopub.status.busy": "2025-06-09T16:18:57.557697Z",
     "iopub.status.idle": "2025-06-09T16:19:00.161188Z",
     "shell.execute_reply": "2025-06-09T16:19:00.160181Z",
     "shell.execute_reply.started": "2025-06-09T16:18:57.557697Z"
    }
   },
   "outputs": [],
   "source": [
    "df = pd.read_excel(\n",
    "    \"./Guided-Adversarial-Augmentation-main/Guided-Adversarial-Augmentation-main/data/data/conll2003/challenge_set.xlsx\", header=None)"
   ]
  },
  {
   "cell_type": "code",
   "execution_count": 54,
   "id": "80bbab65-9121-40b6-9c4d-975672e74bc4",
   "metadata": {
    "execution": {
     "iopub.execute_input": "2025-06-09T16:19:00.165192Z",
     "iopub.status.busy": "2025-06-09T16:19:00.165192Z",
     "iopub.status.idle": "2025-06-09T16:19:00.908430Z",
     "shell.execute_reply": "2025-06-09T16:19:00.908430Z",
     "shell.execute_reply.started": "2025-06-09T16:19:00.165192Z"
    }
   },
   "outputs": [],
   "source": [
    "examples = []\n",
    "\n",
    "i = 0\n",
    "while i < len(df):\n",
    "    row = df.iloc[i]\n",
    "    if str(row[0]).startswith(\"GUID\"):\n",
    "\n",
    "        guid = str(df.iloc[i][1]).strip()\n",
    "\n",
    "        try:\n",
    "            quality = int(str(df.iloc[i+1][1]).strip())\n",
    "        except (ValueError, TypeError):\n",
    "            quality = 999\n",
    "\n",
    "        try:\n",
    "            aug_type = int(str(df.iloc[i+2][1]).strip())\n",
    "        except (ValueError, TypeError):\n",
    "            aug_type = 999\n",
    "\n",
    "        tokens_row = df.iloc[i+3].dropna().tolist()[1:]\n",
    "        labels_row = df.iloc[i+4].dropna().tolist()[1:]\n",
    "        labels_row = [label.strip()\n",
    "                      for label in labels_row if label.strip() != \"\"]\n",
    "\n",
    "        if len(tokens_row) == len(labels_row):\n",
    "            examples.append({\n",
    "                \"guid\": guid,\n",
    "                \"quality\": quality,\n",
    "                \"aug_type\": aug_type,\n",
    "                \"tokens\": tokens_row,\n",
    "                \"labels\": labels_row\n",
    "            })\n",
    "\n",
    "        i += 6\n",
    "    else:\n",
    "        i += 1\n",
    "\n",
    "challenge_dataset = Dataset.from_list(examples)"
   ]
  },
  {
   "cell_type": "code",
   "execution_count": 55,
   "id": "3a8581fc-bacd-4793-8b65-ac9e826e4a5c",
   "metadata": {
    "execution": {
     "iopub.execute_input": "2025-06-09T16:19:00.908430Z",
     "iopub.status.busy": "2025-06-09T16:19:00.908430Z",
     "iopub.status.idle": "2025-06-09T16:19:00.920007Z",
     "shell.execute_reply": "2025-06-09T16:19:00.918995Z",
     "shell.execute_reply.started": "2025-06-09T16:19:00.908430Z"
    }
   },
   "outputs": [],
   "source": [
    "conll_label_to_id = {\n",
    "    'O': 0,\n",
    "    'B-PER': 1, 'I-PER': 2,\n",
    "    'B-ORG': 3, 'I-ORG': 4,\n",
    "    'B-LOC': 5, 'I-LOC': 6,\n",
    "    'B-MISC': 7, 'I-MISC': 8,\n",
    "}\n",
    "\n",
    "\n",
    "def encode_labels(example):\n",
    "    example[\"labels\"] = [conll_label_to_id.get(\n",
    "        label, 0) for label in example[\"labels\"]]\n",
    "    return example"
   ]
  },
  {
   "cell_type": "code",
   "execution_count": 56,
   "id": "ebc93860-6822-4475-ae3b-d8f588b84188",
   "metadata": {
    "execution": {
     "iopub.execute_input": "2025-06-09T16:19:00.923121Z",
     "iopub.status.busy": "2025-06-09T16:19:00.922114Z",
     "iopub.status.idle": "2025-06-09T16:19:01.245764Z",
     "shell.execute_reply": "2025-06-09T16:19:01.244755Z",
     "shell.execute_reply.started": "2025-06-09T16:19:00.923121Z"
    }
   },
   "outputs": [
    {
     "data": {
      "application/vnd.jupyter.widget-view+json": {
       "model_id": "14724c50d25744c695a63b95829eb42e",
       "version_major": 2,
       "version_minor": 0
      },
      "text/plain": [
       "Map:   0%|          | 0/1418 [00:00<?, ? examples/s]"
      ]
     },
     "metadata": {},
     "output_type": "display_data"
    }
   ],
   "source": [
    "challenge_dataset = challenge_dataset.map(encode_labels)"
   ]
  },
  {
   "cell_type": "code",
   "execution_count": 57,
   "id": "a4f992fb-3c7e-435b-9789-ae8e11d7ce73",
   "metadata": {
    "execution": {
     "iopub.execute_input": "2025-06-09T16:19:01.249882Z",
     "iopub.status.busy": "2025-06-09T16:19:01.249882Z",
     "iopub.status.idle": "2025-06-09T16:19:02.464526Z",
     "shell.execute_reply": "2025-06-09T16:19:02.464526Z",
     "shell.execute_reply.started": "2025-06-09T16:19:01.249882Z"
    }
   },
   "outputs": [
    {
     "data": {
      "application/vnd.jupyter.widget-view+json": {
       "model_id": "3909052de03645eba8ba73dd96969083",
       "version_major": 2,
       "version_minor": 0
      },
      "text/plain": [
       "Map:   0%|          | 0/1418 [00:00<?, ? examples/s]"
      ]
     },
     "metadata": {},
     "output_type": "display_data"
    }
   ],
   "source": [
    "stanford_encoded = challenge_dataset.map(\n",
    "    tokenize_and_align_labels, batched=True)"
   ]
  },
  {
   "cell_type": "code",
   "execution_count": 59,
   "id": "00f3c714-b629-45f5-911a-316406bfbf72",
   "metadata": {
    "execution": {
     "iopub.execute_input": "2025-06-09T16:19:15.057869Z",
     "iopub.status.busy": "2025-06-09T16:19:15.057869Z",
     "iopub.status.idle": "2025-06-09T16:19:15.117195Z",
     "shell.execute_reply": "2025-06-09T16:19:15.115808Z",
     "shell.execute_reply.started": "2025-06-09T16:19:15.057869Z"
    }
   },
   "outputs": [
    {
     "data": {
      "application/vnd.jupyter.widget-view+json": {
       "model_id": "5bc7ac4d940b482a95a2332bce576b65",
       "version_major": 2,
       "version_minor": 0
      },
      "text/plain": [
       "Saving the dataset (0/1 shards):   0%|          | 0/1418 [00:00<?, ? examples/s]"
      ]
     },
     "metadata": {},
     "output_type": "display_data"
    }
   ],
   "source": [
    "stanford_encoded.save_to_disk(\"./splits/stanford_challenge_encoded_cased\")"
   ]
  },
  {
   "cell_type": "code",
   "execution_count": 60,
   "id": "2e6b8820-b24d-4d99-b3f7-d078c30efb62",
   "metadata": {
    "execution": {
     "iopub.execute_input": "2025-06-09T16:19:21.308109Z",
     "iopub.status.busy": "2025-06-09T16:19:21.306600Z",
     "iopub.status.idle": "2025-06-09T16:19:21.436243Z",
     "shell.execute_reply": "2025-06-09T16:19:21.436243Z",
     "shell.execute_reply.started": "2025-06-09T16:19:21.308109Z"
    }
   },
   "outputs": [],
   "source": [
    "stanford_encoded = load_from_disk(\"./splits/stanford_challenge_encoded_cased\")"
   ]
  },
  {
   "cell_type": "code",
   "execution_count": 61,
   "id": "66a12ab2-386a-4ad2-b321-3de195dd2af7",
   "metadata": {
    "execution": {
     "iopub.execute_input": "2025-06-09T16:19:23.823168Z",
     "iopub.status.busy": "2025-06-09T16:19:23.823168Z",
     "iopub.status.idle": "2025-06-09T16:19:23.835205Z",
     "shell.execute_reply": "2025-06-09T16:19:23.833149Z",
     "shell.execute_reply.started": "2025-06-09T16:19:23.823168Z"
    }
   },
   "outputs": [],
   "source": [
    "# conll_results = CBC_trainer.evaluate(stanford_encoded)\n",
    "# print(conll_results)"
   ]
  },
  {
   "cell_type": "code",
   "execution_count": 62,
   "id": "9f993c5b-d7ab-4055-bad5-95b1eb325c9a",
   "metadata": {
    "execution": {
     "iopub.execute_input": "2025-06-09T16:19:25.068258Z",
     "iopub.status.busy": "2025-06-09T16:19:25.067593Z",
     "iopub.status.idle": "2025-06-09T16:19:29.337284Z",
     "shell.execute_reply": "2025-06-09T16:19:29.336274Z",
     "shell.execute_reply.started": "2025-06-09T16:19:25.068258Z"
    },
    "scrolled": true
   },
   "outputs": [
    {
     "data": {
      "text/html": [],
      "text/plain": [
       "<IPython.core.display.HTML object>"
      ]
     },
     "metadata": {},
     "output_type": "display_data"
    }
   ],
   "source": [
    "conll_results = CBC_trainer.predict(stanford_encoded)"
   ]
  },
  {
   "cell_type": "code",
   "execution_count": 63,
   "id": "0b1306c0-7a1f-455d-b78f-5840f7bfde6a",
   "metadata": {
    "execution": {
     "iopub.execute_input": "2025-06-09T16:19:29.342453Z",
     "iopub.status.busy": "2025-06-09T16:19:29.341453Z",
     "iopub.status.idle": "2025-06-09T16:19:29.351886Z",
     "shell.execute_reply": "2025-06-09T16:19:29.350254Z",
     "shell.execute_reply.started": "2025-06-09T16:19:29.342453Z"
    }
   },
   "outputs": [],
   "source": [
    "with open('./results/conll_stanford_cased.pkl', 'wb') as f:\n",
    "    pickle.dump(conll_results, f)"
   ]
  },
  {
   "cell_type": "code",
   "execution_count": 64,
   "id": "fdbbcd7b-c10f-4025-8f5c-5836a861ed50",
   "metadata": {
    "execution": {
     "iopub.execute_input": "2025-06-09T16:19:29.354943Z",
     "iopub.status.busy": "2025-06-09T16:19:29.353940Z",
     "iopub.status.idle": "2025-06-09T16:19:29.375170Z",
     "shell.execute_reply": "2025-06-09T16:19:29.375170Z",
     "shell.execute_reply.started": "2025-06-09T16:19:29.354943Z"
    }
   },
   "outputs": [],
   "source": [
    "with open('./results/conll_stanford_cased.pkl', 'rb') as f:\n",
    "    conll_stanford = pickle.load(f)"
   ]
  },
  {
   "cell_type": "code",
   "execution_count": 65,
   "id": "2d20ae03-4fcb-4676-901b-a37fea28d79c",
   "metadata": {
    "execution": {
     "iopub.execute_input": "2025-06-09T16:19:30.310591Z",
     "iopub.status.busy": "2025-06-09T16:19:30.310591Z",
     "iopub.status.idle": "2025-06-09T16:19:30.498638Z",
     "shell.execute_reply": "2025-06-09T16:19:30.496975Z",
     "shell.execute_reply.started": "2025-06-09T16:19:30.310591Z"
    }
   },
   "outputs": [
    {
     "data": {
      "application/vnd.jupyter.widget-view+json": {
       "model_id": "bdaf710645914c549ba60a75f43f49e1",
       "version_major": 2,
       "version_minor": 0
      },
      "text/plain": [
       "Map:   0%|          | 0/10 [00:00<?, ? examples/s]"
      ]
     },
     "metadata": {},
     "output_type": "display_data"
    },
    {
     "name": "stdout",
     "output_type": "stream",
     "text": [
      "10 10 158 11\n",
      "10 10 158 11\n",
      "10 10 158 11\n",
      "10 10 158 11\n",
      "10 10 158 11\n",
      "10 10 158 11\n",
      "10 10 158 11\n",
      "10 10 158 11\n",
      "10 10 158 11\n",
      "10 10 158 11\n",
      "              precision    recall  f1-score   support\n",
      "\n",
      "       B-LOC       0.00      0.00      0.00         3\n",
      "      B-MISC       0.02      0.12      0.03         8\n",
      "       B-ORG       0.00      0.00      0.00        12\n",
      "       B-PER       0.00      0.00      0.00         2\n",
      "       I-LOC       0.00      0.00      0.00         2\n",
      "      I-MISC       0.00      0.00      0.00         3\n",
      "       I-ORG       0.27      0.30      0.29        23\n",
      "       I-PER       0.20      0.50      0.29         2\n",
      "           O       0.72      0.23      0.35       162\n",
      "\n",
      "    accuracy                           0.22       217\n",
      "   macro avg       0.13      0.13      0.11       217\n",
      "weighted avg       0.57      0.22      0.30       217\n",
      "\n"
     ]
    }
   ],
   "source": [
    "x, y = evaluate_predictions(conll_stanford, stanford_encoded)"
   ]
  },
  {
   "cell_type": "code",
   "execution_count": 68,
   "id": "3b7d74b1-6115-4d31-a18f-07bfdfff6fcb",
   "metadata": {
    "execution": {
     "iopub.execute_input": "2025-06-09T16:20:08.103330Z",
     "iopub.status.busy": "2025-06-09T16:20:08.103330Z",
     "iopub.status.idle": "2025-06-09T16:20:08.154682Z",
     "shell.execute_reply": "2025-06-09T16:20:08.152671Z",
     "shell.execute_reply.started": "2025-06-09T16:20:08.103330Z"
    },
    "scrolled": true
   },
   "outputs": [
    {
     "name": "stdout",
     "output_type": "stream",
     "text": [
      "\n",
      "--- Sentence 0 ---\n",
      "Tokens:        ['AL-AIN', 'Rugby', 'Union', ',', 'United', 'Arab', 'Emirates', '1996-12-06', '^']\n",
      "True Labels:   ['B-ORG', 'B-ORG', 'B-ORG', 'B-ORG', 'I-ORG', 'I-ORG', 'O', 'B-LOC', 'I-LOC', 'I-LOC', 'O', 'O', 'O', 'O', 'O', 'O']\n",
      "Pred Labels:   ['I-ORG', 'O', 'O', 'O', 'B-MISC', 'B-MISC', 'B-LOC', 'B-MISC', 'B-MISC', 'I-ORG', 'B-MISC', 'O', 'O', 'B-MISC', 'B-LOC', 'O']\n",
      "\n",
      "--- Sentence 1 ---\n",
      "Tokens:        ['The', 'Japan', 'City', 'Royals', 'began', 'the', 'defence', 'of', 'their', 'Asian', 'Cup', 'title', 'with', 'a', 'lucky', '2-1', 'win', 'against', 'Syria', 'in', 'a', 'Group', 'C', 'championship', 'match', 'on', 'Friday', '.', '^']\n",
      "True Labels:   ['O', 'B-ORG', 'I-ORG', 'I-ORG', 'O', 'O', 'O', 'O', 'O', 'B-MISC', 'I-MISC', 'O', 'O', 'O', 'O', 'O', 'O', 'O', 'O', 'O', 'B-LOC', 'O', 'O', 'O', 'O', 'O', 'O', 'O', 'O', 'O', 'O']\n",
      "Pred Labels:   ['I-ORG', 'I-LOC', 'I-ORG', 'I-ORG', 'B-MISC', 'B-LOC', 'B-MISC', 'O', 'I-LOC', 'I-LOC', 'B-LOC', 'I-ORG', 'B-MISC', 'O', 'B-MISC', 'I-LOC', 'O', 'I-PER', 'B-LOC', 'O', 'I-LOC', 'B-MISC', 'I-LOC', 'O', 'B-MISC', 'I-LOC', 'I-LOC', 'B-MISC', 'B-MISC', 'I-LOC', 'O']\n",
      "\n",
      "--- Sentence 2 ---\n",
      "Tokens:        ['The', 'China', 'Soccer', 'Association', 'controlled', 'most', 'of', 'the', 'match', 'and', 'saw', 'several', 'chances', 'missed', 'until', 'the', '78th', 'minute', 'when', 'Uzbek', 'striker', 'Igor', 'Shkvyrin', 'took', 'advantage', 'of', 'a', 'misdirected', 'defensive', 'header', 'to', 'lob', 'the', 'ball', 'over', 'the', 'advancing', 'Chinese', 'keeper', 'and', 'into', 'an', 'empty', 'net', '.', '^']\n",
      "True Labels:   ['O', 'B-ORG', 'I-ORG', 'I-ORG', 'O', 'O', 'O', 'O', 'O', 'O', 'O', 'O', 'O', 'O', 'O', 'O', 'O', 'O', 'O', 'O', 'B-MISC', 'B-MISC', 'B-MISC', 'O', 'B-PER', 'I-PER', 'I-PER', 'I-PER', 'I-PER', 'I-PER', 'O', 'O', 'O', 'O', 'O', 'O', 'O', 'O', 'O', 'O', 'O', 'O', 'O', 'O', 'O', 'O', 'O', 'O', 'O', 'B-MISC', 'O', 'O', 'O', 'O', 'O', 'O', 'O', 'O']\n",
      "Pred Labels:   ['I-ORG', 'O', 'O', 'I-ORG', 'I-ORG', 'B-MISC', 'B-MISC', 'B-LOC', 'B-MISC', 'I-LOC', 'B-MISC', 'B-MISC', 'O', 'O', 'B-MISC', 'I-ORG', 'B-MISC', 'O', 'I-LOC', 'I-LOC', 'B-MISC', 'O', 'O', 'I-PER', 'I-ORG', 'O', 'I-LOC', 'B-ORG', 'I-LOC', 'O', 'I-LOC', 'B-MISC', 'I-ORG', 'I-LOC', 'I-PER', 'I-LOC', 'O', 'B-LOC', 'B-LOC', 'I-LOC', 'I-LOC', 'I-ORG', 'I-LOC', 'I-LOC', 'I-LOC', 'B-MISC', 'I-LOC', 'I-LOC', 'I-LOC', 'I-LOC', 'I-LOC', 'I-LOC', 'I-LOC', 'I-LOC', 'I-LOC', 'I-LOC', 'O', 'O']\n",
      "\n",
      "--- Sentence 3 ---\n",
      "Tokens:        ['Despite', 'winning', 'the', 'Asian', 'Games', 'title', 'two', 'years', 'ago', ',', 'the', 'Uzbekistan', 'Baseball', 'Union', 'are', 'in', 'the', 'finals', 'as', 'outsiders', '.', '^']\n",
      "True Labels:   ['O', 'O', 'O', 'B-MISC', 'I-MISC', 'O', 'O', 'O', 'O', 'O', 'O', 'B-ORG', 'I-ORG', 'I-ORG', 'O', 'O', 'O', 'O', 'O', 'O', 'O', 'O', 'O']\n",
      "Pred Labels:   ['O', 'I-LOC', 'I-LOC', 'I-LOC', 'O', 'I-LOC', 'I-LOC', 'I-PER', 'O', 'O', 'I-LOC', 'O', 'B-MISC', 'B-MISC', 'I-LOC', 'I-LOC', 'I-LOC', 'O', 'I-LOC', 'O', 'I-LOC', 'I-ORG', 'O']\n",
      "\n",
      "--- Sentence 4 ---\n",
      "Tokens:        ['The', 'Japan', 'City', 'Royals', 'then', 'laid', 'siege', 'to', 'the', 'Syrian', 'penalty', 'area', 'for', 'most', 'of', 'the', 'game', 'but', 'rarely', 'breached', 'the', 'Syrian', 'defence', '.', '^']\n",
      "True Labels:   ['O', 'B-ORG', 'I-ORG', 'I-ORG', 'O', 'O', 'O', 'O', 'O', 'B-MISC', 'O', 'O', 'O', 'O', 'O', 'O', 'O', 'O', 'O', 'O', 'O', 'O', 'B-MISC', 'O', 'O', 'O']\n",
      "Pred Labels:   ['I-ORG', 'B-MISC', 'I-ORG', 'I-ORG', 'B-MISC', 'I-LOC', 'B-MISC', 'B-MISC', 'B-LOC', 'B-MISC', 'I-LOC', 'I-LOC', 'B-MISC', 'B-MISC', 'B-MISC', 'B-LOC', 'B-LOC', 'I-LOC', 'B-MISC', 'B-LOC', 'I-LOC', 'B-LOC', 'O', 'B-MISC', 'I-LOC', 'O']\n",
      "\n",
      "--- Sentence 5 ---\n",
      "Tokens:        ['The', 'Bitar', 'Football', 'Union', 'pulled', 'off', 'fine', 'saves', 'whenever', 'they', 'did', '.', '^']\n",
      "True Labels:   ['O', 'B-ORG', 'B-ORG', 'I-ORG', 'I-ORG', 'O', 'O', 'O', 'O', 'O', 'O', 'O', 'O', 'O']\n",
      "Pred Labels:   ['I-ORG', 'B-MISC', 'B-ORG', 'B-MISC', 'B-MISC', 'I-LOC', 'B-MISC', 'I-PER', 'B-MISC', 'I-PER', 'I-LOC', 'B-MISC', 'B-ORG', 'O']\n",
      "\n",
      "--- Sentence 6 ---\n",
      "Tokens:        ['The', 'Japan', 'City', 'Royals', 'coach', 'Shu', 'Kamo', 'said', ':', \"'\", \"'\", 'The', 'Syrian', 'own', 'goal', 'proved', 'lucky', 'for', 'us', '.', '^']\n",
      "True Labels:   ['O', 'B-ORG', 'I-ORG', 'I-ORG', 'O', 'B-PER', 'I-PER', 'I-PER', 'O', 'O', 'O', 'O', 'O', 'B-MISC', 'O', 'O', 'O', 'O', 'O', 'O', 'O', 'O']\n",
      "Pred Labels:   ['I-ORG', 'B-MISC', 'B-MISC', 'O', 'I-ORG', 'B-MISC', 'I-PER', 'I-PER', 'I-LOC', 'B-LOC', 'O', 'O', 'B-MISC', 'O', 'O', 'B-LOC', 'B-MISC', 'B-MISC', 'B-MISC', 'O', 'I-ORG', 'O']\n",
      "\n",
      "--- Sentence 7 ---\n",
      "Tokens:        ['The', 'Japan', 'Soccer', 'Union', ',', 'co-hosts', 'of', 'the', 'World', 'Cup', 'in', '2002', 'and', 'ranked', '20th', 'in', 'the', 'world', 'by', 'FIFA', ',', 'are', 'favourites', 'to', 'regain', 'their', 'title', 'here', '.', '^']\n",
      "True Labels:   ['O', 'B-ORG', 'I-ORG', 'I-ORG', 'O', 'O', 'O', 'O', 'O', 'O', 'B-MISC', 'I-MISC', 'O', 'O', 'O', 'O', 'O', 'O', 'O', 'O', 'O', 'B-ORG', 'O', 'O', 'O', 'O', 'O', 'O', 'O', 'O', 'O', 'O', 'O']\n",
      "Pred Labels:   ['I-ORG', 'B-MISC', 'I-ORG', 'B-MISC', 'I-LOC', 'I-ORG', 'O', 'O', 'B-LOC', 'B-LOC', 'B-LOC', 'B-LOC', 'B-MISC', 'B-MISC', 'I-LOC', 'I-ORG', 'O', 'B-LOC', 'B-LOC', 'B-MISC', 'O', 'B-MISC', 'I-LOC', 'I-LOC', 'O', 'I-LOC', 'I-ORG', 'O', 'I-LOC', 'B-LOC', 'I-LOC', 'B-PER', 'O']\n",
      "\n",
      "--- Sentence 8 ---\n",
      "Tokens:        ['RUGBY', 'UNION', '-', 'the', 'Rugby', 'Association', 'of', 'CUTTITTA', 'BACK', 'FOR', 'ITALY', 'AFTER', 'A', 'YEAR', '.', '^']\n",
      "True Labels:   ['B-ORG', 'B-ORG', 'B-ORG', 'B-ORG', 'I-ORG', 'I-ORG', 'O', 'O', 'B-ORG', 'I-ORG', 'I-ORG', 'I-ORG', 'I-ORG', 'I-ORG', 'I-ORG', 'I-ORG', 'O', 'O', 'O', 'O', 'O', 'B-LOC', 'B-LOC', 'B-LOC', 'O', 'O', 'O', 'O', 'O', 'O', 'O', 'O', 'O']\n",
      "Pred Labels:   ['I-ORG', 'B-MISC', 'B-LOC', 'O', 'O', 'O', 'O', 'O', 'B-MISC', 'B-MISC', 'I-ORG', 'O', 'B-MISC', 'B-MISC', 'O', 'O', 'B-MISC', 'B-MISC', 'B-MISC', 'O', 'B-MISC', 'O', 'I-LOC', 'I-LOC', 'O', 'I-PER', 'B-MISC', 'O', 'B-MISC', 'O', 'B-LOC', 'O', 'O']\n",
      "\n",
      "--- Sentence 9 ---\n",
      "Tokens:        ['Baseball', 'Association', 'of', 'ROME', '1996-12-06', '^']\n",
      "True Labels:   ['B-ORG', 'I-ORG', 'I-ORG', 'I-ORG', 'I-ORG', 'O', 'O', 'O', 'O', 'O', 'O']\n",
      "Pred Labels:   ['O', 'O', 'O', 'B-MISC', 'O', 'O', 'B-MISC', 'O', 'B-MISC', 'B-LOC', 'O']\n"
     ]
    }
   ],
   "source": [
    "predicted_label_ids = np.argmax(conll_stanford.predictions, axis=2)\n",
    "true_label_ids = conll_stanford.label_ids\n",
    "\n",
    "id_to_label = {v: k for k, v in conll_label_to_id.items()}\n",
    "\n",
    "for i in range(len(true_label_ids)):\n",
    "    tokens = stanford_encoded[i]['tokens']\n",
    "    true_labels = []\n",
    "    pred_labels = []\n",
    "\n",
    "    for j, (true_id, pred_id) in enumerate(zip(true_label_ids[i], predicted_label_ids[i])):\n",
    "        if true_id != -100:\n",
    "            true_labels.append(id_to_label[true_id])\n",
    "            pred_labels.append(id_to_label[pred_id])\n",
    "\n",
    "    if true_labels != pred_labels:\n",
    "        print(f\"\\n--- Sentence {i} ---\")\n",
    "        print(\"Tokens:       \", tokens)\n",
    "        print(\"True Labels:  \", true_labels)\n",
    "        print(\"Pred Labels:  \", pred_labels)"
   ]
  },
  {
   "cell_type": "code",
   "execution_count": 69,
   "id": "d82e9934-1463-459d-9837-904e76c3ff4d",
   "metadata": {
    "execution": {
     "iopub.execute_input": "2025-06-09T16:20:12.886537Z",
     "iopub.status.busy": "2025-06-09T16:20:12.885907Z",
     "iopub.status.idle": "2025-06-09T16:20:14.808762Z",
     "shell.execute_reply": "2025-06-09T16:20:14.807753Z",
     "shell.execute_reply.started": "2025-06-09T16:20:12.886537Z"
    }
   },
   "outputs": [
    {
     "data": {
      "image/png": "[encoded data removed]",
      "text/plain": [
       "<Figure size 640x480 with 2 Axes>"
      ]
     },
     "metadata": {},
     "output_type": "display_data"
    }
   ],
   "source": [
    "true_tags = []\n",
    "pred_tags = []\n",
    "\n",
    "for true_seq, pred_seq in zip(true_label_ids, predicted_label_ids):\n",
    "    for t, p in zip(true_seq, pred_seq):\n",
    "        if t != -100:\n",
    "            true_tags.append(id_to_label[t])\n",
    "            pred_tags.append(id_to_label[p])\n",
    "\n",
    "unique_tags = sorted(set(true_tags + pred_tags))\n",
    "cm = confusion_matrix(true_tags, pred_tags, labels=unique_tags)\n",
    "for i in unique_tags:\n",
    "    o_index = unique_tags.index(i)\n",
    "    cm[o_index, o_index] = 0\n",
    "disp = ConfusionMatrixDisplay(confusion_matrix=cm,\n",
    "                              display_labels=unique_tags)\n",
    "disp.plot()\n",
    "\n",
    "plt.xticks(rotation=45)\n",
    "plt.tight_layout()\n",
    "plt.show()"
   ]
  },
  {
   "cell_type": "code",
   "execution_count": null,
   "id": "494fee0b-9303-42ec-a469-7d65fbd78134",
   "metadata": {
    "execution": {
     "iopub.status.busy": "2025-06-09T15:15:19.569264Z",
     "iopub.status.idle": "2025-06-09T15:15:19.570275Z",
     "shell.execute_reply": "2025-06-09T15:15:19.569264Z",
     "shell.execute_reply.started": "2025-06-09T15:15:19.569264Z"
    }
   },
   "outputs": [],
   "source": [
    "# Onto_results = ontoTrainer.evaluate(stanford_encoded)\n",
    "# print(Onto_results)"
   ]
  },
  {
   "cell_type": "code",
   "execution_count": 71,
   "id": "107da30b-72ae-4c54-81de-258539aa5ad2",
   "metadata": {
    "execution": {
     "iopub.execute_input": "2025-06-09T16:21:09.334868Z",
     "iopub.status.busy": "2025-06-09T16:21:09.334868Z",
     "iopub.status.idle": "2025-06-09T16:21:13.651475Z",
     "shell.execute_reply": "2025-06-09T16:21:13.649949Z",
     "shell.execute_reply.started": "2025-06-09T16:21:09.334868Z"
    }
   },
   "outputs": [
    {
     "data": {
      "text/html": [],
      "text/plain": [
       "<IPython.core.display.HTML object>"
      ]
     },
     "metadata": {},
     "output_type": "display_data"
    }
   ],
   "source": [
    "onto_predictions_output = OBC_trainer.predict(\n",
    "    stanford_encoded)"
   ]
  },
  {
   "cell_type": "code",
   "execution_count": 72,
   "id": "ce25d712-f437-45c9-a0ac-c405679b7f7c",
   "metadata": {
    "execution": {
     "iopub.execute_input": "2025-06-09T16:21:26.330881Z",
     "iopub.status.busy": "2025-06-09T16:21:26.329881Z",
     "iopub.status.idle": "2025-06-09T16:21:26.339888Z",
     "shell.execute_reply": "2025-06-09T16:21:26.337877Z",
     "shell.execute_reply.started": "2025-06-09T16:21:26.330881Z"
    }
   },
   "outputs": [],
   "source": [
    "with open('./results/base_stanford_onto_casedf.pkl', 'wb') as f:\n",
    "    pickle.dump(onto_predictions_output, f)"
   ]
  },
  {
   "cell_type": "code",
   "execution_count": 73,
   "id": "9335d6e5-4d3b-47ff-b23e-9b4d53adcc61",
   "metadata": {
    "execution": {
     "iopub.execute_input": "2025-06-09T16:21:26.636777Z",
     "iopub.status.busy": "2025-06-09T16:21:26.636777Z",
     "iopub.status.idle": "2025-06-09T16:21:26.658974Z",
     "shell.execute_reply": "2025-06-09T16:21:26.658469Z",
     "shell.execute_reply.started": "2025-06-09T16:21:26.636777Z"
    }
   },
   "outputs": [],
   "source": [
    "with open('./results/base_stanford_onto_casedf.pkl', 'rb') as f:\n",
    "    base_stanford_onto = pickle.load(f)"
   ]
  },
  {
   "cell_type": "code",
   "execution_count": 74,
   "id": "433abf41-e624-45cc-95bb-6546d2a20b69",
   "metadata": {
    "execution": {
     "iopub.execute_input": "2025-06-09T16:21:34.861735Z",
     "iopub.status.busy": "2025-06-09T16:21:34.861735Z",
     "iopub.status.idle": "2025-06-09T16:21:35.009331Z",
     "shell.execute_reply": "2025-06-09T16:21:35.008321Z",
     "shell.execute_reply.started": "2025-06-09T16:21:34.861735Z"
    }
   },
   "outputs": [
    {
     "data": {
      "application/vnd.jupyter.widget-view+json": {
       "model_id": "9ec2d5fd754b4cdd96326f28bf41b6a3",
       "version_major": 2,
       "version_minor": 0
      },
      "text/plain": [
       "Map:   0%|          | 0/10 [00:00<?, ? examples/s]"
      ]
     },
     "metadata": {},
     "output_type": "display_data"
    },
    {
     "name": "stdout",
     "output_type": "stream",
     "text": [
      "10 10 158 11\n",
      "10 10 158 11\n",
      "10 10 158 11\n",
      "10 10 158 11\n",
      "10 10 158 11\n",
      "10 10 158 11\n",
      "10 10 158 11\n",
      "10 10 158 11\n",
      "10 10 158 11\n",
      "10 10 158 11\n",
      "              precision    recall  f1-score   support\n",
      "\n",
      "       B-LOC       0.00      0.00      0.00         3\n",
      "      B-MISC       0.01      0.12      0.03         8\n",
      "       B-ORG       0.00      0.00      0.00        12\n",
      "       B-PER       0.00      0.00      0.00         2\n",
      "       I-LOC       0.00      0.00      0.00         2\n",
      "      I-MISC       0.00      0.00      0.00         3\n",
      "       I-ORG       0.00      0.00      0.00        23\n",
      "       I-PER       0.00      0.00      0.00         2\n",
      "           O       0.77      0.27      0.40       162\n",
      "\n",
      "    accuracy                           0.21       217\n",
      "   macro avg       0.09      0.04      0.05       217\n",
      "weighted avg       0.58      0.21      0.30       217\n",
      "\n"
     ]
    }
   ],
   "source": [
    "x, y = evaluate_predictions(\n",
    "    base_stanford_onto, stanford_encoded)"
   ]
  },
  {
   "cell_type": "markdown",
   "id": "f30a0d72-a366-44f9-ba9d-77f682306b96",
   "metadata": {},
   "source": [
    "## Personal"
   ]
  },
  {
   "cell_type": "code",
   "execution_count": 77,
   "id": "66dd4c2f-37ef-445f-b8b2-14b86a0072f0",
   "metadata": {
    "execution": {
     "iopub.execute_input": "2025-06-09T16:23:15.484777Z",
     "iopub.status.busy": "2025-06-09T16:23:15.484777Z",
     "iopub.status.idle": "2025-06-09T16:23:15.491758Z",
     "shell.execute_reply": "2025-06-09T16:23:15.490412Z",
     "shell.execute_reply.started": "2025-06-09T16:23:15.484777Z"
    }
   },
   "outputs": [],
   "source": [
    "def get_common_nouns():\n",
    "    noun_set = set()\n",
    "    for synset in wn.all_synsets('n'):\n",
    "        for lemma in synset.lemmas():\n",
    "            word = lemma.name().replace(\"_\", \" \")\n",
    "            if word.islower() and word.isalpha():\n",
    "                noun_set.add(word)\n",
    "    return sorted(noun_set)\n",
    "\n",
    "\n",
    "common_nouns = get_common_nouns()\n",
    "print(f\"Found {len(common_nouns)} common English nouns.\")"
   ]
  },
  {
   "cell_type": "code",
   "execution_count": null,
   "id": "3a367246-1c23-49a0-b71c-30114b17c839",
   "metadata": {
    "execution": {
     "iopub.status.busy": "2025-06-09T15:15:19.591466Z",
     "iopub.status.idle": "2025-06-09T15:15:19.592468Z",
     "shell.execute_reply": "2025-06-09T15:15:19.591466Z",
     "shell.execute_reply.started": "2025-06-09T15:15:19.591466Z"
    }
   },
   "outputs": [],
   "source": [
    "# # chosen_countries = ['MY', 'BD', 'IR', 'EG', 'MA', 'NG', 'ID', 'PH']\n",
    "# # ['JP', 'CN', 'KR', 'VN']\n",
    "\n",
    "\n",
    "# sentence_templates = [\n",
    "#     \"My name is {name}.\",\n",
    "#     \"This is {name}, our new team member.\",\n",
    "#     \"Have you met {name} from the accounting department?\",\n",
    "#     \"Everyone was waiting for {name} to arrive.\",\n",
    "#     \"Can you schedule a meeting with {name} next week?\",\n",
    "#     \"Do you remember when {name} joined the company?\",\n",
    "#     \"Isn't {name} presenting at the conference?\",\n",
    "#     \"What did {name} say about the proposal yesterday?\",\n",
    "#     \"{name}, the regional director, approved the budget.\",\n",
    "#     \"The person you spoke to earlier, {name}, will send the report.\",\n",
    "#     \"I met {name} and {name2} at the workshop in Jakarta.\",\n",
    "#     \"{name} said that {name2} might be late due to traffic.\",\n",
    "#     \"During yesterday's meeting, {name} brought up an interesting point.\",\n",
    "#     \"After the interview, we offered {name} the position.\",\n",
    "#     \"Although {name} was nervous, she performed well.\",\n",
    "#     \"At the annual summit in Kuala Lumpur, {name} gave a keynote speech.\",\n",
    "#     \"It was {name} who finalized the agreement.\",\n",
    "#     \"The report, as mentioned by {name} (our new data analyst), needs a revision.\",\n",
    "#     \"The final report was prepared by {name}.\",\n",
    "#     \"Nobody expected {name} to handle the crisis so well.\",\n",
    "#     \"The consultant who was hired by{name} recommended a new tool.\",\n",
    "#     \"The woman seen talking to {name} was the CEO.\",\n",
    "#     \"{name} and his colleague {name2} handled the presentation together.\",\n",
    "#     \"Both {name} and {name2} have extensive experience in logistics.\",\n",
    "#     \"{name} introduced {name2} as the lead consultant on the project.\",\n",
    "#     \"{name}, the new project manager, presented the budget.\",\n",
    "#     \"While the proposal was being finalized by the marketing team, {name}, who had just returned from Singapore, raised an objection.\",\n",
    "# ]"
   ]
  },
  {
   "cell_type": "code",
   "execution_count": null,
   "id": "442417e6-ddf9-4cbf-9529-f7480fc196d5",
   "metadata": {
    "execution": {
     "iopub.status.busy": "2025-06-09T15:15:19.594727Z",
     "iopub.status.idle": "2025-06-09T15:15:19.595730Z",
     "shell.execute_reply": "2025-06-09T15:15:19.594727Z",
     "shell.execute_reply.started": "2025-06-09T15:15:19.594727Z"
    }
   },
   "outputs": [],
   "source": [
    "nd = NameDataset()\n",
    "country_codes = nd.get_country_codes()\n",
    "\n",
    "continent_names = {\n",
    "    'AF': 'Africa',\n",
    "    'NA': 'North America',\n",
    "    'OC': 'Oceania',\n",
    "    'AN': 'Antarctica',\n",
    "    'AS': 'Asia',\n",
    "    'EU': 'Europe',\n",
    "    'SA': 'South America',\n",
    "}\n",
    "\n",
    "continent_to_code = defaultdict(list)\n",
    "\n",
    "continent_to_countries = defaultdict(list)\n",
    "\n",
    "for code in country_codes:\n",
    "    try:\n",
    "        alpha_2 = code.alpha_2\n",
    "        country = pycountry.countries.get(alpha_2=alpha_2)\n",
    "        if not country:\n",
    "            continue\n",
    "\n",
    "        continent_code = pc.country_alpha2_to_continent_code(alpha_2)\n",
    "        continent = continent_names[continent_code]\n",
    "\n",
    "        continent_to_code[continent].append(alpha_2)\n",
    "        continent_to_countries[continent].append((alpha_2, country.name))\n",
    "\n",
    "    except Exception as e:\n",
    "        print(f\"Skipping {code} due to error: {e}\")\n",
    "        continue"
   ]
  },
  {
   "cell_type": "code",
   "execution_count": null,
   "id": "f7e40c24-e8b5-4227-b3eb-1b9d3f8fe084",
   "metadata": {
    "execution": {
     "iopub.status.busy": "2025-06-09T15:15:19.597730Z",
     "iopub.status.idle": "2025-06-09T15:15:19.599245Z",
     "shell.execute_reply": "2025-06-09T15:15:19.599245Z",
     "shell.execute_reply.started": "2025-06-09T15:15:19.597730Z"
    }
   },
   "outputs": [],
   "source": [
    "def get_names(country, n=10):\n",
    "    names_dict = nd.get_top_names(n=n, country_alpha2=country)\n",
    "    names = []\n",
    "    if country in names_dict:\n",
    "        country_names = names_dict[country]\n",
    "        for gender in ['M', 'F']:\n",
    "            if gender in country_names:\n",
    "                names.extend(country_names[gender])\n",
    "    return list(set(names))\n",
    "\n",
    "\n",
    "def tokenize(text):\n",
    "    tokens = re.findall(r\"\\w+|[^\\w\\s]\", text, re.UNICODE)\n",
    "    return tokens\n",
    "\n",
    "\n",
    "def tag_tokens(tokens, person_names):\n",
    "    tags = [\"O\"] * len(tokens)\n",
    "    for name in person_names:\n",
    "        name_tokens = name.split()\n",
    "        n_len = len(name_tokens)\n",
    "        for i in range(len(tokens) - n_len + 1):\n",
    "            if tokens[i:i + n_len] == name_tokens:\n",
    "                tags[i] = \"B-PER\"\n",
    "                for j in range(i + 1, i + n_len):\n",
    "                    tags[j] = \"I-PER\"\n",
    "    return tags\n",
    "\n",
    "\n",
    "def generate_challenge_dataset(num_samples=300):\n",
    "    dataset = []\n",
    "\n",
    "    for _ in range(num_samples):\n",
    "        country = random.choice(chosen_countries)\n",
    "        names = get_names(country, n=10)\n",
    "        if not names:\n",
    "            continue\n",
    "\n",
    "        if len(names) == 1:\n",
    "            name1 = names[0]\n",
    "            name2 = None\n",
    "        else:\n",
    "            name1, name2 = random.sample(names, 2)\n",
    "\n",
    "        template = random.choice(sentence_templates)\n",
    "\n",
    "        if \"{name2}\" in template and name2 is None:\n",
    "            sentence = template.format(name=name1, name2=name1)\n",
    "            person_names = [name1]\n",
    "        elif \"{name2}\" in template:\n",
    "            sentence = template.format(name=name1, name2=name2)\n",
    "            person_names = [name1, name2]\n",
    "        else:\n",
    "            sentence = template.format(name=name1)\n",
    "            person_names = [name1]\n",
    "\n",
    "        tokens = tokenize(sentence)\n",
    "        tags = tag_tokens(tokens, person_names)\n",
    "\n",
    "        dataset.append(list(zip(tokens, tags)))\n",
    "\n",
    "    return dataset\n",
    "\n",
    "\n",
    "def save_to_csv(dataset, filepath=\"non_western_ner_challenge.csv\"):\n",
    "    with open(filepath, mode=\"w\", encoding=\"utf-8\", newline=\"\") as f:\n",
    "        writer = csv.writer(f)\n",
    "        writer.writerow([\"sentence_id\", \"token\", \"tag\"])\n",
    "        for idx, sentence in enumerate(dataset):\n",
    "            for token, tag in sentence:\n",
    "                writer.writerow([idx, token, tag])"
   ]
  },
  {
   "cell_type": "code",
   "execution_count": null,
   "id": "df388b0d-e792-443d-b9e7-68c15f2f70db",
   "metadata": {
    "execution": {
     "iopub.status.busy": "2025-06-09T15:15:19.602282Z",
     "iopub.status.idle": "2025-06-09T15:15:19.603283Z",
     "shell.execute_reply": "2025-06-09T15:15:19.602282Z",
     "shell.execute_reply.started": "2025-06-09T15:15:19.602282Z"
    }
   },
   "outputs": [],
   "source": [
    "for x in list(continent_to_code.keys()):\n",
    "    print('Working on ', x)\n",
    "    chosen_countries = continent_to_code[x]\n",
    "    data = generate_challenge_dataset(num_samples=1000)\n",
    "    save_to_csv(data, x+'_ner_challenge.csv')\n",
    "    print(f\"Saved {\n",
    "          len(data)} sentences with non-Western names to {x}_ner_challenge.csv\")"
   ]
  },
  {
   "cell_type": "code",
   "execution_count": null,
   "id": "7ba8822c-450b-4b4c-8c07-284e6bd814bc",
   "metadata": {
    "execution": {
     "iopub.status.busy": "2025-06-09T15:15:19.606538Z",
     "iopub.status.idle": "2025-06-09T15:15:19.607539Z",
     "shell.execute_reply": "2025-06-09T15:15:19.606538Z",
     "shell.execute_reply.started": "2025-06-09T15:15:19.606538Z"
    }
   },
   "outputs": [],
   "source": [
    "name_data = []\n",
    "\n",
    "\n",
    "def evaluate_csv(file):\n",
    "    print('evaluating', file)\n",
    "    scripted_challenge = pd.read_csv(file)\n",
    "\n",
    "    examples = []\n",
    "    for sentence_id, group in scripted_challenge.groupby(\"sentence_id\"):\n",
    "        tokens = group[\"token\"].tolist()\n",
    "        tags = group[\"tag\"].tolist()\n",
    "        examples.append({\"tokens\": tokens, \"ner_tags\": tags})\n",
    "\n",
    "    unique_tags = sorted(set(tag for ex in examples for tag in ex[\"ner_tags\"]))\n",
    "\n",
    "    for ex in examples:\n",
    "        ex[\"labels\"] = [conll_label_to_id[tag] for tag in ex[\"ner_tags\"]]\n",
    "\n",
    "    challenge_dataset = Dataset.from_list(examples)\n",
    "    tokenized = challenge_dataset.map(tokenize_and_align_labels, batched=True)\n",
    "    a = CBC_trainer.predict(tokenized)\n",
    "\n",
    "    with open(f'./results/challenge_{file[:-3]}.pkl', 'wb') as f:\n",
    "        pickle.dump(a, f)\n",
    "\n",
    "    x, y = evaluate_predictions(a, tokenized)\n",
    "    print()\n",
    "    print('-'*30)\n",
    "\n",
    "    # a['eval_PER']['name'] = file\n",
    "    # name_data.append(a['eval_PER'])\n",
    "    # print(a['eval_PER'])\n",
    "    # print()"
   ]
  },
  {
   "cell_type": "code",
   "execution_count": null,
   "id": "820fdce4-2e77-479b-b276-af5952269e6f",
   "metadata": {
    "execution": {
     "iopub.status.busy": "2025-06-09T15:15:19.609054Z",
     "iopub.status.idle": "2025-06-09T15:15:19.610066Z",
     "shell.execute_reply": "2025-06-09T15:15:19.610066Z",
     "shell.execute_reply.started": "2025-06-09T15:15:19.610066Z"
    }
   },
   "outputs": [],
   "source": [
    "for x in list(continent_to_code.keys()):\n",
    "    evaluate_csv(x+'_ner_challenge.csv')"
   ]
  },
  {
   "cell_type": "code",
   "execution_count": null,
   "id": "ee8b91ef-773e-4054-8823-7d595b275b6e",
   "metadata": {
    "execution": {
     "iopub.status.busy": "2025-06-09T15:15:19.612066Z",
     "iopub.status.idle": "2025-06-09T15:15:19.613067Z",
     "shell.execute_reply": "2025-06-09T15:15:19.613067Z",
     "shell.execute_reply.started": "2025-06-09T15:15:19.613067Z"
    }
   },
   "outputs": [],
   "source": [
    "# def evaluate_csv_error(file):\n",
    "#     print('evaluating', file)\n",
    "#     scripted_challenge = pd.read_csv(file)\n",
    "\n",
    "#     examples = []\n",
    "#     for sentence_id, group in scripted_challenge.groupby(\"sentence_id\"):\n",
    "#         tokens = group[\"token\"].tolist()\n",
    "#         tags = group[\"tag\"].tolist()\n",
    "#         examples.append({\"tokens\": tokens, \"ner_tags\": tags})\n",
    "\n",
    "#     for ex in examples:\n",
    "#         ex[\"labels\"] = [conll_label_to_id[tag] for tag in ex[\"ner_tags\"]]\n",
    "\n",
    "#     challenge_dataset = Dataset.from_list(examples)\n",
    "#     tokenized = challenge_dataset.map(tokenize_and_align_labels, batched=True)\n",
    "\n",
    "#     # Get model predictions\n",
    "#     outputs = CBC_trainer.predict(tokenized)\n",
    "#     predictions = outputs.predictions.argmax(-1)\n",
    "#     true_labels = outputs.label_ids\n",
    "\n",
    "#     # Error analysis\n",
    "#     for i, example in enumerate(examples):\n",
    "#         tokens = example['tokens']\n",
    "#         expected_tags = example['ner_tags']\n",
    "#         predicted_ids = predictions[i]\n",
    "#         true_ids = true_labels[i]\n",
    "\n",
    "#         predicted_tags = [id2label[id_] for id_, true_id in zip(\n",
    "#             predicted_ids, true_ids) if true_id != -100]\n",
    "#         expected_tags_clean = [id2label[true_id]\n",
    "#                                for true_id in true_ids if true_id != -100]\n",
    "#         tokens_clean = [t for t, true_id in zip(\n",
    "#             tokens, true_ids) if true_id != -100]\n",
    "\n",
    "#         for token, expected, predicted in zip(tokens_clean, expected_tags_clean, predicted_tags):\n",
    "#             if expected != predicted:\n",
    "#                 print(f\"Word: {token}\")\n",
    "#                 print(f\"Expected tag: {expected}\")\n",
    "#                 print(f\"Predicted tag: {predicted}\")\n",
    "#                 print(f\"Full sentence: {' '.join(tokens)}\")\n",
    "#                 print(\"------\")"
   ]
  },
  {
   "cell_type": "code",
   "execution_count": null,
   "id": "003d5fa4-200a-4935-8a2b-b156c0751cce",
   "metadata": {
    "execution": {
     "iopub.status.busy": "2025-06-09T15:15:19.615582Z",
     "iopub.status.idle": "2025-06-09T15:15:19.616580Z",
     "shell.execute_reply": "2025-06-09T15:15:19.616580Z",
     "shell.execute_reply.started": "2025-06-09T15:15:19.616580Z"
    },
    "scrolled": true
   },
   "outputs": [],
   "source": [
    "# evaluate_csv_error('Oceania_ner_challenge.csv')"
   ]
  },
  {
   "cell_type": "code",
   "execution_count": null,
   "id": "2d8971ef-8e04-4ecb-9078-8fc8502d1cf9",
   "metadata": {
    "execution": {
     "iopub.status.busy": "2025-06-09T15:15:19.619097Z",
     "iopub.status.idle": "2025-06-09T15:15:19.620109Z",
     "shell.execute_reply": "2025-06-09T15:15:19.620109Z",
     "shell.execute_reply.started": "2025-06-09T15:15:19.620109Z"
    }
   },
   "outputs": [],
   "source": [
    "# df = pd.DataFrame(name_data)\n",
    "\n",
    "# # Extract region names\n",
    "# df[\"region\"] = df[\"name\"].apply(lambda x: x.split(\"_ner_challenge\")[0])\n",
    "\n",
    "# # Plot settings\n",
    "# metrics = [\"precision\", \"recall\", \"f1\"]\n",
    "# colors = [\"#66c2a5\", \"#fc8d62\", \"#8da0cb\"]\n",
    "# y_limits = {\"precision\": (0.95, 1.01), \"recall\": (\n",
    "#     0.8, 1.05), \"f1\": (0.9, 1.01)}\n",
    "\n",
    "# fig, axs = plt.subplots(3, 1, figsize=(10, 14))\n",
    "\n",
    "# for i, met in enumerate(metrics):\n",
    "#     sns.barplot(data=df, x=\"region\", y=met, ax=axs[i], color=colors[i])\n",
    "#     axs[i].set_title(met.capitalize())\n",
    "#     axs[i].set_ylabel(\"Score\")\n",
    "#     axs[i].set_ylim(y_limits[met])\n",
    "#     axs[i].set_xlabel(\"Region\")\n",
    "#     axs[i].tick_params(axis='x', rotation=45)\n",
    "\n",
    "#     # Add values on top of bars\n",
    "#     for p in axs[i].patches:\n",
    "#         height = p.get_height()\n",
    "#         axs[i].annotate(f'{height:.3f}',\n",
    "#                         (p.get_x() + p.get_width() / 2, height),\n",
    "#                         ha='center', va='bottom', fontsize=10)\n",
    "\n",
    "# fig.suptitle(\"NER Challenge Metrics by Region\", fontsize=16)\n",
    "# plt.tight_layout(rect=[0, 0, 1, 0.95])\n",
    "\n",
    "# plt.show()"
   ]
  },
  {
   "cell_type": "code",
   "execution_count": null,
   "id": "cd2968cb-dd0f-4d82-8a22-718e548907e4",
   "metadata": {
    "execution": {
     "iopub.status.busy": "2025-06-09T15:15:19.623629Z",
     "iopub.status.idle": "2025-06-09T15:15:19.624630Z",
     "shell.execute_reply": "2025-06-09T15:15:19.624630Z",
     "shell.execute_reply.started": "2025-06-09T15:15:19.624630Z"
    }
   },
   "outputs": [],
   "source": [
    "# scripted_challenge = pd.read_csv(\"non_western_ner_challenge.csv\")\n",
    "\n",
    "# examples = []\n",
    "# for sentence_id, group in scripted_challenge.groupby(\"sentence_id\"):\n",
    "#     tokens = group[\"token\"].tolist()\n",
    "#     tags = group[\"tag\"].tolist()\n",
    "#     examples.append({\"tokens\": tokens, \"ner_tags\": tags})\n",
    "\n",
    "\n",
    "# for ex in examples:\n",
    "#     ex[\"labels\"] = [conll_label_to_id[tag] for tag in ex[\"ner_tags\"]]"
   ]
  },
  {
   "cell_type": "code",
   "execution_count": null,
   "id": "77bc0a8b-a953-4a14-858d-5a13fc8fcf86",
   "metadata": {
    "execution": {
     "iopub.status.busy": "2025-06-09T15:15:19.626630Z",
     "iopub.status.idle": "2025-06-09T15:15:19.627633Z",
     "shell.execute_reply": "2025-06-09T15:15:19.627633Z",
     "shell.execute_reply.started": "2025-06-09T15:15:19.627633Z"
    }
   },
   "outputs": [],
   "source": [
    "# challenge_dataset = Dataset.from_list(examples)\n",
    "# tokenized = challenge_dataset.map(tokenize_and_align_labels, batched=True)\n",
    "# predictions_output = CBC_trainer.predict(tokenized)"
   ]
  },
  {
   "cell_type": "code",
   "execution_count": null,
   "id": "ef12867d-3d77-4bf4-8bf8-cbc656bea039",
   "metadata": {
    "execution": {
     "iopub.status.busy": "2025-06-09T15:15:19.630163Z",
     "iopub.status.idle": "2025-06-09T15:15:19.630163Z",
     "shell.execute_reply": "2025-06-09T15:15:19.630163Z",
     "shell.execute_reply.started": "2025-06-09T15:15:19.630163Z"
    }
   },
   "outputs": [],
   "source": [
    "# CBC_trainer.evaluate(tokenized)"
   ]
  },
  {
   "cell_type": "code",
   "execution_count": null,
   "id": "9f876c0a-7251-4ce7-958e-809ba84b3e74",
   "metadata": {
    "execution": {
     "iopub.status.busy": "2025-06-09T15:15:19.633177Z",
     "iopub.status.idle": "2025-06-09T15:15:19.634175Z",
     "shell.execute_reply": "2025-06-09T15:15:19.634175Z",
     "shell.execute_reply.started": "2025-06-09T15:15:19.634175Z"
    },
    "scrolled": true
   },
   "outputs": [],
   "source": [
    "# pred_logits = predictions_output.predictions\n",
    "# true_labels = predictions_output.label_ids\n",
    "\n",
    "# pred_label_ids = np.argmax(pred_logits, axis=2)\n",
    "\n",
    "# id2tag = {i: tag for tag, i in conll_label_to_id.items()}\n",
    "\n",
    "# wrong_sentences = []\n",
    "# for i in range(len(true_labels)):\n",
    "#     gold = true_labels[i]\n",
    "#     pred = pred_label_ids[i]\n",
    "\n",
    "#     gold_filtered = [id2tag[lab] for lab, p in zip(gold, pred) if lab != -100]\n",
    "#     pred_filtered = [id2tag[p] for lab, p in zip(gold, pred) if lab != -100]\n",
    "\n",
    "#     gold_bper_positions = [idx for idx, tag in enumerate(\n",
    "#         gold_filtered) if tag == 'B-PER']\n",
    "#     pred_bper_positions = [idx for idx, tag in enumerate(\n",
    "#         pred_filtered) if tag == 'B-PER']\n",
    "\n",
    "#     # if gold_bper_positions != pred_bper_positions:\n",
    "#     wrong_sentences.append({\n",
    "#         \"index\": i,\n",
    "#         \"tokens\": tokenized[i][\"tokens\"],\n",
    "#         \"gold_labels\": gold_filtered,\n",
    "#         \"pred_labels\": pred_filtered,\n",
    "#     })"
   ]
  },
  {
   "cell_type": "code",
   "execution_count": null,
   "id": "9e32a1b2-4b25-4ea8-a023-93bb845eb424",
   "metadata": {
    "execution": {
     "iopub.status.busy": "2025-06-09T15:15:19.637174Z",
     "iopub.status.idle": "2025-06-09T15:15:19.638173Z",
     "shell.execute_reply": "2025-06-09T15:15:19.638173Z",
     "shell.execute_reply.started": "2025-06-09T15:15:19.638173Z"
    },
    "scrolled": true
   },
   "outputs": [],
   "source": [
    "# for idx, i in enumerate(wrong_sentences):\n",
    "#     print(str(idx+1) + \" \" + \" \".join(i['tokens']))\n",
    "#     print(i['gold_labels'])\n",
    "#     print(i['pred_labels'])\n",
    "#     print()"
   ]
  },
  {
   "cell_type": "markdown",
   "id": "c9a77fb1-35db-4b2e-9948-3bf24bb953ed",
   "metadata": {
    "jp-MarkdownHeadingCollapsed": true
   },
   "source": [
    "# Seed Variability"
   ]
  },
  {
   "cell_type": "code",
   "execution_count": null,
   "id": "14a8e03f-00af-415b-af3a-8a5e9fef7956",
   "metadata": {
    "execution": {
     "iopub.status.busy": "2025-06-09T15:15:19.639689Z",
     "iopub.status.idle": "2025-06-09T15:15:19.641717Z",
     "shell.execute_reply": "2025-06-09T15:15:19.640702Z",
     "shell.execute_reply.started": "2025-06-09T15:15:19.640702Z"
    }
   },
   "outputs": [],
   "source": [
    "\n",
    "# tokenizer = AutoTokenizer.from_pretrained(model_name)\n",
    "\n",
    "# conll_label_to_id = {'O': 0, 'B-PER': 1, 'I-PER': 2, 'B-ORG': 3,\n",
    "#                      'I-ORG': 4, 'B-LOC': 5, 'I-LOC': 6, 'B-MISC': 7, 'I-MISC': 8}\n",
    "# id2label = {v: k for k, v in conll_label_to_id.items()}\n",
    "\n",
    "# conll_encoded = load_from_disk(\"./splits/conll_encoded\")\n",
    "# ontonotes_encoded = load_from_disk(\"./splits/ontonotes_encoded\")\n",
    "\n",
    "# data_collator = DataCollatorForTokenClassification(tokenizer)\n",
    "\n",
    "\n",
    "# def compute_metrics(p):\n",
    "#     predictions, labels = p\n",
    "#     predictions = predictions.argmax(axis=-1)\n",
    "\n",
    "#     true_predictions = []\n",
    "#     true_labels = []\n",
    "\n",
    "#     for pred_seq, label_seq in zip(predictions, labels):\n",
    "#         true_predictions.append(\n",
    "#             [id2label[p] for p, l in zip(pred_seq, label_seq) if l != -100])\n",
    "#         true_labels.append([id2label[l] for l in label_seq if l != -100])\n",
    "\n",
    "#     return metric.compute(predictions=true_predictions, references=true_labels)"
   ]
  },
  {
   "cell_type": "code",
   "execution_count": 42,
   "id": "7a4dd316-8556-4f45-8bcc-03c5da965b9f",
   "metadata": {
    "execution": {
     "iopub.execute_input": "2025-06-11T12:34:33.802527Z",
     "iopub.status.busy": "2025-06-11T12:34:33.802527Z",
     "iopub.status.idle": "2025-06-11T12:34:52.294592Z",
     "shell.execute_reply": "2025-06-11T12:34:52.293579Z",
     "shell.execute_reply.started": "2025-06-11T12:34:33.802527Z"
    },
    "scrolled": true
   },
   "outputs": [
    {
     "name": "stderr",
     "output_type": "stream",
     "text": [
      "Some weights of BertForTokenClassification were not initialized from the model checkpoint at bert-base-cased and are newly initialized: ['classifier.bias', 'classifier.weight']\n",
      "You should probably TRAIN this model on a down-stream task to be able to use it for predictions and inference.\n",
      "C:\\Users\\NIKHIL\\AppData\\Local\\Temp\\ipykernel_14080\\3316735707.py:29: FutureWarning: `tokenizer` is deprecated and will be removed in version 5.0.0 for `Trainer.__init__`. Use `processing_class` instead.\n",
      "  CBC_trainer = Trainer(\n"
     ]
    },
    {
     "data": {
      "text/html": [
       "\n",
       "    <div>\n",
       "      \n",
       "      <progress value='3' max='3' style='width:300px; height:20px; vertical-align: middle;'></progress>\n",
       "      [3/3 00:02, Epoch 3/3]\n",
       "    </div>\n",
       "    <table border=\"1\" class=\"dataframe\">\n",
       "  <thead>\n",
       " <tr style=\"text-align: left;\">\n",
       "      <th>Step</th>\n",
       "      <th>Training Loss</th>\n",
       "    </tr>\n",
       "  </thead>\n",
       "  <tbody>\n",
       "  </tbody>\n",
       "</table><p>"
      ],
      "text/plain": [
       "<IPython.core.display.HTML object>"
      ]
     },
     "metadata": {},
     "output_type": "display_data"
    },
    {
     "data": {
      "text/html": [],
      "text/plain": [
       "<IPython.core.display.HTML object>"
      ]
     },
     "metadata": {},
     "output_type": "display_data"
    },
    {
     "name": "stderr",
     "output_type": "stream",
     "text": [
      "E:\\Software\\Anaconda\\Lib\\site-packages\\seqeval\\metrics\\v1.py:57: UndefinedMetricWarning: Recall and F-score are ill-defined and being set to 0.0 in labels with no true samples. Use `zero_division` parameter to control this behavior.\n",
      "  _warn_prf(average, modifier, msg_start, len(result))\n"
     ]
    },
    {
     "name": "stdout",
     "output_type": "stream",
     "text": [
      "pred len 3\n",
      "              precision    recall  f1-score   support\n",
      "\n",
      "       B-LOC       0.00      0.00      0.00         1\n",
      "      B-MISC       0.00      0.00      0.00         3\n",
      "       B-ORG       0.00      0.00      0.00         0\n",
      "       B-PER       0.00      0.00      0.00         0\n",
      "       I-LOC       0.00      0.00      0.00         0\n",
      "      I-MISC       0.11      0.50      0.18         2\n",
      "       I-ORG       0.00      0.00      0.00         0\n",
      "       I-PER       0.00      0.00      0.00         0\n",
      "           O       0.94      0.17      0.29       175\n",
      "\n",
      "    accuracy                           0.17       181\n",
      "   macro avg       0.12      0.07      0.05       181\n",
      "weighted avg       0.91      0.17      0.28       181\n",
      "\n"
     ]
    },
    {
     "name": "stderr",
     "output_type": "stream",
     "text": [
      "Some weights of BertForTokenClassification were not initialized from the model checkpoint at bert-base-cased and are newly initialized: ['classifier.bias', 'classifier.weight']\n",
      "You should probably TRAIN this model on a down-stream task to be able to use it for predictions and inference.\n",
      "C:\\Users\\NIKHIL\\AppData\\Local\\Temp\\ipykernel_14080\\3316735707.py:29: FutureWarning: `tokenizer` is deprecated and will be removed in version 5.0.0 for `Trainer.__init__`. Use `processing_class` instead.\n",
      "  CBC_trainer = Trainer(\n"
     ]
    },
    {
     "data": {
      "text/html": [
       "\n",
       "    <div>\n",
       "      \n",
       "      <progress value='3' max='3' style='width:300px; height:20px; vertical-align: middle;'></progress>\n",
       "      [3/3 00:02, Epoch 3/3]\n",
       "    </div>\n",
       "    <table border=\"1\" class=\"dataframe\">\n",
       "  <thead>\n",
       " <tr style=\"text-align: left;\">\n",
       "      <th>Step</th>\n",
       "      <th>Training Loss</th>\n",
       "    </tr>\n",
       "  </thead>\n",
       "  <tbody>\n",
       "  </tbody>\n",
       "</table><p>"
      ],
      "text/plain": [
       "<IPython.core.display.HTML object>"
      ]
     },
     "metadata": {},
     "output_type": "display_data"
    },
    {
     "data": {
      "text/html": [],
      "text/plain": [
       "<IPython.core.display.HTML object>"
      ]
     },
     "metadata": {},
     "output_type": "display_data"
    },
    {
     "name": "stderr",
     "output_type": "stream",
     "text": [
      "E:\\Software\\Anaconda\\Lib\\site-packages\\seqeval\\metrics\\v1.py:57: UndefinedMetricWarning: Recall and F-score are ill-defined and being set to 0.0 in labels with no true samples. Use `zero_division` parameter to control this behavior.\n",
      "  _warn_prf(average, modifier, msg_start, len(result))\n"
     ]
    },
    {
     "name": "stdout",
     "output_type": "stream",
     "text": [
      "pred len 3\n",
      "              precision    recall  f1-score   support\n",
      "\n",
      "       B-LOC       0.00      0.00      0.00         1\n",
      "      B-MISC       0.00      0.00      0.00         3\n",
      "       B-ORG       0.00      0.00      0.00         0\n",
      "      I-MISC       0.00      0.00      0.00         2\n",
      "       I-ORG       0.00      0.00      0.00         0\n",
      "       I-PER       0.00      0.00      0.00         0\n",
      "           O       1.00      0.35      0.52       175\n",
      "\n",
      "    accuracy                           0.34       181\n",
      "   macro avg       0.14      0.05      0.07       181\n",
      "weighted avg       0.97      0.34      0.50       181\n",
      "\n"
     ]
    }
   ],
   "source": [
    "seeds = [42, 106]\n",
    "results = []\n",
    "\n",
    "for seed in seeds:\n",
    "    set_seed(seed)\n",
    "\n",
    "    conll_model = AutoModelForTokenClassification.from_pretrained(\n",
    "        model_name,\n",
    "        num_labels=len(conll_label_to_id)\n",
    "    )\n",
    "\n",
    "    conll_args = TrainingArguments(\n",
    "        output_dir=f\"./results/conll_seed_{seed}\",\n",
    "        seed=seed,\n",
    "        eval_strategy=\"no\",\n",
    "        learning_rate=2e-5,\n",
    "        per_device_train_batch_size=8,\n",
    "        per_device_eval_batch_size=8,\n",
    "        gradient_accumulation_steps=2,\n",
    "        num_train_epochs=3,\n",
    "        weight_decay=0.01,\n",
    "        load_best_model_at_end=True,\n",
    "        report_to=\"none\",\n",
    "        fp16=True,\n",
    "        logging_steps=1000,\n",
    "        save_strategy=\"no\",\n",
    "    )\n",
    "\n",
    "    CBC_trainer = Trainer(\n",
    "        model=conll_model,\n",
    "        args=conll_args,\n",
    "        train_dataset=conll_main,\n",
    "        eval_dataset=ontonotes_main,\n",
    "        tokenizer=tokenizer,\n",
    "        data_collator=data_collator,\n",
    "        compute_metrics=compute_metrics,\n",
    "    )\n",
    "\n",
    "    CBC_trainer.train()\n",
    "    CBC_trainer.save_model(\"./saved_model/conll_seed_\"+str(seed))\n",
    "\n",
    "    pred = CBC_trainer.predict(ontonotes_main)\n",
    "\n",
    "    print('pred len', len(pred))\n",
    "    x, y = evaluate_predictions(pred, ontonotes_main)\n",
    "    eval_result = {'predictions': x, 'seed': seed}\n",
    "    results.append(eval_result)\n",
    "    with open('./results/seed_var_results.pkl', 'wb') as f:\n",
    "        pickle.dump(results, f)"
   ]
  },
  {
   "cell_type": "code",
   "execution_count": 33,
   "id": "ee9a317a-7bc8-4283-80e2-dc82360cbe9b",
   "metadata": {
    "execution": {
     "iopub.execute_input": "2025-06-12T14:58:30.785360Z",
     "iopub.status.busy": "2025-06-12T14:58:30.785360Z",
     "iopub.status.idle": "2025-06-12T14:58:31.118473Z",
     "shell.execute_reply": "2025-06-12T14:58:31.117462Z",
     "shell.execute_reply.started": "2025-06-12T14:58:30.785360Z"
    }
   },
   "outputs": [],
   "source": [
    "with open('./results/seed_var_results.pkl', 'rb') as f:\n",
    "    seed_res = pickle.load(f)"
   ]
  },
  {
   "cell_type": "code",
   "execution_count": 43,
   "id": "9c499fcf-70b1-46d4-b0b9-8217b0c17d36",
   "metadata": {
    "execution": {
     "iopub.execute_input": "2025-06-12T15:05:28.228202Z",
     "iopub.status.busy": "2025-06-12T15:05:28.228202Z",
     "iopub.status.idle": "2025-06-12T15:06:05.816596Z",
     "shell.execute_reply": "2025-06-12T15:06:05.815580Z",
     "shell.execute_reply.started": "2025-06-12T15:05:28.228202Z"
    }
   },
   "outputs": [
    {
     "name": "stdout",
     "output_type": "stream",
     "text": [
      "Cohen's kappa between seed 0 and seed 1: 0.968157\n",
      "Cohen's kappa between seed 0 and seed 2: 0.969363\n",
      "Cohen's kappa between seed 0 and seed 3: 0.967762\n",
      "Cohen's kappa between seed 0 and seed 4: 0.969770\n",
      "Cohen's kappa between seed 1 and seed 2: 0.967929\n",
      "Cohen's kappa between seed 1 and seed 3: 0.966223\n",
      "Cohen's kappa between seed 1 and seed 4: 0.969460\n",
      "Cohen's kappa between seed 2 and seed 3: 0.965784\n",
      "Cohen's kappa between seed 2 and seed 4: 0.969494\n",
      "Cohen's kappa between seed 3 and seed 4: 0.967538\n",
      "\n",
      "Average Cohen's kappa across all pairs: 0.968148\n"
     ]
    }
   ],
   "source": [
    "from sklearn.metrics import cohen_kappa_score\n",
    "from itertools import combinations\n",
    "\n",
    "kappa_scores = []\n",
    "\n",
    "for i, j in combinations(range(len(seed_res)), 2):\n",
    "    preds_i = seed_res[i]['predictions']\n",
    "    preds_j = seed_res[j]['predictions']\n",
    "\n",
    "    kappa = cohen_kappa_score(preds_i, preds_j)\n",
    "    kappa_scores.append(kappa)\n",
    "\n",
    "    print(f\"Cohen's kappa between seed {i} and seed {j}: {kappa:.6f}\")\n",
    "\n",
    "average_kappa = sum(kappa_scores) / len(kappa_scores)\n",
    "print(f\"\\nAverage Cohen's kappa across all pairs: {average_kappa:.6f}\")"
   ]
  },
  {
   "cell_type": "code",
   "execution_count": 44,
   "id": "edf15a7d-d0a4-48fb-be53-2330aec4f100",
   "metadata": {
    "execution": {
     "iopub.execute_input": "2025-06-12T15:07:30.971608Z",
     "iopub.status.busy": "2025-06-12T15:07:30.970600Z",
     "iopub.status.idle": "2025-06-12T15:07:36.137092Z",
     "shell.execute_reply": "2025-06-12T15:07:36.135567Z",
     "shell.execute_reply.started": "2025-06-12T15:07:30.971608Z"
    }
   },
   "outputs": [
    {
     "name": "stdout",
     "output_type": "stream",
     "text": [
      "\n",
      "Krippendorff’s alpha (nominal): 0.968148\n"
     ]
    }
   ],
   "source": [
    "import krippendorff\n",
    "\n",
    "data = np.array([seed['predictions'] for seed in seed_res])\n",
    "\n",
    "alpha = krippendorff.alpha(reliability_data=data,\n",
    "                           level_of_measurement='nominal')\n",
    "\n",
    "print(f\"\\nKrippendorff’s alpha (nominal): {alpha:.6f}\")"
   ]
  }
 ],
 "metadata": {
  "kernelspec": {
   "display_name": "Python 3 (ipykernel)",
   "language": "python",
   "name": "python3"
  },
  "language_info": {
   "codemirror_mode": {
    "name": "ipython",
    "version": 3
   },
   "file_extension": ".py",
   "mimetype": "text/x-python",
   "name": "python",
   "nbconvert_exporter": "python",
   "pygments_lexer": "ipython3",
   "version": "3.12.3"
  }
 },
 "nbformat": 4,
 "nbformat_minor": 5
}
