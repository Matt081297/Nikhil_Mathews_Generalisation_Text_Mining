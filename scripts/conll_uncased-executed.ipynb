{
 "cells": [
  {
   "cell_type": "code",
   "execution_count": 1,
   "id": "8a840269-1836-4e2f-b68f-cf051f8fb4bc",
   "metadata": {
    "editable": true,
    "execution": {
     "iopub.execute_input": "2025-06-14T14:59:16.970204Z",
     "iopub.status.busy": "2025-06-14T14:59:16.969816Z",
     "iopub.status.idle": "2025-06-14T15:00:59.309773Z",
     "shell.execute_reply": "2025-06-14T15:00:59.309151Z"
    },
    "slideshow": {
     "slide_type": ""
    },
    "tags": []
   },
   "outputs": [
    {
     "name": "stderr",
     "output_type": "stream",
     "text": [
      "/scistor/guest/lre040/miniconda3/lib/python3.13/site-packages/tqdm/auto.py:21: TqdmWarning: IProgress not found. Please update jupyter and ipywidgets. See https://ipywidgets.readthedocs.io/en/stable/user_install.html\n",
      "  from .autonotebook import tqdm as notebook_tqdm\n"
     ]
    }
   ],
   "source": [
    "import csv\n",
    "import json\n",
    "import random\n",
    "import re\n",
    "from collections import Counter, defaultdict\n",
    "\n",
    "import matplotlib.pyplot as plt\n",
    "import matplotlib.ticker as mtick\n",
    "import numpy as np\n",
    "import pandas as pd\n",
    "import seaborn as sns\n",
    "\n",
    "import torch\n",
    "\n",
    "from datasets import (\n",
    "    Dataset,\n",
    "    DatasetDict,\n",
    "    concatenate_datasets,\n",
    "    load_dataset,\n",
    "    load_from_disk,\n",
    ")\n",
    "from transformers import (\n",
    "    AutoModelForTokenClassification,\n",
    "    AutoTokenizer,\n",
    "    DataCollatorForTokenClassification,\n",
    "    Trainer,\n",
    "    TrainingArguments,\n",
    "    set_seed,\n",
    ")\n",
    "\n",
    "import evaluate\n",
    "\n",
    "from nameparser import HumanName\n",
    "from names_dataset import NameDataset, NameWrapper\n",
    "from ethnicseer import EthnicClassifier\n",
    "import nltk\n",
    "from nltk.corpus import wordnet as wn\n",
    "\n",
    "import pycountry_convert as pc\n",
    "import pycountry\n",
    "import pickle\n",
    "\n",
    "from sklearn.metrics import confusion_matrix, ConfusionMatrixDisplay, classification_report, cohen_kappa_score\n",
    "\n",
    "from transformers import BertTokenizerFast, BertForTokenClassification\n",
    "from datasets import ClassLabel\n",
    "from evaluate import load as load_metric\n",
    "from sklearn.metrics import cohen_kappa_score\n",
    "from itertools import combinations\n",
    "import krippendorff"
   ]
  },
  {
   "cell_type": "code",
   "execution_count": 2,
   "id": "b7573e05-e012-4aad-8cc8-cf1059f36e17",
   "metadata": {
    "execution": {
     "iopub.execute_input": "2025-06-14T15:00:59.312675Z",
     "iopub.status.busy": "2025-06-14T15:00:59.311963Z",
     "iopub.status.idle": "2025-06-14T15:00:59.315843Z",
     "shell.execute_reply": "2025-06-14T15:00:59.315416Z"
    }
   },
   "outputs": [],
   "source": [
    "model_name = \"bert-base-uncased\""
   ]
  },
  {
   "cell_type": "code",
   "execution_count": 3,
   "id": "d9aad505-c3e4-4097-9cbb-a52fd4904934",
   "metadata": {
    "execution": {
     "iopub.execute_input": "2025-06-14T15:00:59.317586Z",
     "iopub.status.busy": "2025-06-14T15:00:59.317254Z",
     "iopub.status.idle": "2025-06-14T15:00:59.456182Z",
     "shell.execute_reply": "2025-06-14T15:00:59.455652Z"
    },
    "scrolled": true
   },
   "outputs": [],
   "source": [
    "conll_main = load_from_disk(\"./splits/conll_main\")\n",
    "\n",
    "ontonotes_main = load_from_disk(\"./splits/ontonotes_main\")"
   ]
  },
  {
   "cell_type": "markdown",
   "id": "7b2c4f89-dbd0-41cf-94ea-65816c3250ca",
   "metadata": {},
   "source": [
    "# Load GPU"
   ]
  },
  {
   "cell_type": "code",
   "execution_count": 4,
   "id": "28293a63-0d2c-4656-9288-8872aa08c838",
   "metadata": {
    "execution": {
     "iopub.execute_input": "2025-06-14T15:00:59.458484Z",
     "iopub.status.busy": "2025-06-14T15:00:59.458244Z",
     "iopub.status.idle": "2025-06-14T15:00:59.516917Z",
     "shell.execute_reply": "2025-06-14T15:00:59.516412Z"
    }
   },
   "outputs": [
    {
     "name": "stdout",
     "output_type": "stream",
     "text": [
      "Using device: cuda\n"
     ]
    }
   ],
   "source": [
    "device = torch.device(\"cuda\" if torch.cuda.is_available() else \"cpu\")\n",
    "print(\"Using device:\", device)"
   ]
  },
  {
   "cell_type": "markdown",
   "id": "b5b951be-37ac-4db8-bcc5-945356c8bc33",
   "metadata": {},
   "source": [
    "# Tokenisation & Alignment"
   ]
  },
  {
   "cell_type": "code",
   "execution_count": 5,
   "id": "41793608-572c-473b-b770-1cda88a2f950",
   "metadata": {
    "execution": {
     "iopub.execute_input": "2025-06-14T15:00:59.518705Z",
     "iopub.status.busy": "2025-06-14T15:00:59.518473Z",
     "iopub.status.idle": "2025-06-14T15:00:59.522847Z",
     "shell.execute_reply": "2025-06-14T15:00:59.522471Z"
    }
   },
   "outputs": [],
   "source": [
    "ontonotes_id_to_label = {\n",
    "    0: \"O\", 1: \"B-CARDINAL\", 2: \"B-DATE\", 3: \"I-DATE\", 4: \"B-PERSON\", 5: \"I-PERSON\",\n",
    "    6: \"B-NORP\", 7: \"B-GPE\", 8: \"I-GPE\", 9: \"B-LAW\", 10: \"I-LAW\", 11: \"B-ORG\", 12: \"I-ORG\",\n",
    "    13: \"B-PERCENT\", 14: \"I-PERCENT\", 15: \"B-ORDINAL\", 16: \"B-MONEY\", 17: \"I-MONEY\",\n",
    "    18: \"B-WORK_OF_ART\", 19: \"I-WORK_OF_ART\", 20: \"B-FAC\", 21: \"B-TIME\", 22: \"I-CARDINAL\",\n",
    "    23: \"B-LOC\", 24: \"B-QUANTITY\", 25: \"I-QUANTITY\", 26: \"I-NORP\", 27: \"I-LOC\",\n",
    "    28: \"B-PRODUCT\", 29: \"I-TIME\", 30: \"B-EVENT\", 31: \"I-EVENT\", 32: \"I-FAC\",\n",
    "    33: \"B-LANGUAGE\", 34: \"I-PRODUCT\", 35: \"I-ORDINAL\", 36: \"I-LANGUAGE\"\n",
    "}\n",
    "\n",
    "conll_label_to_id = {'O': 0, 'B-PER': 1, 'I-PER': 2, 'B-ORG': 3,\n",
    "                     'I-ORG': 4, 'B-LOC': 5, 'I-LOC': 6, 'B-MISC': 7, 'I-MISC': 8}\n",
    "id2label = {v: k for k, v in conll_label_to_id.items()}\n",
    "\n",
    "ontonotes_to_conll_entity = {\n",
    "    \"PERSON\": \"PER\", \"ORG\": \"ORG\", \"GPE\": \"LOC\", \"LOC\": \"LOC\",\n",
    "    \"NORP\": \"MISC\", \"FAC\": \"MISC\", \"EVENT\": \"MISC\", \"WORK_OF_ART\": \"MISC\",\n",
    "    \"LAW\": \"MISC\", \"PRODUCT\": \"MISC\", \"LANGUAGE\": \"MISC\",\n",
    "    \"DATE\": None, \"TIME\": None, \"PERCENT\": None, \"MONEY\": None,\n",
    "    \"QUANTITY\": None, \"ORDINAL\": None, \"CARDINAL\": None\n",
    "}"
   ]
  },
  {
   "cell_type": "code",
   "execution_count": 6,
   "id": "40659f38-7b60-4393-addc-ff9117eaae6d",
   "metadata": {
    "execution": {
     "iopub.execute_input": "2025-06-14T15:00:59.524447Z",
     "iopub.status.busy": "2025-06-14T15:00:59.524173Z",
     "iopub.status.idle": "2025-06-14T15:00:59.531059Z",
     "shell.execute_reply": "2025-06-14T15:00:59.530666Z"
    }
   },
   "outputs": [],
   "source": [
    "def process_data(data_list):\n",
    "\n",
    "    def process_single(data):\n",
    "        word_ids = data['word_ids']\n",
    "        predictions = data['predictions']\n",
    "        gold = data['gold']\n",
    "        tokenized_tokens = data['tokens']\n",
    "\n",
    "        word_ids = [a for a in word_ids if a is not None]\n",
    "\n",
    "        processed_predictions = []\n",
    "        processed_gold = []\n",
    "\n",
    "        current_word_id = None\n",
    "        current_predictions = []\n",
    "        current_gold = []\n",
    "\n",
    "        for idx, word_id in enumerate(word_ids):\n",
    "            if word_id != current_word_id:\n",
    "                if current_predictions:\n",
    "                    processed_predictions.append(\n",
    "                        Counter(current_predictions).most_common(1)[0][0])\n",
    "                    processed_gold.append(\n",
    "                        Counter(current_gold).most_common(1)[0][0])\n",
    "\n",
    "                current_word_id = word_id\n",
    "                current_predictions = [predictions[idx]]\n",
    "                current_gold = [gold[idx]]\n",
    "            else:\n",
    "                current_predictions.append(predictions[idx])\n",
    "                current_gold.append(gold[idx])\n",
    "\n",
    "        if current_predictions:\n",
    "            processed_predictions.append(\n",
    "                Counter(current_predictions).most_common(1)[0][0])\n",
    "            processed_gold.append(\n",
    "                Counter(current_gold).most_common(1)[0][0])\n",
    "\n",
    "        return processed_predictions, processed_gold\n",
    "\n",
    "    processed_predictions_list = []\n",
    "    processed_gold_list = []\n",
    "\n",
    "    for data in data_list:\n",
    "        processed_predictions, processed_gold = process_single(data)\n",
    "        processed_predictions_list.append(processed_predictions)\n",
    "        processed_gold_list.append(processed_gold)\n",
    "\n",
    "    return processed_predictions_list, processed_gold_list\n",
    "\n",
    "\n",
    "def evaluate_predictions(p, test_data):\n",
    "    predictions, labels, _ = p\n",
    "\n",
    "    pred_indices = [np.argmax(p, axis=-1) for p in predictions]\n",
    "    label_indices = labels\n",
    "\n",
    "    pred_tags = [[id2label[p] for p, l in zip(p_seq, l_seq) if l != -100]\n",
    "                 for p_seq, l_seq in zip(pred_indices, label_indices)]\n",
    "    gold_tags = [[id2label[l] for l in l_seq if l != -100]\n",
    "                 for l_seq in label_indices]\n",
    "\n",
    "    def add_preds(example, idx):\n",
    "        length = len(example['word_ids'])\n",
    "        example['predictions'] = pred_tags[idx][:length]\n",
    "        example['gold'] = gold_tags[idx][:length]\n",
    "        return example\n",
    "\n",
    "    test_data = test_data.map(add_preds, with_indices=True)\n",
    "\n",
    "    length = len(test_data['predictions'][0])\n",
    "\n",
    "    pred, gold = process_data(test_data)\n",
    "\n",
    "    flat_pred = [label for seq in pred for label in seq]\n",
    "    flat_gold = [label for seq in gold for label in seq]\n",
    "\n",
    "    print(classification_report(flat_gold, flat_pred, zero_division=0))\n",
    "\n",
    "    return (flat_pred, flat_gold)"
   ]
  },
  {
   "cell_type": "markdown",
   "id": "b5aaa92f-8ae3-4b54-97e9-8ecd4ceae0a8",
   "metadata": {},
   "source": [
    "# Model"
   ]
  },
  {
   "cell_type": "code",
   "execution_count": 7,
   "id": "8f3daecd-13ac-46f9-8714-d1b09add4691",
   "metadata": {
    "execution": {
     "iopub.execute_input": "2025-06-14T15:00:59.532822Z",
     "iopub.status.busy": "2025-06-14T15:00:59.532455Z",
     "iopub.status.idle": "2025-06-14T15:00:59.981157Z",
     "shell.execute_reply": "2025-06-14T15:00:59.980582Z"
    },
    "scrolled": true
   },
   "outputs": [],
   "source": [
    "tokenizer = BertTokenizerFast.from_pretrained(model_name)\n",
    "\n",
    "label_list = ['O', 'B-PER', 'I-PER', 'B-ORG',\n",
    "              'I-ORG', 'B-LOC', 'I-LOC', 'B-MISC', 'I-MISC']\n",
    "\n",
    "\n",
    "def tokenize_and_align_labels(examples):\n",
    "    tokenized_inputs = tokenizer(\n",
    "        examples[\"tokens\"],\n",
    "        truncation=True,\n",
    "        is_split_into_words=True,\n",
    "        padding=True,\n",
    "        return_special_tokens_mask=True,\n",
    "        return_offsets_mapping=True,\n",
    "    )\n",
    "    all_word_ids = []\n",
    "    all_labels = []\n",
    "    for i, labels in enumerate(examples[\"labels\"]):\n",
    "        word_ids = tokenized_inputs.word_ids(batch_index=i)\n",
    "        all_word_ids.append(word_ids)\n",
    "        previous_word_idx = None\n",
    "        label_ids = []\n",
    "        for word_idx in word_ids:\n",
    "            if word_idx is None:\n",
    "                label_ids.append(-100)\n",
    "            else:\n",
    "                label_ids.append(labels[word_idx])\n",
    "            previous_word_idx = word_idx\n",
    "        all_labels.append(label_ids)\n",
    "\n",
    "    tokenized_inputs[\"labels\"] = all_labels\n",
    "    tokenized_inputs[\"word_ids\"] = all_word_ids\n",
    "    return tokenized_inputs"
   ]
  },
  {
   "cell_type": "code",
   "execution_count": 8,
   "id": "6c54715b-4936-44d7-8bbb-8de8b99c9e4c",
   "metadata": {
    "execution": {
     "iopub.execute_input": "2025-06-14T15:00:59.983769Z",
     "iopub.status.busy": "2025-06-14T15:00:59.983364Z",
     "iopub.status.idle": "2025-06-14T15:01:00.027166Z",
     "shell.execute_reply": "2025-06-14T15:01:00.026665Z"
    },
    "scrolled": true
   },
   "outputs": [],
   "source": [
    "conll_main = conll_main.map(tokenize_and_align_labels, batched=True)\n",
    "ontonotes_main = ontonotes_main.map(tokenize_and_align_labels, batched=True)"
   ]
  },
  {
   "cell_type": "markdown",
   "id": "bd13cc9c-62d8-4590-b3fb-38717515a142",
   "metadata": {},
   "source": [
    "# Deciding params"
   ]
  },
  {
   "cell_type": "code",
   "execution_count": 9,
   "id": "0fb9124a-b0d6-42ac-afad-52f9613636fb",
   "metadata": {
    "execution": {
     "iopub.execute_input": "2025-06-14T15:01:00.029328Z",
     "iopub.status.busy": "2025-06-14T15:01:00.029057Z",
     "iopub.status.idle": "2025-06-14T15:01:00.031594Z",
     "shell.execute_reply": "2025-06-14T15:01:00.031175Z"
    }
   },
   "outputs": [],
   "source": [
    "train_data = conll_main\n",
    "test_data = ontonotes_main"
   ]
  },
  {
   "cell_type": "code",
   "execution_count": 10,
   "id": "ec15c6cf-0e39-4fdf-a1ca-70ea53bd60fa",
   "metadata": {
    "execution": {
     "iopub.execute_input": "2025-06-14T15:01:00.033056Z",
     "iopub.status.busy": "2025-06-14T15:01:00.032847Z",
     "iopub.status.idle": "2025-06-14T15:01:00.035130Z",
     "shell.execute_reply": "2025-06-14T15:01:00.034743Z"
    }
   },
   "outputs": [],
   "source": [
    "train_data_name = 'conll'"
   ]
  },
  {
   "cell_type": "code",
   "execution_count": 11,
   "id": "f947eb63-cced-4ef6-a353-f421fb46b50e",
   "metadata": {
    "execution": {
     "iopub.execute_input": "2025-06-14T15:01:00.036801Z",
     "iopub.status.busy": "2025-06-14T15:01:00.036537Z",
     "iopub.status.idle": "2025-06-14T15:01:02.987126Z",
     "shell.execute_reply": "2025-06-14T15:01:02.986547Z"
    },
    "scrolled": true
   },
   "outputs": [
    {
     "name": "stderr",
     "output_type": "stream",
     "text": [
      "Some weights of BertForTokenClassification were not initialized from the model checkpoint at bert-base-uncased and are newly initialized: ['classifier.bias', 'classifier.weight']\n",
      "You should probably TRAIN this model on a down-stream task to be able to use it for predictions and inference.\n"
     ]
    },
    {
     "name": "stderr",
     "output_type": "stream",
     "text": [
      "/scratch/1051104/ipykernel_1402827/1248433719.py:40: FutureWarning: `tokenizer` is deprecated and will be removed in version 5.0.0 for `Trainer.__init__`. Use `processing_class` instead.\n",
      "  trainer = Trainer(\n"
     ]
    }
   ],
   "source": [
    "mod = BertForTokenClassification.from_pretrained(\n",
    "    model_name, num_labels=len(label_list))\n",
    "\n",
    "metric = load_metric(\"seqeval\")\n",
    "\n",
    "\n",
    "def compute_metrics(p):\n",
    "    predictions, labels = p\n",
    "    predictions = np.argmax(predictions, axis=2)\n",
    "\n",
    "    true_predictions = [\n",
    "        [label_list[p] for (p, l) in zip(prediction, label) if l != -100]\n",
    "        for prediction, label in zip(predictions, labels)\n",
    "    ]\n",
    "    true_labels = [\n",
    "        [label_list[l] for (p, l) in zip(prediction, label) if l != -100]\n",
    "        for prediction, label in zip(predictions, labels)\n",
    "    ]\n",
    "\n",
    "    return metric.compute(predictions=true_predictions, references=true_labels)\n",
    "\n",
    "\n",
    "data_collator = DataCollatorForTokenClassification(tokenizer)\n",
    "\n",
    "training_args = TrainingArguments(\n",
    "    output_dir=f\"./output/{model_name}\",\n",
    "    eval_strategy=\"no\",\n",
    "    learning_rate=2e-5,\n",
    "    per_device_train_batch_size=8,\n",
    "    per_device_eval_batch_size=8,\n",
    "    gradient_accumulation_steps=2,\n",
    "    num_train_epochs=3,\n",
    "    weight_decay=0.01,\n",
    "    load_best_model_at_end=True,\n",
    "    report_to=\"none\",\n",
    "    fp16=True,\n",
    "    save_strategy=\"no\",\n",
    ")\n",
    "\n",
    "trainer = Trainer(\n",
    "    model=mod,\n",
    "    args=training_args,\n",
    "    train_dataset=train_data,\n",
    "    eval_dataset=test_data,\n",
    "    tokenizer=tokenizer,\n",
    "    compute_metrics=compute_metrics,\n",
    "    data_collator=data_collator,\n",
    ")"
   ]
  },
  {
   "cell_type": "code",
   "execution_count": 12,
   "id": "405da19b-d3b0-4392-8032-8ab1722685ed",
   "metadata": {
    "execution": {
     "iopub.execute_input": "2025-06-14T15:01:02.989491Z",
     "iopub.status.busy": "2025-06-14T15:01:02.989236Z",
     "iopub.status.idle": "2025-06-14T15:20:17.210108Z",
     "shell.execute_reply": "2025-06-14T15:20:17.209413Z"
    },
    "scrolled": true
   },
   "outputs": [
    {
     "data": {
      "text/html": [
       "\n",
       "    <div>\n",
       "      \n",
       "      <progress value='3114' max='3114' style='width:300px; height:20px; vertical-align: middle;'></progress>\n",
       "      [3114/3114 19:12, Epoch 3/3]\n",
       "    </div>\n",
       "    <table border=\"1\" class=\"dataframe\">\n",
       "  <thead>\n",
       " <tr style=\"text-align: left;\">\n",
       "      <th>Step</th>\n",
       "      <th>Training Loss</th>\n",
       "    </tr>\n",
       "  </thead>\n",
       "  <tbody>\n",
       "    <tr>\n",
       "      <td>500</td>\n",
       "      <td>0.224600</td>\n",
       "    </tr>\n",
       "    <tr>\n",
       "      <td>1000</td>\n",
       "      <td>0.080800</td>\n",
       "    </tr>\n",
       "    <tr>\n",
       "      <td>1500</td>\n",
       "      <td>0.050100</td>\n",
       "    </tr>\n",
       "    <tr>\n",
       "      <td>2000</td>\n",
       "      <td>0.044200</td>\n",
       "    </tr>\n",
       "    <tr>\n",
       "      <td>2500</td>\n",
       "      <td>0.029300</td>\n",
       "    </tr>\n",
       "    <tr>\n",
       "      <td>3000</td>\n",
       "      <td>0.027600</td>\n",
       "    </tr>\n",
       "  </tbody>\n",
       "</table><p>"
      ],
      "text/plain": [
       "<IPython.core.display.HTML object>"
      ]
     },
     "metadata": {},
     "output_type": "display_data"
    },
    {
     "data": {
      "text/plain": [
       "TrainOutput(global_step=3114, training_loss=0.07432365999362678, metrics={'train_runtime': 1153.8106, 'train_samples_per_second': 43.148, 'train_steps_per_second': 2.699, 'total_flos': 3729913475126796.0, 'train_loss': 0.07432365999362678, 'epoch': 3.0})"
      ]
     },
     "execution_count": 12,
     "metadata": {},
     "output_type": "execute_result"
    }
   ],
   "source": [
    "trainer.train()"
   ]
  },
  {
   "cell_type": "code",
   "execution_count": 13,
   "id": "660e5e71-108a-45a7-932a-e4f2ccaf24ca",
   "metadata": {
    "execution": {
     "iopub.execute_input": "2025-06-14T15:20:17.212296Z",
     "iopub.status.busy": "2025-06-14T15:20:17.211998Z",
     "iopub.status.idle": "2025-06-14T15:20:23.572529Z",
     "shell.execute_reply": "2025-06-14T15:20:23.571917Z"
    }
   },
   "outputs": [],
   "source": [
    "trainer.save_model(f\"./saved_model/{model_name}_{train_data_name}\")"
   ]
  },
  {
   "cell_type": "code",
   "execution_count": 14,
   "id": "4b3d9f3c-5c30-45fc-a8bb-1070b25adffe",
   "metadata": {
    "execution": {
     "iopub.execute_input": "2025-06-14T15:20:23.574946Z",
     "iopub.status.busy": "2025-06-14T15:20:23.574570Z",
     "iopub.status.idle": "2025-06-14T15:29:41.063669Z",
     "shell.execute_reply": "2025-06-14T15:29:41.063076Z"
    }
   },
   "outputs": [
    {
     "data": {
      "text/html": [],
      "text/plain": [
       "<IPython.core.display.HTML object>"
      ]
     },
     "metadata": {},
     "output_type": "display_data"
    }
   ],
   "source": [
    "predictions = trainer.predict(test_data)"
   ]
  },
  {
   "cell_type": "code",
   "execution_count": 15,
   "id": "af641f36-04e0-49dc-b04f-a93d415eb709",
   "metadata": {
    "execution": {
     "iopub.execute_input": "2025-06-14T15:29:41.065872Z",
     "iopub.status.busy": "2025-06-14T15:29:41.065492Z",
     "iopub.status.idle": "2025-06-14T15:29:48.222900Z",
     "shell.execute_reply": "2025-06-14T15:29:48.222345Z"
    }
   },
   "outputs": [],
   "source": [
    "with open(f'./results/{model_name}_{train_data_name}_results.pkl', 'wb') as f:\n",
    "    pickle.dump(predictions, f)"
   ]
  },
  {
   "cell_type": "code",
   "execution_count": 16,
   "id": "0b84e338-e66a-4ca2-97a9-231acd097edb",
   "metadata": {
    "execution": {
     "iopub.execute_input": "2025-06-14T15:29:48.225110Z",
     "iopub.status.busy": "2025-06-14T15:29:48.224872Z",
     "iopub.status.idle": "2025-06-14T15:31:30.056891Z",
     "shell.execute_reply": "2025-06-14T15:31:30.056284Z"
    }
   },
   "outputs": [
    {
     "name": "stderr",
     "output_type": "stream",
     "text": [
      "\r",
      "Map:   0%|          | 0/61371 [00:00<?, ? examples/s]"
     ]
    },
    {
     "name": "stderr",
     "output_type": "stream",
     "text": [
      "\r",
      "Map:   1%|          | 698/61371 [00:00<00:08, 6883.23 examples/s]"
     ]
    },
    {
     "name": "stderr",
     "output_type": "stream",
     "text": [
      "\r",
      "Map:   3%|▎         | 1627/61371 [00:00<00:10, 5658.75 examples/s]"
     ]
    },
    {
     "name": "stderr",
     "output_type": "stream",
     "text": [
      "\r",
      "Map:   4%|▍         | 2461/61371 [00:00<00:11, 5211.93 examples/s]"
     ]
    },
    {
     "name": "stderr",
     "output_type": "stream",
     "text": [
      "\r",
      "Map:   5%|▍         | 3000/61371 [00:00<00:11, 5189.72 examples/s]"
     ]
    },
    {
     "name": "stderr",
     "output_type": "stream",
     "text": [
      "\r",
      "Map:   6%|▋         | 3924/61371 [00:00<00:09, 6361.68 examples/s]"
     ]
    },
    {
     "name": "stderr",
     "output_type": "stream",
     "text": [
      "\r",
      "Map:   8%|▊         | 4998/61371 [00:00<00:08, 6402.48 examples/s]"
     ]
    },
    {
     "name": "stderr",
     "output_type": "stream",
     "text": [
      "\r",
      "Map:  10%|▉         | 5847/61371 [00:00<00:09, 6143.49 examples/s]"
     ]
    },
    {
     "name": "stderr",
     "output_type": "stream",
     "text": [
      "\r",
      "Map:  11%|█         | 6846/61371 [00:01<00:09, 5888.14 examples/s]"
     ]
    },
    {
     "name": "stderr",
     "output_type": "stream",
     "text": [
      "\r",
      "Map:  12%|█▏        | 7567/61371 [00:01<00:10, 5375.84 examples/s]"
     ]
    },
    {
     "name": "stderr",
     "output_type": "stream",
     "text": [
      "\r",
      "Map:  14%|█▍        | 8455/61371 [00:01<00:10, 5136.90 examples/s]"
     ]
    },
    {
     "name": "stderr",
     "output_type": "stream",
     "text": [
      "\r",
      "Map:  15%|█▍        | 9000/61371 [00:01<00:10, 5118.28 examples/s]"
     ]
    },
    {
     "name": "stderr",
     "output_type": "stream",
     "text": [
      "\r",
      "Map:  16%|█▌        | 9795/61371 [00:01<00:08, 5755.16 examples/s]"
     ]
    },
    {
     "name": "stderr",
     "output_type": "stream",
     "text": [
      "\r",
      "Map:  17%|█▋        | 10426/61371 [00:01<00:09, 5441.31 examples/s]"
     ]
    },
    {
     "name": "stderr",
     "output_type": "stream",
     "text": [
      "\r",
      "Map:  18%|█▊        | 11000/61371 [00:01<00:09, 5212.73 examples/s]"
     ]
    },
    {
     "name": "stderr",
     "output_type": "stream",
     "text": [
      "\r",
      "Map:  19%|█▉        | 11672/61371 [00:02<00:08, 5582.56 examples/s]"
     ]
    },
    {
     "name": "stderr",
     "output_type": "stream",
     "text": [
      "\r",
      "Map:  20%|██        | 12398/61371 [00:02<00:09, 5361.88 examples/s]"
     ]
    },
    {
     "name": "stderr",
     "output_type": "stream",
     "text": [
      "\r",
      "Map:  21%|██        | 13000/61371 [00:02<00:09, 5216.46 examples/s]"
     ]
    },
    {
     "name": "stderr",
     "output_type": "stream",
     "text": [
      "\r",
      "Map:  23%|██▎       | 13895/61371 [00:02<00:07, 6154.17 examples/s]"
     ]
    },
    {
     "name": "stderr",
     "output_type": "stream",
     "text": [
      "\r",
      "Map:  24%|██▍       | 14850/61371 [00:02<00:07, 6110.76 examples/s]"
     ]
    },
    {
     "name": "stderr",
     "output_type": "stream",
     "text": [
      "\r",
      "Map:  26%|██▌       | 15758/61371 [00:02<00:07, 5899.66 examples/s]"
     ]
    },
    {
     "name": "stderr",
     "output_type": "stream",
     "text": [
      "\r",
      "Map:  27%|██▋       | 16404/61371 [00:02<00:08, 5591.74 examples/s]"
     ]
    },
    {
     "name": "stderr",
     "output_type": "stream",
     "text": [
      "\r",
      "Map:  28%|██▊       | 17000/61371 [00:03<00:08, 5379.53 examples/s]"
     ]
    },
    {
     "name": "stderr",
     "output_type": "stream",
     "text": [
      "\r",
      "Map:  29%|██▉       | 17811/61371 [00:03<00:07, 6039.38 examples/s]"
     ]
    },
    {
     "name": "stderr",
     "output_type": "stream",
     "text": [
      "\r",
      "Map:  31%|███       | 18795/61371 [00:03<00:07, 5932.85 examples/s]"
     ]
    },
    {
     "name": "stderr",
     "output_type": "stream",
     "text": [
      "\r",
      "Map:  32%|███▏      | 19803/61371 [00:03<00:07, 5803.71 examples/s]"
     ]
    },
    {
     "name": "stderr",
     "output_type": "stream",
     "text": [
      "\r",
      "Map:  33%|███▎      | 20416/61371 [00:03<00:07, 5577.21 examples/s]"
     ]
    },
    {
     "name": "stderr",
     "output_type": "stream",
     "text": [
      "\r",
      "Map:  34%|███▍      | 21000/61371 [00:03<00:07, 5398.50 examples/s]"
     ]
    },
    {
     "name": "stderr",
     "output_type": "stream",
     "text": [
      "\r",
      "Map:  35%|███▌      | 21693/61371 [00:03<00:06, 5763.41 examples/s]"
     ]
    },
    {
     "name": "stderr",
     "output_type": "stream",
     "text": [
      "\r",
      "Map:  37%|███▋      | 22426/61371 [00:03<00:07, 5493.05 examples/s]"
     ]
    },
    {
     "name": "stderr",
     "output_type": "stream",
     "text": [
      "\r",
      "Map:  37%|███▋      | 23000/61371 [00:04<00:07, 5375.57 examples/s]"
     ]
    },
    {
     "name": "stderr",
     "output_type": "stream",
     "text": [
      "\r",
      "Map:  39%|███▉      | 23817/61371 [00:04<00:06, 6081.54 examples/s]"
     ]
    },
    {
     "name": "stderr",
     "output_type": "stream",
     "text": [
      "\r",
      "Map:  40%|████      | 24797/61371 [00:04<00:06, 5966.18 examples/s]"
     ]
    },
    {
     "name": "stderr",
     "output_type": "stream",
     "text": [
      "\r",
      "Map:  41%|████▏     | 25428/61371 [00:04<00:06, 5697.24 examples/s]"
     ]
    },
    {
     "name": "stderr",
     "output_type": "stream",
     "text": [
      "\r",
      "Map:  43%|████▎     | 26321/61371 [00:04<00:06, 5583.44 examples/s]"
     ]
    },
    {
     "name": "stderr",
     "output_type": "stream",
     "text": [
      "\r",
      "Map:  44%|████▍     | 26955/61371 [00:04<00:05, 5757.21 examples/s]"
     ]
    },
    {
     "name": "stderr",
     "output_type": "stream",
     "text": [
      "\r",
      "Map:  45%|████▌     | 27802/61371 [00:04<00:06, 5577.37 examples/s]"
     ]
    },
    {
     "name": "stderr",
     "output_type": "stream",
     "text": [
      "\r",
      "Map:  46%|████▋     | 28460/61371 [00:05<00:06, 5483.62 examples/s]"
     ]
    },
    {
     "name": "stderr",
     "output_type": "stream",
     "text": [
      "\r",
      "Map:  48%|████▊     | 29435/61371 [00:05<00:05, 5767.75 examples/s]"
     ]
    },
    {
     "name": "stderr",
     "output_type": "stream",
     "text": [
      "\r",
      "Map:  50%|████▉     | 30422/61371 [00:05<00:05, 5907.76 examples/s]"
     ]
    },
    {
     "name": "stderr",
     "output_type": "stream",
     "text": [
      "\r",
      "Map:  51%|█████     | 31437/61371 [00:05<00:05, 5978.48 examples/s]"
     ]
    },
    {
     "name": "stderr",
     "output_type": "stream",
     "text": [
      "\r",
      "Map:  53%|█████▎    | 32379/61371 [00:05<00:04, 5935.44 examples/s]"
     ]
    },
    {
     "name": "stderr",
     "output_type": "stream",
     "text": [
      "\r",
      "Map:  54%|█████▍    | 33000/61371 [00:05<00:05, 5597.66 examples/s]"
     ]
    },
    {
     "name": "stderr",
     "output_type": "stream",
     "text": [
      "\r",
      "Map:  55%|█████▍    | 33627/61371 [00:05<00:04, 5748.18 examples/s]"
     ]
    },
    {
     "name": "stderr",
     "output_type": "stream",
     "text": [
      "\r",
      "Map:  56%|█████▌    | 34448/61371 [00:06<00:04, 5491.39 examples/s]"
     ]
    },
    {
     "name": "stderr",
     "output_type": "stream",
     "text": [
      "\r",
      "Map:  58%|█████▊    | 35435/61371 [00:06<00:04, 5741.39 examples/s]"
     ]
    },
    {
     "name": "stderr",
     "output_type": "stream",
     "text": [
      "\r",
      "Map:  59%|█████▉    | 36466/61371 [00:06<00:04, 5944.67 examples/s]"
     ]
    },
    {
     "name": "stderr",
     "output_type": "stream",
     "text": [
      "\r",
      "Map:  61%|██████    | 37412/61371 [00:06<00:03, 6014.06 examples/s]"
     ]
    },
    {
     "name": "stderr",
     "output_type": "stream",
     "text": [
      "\r",
      "Map:  63%|██████▎   | 38421/61371 [00:06<00:03, 6000.34 examples/s]"
     ]
    },
    {
     "name": "stderr",
     "output_type": "stream",
     "text": [
      "\r",
      "Map:  64%|██████▍   | 39400/61371 [00:06<00:03, 5976.46 examples/s]"
     ]
    },
    {
     "name": "stderr",
     "output_type": "stream",
     "text": [
      "\r",
      "Map:  65%|██████▌   | 40000/61371 [00:07<00:03, 5674.87 examples/s]"
     ]
    },
    {
     "name": "stderr",
     "output_type": "stream",
     "text": [
      "\r",
      "Map:  66%|██████▋   | 40677/61371 [00:07<00:03, 5918.48 examples/s]"
     ]
    },
    {
     "name": "stderr",
     "output_type": "stream",
     "text": [
      "\r",
      "Map:  68%|██████▊   | 41499/61371 [00:07<00:03, 5781.81 examples/s]"
     ]
    },
    {
     "name": "stderr",
     "output_type": "stream",
     "text": [
      "\r",
      "Map:  69%|██████▉   | 42515/61371 [00:07<00:03, 6093.50 examples/s]"
     ]
    },
    {
     "name": "stderr",
     "output_type": "stream",
     "text": [
      "\r",
      "Map:  71%|███████   | 43392/61371 [00:07<00:02, 6013.95 examples/s]"
     ]
    },
    {
     "name": "stderr",
     "output_type": "stream",
     "text": [
      "\r",
      "Map:  72%|███████▏  | 44000/61371 [00:07<00:03, 5656.76 examples/s]"
     ]
    },
    {
     "name": "stderr",
     "output_type": "stream",
     "text": [
      "\r",
      "Map:  73%|███████▎  | 44591/61371 [00:07<00:02, 5714.85 examples/s]"
     ]
    },
    {
     "name": "stderr",
     "output_type": "stream",
     "text": [
      "\r",
      "Map:  74%|███████▍  | 45436/61371 [00:08<00:05, 2718.82 examples/s]"
     ]
    },
    {
     "name": "stderr",
     "output_type": "stream",
     "text": [
      "\r",
      "Map:  75%|███████▍  | 46000/61371 [00:08<00:05, 3064.44 examples/s]"
     ]
    },
    {
     "name": "stderr",
     "output_type": "stream",
     "text": [
      "\r",
      "Map:  76%|███████▋  | 46815/61371 [00:08<00:03, 3862.47 examples/s]"
     ]
    },
    {
     "name": "stderr",
     "output_type": "stream",
     "text": [
      "\r",
      "Map:  78%|███████▊  | 47715/61371 [00:08<00:03, 4244.43 examples/s]"
     ]
    },
    {
     "name": "stderr",
     "output_type": "stream",
     "text": [
      "\r",
      "Map:  79%|███████▉  | 48398/61371 [00:08<00:02, 4380.39 examples/s]"
     ]
    },
    {
     "name": "stderr",
     "output_type": "stream",
     "text": [
      "\r",
      "Map:  80%|███████▉  | 49000/61371 [00:09<00:02, 4486.08 examples/s]"
     ]
    },
    {
     "name": "stderr",
     "output_type": "stream",
     "text": [
      "\r",
      "Map:  81%|████████  | 49643/61371 [00:09<00:02, 4898.34 examples/s]"
     ]
    },
    {
     "name": "stderr",
     "output_type": "stream",
     "text": [
      "\r",
      "Map:  82%|████████▏ | 50380/61371 [00:09<00:02, 4819.72 examples/s]"
     ]
    },
    {
     "name": "stderr",
     "output_type": "stream",
     "text": [
      "\r",
      "Map:  83%|████████▎ | 51000/61371 [00:09<00:02, 4787.58 examples/s]"
     ]
    },
    {
     "name": "stderr",
     "output_type": "stream",
     "text": [
      "\r",
      "Map:  84%|████████▍ | 51772/61371 [00:09<00:01, 5467.69 examples/s]"
     ]
    },
    {
     "name": "stderr",
     "output_type": "stream",
     "text": [
      "\r",
      "Map:  85%|████████▌ | 52442/61371 [00:09<00:01, 5374.70 examples/s]"
     ]
    },
    {
     "name": "stderr",
     "output_type": "stream",
     "text": [
      "\r",
      "Map:  87%|████████▋ | 53411/61371 [00:09<00:01, 5617.91 examples/s]"
     ]
    },
    {
     "name": "stderr",
     "output_type": "stream",
     "text": [
      "\r",
      "Map:  88%|████████▊ | 54000/61371 [00:09<00:01, 5450.96 examples/s]"
     ]
    },
    {
     "name": "stderr",
     "output_type": "stream",
     "text": [
      "\r",
      "Map:  89%|████████▉ | 54691/61371 [00:10<00:01, 5807.26 examples/s]"
     ]
    },
    {
     "name": "stderr",
     "output_type": "stream",
     "text": [
      "\r",
      "Map:  90%|█████████ | 55476/61371 [00:10<00:01, 5668.09 examples/s]"
     ]
    },
    {
     "name": "stderr",
     "output_type": "stream",
     "text": [
      "\r",
      "Map:  92%|█████████▏| 56429/61371 [00:10<00:00, 5885.06 examples/s]"
     ]
    },
    {
     "name": "stderr",
     "output_type": "stream",
     "text": [
      "\r",
      "Map:  93%|█████████▎| 57373/61371 [00:10<00:00, 5821.51 examples/s]"
     ]
    },
    {
     "name": "stderr",
     "output_type": "stream",
     "text": [
      "\r",
      "Map:  95%|█████████▍| 58000/61371 [00:10<00:00, 5478.46 examples/s]"
     ]
    },
    {
     "name": "stderr",
     "output_type": "stream",
     "text": [
      "\r",
      "Map:  95%|█████████▌| 58577/61371 [00:10<00:00, 5542.95 examples/s]"
     ]
    },
    {
     "name": "stderr",
     "output_type": "stream",
     "text": [
      "\r",
      "Map:  97%|█████████▋| 59452/61371 [00:10<00:00, 5297.02 examples/s]"
     ]
    },
    {
     "name": "stderr",
     "output_type": "stream",
     "text": [
      "\r",
      "Map:  98%|█████████▊| 60000/61371 [00:11<00:00, 5242.84 examples/s]"
     ]
    },
    {
     "name": "stderr",
     "output_type": "stream",
     "text": [
      "\r",
      "Map:  99%|█████████▉| 60851/61371 [00:11<00:00, 6035.18 examples/s]"
     ]
    },
    {
     "name": "stderr",
     "output_type": "stream",
     "text": [
      "\r",
      "Map: 100%|██████████| 61371/61371 [00:15<00:00, 3975.01 examples/s]"
     ]
    },
    {
     "name": "stderr",
     "output_type": "stream",
     "text": [
      "\n"
     ]
    },
    {
     "name": "stdout",
     "output_type": "stream",
     "text": [
      "              precision    recall  f1-score   support\n",
      "\n",
      "       B-LOC       0.82      0.89      0.85     17495\n",
      "      B-MISC       0.64      0.69      0.66     10657\n",
      "       B-ORG       0.61      0.63      0.62     13041\n",
      "       B-PER       0.89      0.90      0.90     15547\n",
      "       I-LOC       0.68      0.56      0.62      5367\n",
      "      I-MISC       0.61      0.23      0.34      7305\n",
      "       I-ORG       0.86      0.61      0.72     18313\n",
      "       I-PER       0.93      0.87      0.90     11086\n",
      "           O       0.98      0.99      0.99   1011383\n",
      "\n",
      "    accuracy                           0.97   1110194\n",
      "   macro avg       0.78      0.71      0.73   1110194\n",
      "weighted avg       0.97      0.97      0.97   1110194\n",
      "\n"
     ]
    }
   ],
   "source": [
    "x, y = evaluate_predictions(predictions, test_data)"
   ]
  },
  {
   "cell_type": "markdown",
   "id": "d605015e-fb9b-479c-9724-6528c607a87b",
   "metadata": {},
   "source": [
    "# Challenge dataset"
   ]
  },
  {
   "cell_type": "markdown",
   "id": "f8682abd-dc85-40cd-b92f-236ae01437cc",
   "metadata": {},
   "source": [
    "## Stanford"
   ]
  },
  {
   "cell_type": "code",
   "execution_count": 17,
   "id": "6104ffa6-882d-4e29-b96c-8450204c8949",
   "metadata": {
    "execution": {
     "iopub.execute_input": "2025-06-14T15:31:30.058954Z",
     "iopub.status.busy": "2025-06-14T15:31:30.058715Z",
     "iopub.status.idle": "2025-06-14T15:31:32.097709Z",
     "shell.execute_reply": "2025-06-14T15:31:32.097140Z"
    }
   },
   "outputs": [],
   "source": [
    "df = pd.read_excel(\n",
    "    \"./Guided-Adversarial-Augmentation-main/Guided-Adversarial-Augmentation-main/data/data/conll2003/challenge_set.xlsx\", header=None)"
   ]
  },
  {
   "cell_type": "code",
   "execution_count": 18,
   "id": "80bbab65-9121-40b6-9c4d-975672e74bc4",
   "metadata": {
    "execution": {
     "iopub.execute_input": "2025-06-14T15:31:32.099999Z",
     "iopub.status.busy": "2025-06-14T15:31:32.099746Z",
     "iopub.status.idle": "2025-06-14T15:31:32.452162Z",
     "shell.execute_reply": "2025-06-14T15:31:32.451635Z"
    }
   },
   "outputs": [],
   "source": [
    "examples = []\n",
    "\n",
    "i = 0\n",
    "while i < len(df):\n",
    "    row = df.iloc[i]\n",
    "    if str(row[0]).startswith(\"GUID\"):\n",
    "\n",
    "        guid = str(df.iloc[i][1]).strip()\n",
    "\n",
    "        try:\n",
    "            quality = int(str(df.iloc[i+1][1]).strip())\n",
    "        except (ValueError, TypeError):\n",
    "            quality = 999\n",
    "\n",
    "        try:\n",
    "            aug_type = int(str(df.iloc[i+2][1]).strip())\n",
    "        except (ValueError, TypeError):\n",
    "            aug_type = 999\n",
    "\n",
    "        tokens_row = df.iloc[i+3].dropna().tolist()[1:]\n",
    "        labels_row = df.iloc[i+4].dropna().tolist()[1:]\n",
    "        labels_row = [label.strip()\n",
    "                      for label in labels_row if label.strip() != \"\"]\n",
    "\n",
    "        if len(tokens_row) == len(labels_row):\n",
    "            examples.append({\n",
    "                \"guid\": guid,\n",
    "                \"quality\": quality,\n",
    "                \"aug_type\": aug_type,\n",
    "                \"tokens\": tokens_row,\n",
    "                \"labels\": labels_row\n",
    "            })\n",
    "\n",
    "        i += 6\n",
    "    else:\n",
    "        i += 1\n",
    "\n",
    "challenge_dataset = Dataset.from_list(examples)"
   ]
  },
  {
   "cell_type": "code",
   "execution_count": 19,
   "id": "3a8581fc-bacd-4793-8b65-ac9e826e4a5c",
   "metadata": {
    "execution": {
     "iopub.execute_input": "2025-06-14T15:31:32.454482Z",
     "iopub.status.busy": "2025-06-14T15:31:32.454222Z",
     "iopub.status.idle": "2025-06-14T15:31:32.457499Z",
     "shell.execute_reply": "2025-06-14T15:31:32.457096Z"
    }
   },
   "outputs": [],
   "source": [
    "conll_label_to_id = {\n",
    "    'O': 0,\n",
    "    'B-PER': 1, 'I-PER': 2,\n",
    "    'B-ORG': 3, 'I-ORG': 4,\n",
    "    'B-LOC': 5, 'I-LOC': 6,\n",
    "    'B-MISC': 7, 'I-MISC': 8,\n",
    "}\n",
    "\n",
    "\n",
    "def encode_labels(example):\n",
    "    example[\"labels\"] = [conll_label_to_id.get(\n",
    "        label, 0) for label in example[\"labels\"]]\n",
    "    return example"
   ]
  },
  {
   "cell_type": "code",
   "execution_count": 20,
   "id": "ebc93860-6822-4475-ae3b-d8f588b84188",
   "metadata": {
    "execution": {
     "iopub.execute_input": "2025-06-14T15:31:32.459011Z",
     "iopub.status.busy": "2025-06-14T15:31:32.458795Z",
     "iopub.status.idle": "2025-06-14T15:31:32.596358Z",
     "shell.execute_reply": "2025-06-14T15:31:32.595763Z"
    }
   },
   "outputs": [
    {
     "name": "stderr",
     "output_type": "stream",
     "text": [
      "\r",
      "Map:   0%|          | 0/1418 [00:00<?, ? examples/s]"
     ]
    },
    {
     "name": "stderr",
     "output_type": "stream",
     "text": [
      "\r",
      "Map:  78%|███████▊  | 1107/1418 [00:00<00:00, 10978.43 examples/s]"
     ]
    },
    {
     "name": "stderr",
     "output_type": "stream",
     "text": [
      "\r",
      "Map: 100%|██████████| 1418/1418 [00:00<00:00, 10807.41 examples/s]"
     ]
    },
    {
     "name": "stderr",
     "output_type": "stream",
     "text": [
      "\n"
     ]
    }
   ],
   "source": [
    "challenge_dataset = challenge_dataset.map(encode_labels)"
   ]
  },
  {
   "cell_type": "code",
   "execution_count": 21,
   "id": "a4f992fb-3c7e-435b-9789-ae8e11d7ce73",
   "metadata": {
    "execution": {
     "iopub.execute_input": "2025-06-14T15:31:32.598322Z",
     "iopub.status.busy": "2025-06-14T15:31:32.598085Z",
     "iopub.status.idle": "2025-06-14T15:31:33.193131Z",
     "shell.execute_reply": "2025-06-14T15:31:33.192636Z"
    }
   },
   "outputs": [
    {
     "name": "stderr",
     "output_type": "stream",
     "text": [
      "\r",
      "Map:   0%|          | 0/1418 [00:00<?, ? examples/s]"
     ]
    },
    {
     "name": "stderr",
     "output_type": "stream",
     "text": [
      "\r",
      "Map:  71%|███████   | 1000/1418 [00:00<00:00, 2237.84 examples/s]"
     ]
    },
    {
     "name": "stderr",
     "output_type": "stream",
     "text": [
      "\r",
      "Map: 100%|██████████| 1418/1418 [00:00<00:00, 2542.76 examples/s]"
     ]
    },
    {
     "name": "stderr",
     "output_type": "stream",
     "text": [
      "\r",
      "Map: 100%|██████████| 1418/1418 [00:00<00:00, 2441.68 examples/s]"
     ]
    },
    {
     "name": "stderr",
     "output_type": "stream",
     "text": [
      "\n"
     ]
    }
   ],
   "source": [
    "stanford_encoded = challenge_dataset.map(\n",
    "    tokenize_and_align_labels, batched=True)"
   ]
  },
  {
   "cell_type": "code",
   "execution_count": 22,
   "id": "9f993c5b-d7ab-4055-bad5-95b1eb325c9a",
   "metadata": {
    "execution": {
     "iopub.execute_input": "2025-06-14T15:31:33.194973Z",
     "iopub.status.busy": "2025-06-14T15:31:33.194735Z",
     "iopub.status.idle": "2025-06-14T15:31:45.240056Z",
     "shell.execute_reply": "2025-06-14T15:31:45.239418Z"
    },
    "scrolled": true
   },
   "outputs": [
    {
     "data": {
      "text/html": [],
      "text/plain": [
       "<IPython.core.display.HTML object>"
      ]
     },
     "metadata": {},
     "output_type": "display_data"
    }
   ],
   "source": [
    "stanford_results = trainer.predict(stanford_encoded)"
   ]
  },
  {
   "cell_type": "code",
   "execution_count": 23,
   "id": "0b1306c0-7a1f-455d-b78f-5840f7bfde6a",
   "metadata": {
    "execution": {
     "iopub.execute_input": "2025-06-14T15:31:45.242561Z",
     "iopub.status.busy": "2025-06-14T15:31:45.242043Z",
     "iopub.status.idle": "2025-06-14T15:31:45.324428Z",
     "shell.execute_reply": "2025-06-14T15:31:45.323854Z"
    }
   },
   "outputs": [],
   "source": [
    "with open(f'./results/{model_name}_{train_data_name}_stanford', 'wb') as f:\n",
    "    pickle.dump(stanford_results, f)"
   ]
  },
  {
   "cell_type": "code",
   "execution_count": 24,
   "id": "2d20ae03-4fcb-4676-901b-a37fea28d79c",
   "metadata": {
    "execution": {
     "iopub.execute_input": "2025-06-14T15:31:45.326609Z",
     "iopub.status.busy": "2025-06-14T15:31:45.326364Z",
     "iopub.status.idle": "2025-06-14T15:31:47.540664Z",
     "shell.execute_reply": "2025-06-14T15:31:47.540075Z"
    }
   },
   "outputs": [
    {
     "name": "stderr",
     "output_type": "stream",
     "text": [
      "\r",
      "Map:   0%|          | 0/1418 [00:00<?, ? examples/s]"
     ]
    },
    {
     "name": "stderr",
     "output_type": "stream",
     "text": [
      "\r",
      "Map:  48%|████▊     | 684/1418 [00:00<00:00, 6750.66 examples/s]"
     ]
    },
    {
     "name": "stderr",
     "output_type": "stream",
     "text": [
      "\r",
      "Map: 100%|██████████| 1418/1418 [00:00<00:00, 4752.23 examples/s]"
     ]
    },
    {
     "name": "stderr",
     "output_type": "stream",
     "text": [
      "\r",
      "Map: 100%|██████████| 1418/1418 [00:00<00:00, 4901.43 examples/s]"
     ]
    },
    {
     "name": "stderr",
     "output_type": "stream",
     "text": [
      "\n"
     ]
    },
    {
     "name": "stdout",
     "output_type": "stream",
     "text": [
      "              precision    recall  f1-score   support\n",
      "\n",
      "       B-LOC       0.63      0.82      0.71       539\n",
      "      B-MISC       0.91      0.94      0.92       319\n",
      "       B-ORG       0.68      0.83      0.75      1214\n",
      "       B-PER       0.89      0.66      0.76      1067\n",
      "       I-LOC       0.83      0.86      0.84        79\n",
      "      I-MISC       0.86      0.88      0.87        82\n",
      "       I-ORG       0.81      0.90      0.85      2026\n",
      "       I-PER       1.00      0.62      0.77       939\n",
      "           O       0.99      0.99      0.99     22466\n",
      "\n",
      "    accuracy                           0.95     28731\n",
      "   macro avg       0.84      0.83      0.83     28731\n",
      "weighted avg       0.95      0.95      0.95     28731\n",
      "\n"
     ]
    }
   ],
   "source": [
    "x, y = evaluate_predictions(stanford_results, stanford_encoded)"
   ]
  },
  {
   "cell_type": "markdown",
   "id": "a4da7818-d0e5-4e71-9a16-178102b29167",
   "metadata": {},
   "source": [
    "## Personal"
   ]
  },
  {
   "cell_type": "code",
   "execution_count": 25,
   "id": "19103190",
   "metadata": {
    "execution": {
     "iopub.execute_input": "2025-06-14T15:31:47.542782Z",
     "iopub.status.busy": "2025-06-14T15:31:47.542369Z",
     "iopub.status.idle": "2025-06-14T15:32:03.446617Z",
     "shell.execute_reply": "2025-06-14T15:32:03.446025Z"
    }
   },
   "outputs": [],
   "source": [
    "nd = NameDataset()\n",
    "country_codes = nd.get_country_codes()\n",
    "\n",
    "continent_names = {\n",
    "    'AF': 'Africa',\n",
    "    'NA': 'North America',\n",
    "    'OC': 'Oceania',\n",
    "    'AN': 'Antarctica',\n",
    "    'AS': 'Asia',\n",
    "    'EU': 'Europe',\n",
    "    'SA': 'South America',\n",
    "}\n",
    "\n",
    "continent_to_code = defaultdict(list)\n",
    "\n",
    "continent_to_countries = defaultdict(list)\n",
    "\n",
    "for code in country_codes:\n",
    "    try:\n",
    "        alpha_2 = code.alpha_2\n",
    "        country = pycountry.countries.get(alpha_2=alpha_2)\n",
    "        if not country:\n",
    "            continue\n",
    "\n",
    "        continent_code = pc.country_alpha2_to_continent_code(alpha_2)\n",
    "        continent = continent_names[continent_code]\n",
    "\n",
    "        continent_to_code[continent].append(alpha_2)\n",
    "        continent_to_countries[continent].append((alpha_2, country.name))\n",
    "\n",
    "    except Exception as e:\n",
    "        print(f\"Skipping {code} due to error: {e}\")\n",
    "        continue"
   ]
  },
  {
   "cell_type": "code",
   "execution_count": 26,
   "id": "f7e40c24-e8b5-4227-b3eb-1b9d3f8fe084",
   "metadata": {
    "execution": {
     "iopub.execute_input": "2025-06-14T15:32:03.449140Z",
     "iopub.status.busy": "2025-06-14T15:32:03.448716Z",
     "iopub.status.idle": "2025-06-14T15:32:03.456602Z",
     "shell.execute_reply": "2025-06-14T15:32:03.456161Z"
    }
   },
   "outputs": [],
   "source": [
    "def get_names(country, n=10):\n",
    "    names_dict = nd.get_top_names(n=n, country_alpha2=country)\n",
    "    names = []\n",
    "    if country in names_dict:\n",
    "        country_names = names_dict[country]\n",
    "        for gender in ['M', 'F']:\n",
    "            if gender in country_names:\n",
    "                names.extend(country_names[gender])\n",
    "    return list(set(names))\n",
    "\n",
    "\n",
    "def tokenize(text):\n",
    "    tokens = re.findall(r\"\\w+|[^\\w\\s]\", text, re.UNICODE)\n",
    "    return tokens\n",
    "\n",
    "\n",
    "def tag_tokens(tokens, person_names):\n",
    "    tags = [\"O\"] * len(tokens)\n",
    "    for name in person_names:\n",
    "        name_tokens = name.split()\n",
    "        n_len = len(name_tokens)\n",
    "        for i in range(len(tokens) - n_len + 1):\n",
    "            if tokens[i:i + n_len] == name_tokens:\n",
    "                tags[i] = \"B-PER\"\n",
    "                for j in range(i + 1, i + n_len):\n",
    "                    tags[j] = \"I-PER\"\n",
    "    return tags\n",
    "\n",
    "\n",
    "def generate_challenge_dataset(num_samples=300):\n",
    "    dataset = []\n",
    "    failures = 0\n",
    "    max_failures = 1000\n",
    "\n",
    "    while len(dataset) < num_samples:\n",
    "        if failures >= max_failures:\n",
    "            print(f\"Stopped after {failures} failed attempts.\")\n",
    "            break\n",
    "\n",
    "        country = random.choice(chosen_countries)\n",
    "        names = get_names(country, n=10)\n",
    "\n",
    "        # Filter names: keep only those also in common_nouns\n",
    "        filtered_names = [\n",
    "            name for name in names if name.lower() in common_nouns]\n",
    "\n",
    "        if not filtered_names:\n",
    "            failures += 1\n",
    "            if failures % 10 == 0:\n",
    "                print(f\"{failures} failed attempts so far.\")\n",
    "            continue\n",
    "\n",
    "        # Pick one or two names as needed\n",
    "        if len(filtered_names) == 1:\n",
    "            name1 = filtered_names[0]\n",
    "            name2 = None\n",
    "        else:\n",
    "            name1, name2 = random.sample(filtered_names, 2)\n",
    "\n",
    "        template = random.choice(sentence_templates)\n",
    "\n",
    "        if \"{name2}\" in template and name2 is None:\n",
    "            sentence = template.format(name=name1, name2=name1)\n",
    "            person_names = [name1]\n",
    "        elif \"{name2}\" in template:\n",
    "            sentence = template.format(name=name1, name2=name2)\n",
    "            person_names = [name1, name2]\n",
    "        else:\n",
    "            sentence = template.format(name=name1)\n",
    "            person_names = [name1]\n",
    "\n",
    "        tokens = tokenize(sentence)\n",
    "        tags = tag_tokens(tokens, person_names)\n",
    "        dataset.append(list(zip(tokens, tags)))\n",
    "        print(len(dataset))\n",
    "\n",
    "    return dataset\n",
    "\n",
    "\n",
    "def save_to_csv(dataset, filepath=\"default_name.csv\"):\n",
    "    with open(filepath, mode=\"w\", encoding=\"utf-8\", newline=\"\") as f:\n",
    "        writer = csv.writer(f)\n",
    "        writer.writerow([\"sentence_id\", \"token\", \"tag\"])\n",
    "        for idx, sentence in enumerate(dataset):\n",
    "            for token, tag in sentence:\n",
    "                writer.writerow([idx, token, tag])"
   ]
  },
  {
   "cell_type": "code",
   "execution_count": 27,
   "id": "7ba8822c-450b-4b4c-8c07-284e6bd814bc",
   "metadata": {
    "execution": {
     "iopub.execute_input": "2025-06-14T15:32:03.458279Z",
     "iopub.status.busy": "2025-06-14T15:32:03.458054Z",
     "iopub.status.idle": "2025-06-14T15:32:03.462592Z",
     "shell.execute_reply": "2025-06-14T15:32:03.462166Z"
    }
   },
   "outputs": [],
   "source": [
    "def evaluate_csv(file, common=False):\n",
    "    print('evaluating', file)\n",
    "    scripted_challenge = pd.read_csv(file)\n",
    "\n",
    "    examples = []\n",
    "    for sentence_id, group in scripted_challenge.groupby(\"sentence_id\"):\n",
    "        tokens = group[\"token\"].tolist()\n",
    "        tags = group[\"tag\"].tolist()\n",
    "        examples.append({\"tokens\": tokens, \"ner_tags\": tags})\n",
    "\n",
    "    unique_tags = sorted(set(tag for ex in examples for tag in ex[\"ner_tags\"]))\n",
    "\n",
    "    for ex in examples:\n",
    "        ex[\"labels\"] = [conll_label_to_id[tag] for tag in ex[\"ner_tags\"]]\n",
    "\n",
    "    challenge_dataset = Dataset.from_list(examples)\n",
    "    tokenized = challenge_dataset.map(tokenize_and_align_labels, batched=True)\n",
    "    a = trainer.predict(tokenized)\n",
    "\n",
    "    if common:\n",
    "        with open(f'./results/{model_name}_{train_data_name}_challenge_common.pkl', 'wb') as f:\n",
    "            pickle.dump(a, f)\n",
    "    else:\n",
    "        with open(f'./results/{model_name}_{train_data_name}_challenge_{file[:-3]}.pkl', 'wb') as f:\n",
    "            pickle.dump(a, f)\n",
    "\n",
    "    x, y = evaluate_predictions(a, tokenized)\n",
    "    print()\n",
    "    print('-'*30)"
   ]
  },
  {
   "cell_type": "code",
   "execution_count": 28,
   "id": "820fdce4-2e77-479b-b276-af5952269e6f",
   "metadata": {
    "execution": {
     "iopub.execute_input": "2025-06-14T15:32:03.464179Z",
     "iopub.status.busy": "2025-06-14T15:32:03.463966Z",
     "iopub.status.idle": "2025-06-14T15:32:48.533173Z",
     "shell.execute_reply": "2025-06-14T15:32:48.532559Z"
    }
   },
   "outputs": [
    {
     "name": "stdout",
     "output_type": "stream",
     "text": [
      "evaluating Asia_ner_challenge.csv\n"
     ]
    },
    {
     "name": "stderr",
     "output_type": "stream",
     "text": [
      "\r",
      "Map:   0%|          | 0/1000 [00:00<?, ? examples/s]"
     ]
    },
    {
     "name": "stderr",
     "output_type": "stream",
     "text": [
      "\r",
      "Map: 100%|██████████| 1000/1000 [00:00<00:00, 6876.88 examples/s]"
     ]
    },
    {
     "name": "stderr",
     "output_type": "stream",
     "text": [
      "\r",
      "Map: 100%|██████████| 1000/1000 [00:00<00:00, 6555.65 examples/s]"
     ]
    },
    {
     "name": "stderr",
     "output_type": "stream",
     "text": [
      "\n"
     ]
    },
    {
     "data": {
      "text/html": [],
      "text/plain": [
       "<IPython.core.display.HTML object>"
      ]
     },
     "metadata": {},
     "output_type": "display_data"
    },
    {
     "name": "stderr",
     "output_type": "stream",
     "text": [
      "/scistor/guest/lre040/miniconda3/lib/python3.13/site-packages/seqeval/metrics/v1.py:57: UndefinedMetricWarning: Recall and F-score are ill-defined and being set to 0.0 in labels with no true samples. Use `zero_division` parameter to control this behavior.\n",
      "  _warn_prf(average, modifier, msg_start, len(result))\n"
     ]
    },
    {
     "name": "stderr",
     "output_type": "stream",
     "text": [
      "\r",
      "Map:   0%|          | 0/1000 [00:00<?, ? examples/s]"
     ]
    },
    {
     "name": "stderr",
     "output_type": "stream",
     "text": [
      "\r",
      "Map: 100%|██████████| 1000/1000 [00:00<00:00, 8303.92 examples/s]"
     ]
    },
    {
     "name": "stderr",
     "output_type": "stream",
     "text": [
      "\r",
      "Map: 100%|██████████| 1000/1000 [00:00<00:00, 8048.36 examples/s]"
     ]
    },
    {
     "name": "stderr",
     "output_type": "stream",
     "text": [
      "\n"
     ]
    },
    {
     "name": "stdout",
     "output_type": "stream",
     "text": [
      "              precision    recall  f1-score   support\n",
      "\n",
      "       B-LOC       0.00      0.00      0.00         0\n",
      "       B-ORG       0.00      0.00      0.00         0\n",
      "       B-PER       0.99      0.94      0.96      1134\n",
      "       I-LOC       0.00      0.00      0.00         0\n",
      "       I-PER       1.00      1.00      1.00         6\n",
      "           O       1.00      0.98      0.99      9744\n",
      "\n",
      "    accuracy                           0.98     10884\n",
      "   macro avg       0.50      0.49      0.49     10884\n",
      "weighted avg       1.00      0.98      0.99     10884\n",
      "\n",
      "\n",
      "------------------------------\n",
      "evaluating Europe_ner_challenge.csv\n"
     ]
    },
    {
     "name": "stderr",
     "output_type": "stream",
     "text": [
      "\r",
      "Map:   0%|          | 0/1000 [00:00<?, ? examples/s]"
     ]
    },
    {
     "name": "stderr",
     "output_type": "stream",
     "text": [
      "\r",
      "Map: 100%|██████████| 1000/1000 [00:00<00:00, 7145.33 examples/s]"
     ]
    },
    {
     "name": "stderr",
     "output_type": "stream",
     "text": [
      "\r",
      "Map: 100%|██████████| 1000/1000 [00:00<00:00, 6834.29 examples/s]"
     ]
    },
    {
     "name": "stderr",
     "output_type": "stream",
     "text": [
      "\n"
     ]
    },
    {
     "data": {
      "text/html": [],
      "text/plain": [
       "<IPython.core.display.HTML object>"
      ]
     },
     "metadata": {},
     "output_type": "display_data"
    },
    {
     "name": "stderr",
     "output_type": "stream",
     "text": [
      "/scistor/guest/lre040/miniconda3/lib/python3.13/site-packages/seqeval/metrics/v1.py:57: UndefinedMetricWarning: Recall and F-score are ill-defined and being set to 0.0 in labels with no true samples. Use `zero_division` parameter to control this behavior.\n",
      "  _warn_prf(average, modifier, msg_start, len(result))\n"
     ]
    },
    {
     "name": "stderr",
     "output_type": "stream",
     "text": [
      "\r",
      "Map:   0%|          | 0/1000 [00:00<?, ? examples/s]"
     ]
    },
    {
     "name": "stderr",
     "output_type": "stream",
     "text": [
      "\r",
      "Map: 100%|██████████| 1000/1000 [00:00<00:00, 8271.57 examples/s]"
     ]
    },
    {
     "name": "stderr",
     "output_type": "stream",
     "text": [
      "\r",
      "Map: 100%|██████████| 1000/1000 [00:00<00:00, 7956.29 examples/s]"
     ]
    },
    {
     "name": "stderr",
     "output_type": "stream",
     "text": [
      "\n"
     ]
    },
    {
     "name": "stdout",
     "output_type": "stream",
     "text": [
      "              precision    recall  f1-score   support\n",
      "\n",
      "       B-LOC       0.00      0.00      0.00         0\n",
      "       B-ORG       0.00      0.00      0.00         0\n",
      "       B-PER       0.98      0.97      0.97      1136\n",
      "       I-LOC       0.00      0.00      0.00         0\n",
      "           O       1.00      0.98      0.99      9682\n",
      "\n",
      "    accuracy                           0.98     10818\n",
      "   macro avg       0.40      0.39      0.39     10818\n",
      "weighted avg       1.00      0.98      0.99     10818\n",
      "\n",
      "\n",
      "------------------------------\n",
      "evaluating South America_ner_challenge.csv\n"
     ]
    },
    {
     "name": "stderr",
     "output_type": "stream",
     "text": [
      "\r",
      "Map:   0%|          | 0/1000 [00:00<?, ? examples/s]"
     ]
    },
    {
     "name": "stderr",
     "output_type": "stream",
     "text": [
      "\r",
      "Map: 100%|██████████| 1000/1000 [00:00<00:00, 7084.55 examples/s]"
     ]
    },
    {
     "name": "stderr",
     "output_type": "stream",
     "text": [
      "\r",
      "Map: 100%|██████████| 1000/1000 [00:00<00:00, 6780.43 examples/s]"
     ]
    },
    {
     "name": "stderr",
     "output_type": "stream",
     "text": [
      "\n"
     ]
    },
    {
     "data": {
      "text/html": [],
      "text/plain": [
       "<IPython.core.display.HTML object>"
      ]
     },
     "metadata": {},
     "output_type": "display_data"
    },
    {
     "name": "stderr",
     "output_type": "stream",
     "text": [
      "/scistor/guest/lre040/miniconda3/lib/python3.13/site-packages/seqeval/metrics/v1.py:57: UndefinedMetricWarning: Recall and F-score are ill-defined and being set to 0.0 in labels with no true samples. Use `zero_division` parameter to control this behavior.\n",
      "  _warn_prf(average, modifier, msg_start, len(result))\n"
     ]
    },
    {
     "name": "stderr",
     "output_type": "stream",
     "text": [
      "\r",
      "Map:   0%|          | 0/1000 [00:00<?, ? examples/s]"
     ]
    },
    {
     "name": "stderr",
     "output_type": "stream",
     "text": [
      "\r",
      "Map: 100%|██████████| 1000/1000 [00:00<00:00, 8581.71 examples/s]"
     ]
    },
    {
     "name": "stderr",
     "output_type": "stream",
     "text": [
      "\r",
      "Map: 100%|██████████| 1000/1000 [00:00<00:00, 8201.42 examples/s]"
     ]
    },
    {
     "name": "stderr",
     "output_type": "stream",
     "text": [
      "\n"
     ]
    },
    {
     "name": "stdout",
     "output_type": "stream",
     "text": [
      "              precision    recall  f1-score   support\n",
      "\n",
      "       B-LOC       0.00      0.00      0.00         0\n",
      "       B-ORG       0.00      0.00      0.00         0\n",
      "       B-PER       0.98      0.97      0.98      1164\n",
      "       I-LOC       0.00      0.00      0.00         0\n",
      "       I-PER       1.00      1.00      1.00         2\n",
      "           O       1.00      0.98      0.99      9624\n",
      "\n",
      "    accuracy                           0.98     10790\n",
      "   macro avg       0.50      0.49      0.49     10790\n",
      "weighted avg       1.00      0.98      0.99     10790\n",
      "\n",
      "\n",
      "------------------------------\n",
      "evaluating Africa_ner_challenge.csv\n"
     ]
    },
    {
     "name": "stderr",
     "output_type": "stream",
     "text": [
      "\r",
      "Map:   0%|          | 0/1000 [00:00<?, ? examples/s]"
     ]
    },
    {
     "name": "stderr",
     "output_type": "stream",
     "text": [
      "\r",
      "Map: 100%|██████████| 1000/1000 [00:00<00:00, 7075.01 examples/s]"
     ]
    },
    {
     "name": "stderr",
     "output_type": "stream",
     "text": [
      "\r",
      "Map: 100%|██████████| 1000/1000 [00:00<00:00, 6745.76 examples/s]"
     ]
    },
    {
     "name": "stderr",
     "output_type": "stream",
     "text": [
      "\n"
     ]
    },
    {
     "data": {
      "text/html": [],
      "text/plain": [
       "<IPython.core.display.HTML object>"
      ]
     },
     "metadata": {},
     "output_type": "display_data"
    },
    {
     "name": "stderr",
     "output_type": "stream",
     "text": [
      "/scistor/guest/lre040/miniconda3/lib/python3.13/site-packages/seqeval/metrics/v1.py:57: UndefinedMetricWarning: Recall and F-score are ill-defined and being set to 0.0 in labels with no true samples. Use `zero_division` parameter to control this behavior.\n",
      "  _warn_prf(average, modifier, msg_start, len(result))\n"
     ]
    },
    {
     "name": "stderr",
     "output_type": "stream",
     "text": [
      "\r",
      "Map:   0%|          | 0/1000 [00:00<?, ? examples/s]"
     ]
    },
    {
     "name": "stderr",
     "output_type": "stream",
     "text": [
      "\r",
      "Map: 100%|██████████| 1000/1000 [00:00<00:00, 8481.03 examples/s]"
     ]
    },
    {
     "name": "stderr",
     "output_type": "stream",
     "text": [
      "\r",
      "Map: 100%|██████████| 1000/1000 [00:00<00:00, 8228.74 examples/s]"
     ]
    },
    {
     "name": "stderr",
     "output_type": "stream",
     "text": [
      "\n"
     ]
    },
    {
     "name": "stdout",
     "output_type": "stream",
     "text": [
      "              precision    recall  f1-score   support\n",
      "\n",
      "       B-LOC       0.00      0.00      0.00         0\n",
      "       B-ORG       0.00      0.00      0.00         0\n",
      "       B-PER       0.98      0.96      0.97      1163\n",
      "       I-LOC       0.00      0.00      0.00         0\n",
      "       I-PER       1.00      1.00      1.00         9\n",
      "           O       1.00      0.98      0.99      9682\n",
      "\n",
      "    accuracy                           0.98     10854\n",
      "   macro avg       0.50      0.49      0.49     10854\n",
      "weighted avg       1.00      0.98      0.99     10854\n",
      "\n",
      "\n",
      "------------------------------\n",
      "evaluating North America_ner_challenge.csv\n"
     ]
    },
    {
     "name": "stderr",
     "output_type": "stream",
     "text": [
      "\r",
      "Map:   0%|          | 0/1000 [00:00<?, ? examples/s]"
     ]
    },
    {
     "name": "stderr",
     "output_type": "stream",
     "text": [
      "\r",
      "Map: 100%|██████████| 1000/1000 [00:00<00:00, 7168.22 examples/s]"
     ]
    },
    {
     "name": "stderr",
     "output_type": "stream",
     "text": [
      "\r",
      "Map: 100%|██████████| 1000/1000 [00:00<00:00, 6800.93 examples/s]"
     ]
    },
    {
     "name": "stderr",
     "output_type": "stream",
     "text": [
      "\n"
     ]
    },
    {
     "data": {
      "text/html": [],
      "text/plain": [
       "<IPython.core.display.HTML object>"
      ]
     },
     "metadata": {},
     "output_type": "display_data"
    },
    {
     "name": "stderr",
     "output_type": "stream",
     "text": [
      "/scistor/guest/lre040/miniconda3/lib/python3.13/site-packages/seqeval/metrics/v1.py:57: UndefinedMetricWarning: Recall and F-score are ill-defined and being set to 0.0 in labels with no true samples. Use `zero_division` parameter to control this behavior.\n",
      "  _warn_prf(average, modifier, msg_start, len(result))\n"
     ]
    },
    {
     "name": "stderr",
     "output_type": "stream",
     "text": [
      "\r",
      "Map:   0%|          | 0/1000 [00:00<?, ? examples/s]"
     ]
    },
    {
     "name": "stderr",
     "output_type": "stream",
     "text": [
      "\r",
      "Map: 100%|██████████| 1000/1000 [00:00<00:00, 8585.98 examples/s]"
     ]
    },
    {
     "name": "stderr",
     "output_type": "stream",
     "text": [
      "\r",
      "Map: 100%|██████████| 1000/1000 [00:00<00:00, 8327.68 examples/s]"
     ]
    },
    {
     "name": "stderr",
     "output_type": "stream",
     "text": [
      "\n"
     ]
    },
    {
     "name": "stdout",
     "output_type": "stream",
     "text": [
      "              precision    recall  f1-score   support\n",
      "\n",
      "       B-LOC       0.00      0.00      0.00         0\n",
      "       B-ORG       0.00      0.00      0.00         0\n",
      "       B-PER       0.98      0.95      0.97      1145\n",
      "       I-LOC       0.00      0.00      0.00         0\n",
      "       I-PER       0.95      0.99      0.97        75\n",
      "           O       1.00      0.98      0.99      9569\n",
      "\n",
      "    accuracy                           0.98     10789\n",
      "   macro avg       0.49      0.49      0.49     10789\n",
      "weighted avg       1.00      0.98      0.99     10789\n",
      "\n",
      "\n",
      "------------------------------\n",
      "evaluating Oceania_ner_challenge.csv\n"
     ]
    },
    {
     "name": "stderr",
     "output_type": "stream",
     "text": [
      "\r",
      "Map:   0%|          | 0/1000 [00:00<?, ? examples/s]"
     ]
    },
    {
     "name": "stderr",
     "output_type": "stream",
     "text": [
      "\r",
      "Map: 100%|██████████| 1000/1000 [00:00<00:00, 7288.14 examples/s]"
     ]
    },
    {
     "name": "stderr",
     "output_type": "stream",
     "text": [
      "\r",
      "Map: 100%|██████████| 1000/1000 [00:00<00:00, 6921.35 examples/s]"
     ]
    },
    {
     "name": "stderr",
     "output_type": "stream",
     "text": [
      "\n"
     ]
    },
    {
     "data": {
      "text/html": [],
      "text/plain": [
       "<IPython.core.display.HTML object>"
      ]
     },
     "metadata": {},
     "output_type": "display_data"
    },
    {
     "name": "stderr",
     "output_type": "stream",
     "text": [
      "/scistor/guest/lre040/miniconda3/lib/python3.13/site-packages/seqeval/metrics/v1.py:57: UndefinedMetricWarning: Recall and F-score are ill-defined and being set to 0.0 in labels with no true samples. Use `zero_division` parameter to control this behavior.\n",
      "  _warn_prf(average, modifier, msg_start, len(result))\n"
     ]
    },
    {
     "name": "stderr",
     "output_type": "stream",
     "text": [
      "\r",
      "Map:   0%|          | 0/1000 [00:00<?, ? examples/s]"
     ]
    },
    {
     "name": "stderr",
     "output_type": "stream",
     "text": [
      "\r",
      "Map: 100%|██████████| 1000/1000 [00:00<00:00, 8204.37 examples/s]"
     ]
    },
    {
     "name": "stderr",
     "output_type": "stream",
     "text": [
      "\r",
      "Map: 100%|██████████| 1000/1000 [00:00<00:00, 7973.64 examples/s]"
     ]
    },
    {
     "name": "stderr",
     "output_type": "stream",
     "text": [
      "\n"
     ]
    },
    {
     "name": "stdout",
     "output_type": "stream",
     "text": [
      "              precision    recall  f1-score   support\n",
      "\n",
      "       B-LOC       0.00      0.00      0.00         0\n",
      "       B-ORG       0.00      0.00      0.00         0\n",
      "       B-PER       0.98      0.86      0.92      1148\n",
      "       I-LOC       0.00      0.00      0.00         0\n",
      "           O       1.00      0.98      0.99      9548\n",
      "\n",
      "    accuracy                           0.97     10696\n",
      "   macro avg       0.40      0.37      0.38     10696\n",
      "weighted avg       1.00      0.97      0.98     10696\n",
      "\n",
      "\n",
      "------------------------------\n"
     ]
    }
   ],
   "source": [
    "for x in list(continent_to_code.keys()):\n",
    "    evaluate_csv(x+'_ner_challenge.csv')"
   ]
  },
  {
   "cell_type": "code",
   "execution_count": 29,
   "id": "fb2fde83-63c8-4b9f-8e0d-d84901a1491f",
   "metadata": {
    "execution": {
     "iopub.execute_input": "2025-06-14T15:32:48.535079Z",
     "iopub.status.busy": "2025-06-14T15:32:48.534864Z",
     "iopub.status.idle": "2025-06-14T15:32:56.047316Z",
     "shell.execute_reply": "2025-06-14T15:32:56.046723Z"
    }
   },
   "outputs": [
    {
     "name": "stdout",
     "output_type": "stream",
     "text": [
      "evaluating ./common_nouns_challenge.csv\n"
     ]
    },
    {
     "name": "stderr",
     "output_type": "stream",
     "text": [
      "\r",
      "Map:   0%|          | 0/1000 [00:00<?, ? examples/s]"
     ]
    },
    {
     "name": "stderr",
     "output_type": "stream",
     "text": [
      "\r",
      "Map: 100%|██████████| 1000/1000 [00:00<00:00, 7904.12 examples/s]"
     ]
    },
    {
     "name": "stderr",
     "output_type": "stream",
     "text": [
      "\r",
      "Map: 100%|██████████| 1000/1000 [00:00<00:00, 7493.07 examples/s]"
     ]
    },
    {
     "name": "stderr",
     "output_type": "stream",
     "text": [
      "\n"
     ]
    },
    {
     "data": {
      "text/html": [],
      "text/plain": [
       "<IPython.core.display.HTML object>"
      ]
     },
     "metadata": {},
     "output_type": "display_data"
    },
    {
     "name": "stderr",
     "output_type": "stream",
     "text": [
      "/scistor/guest/lre040/miniconda3/lib/python3.13/site-packages/seqeval/metrics/v1.py:57: UndefinedMetricWarning: Recall and F-score are ill-defined and being set to 0.0 in labels with no true samples. Use `zero_division` parameter to control this behavior.\n",
      "  _warn_prf(average, modifier, msg_start, len(result))\n"
     ]
    },
    {
     "name": "stderr",
     "output_type": "stream",
     "text": [
      "\r",
      "Map:   0%|          | 0/1000 [00:00<?, ? examples/s]"
     ]
    },
    {
     "name": "stderr",
     "output_type": "stream",
     "text": [
      "\r",
      "Map: 100%|██████████| 1000/1000 [00:00<00:00, 8640.48 examples/s]"
     ]
    },
    {
     "name": "stderr",
     "output_type": "stream",
     "text": [
      "\r",
      "Map: 100%|██████████| 1000/1000 [00:00<00:00, 8360.15 examples/s]"
     ]
    },
    {
     "name": "stderr",
     "output_type": "stream",
     "text": [
      "\n"
     ]
    },
    {
     "name": "stdout",
     "output_type": "stream",
     "text": [
      "              precision    recall  f1-score   support\n",
      "\n",
      "       B-LOC       0.00      0.00      0.00         0\n",
      "       B-ORG       0.00      0.00      0.00         0\n",
      "       B-PER       1.00      0.92      0.96      1168\n",
      "           O       1.00      1.00      1.00      9336\n",
      "\n",
      "    accuracy                           0.99     10504\n",
      "   macro avg       0.50      0.48      0.49     10504\n",
      "weighted avg       1.00      0.99      0.99     10504\n",
      "\n",
      "\n",
      "------------------------------\n"
     ]
    }
   ],
   "source": [
    "evaluate_csv('./common_nouns_challenge.csv', True)"
   ]
  },
  {
   "cell_type": "markdown",
   "id": "dfabcf97-8d56-46d3-823f-6a0e4ca90c6c",
   "metadata": {},
   "source": [
    "# Seed Variability"
   ]
  },
  {
   "cell_type": "code",
   "execution_count": 30,
   "id": "7a4dd316-8556-4f45-8bcc-03c5da965b9f",
   "metadata": {
    "execution": {
     "iopub.execute_input": "2025-06-14T15:32:56.049472Z",
     "iopub.status.busy": "2025-06-14T15:32:56.049051Z",
     "iopub.status.idle": "2025-06-14T17:50:32.298270Z",
     "shell.execute_reply": "2025-06-14T17:50:32.297517Z"
    }
   },
   "outputs": [
    {
     "name": "stderr",
     "output_type": "stream",
     "text": [
      "Some weights of BertForTokenClassification were not initialized from the model checkpoint at bert-base-uncased and are newly initialized: ['classifier.bias', 'classifier.weight']\n",
      "You should probably TRAIN this model on a down-stream task to be able to use it for predictions and inference.\n"
     ]
    },
    {
     "name": "stderr",
     "output_type": "stream",
     "text": [
      "/scratch/1051104/ipykernel_1402827/2779880192.py:29: FutureWarning: `tokenizer` is deprecated and will be removed in version 5.0.0 for `Trainer.__init__`. Use `processing_class` instead.\n",
      "  seed_trainer = Trainer(\n"
     ]
    },
    {
     "data": {
      "text/html": [
       "\n",
       "    <div>\n",
       "      \n",
       "      <progress value='3114' max='3114' style='width:300px; height:20px; vertical-align: middle;'></progress>\n",
       "      [3114/3114 19:10, Epoch 3/3]\n",
       "    </div>\n",
       "    <table border=\"1\" class=\"dataframe\">\n",
       "  <thead>\n",
       " <tr style=\"text-align: left;\">\n",
       "      <th>Step</th>\n",
       "      <th>Training Loss</th>\n",
       "    </tr>\n",
       "  </thead>\n",
       "  <tbody>\n",
       "    <tr>\n",
       "      <td>1000</td>\n",
       "      <td>0.153400</td>\n",
       "    </tr>\n",
       "    <tr>\n",
       "      <td>2000</td>\n",
       "      <td>0.046500</td>\n",
       "    </tr>\n",
       "    <tr>\n",
       "      <td>3000</td>\n",
       "      <td>0.028300</td>\n",
       "    </tr>\n",
       "  </tbody>\n",
       "</table><p>"
      ],
      "text/plain": [
       "<IPython.core.display.HTML object>"
      ]
     },
     "metadata": {},
     "output_type": "display_data"
    },
    {
     "data": {
      "text/html": [],
      "text/plain": [
       "<IPython.core.display.HTML object>"
      ]
     },
     "metadata": {},
     "output_type": "display_data"
    },
    {
     "name": "stderr",
     "output_type": "stream",
     "text": [
      "\r",
      "Map:   0%|          | 0/61371 [00:00<?, ? examples/s]"
     ]
    },
    {
     "name": "stderr",
     "output_type": "stream",
     "text": [
      "\r",
      "Map:   1%|▏         | 882/61371 [00:00<00:06, 8706.67 examples/s]"
     ]
    },
    {
     "name": "stderr",
     "output_type": "stream",
     "text": [
      "\r",
      "Map:   3%|▎         | 1950/61371 [00:00<00:09, 6001.98 examples/s]"
     ]
    },
    {
     "name": "stderr",
     "output_type": "stream",
     "text": [
      "\r",
      "Map:   5%|▍         | 2925/61371 [00:00<00:09, 5977.24 examples/s]"
     ]
    },
    {
     "name": "stderr",
     "output_type": "stream",
     "text": [
      "\r",
      "Map:   6%|▋         | 3936/61371 [00:00<00:09, 6232.79 examples/s]"
     ]
    },
    {
     "name": "stderr",
     "output_type": "stream",
     "text": [
      "\r",
      "Map:   8%|▊         | 4998/61371 [00:00<00:08, 6518.64 examples/s]"
     ]
    },
    {
     "name": "stderr",
     "output_type": "stream",
     "text": [
      "\r",
      "Map:  10%|▉         | 5838/61371 [00:00<00:08, 6213.57 examples/s]"
     ]
    },
    {
     "name": "stderr",
     "output_type": "stream",
     "text": [
      "\r",
      "Map:  11%|█         | 6842/61371 [00:01<00:08, 6112.15 examples/s]"
     ]
    },
    {
     "name": "stderr",
     "output_type": "stream",
     "text": [
      "\r",
      "Map:  12%|█▏        | 7564/61371 [00:01<00:09, 5552.34 examples/s]"
     ]
    },
    {
     "name": "stderr",
     "output_type": "stream",
     "text": [
      "\r",
      "Map:  14%|█▍        | 8460/61371 [00:01<00:09, 5307.43 examples/s]"
     ]
    },
    {
     "name": "stderr",
     "output_type": "stream",
     "text": [
      "\r",
      "Map:  15%|█▍        | 9000/61371 [00:01<00:09, 5273.88 examples/s]"
     ]
    },
    {
     "name": "stderr",
     "output_type": "stream",
     "text": [
      "\r",
      "Map:  16%|█▌        | 9788/61371 [00:01<00:08, 5867.45 examples/s]"
     ]
    },
    {
     "name": "stderr",
     "output_type": "stream",
     "text": [
      "\r",
      "Map:  17%|█▋        | 10439/61371 [00:01<00:08, 5722.37 examples/s]"
     ]
    },
    {
     "name": "stderr",
     "output_type": "stream",
     "text": [
      "\r",
      "Map:  19%|█▊        | 11357/61371 [00:01<00:08, 5722.51 examples/s]"
     ]
    },
    {
     "name": "stderr",
     "output_type": "stream",
     "text": [
      "\r",
      "Map:  20%|█▉        | 12000/61371 [00:02<00:09, 5369.48 examples/s]"
     ]
    },
    {
     "name": "stderr",
     "output_type": "stream",
     "text": [
      "\r",
      "Map:  21%|██        | 12792/61371 [00:02<00:08, 5970.27 examples/s]"
     ]
    },
    {
     "name": "stderr",
     "output_type": "stream",
     "text": [
      "\r",
      "Map:  22%|██▏       | 13453/61371 [00:02<00:08, 5779.56 examples/s]"
     ]
    },
    {
     "name": "stderr",
     "output_type": "stream",
     "text": [
      "\r",
      "Map:  23%|██▎       | 14420/61371 [00:02<00:07, 5881.09 examples/s]"
     ]
    },
    {
     "name": "stderr",
     "output_type": "stream",
     "text": [
      "\r",
      "Map:  25%|██▌       | 15382/61371 [00:02<00:07, 5864.02 examples/s]"
     ]
    },
    {
     "name": "stderr",
     "output_type": "stream",
     "text": [
      "\r",
      "Map:  26%|██▌       | 16000/61371 [00:02<00:08, 5523.11 examples/s]"
     ]
    },
    {
     "name": "stderr",
     "output_type": "stream",
     "text": [
      "\r",
      "Map:  27%|██▋       | 16796/61371 [00:02<00:07, 6089.18 examples/s]"
     ]
    },
    {
     "name": "stderr",
     "output_type": "stream",
     "text": [
      "\r",
      "Map:  29%|██▉       | 17819/61371 [00:03<00:07, 6007.31 examples/s]"
     ]
    },
    {
     "name": "stderr",
     "output_type": "stream",
     "text": [
      "\r",
      "Map:  31%|███       | 18797/61371 [00:03<00:07, 5915.91 examples/s]"
     ]
    },
    {
     "name": "stderr",
     "output_type": "stream",
     "text": [
      "\r",
      "Map:  32%|███▏      | 19799/61371 [00:03<00:07, 5878.53 examples/s]"
     ]
    },
    {
     "name": "stderr",
     "output_type": "stream",
     "text": [
      "\r",
      "Map:  33%|███▎      | 20415/61371 [00:03<00:07, 5639.74 examples/s]"
     ]
    },
    {
     "name": "stderr",
     "output_type": "stream",
     "text": [
      "\r",
      "Map:  34%|███▍      | 21000/61371 [00:03<00:07, 5455.32 examples/s]"
     ]
    },
    {
     "name": "stderr",
     "output_type": "stream",
     "text": [
      "\r",
      "Map:  35%|███▌      | 21677/61371 [00:03<00:06, 5764.38 examples/s]"
     ]
    },
    {
     "name": "stderr",
     "output_type": "stream",
     "text": [
      "\r",
      "Map:  36%|███▋      | 22374/61371 [00:03<00:07, 5410.11 examples/s]"
     ]
    },
    {
     "name": "stderr",
     "output_type": "stream",
     "text": [
      "\r",
      "Map:  37%|███▋      | 23000/61371 [00:03<00:07, 5371.58 examples/s]"
     ]
    },
    {
     "name": "stderr",
     "output_type": "stream",
     "text": [
      "\r",
      "Map:  39%|███▉      | 23804/61371 [00:04<00:06, 6035.61 examples/s]"
     ]
    },
    {
     "name": "stderr",
     "output_type": "stream",
     "text": [
      "\r",
      "Map:  40%|████      | 24798/61371 [00:04<00:06, 5958.16 examples/s]"
     ]
    },
    {
     "name": "stderr",
     "output_type": "stream",
     "text": [
      "\r",
      "Map:  41%|████▏     | 25428/61371 [00:04<00:06, 5730.07 examples/s]"
     ]
    },
    {
     "name": "stderr",
     "output_type": "stream",
     "text": [
      "\r",
      "Map:  43%|████▎     | 26321/61371 [00:04<00:06, 5613.46 examples/s]"
     ]
    },
    {
     "name": "stderr",
     "output_type": "stream",
     "text": [
      "\r",
      "Map:  44%|████▍     | 26929/61371 [00:04<00:06, 5718.93 examples/s]"
     ]
    },
    {
     "name": "stderr",
     "output_type": "stream",
     "text": [
      "\r",
      "Map:  45%|████▌     | 27801/61371 [00:04<00:06, 5585.62 examples/s]"
     ]
    },
    {
     "name": "stderr",
     "output_type": "stream",
     "text": [
      "\r",
      "Map:  46%|████▋     | 28454/61371 [00:04<00:05, 5493.85 examples/s]"
     ]
    },
    {
     "name": "stderr",
     "output_type": "stream",
     "text": [
      "\r",
      "Map:  48%|████▊     | 29465/61371 [00:05<00:05, 5826.88 examples/s]"
     ]
    },
    {
     "name": "stderr",
     "output_type": "stream",
     "text": [
      "\r",
      "Map:  50%|████▉     | 30427/61371 [00:05<00:05, 5981.36 examples/s]"
     ]
    },
    {
     "name": "stderr",
     "output_type": "stream",
     "text": [
      "\r",
      "Map:  51%|█████     | 31408/61371 [00:05<00:04, 6010.51 examples/s]"
     ]
    },
    {
     "name": "stderr",
     "output_type": "stream",
     "text": [
      "\r",
      "Map:  53%|█████▎    | 32373/61371 [00:05<00:04, 5939.47 examples/s]"
     ]
    },
    {
     "name": "stderr",
     "output_type": "stream",
     "text": [
      "\r",
      "Map:  54%|█████▍    | 33000/61371 [00:05<00:05, 5606.42 examples/s]"
     ]
    },
    {
     "name": "stderr",
     "output_type": "stream",
     "text": [
      "\r",
      "Map:  55%|█████▍    | 33629/61371 [00:05<00:04, 5756.71 examples/s]"
     ]
    },
    {
     "name": "stderr",
     "output_type": "stream",
     "text": [
      "\r",
      "Map:  56%|█████▌    | 34448/61371 [00:05<00:04, 5505.08 examples/s]"
     ]
    },
    {
     "name": "stderr",
     "output_type": "stream",
     "text": [
      "\r",
      "Map:  58%|█████▊    | 35435/61371 [00:06<00:04, 5746.50 examples/s]"
     ]
    },
    {
     "name": "stderr",
     "output_type": "stream",
     "text": [
      "\r",
      "Map:  59%|█████▉    | 36467/61371 [00:06<00:04, 5964.58 examples/s]"
     ]
    },
    {
     "name": "stderr",
     "output_type": "stream",
     "text": [
      "\r",
      "Map:  61%|██████    | 37419/61371 [00:06<00:03, 6023.27 examples/s]"
     ]
    },
    {
     "name": "stderr",
     "output_type": "stream",
     "text": [
      "\r",
      "Map:  63%|██████▎   | 38414/61371 [00:06<00:03, 6005.91 examples/s]"
     ]
    },
    {
     "name": "stderr",
     "output_type": "stream",
     "text": [
      "\r",
      "Map:  64%|██████▍   | 39399/61371 [00:06<00:03, 5966.35 examples/s]"
     ]
    },
    {
     "name": "stderr",
     "output_type": "stream",
     "text": [
      "\r",
      "Map:  65%|██████▌   | 40000/61371 [00:06<00:03, 5668.54 examples/s]"
     ]
    },
    {
     "name": "stderr",
     "output_type": "stream",
     "text": [
      "\r",
      "Map:  66%|██████▋   | 40678/61371 [00:06<00:03, 5914.47 examples/s]"
     ]
    },
    {
     "name": "stderr",
     "output_type": "stream",
     "text": [
      "\r",
      "Map:  68%|██████▊   | 41491/61371 [00:07<00:03, 5758.18 examples/s]"
     ]
    },
    {
     "name": "stderr",
     "output_type": "stream",
     "text": [
      "\r",
      "Map:  69%|██████▉   | 42475/61371 [00:07<00:03, 6008.88 examples/s]"
     ]
    },
    {
     "name": "stderr",
     "output_type": "stream",
     "text": [
      "\r",
      "Map:  71%|███████   | 43392/61371 [00:07<00:03, 5987.08 examples/s]"
     ]
    },
    {
     "name": "stderr",
     "output_type": "stream",
     "text": [
      "\r",
      "Map:  72%|███████▏  | 44000/61371 [00:07<00:03, 5624.18 examples/s]"
     ]
    },
    {
     "name": "stderr",
     "output_type": "stream",
     "text": [
      "\r",
      "Map:  73%|███████▎  | 44581/61371 [00:07<00:02, 5665.55 examples/s]"
     ]
    },
    {
     "name": "stderr",
     "output_type": "stream",
     "text": [
      "\r",
      "Map:  74%|███████▍  | 45436/61371 [00:07<00:02, 5330.40 examples/s]"
     ]
    },
    {
     "name": "stderr",
     "output_type": "stream",
     "text": [
      "\r",
      "Map:  75%|███████▍  | 46000/61371 [00:07<00:02, 5283.41 examples/s]"
     ]
    },
    {
     "name": "stderr",
     "output_type": "stream",
     "text": [
      "\r",
      "Map:  76%|███████▋  | 46824/61371 [00:08<00:02, 5999.14 examples/s]"
     ]
    },
    {
     "name": "stderr",
     "output_type": "stream",
     "text": [
      "\r",
      "Map:  78%|███████▊  | 47714/61371 [00:08<00:02, 5750.38 examples/s]"
     ]
    },
    {
     "name": "stderr",
     "output_type": "stream",
     "text": [
      "\r",
      "Map:  79%|███████▉  | 48395/61371 [00:08<00:02, 5448.83 examples/s]"
     ]
    },
    {
     "name": "stderr",
     "output_type": "stream",
     "text": [
      "\r",
      "Map:  80%|███████▉  | 49000/61371 [00:08<00:02, 5307.71 examples/s]"
     ]
    },
    {
     "name": "stderr",
     "output_type": "stream",
     "text": [
      "\r",
      "Map:  81%|████████  | 49649/61371 [00:08<00:02, 5591.00 examples/s]"
     ]
    },
    {
     "name": "stderr",
     "output_type": "stream",
     "text": [
      "\r",
      "Map:  82%|████████▏ | 50380/61371 [00:08<00:02, 5255.75 examples/s]"
     ]
    },
    {
     "name": "stderr",
     "output_type": "stream",
     "text": [
      "\r",
      "Map:  83%|████████▎ | 51000/61371 [00:08<00:02, 5123.66 examples/s]"
     ]
    },
    {
     "name": "stderr",
     "output_type": "stream",
     "text": [
      "\r",
      "Map:  84%|████████▍ | 51777/61371 [00:08<00:01, 5768.16 examples/s]"
     ]
    },
    {
     "name": "stderr",
     "output_type": "stream",
     "text": [
      "\r",
      "Map:  85%|████████▌ | 52449/61371 [00:10<00:05, 1626.19 examples/s]"
     ]
    },
    {
     "name": "stderr",
     "output_type": "stream",
     "text": [
      "\r",
      "Map:  86%|████████▋ | 53000/61371 [00:10<00:04, 1967.65 examples/s]"
     ]
    },
    {
     "name": "stderr",
     "output_type": "stream",
     "text": [
      "\r",
      "Map:  88%|████████▊ | 53845/61371 [00:10<00:02, 2708.26 examples/s]"
     ]
    },
    {
     "name": "stderr",
     "output_type": "stream",
     "text": [
      "\r",
      "Map:  89%|████████▉ | 54701/61371 [00:10<00:02, 3232.76 examples/s]"
     ]
    },
    {
     "name": "stderr",
     "output_type": "stream",
     "text": [
      "\r",
      "Map:  90%|█████████ | 55476/61371 [00:10<00:01, 3694.44 examples/s]"
     ]
    },
    {
     "name": "stderr",
     "output_type": "stream",
     "text": [
      "\r",
      "Map:  92%|█████████▏| 56440/61371 [00:10<00:01, 4343.51 examples/s]"
     ]
    },
    {
     "name": "stderr",
     "output_type": "stream",
     "text": [
      "\r",
      "Map:  93%|█████████▎| 57376/61371 [00:10<00:00, 4724.93 examples/s]"
     ]
    },
    {
     "name": "stderr",
     "output_type": "stream",
     "text": [
      "\r",
      "Map:  95%|█████████▍| 58000/61371 [00:11<00:00, 4714.68 examples/s]"
     ]
    },
    {
     "name": "stderr",
     "output_type": "stream",
     "text": [
      "\r",
      "Map:  95%|█████████▌| 58583/61371 [00:11<00:00, 4941.49 examples/s]"
     ]
    },
    {
     "name": "stderr",
     "output_type": "stream",
     "text": [
      "\r",
      "Map:  97%|█████████▋| 59449/61371 [00:11<00:00, 4904.58 examples/s]"
     ]
    },
    {
     "name": "stderr",
     "output_type": "stream",
     "text": [
      "\r",
      "Map:  98%|█████████▊| 60000/61371 [00:11<00:00, 4951.60 examples/s]"
     ]
    },
    {
     "name": "stderr",
     "output_type": "stream",
     "text": [
      "\r",
      "Map:  99%|█████████▉| 60819/61371 [00:11<00:00, 5698.63 examples/s]"
     ]
    },
    {
     "name": "stderr",
     "output_type": "stream",
     "text": [
      "\r",
      "Map: 100%|██████████| 61371/61371 [00:12<00:00, 5057.98 examples/s]"
     ]
    },
    {
     "name": "stderr",
     "output_type": "stream",
     "text": [
      "\n"
     ]
    },
    {
     "name": "stdout",
     "output_type": "stream",
     "text": [
      "              precision    recall  f1-score   support\n",
      "\n",
      "       B-LOC       0.82      0.88      0.85     17495\n",
      "      B-MISC       0.62      0.70      0.66     10657\n",
      "       B-ORG       0.60      0.64      0.62     13041\n",
      "       B-PER       0.90      0.89      0.90     15547\n",
      "       I-LOC       0.68      0.58      0.62      5367\n",
      "      I-MISC       0.60      0.26      0.36      7305\n",
      "       I-ORG       0.86      0.62      0.72     18313\n",
      "       I-PER       0.92      0.87      0.89     11086\n",
      "           O       0.99      0.99      0.99   1011383\n",
      "\n",
      "    accuracy                           0.97   1110194\n",
      "   macro avg       0.78      0.71      0.73   1110194\n",
      "weighted avg       0.97      0.97      0.97   1110194\n",
      "\n"
     ]
    },
    {
     "name": "stderr",
     "output_type": "stream",
     "text": [
      "Some weights of BertForTokenClassification were not initialized from the model checkpoint at bert-base-uncased and are newly initialized: ['classifier.bias', 'classifier.weight']\n",
      "You should probably TRAIN this model on a down-stream task to be able to use it for predictions and inference.\n"
     ]
    },
    {
     "name": "stderr",
     "output_type": "stream",
     "text": [
      "/scratch/1051104/ipykernel_1402827/2779880192.py:29: FutureWarning: `tokenizer` is deprecated and will be removed in version 5.0.0 for `Trainer.__init__`. Use `processing_class` instead.\n",
      "  seed_trainer = Trainer(\n"
     ]
    },
    {
     "data": {
      "text/html": [
       "\n",
       "    <div>\n",
       "      \n",
       "      <progress value='3114' max='3114' style='width:300px; height:20px; vertical-align: middle;'></progress>\n",
       "      [3114/3114 17:29, Epoch 3/3]\n",
       "    </div>\n",
       "    <table border=\"1\" class=\"dataframe\">\n",
       "  <thead>\n",
       " <tr style=\"text-align: left;\">\n",
       "      <th>Step</th>\n",
       "      <th>Training Loss</th>\n",
       "    </tr>\n",
       "  </thead>\n",
       "  <tbody>\n",
       "    <tr>\n",
       "      <td>1000</td>\n",
       "      <td>0.154100</td>\n",
       "    </tr>\n",
       "    <tr>\n",
       "      <td>2000</td>\n",
       "      <td>0.048200</td>\n",
       "    </tr>\n",
       "    <tr>\n",
       "      <td>3000</td>\n",
       "      <td>0.029300</td>\n",
       "    </tr>\n",
       "  </tbody>\n",
       "</table><p>"
      ],
      "text/plain": [
       "<IPython.core.display.HTML object>"
      ]
     },
     "metadata": {},
     "output_type": "display_data"
    },
    {
     "data": {
      "text/html": [],
      "text/plain": [
       "<IPython.core.display.HTML object>"
      ]
     },
     "metadata": {},
     "output_type": "display_data"
    },
    {
     "name": "stderr",
     "output_type": "stream",
     "text": [
      "\r",
      "Map:   0%|          | 0/61371 [00:00<?, ? examples/s]"
     ]
    },
    {
     "name": "stderr",
     "output_type": "stream",
     "text": [
      "\r",
      "Map:   1%|▏         | 882/61371 [00:00<00:06, 8694.25 examples/s]"
     ]
    },
    {
     "name": "stderr",
     "output_type": "stream",
     "text": [
      "\r",
      "Map:   3%|▎         | 1941/61371 [00:00<00:09, 6020.22 examples/s]"
     ]
    },
    {
     "name": "stderr",
     "output_type": "stream",
     "text": [
      "\r",
      "Map:   5%|▍         | 2927/61371 [00:00<00:09, 5915.11 examples/s]"
     ]
    },
    {
     "name": "stderr",
     "output_type": "stream",
     "text": [
      "\r",
      "Map:   6%|▋         | 3918/61371 [00:00<00:09, 6157.39 examples/s]"
     ]
    },
    {
     "name": "stderr",
     "output_type": "stream",
     "text": [
      "\r",
      "Map:   8%|▊         | 4969/61371 [00:00<00:09, 6238.29 examples/s]"
     ]
    },
    {
     "name": "stderr",
     "output_type": "stream",
     "text": [
      "\r",
      "Map:   9%|▉         | 5777/61371 [00:00<00:09, 5871.38 examples/s]"
     ]
    },
    {
     "name": "stderr",
     "output_type": "stream",
     "text": [
      "\r",
      "Map:  10%|█         | 6417/61371 [00:01<00:09, 5646.57 examples/s]"
     ]
    },
    {
     "name": "stderr",
     "output_type": "stream",
     "text": [
      "\r",
      "Map:  11%|█▏        | 7000/61371 [00:01<00:10, 5409.33 examples/s]"
     ]
    },
    {
     "name": "stderr",
     "output_type": "stream",
     "text": [
      "\r",
      "Map:  12%|█▏        | 7549/61371 [00:01<00:09, 5425.71 examples/s]"
     ]
    },
    {
     "name": "stderr",
     "output_type": "stream",
     "text": [
      "\r",
      "Map:  14%|█▍        | 8442/61371 [00:01<00:10, 5002.77 examples/s]"
     ]
    },
    {
     "name": "stderr",
     "output_type": "stream",
     "text": [
      "\r",
      "Map:  15%|█▍        | 9000/61371 [00:01<00:10, 5051.67 examples/s]"
     ]
    },
    {
     "name": "stderr",
     "output_type": "stream",
     "text": [
      "\r",
      "Map:  16%|█▌        | 9826/61371 [00:01<00:08, 5823.22 examples/s]"
     ]
    },
    {
     "name": "stderr",
     "output_type": "stream",
     "text": [
      "\r",
      "Map:  17%|█▋        | 10440/61371 [00:01<00:08, 5665.97 examples/s]"
     ]
    },
    {
     "name": "stderr",
     "output_type": "stream",
     "text": [
      "\r",
      "Map:  19%|█▊        | 11358/61371 [00:01<00:08, 5689.77 examples/s]"
     ]
    },
    {
     "name": "stderr",
     "output_type": "stream",
     "text": [
      "\r",
      "Map:  20%|█▉        | 12000/61371 [00:02<00:09, 5351.55 examples/s]"
     ]
    },
    {
     "name": "stderr",
     "output_type": "stream",
     "text": [
      "\r",
      "Map:  21%|██        | 12795/61371 [00:02<00:08, 5975.35 examples/s]"
     ]
    },
    {
     "name": "stderr",
     "output_type": "stream",
     "text": [
      "\r",
      "Map:  22%|██▏       | 13453/61371 [00:02<00:08, 5800.90 examples/s]"
     ]
    },
    {
     "name": "stderr",
     "output_type": "stream",
     "text": [
      "\r",
      "Map:  23%|██▎       | 14421/61371 [00:02<00:07, 5941.53 examples/s]"
     ]
    },
    {
     "name": "stderr",
     "output_type": "stream",
     "text": [
      "\r",
      "Map:  25%|██▌       | 15378/61371 [00:02<00:07, 5899.56 examples/s]"
     ]
    },
    {
     "name": "stderr",
     "output_type": "stream",
     "text": [
      "\r",
      "Map:  26%|██▌       | 16000/61371 [00:02<00:08, 5586.28 examples/s]"
     ]
    },
    {
     "name": "stderr",
     "output_type": "stream",
     "text": [
      "\r",
      "Map:  27%|██▋       | 16796/61371 [00:02<00:07, 6144.36 examples/s]"
     ]
    },
    {
     "name": "stderr",
     "output_type": "stream",
     "text": [
      "\r",
      "Map:  29%|██▉       | 17806/61371 [00:03<00:07, 6026.11 examples/s]"
     ]
    },
    {
     "name": "stderr",
     "output_type": "stream",
     "text": [
      "\r",
      "Map:  31%|███       | 18797/61371 [00:03<00:07, 5950.03 examples/s]"
     ]
    },
    {
     "name": "stderr",
     "output_type": "stream",
     "text": [
      "\r",
      "Map:  32%|███▏      | 19800/61371 [00:03<00:07, 5914.72 examples/s]"
     ]
    },
    {
     "name": "stderr",
     "output_type": "stream",
     "text": [
      "\r",
      "Map:  33%|███▎      | 20409/61371 [00:03<00:07, 5667.18 examples/s]"
     ]
    },
    {
     "name": "stderr",
     "output_type": "stream",
     "text": [
      "\r",
      "Map:  34%|███▍      | 21000/61371 [00:03<00:07, 5476.38 examples/s]"
     ]
    },
    {
     "name": "stderr",
     "output_type": "stream",
     "text": [
      "\r",
      "Map:  35%|███▌      | 21688/61371 [00:03<00:06, 5805.07 examples/s]"
     ]
    },
    {
     "name": "stderr",
     "output_type": "stream",
     "text": [
      "\r",
      "Map:  37%|███▋      | 22423/61371 [00:03<00:07, 5562.38 examples/s]"
     ]
    },
    {
     "name": "stderr",
     "output_type": "stream",
     "text": [
      "\r",
      "Map:  37%|███▋      | 23000/61371 [00:04<00:07, 5431.61 examples/s]"
     ]
    },
    {
     "name": "stderr",
     "output_type": "stream",
     "text": [
      "\r",
      "Map:  39%|███▉      | 23813/61371 [00:04<00:06, 6111.16 examples/s]"
     ]
    },
    {
     "name": "stderr",
     "output_type": "stream",
     "text": [
      "\r",
      "Map:  40%|████      | 24792/61371 [00:04<00:06, 5985.73 examples/s]"
     ]
    },
    {
     "name": "stderr",
     "output_type": "stream",
     "text": [
      "\r",
      "Map:  41%|████▏     | 25428/61371 [00:04<00:06, 5766.24 examples/s]"
     ]
    },
    {
     "name": "stderr",
     "output_type": "stream",
     "text": [
      "\r",
      "Map:  43%|████▎     | 26320/61371 [00:04<00:06, 5651.82 examples/s]"
     ]
    },
    {
     "name": "stderr",
     "output_type": "stream",
     "text": [
      "\r",
      "Map:  44%|████▍     | 26955/61371 [00:04<00:05, 5814.34 examples/s]"
     ]
    },
    {
     "name": "stderr",
     "output_type": "stream",
     "text": [
      "\r",
      "Map:  45%|████▌     | 27798/61371 [00:04<00:05, 5638.17 examples/s]"
     ]
    },
    {
     "name": "stderr",
     "output_type": "stream",
     "text": [
      "\r",
      "Map:  46%|████▋     | 28461/61371 [00:04<00:05, 5572.34 examples/s]"
     ]
    },
    {
     "name": "stderr",
     "output_type": "stream",
     "text": [
      "\r",
      "Map:  48%|████▊     | 29458/61371 [00:05<00:05, 5905.75 examples/s]"
     ]
    },
    {
     "name": "stderr",
     "output_type": "stream",
     "text": [
      "\r",
      "Map:  50%|████▉     | 30424/61371 [00:05<00:05, 6030.40 examples/s]"
     ]
    },
    {
     "name": "stderr",
     "output_type": "stream",
     "text": [
      "\r",
      "Map:  51%|█████     | 31436/61371 [00:05<00:04, 6111.10 examples/s]"
     ]
    },
    {
     "name": "stderr",
     "output_type": "stream",
     "text": [
      "\r",
      "Map:  53%|█████▎    | 32382/61371 [00:05<00:04, 5949.61 examples/s]"
     ]
    },
    {
     "name": "stderr",
     "output_type": "stream",
     "text": [
      "\r",
      "Map:  54%|█████▍    | 33000/61371 [00:05<00:05, 5612.44 examples/s]"
     ]
    },
    {
     "name": "stderr",
     "output_type": "stream",
     "text": [
      "\r",
      "Map:  55%|█████▍    | 33627/61371 [00:05<00:04, 5757.54 examples/s]"
     ]
    },
    {
     "name": "stderr",
     "output_type": "stream",
     "text": [
      "\r",
      "Map:  56%|█████▌    | 34447/61371 [00:05<00:04, 5532.48 examples/s]"
     ]
    },
    {
     "name": "stderr",
     "output_type": "stream",
     "text": [
      "\r",
      "Map:  58%|█████▊    | 35419/61371 [00:06<00:04, 5756.72 examples/s]"
     ]
    },
    {
     "name": "stderr",
     "output_type": "stream",
     "text": [
      "\r",
      "Map:  59%|█████▊    | 36000/61371 [00:06<00:04, 5599.95 examples/s]"
     ]
    },
    {
     "name": "stderr",
     "output_type": "stream",
     "text": [
      "\r",
      "Map:  60%|██████    | 36936/61371 [00:06<00:03, 6498.08 examples/s]"
     ]
    },
    {
     "name": "stderr",
     "output_type": "stream",
     "text": [
      "\r",
      "Map:  62%|██████▏   | 37839/61371 [00:06<00:03, 6330.40 examples/s]"
     ]
    },
    {
     "name": "stderr",
     "output_type": "stream",
     "text": [
      "\r",
      "Map:  63%|██████▎   | 38849/61371 [00:06<00:03, 6261.43 examples/s]"
     ]
    },
    {
     "name": "stderr",
     "output_type": "stream",
     "text": [
      "\r",
      "Map:  65%|██████▍   | 39803/61371 [00:06<00:03, 6114.74 examples/s]"
     ]
    },
    {
     "name": "stderr",
     "output_type": "stream",
     "text": [
      "\r",
      "Map:  66%|██████▋   | 40684/61371 [00:07<00:03, 5763.34 examples/s]"
     ]
    },
    {
     "name": "stderr",
     "output_type": "stream",
     "text": [
      "\r",
      "Map:  68%|██████▊   | 41467/61371 [00:07<00:03, 5647.11 examples/s]"
     ]
    },
    {
     "name": "stderr",
     "output_type": "stream",
     "text": [
      "\r",
      "Map:  69%|██████▉   | 42450/61371 [00:07<00:03, 5912.73 examples/s]"
     ]
    },
    {
     "name": "stderr",
     "output_type": "stream",
     "text": [
      "\r",
      "Map:  71%|███████   | 43382/61371 [00:07<00:03, 5925.81 examples/s]"
     ]
    },
    {
     "name": "stderr",
     "output_type": "stream",
     "text": [
      "\r",
      "Map:  72%|███████▏  | 44000/61371 [00:07<00:03, 5650.09 examples/s]"
     ]
    },
    {
     "name": "stderr",
     "output_type": "stream",
     "text": [
      "\r",
      "Map:  73%|███████▎  | 44594/61371 [00:07<00:02, 5713.17 examples/s]"
     ]
    },
    {
     "name": "stderr",
     "output_type": "stream",
     "text": [
      "\r",
      "Map:  74%|███████▍  | 45431/61371 [00:07<00:02, 5381.62 examples/s]"
     ]
    },
    {
     "name": "stderr",
     "output_type": "stream",
     "text": [
      "\r",
      "Map:  75%|███████▍  | 46000/61371 [00:07<00:02, 5321.70 examples/s]"
     ]
    },
    {
     "name": "stderr",
     "output_type": "stream",
     "text": [
      "\r",
      "Map:  76%|███████▋  | 46825/61371 [00:08<00:02, 6027.84 examples/s]"
     ]
    },
    {
     "name": "stderr",
     "output_type": "stream",
     "text": [
      "\r",
      "Map:  78%|███████▊  | 47718/61371 [00:08<00:02, 5793.14 examples/s]"
     ]
    },
    {
     "name": "stderr",
     "output_type": "stream",
     "text": [
      "\r",
      "Map:  79%|███████▉  | 48398/61371 [00:08<00:02, 5508.38 examples/s]"
     ]
    },
    {
     "name": "stderr",
     "output_type": "stream",
     "text": [
      "\r",
      "Map:  80%|███████▉  | 49000/61371 [00:08<00:02, 5359.17 examples/s]"
     ]
    },
    {
     "name": "stderr",
     "output_type": "stream",
     "text": [
      "\r",
      "Map:  81%|████████  | 49642/61371 [00:08<00:02, 5616.28 examples/s]"
     ]
    },
    {
     "name": "stderr",
     "output_type": "stream",
     "text": [
      "\r",
      "Map:  82%|████████▏ | 50371/61371 [00:08<00:02, 5286.49 examples/s]"
     ]
    },
    {
     "name": "stderr",
     "output_type": "stream",
     "text": [
      "\r",
      "Map:  83%|████████▎ | 51000/61371 [00:08<00:02, 5131.28 examples/s]"
     ]
    },
    {
     "name": "stderr",
     "output_type": "stream",
     "text": [
      "\r",
      "Map:  84%|████████▍ | 51777/61371 [00:08<00:01, 5774.52 examples/s]"
     ]
    },
    {
     "name": "stderr",
     "output_type": "stream",
     "text": [
      "\r",
      "Map:  85%|████████▌ | 52448/61371 [00:09<00:01, 5628.96 examples/s]"
     ]
    },
    {
     "name": "stderr",
     "output_type": "stream",
     "text": [
      "\r",
      "Map:  87%|████████▋ | 53417/61371 [00:09<00:01, 5848.11 examples/s]"
     ]
    },
    {
     "name": "stderr",
     "output_type": "stream",
     "text": [
      "\r",
      "Map:  89%|████████▊ | 54354/61371 [00:09<00:01, 5796.18 examples/s]"
     ]
    },
    {
     "name": "stderr",
     "output_type": "stream",
     "text": [
      "\r",
      "Map:  90%|████████▉ | 55000/61371 [00:09<00:01, 5429.50 examples/s]"
     ]
    },
    {
     "name": "stderr",
     "output_type": "stream",
     "text": [
      "\r",
      "Map:  91%|█████████ | 55940/61371 [00:09<00:00, 6346.48 examples/s]"
     ]
    },
    {
     "name": "stderr",
     "output_type": "stream",
     "text": [
      "\r",
      "Map:  93%|█████████▎| 56859/61371 [00:09<00:00, 6272.35 examples/s]"
     ]
    },
    {
     "name": "stderr",
     "output_type": "stream",
     "text": [
      "\r",
      "Map:  94%|█████████▍| 57754/61371 [00:09<00:00, 5864.24 examples/s]"
     ]
    },
    {
     "name": "stderr",
     "output_type": "stream",
     "text": [
      "\r",
      "Map:  95%|█████████▌| 58585/61371 [00:10<00:00, 5407.99 examples/s]"
     ]
    },
    {
     "name": "stderr",
     "output_type": "stream",
     "text": [
      "\r",
      "Map:  97%|█████████▋| 59446/61371 [00:10<00:00, 5225.84 examples/s]"
     ]
    },
    {
     "name": "stderr",
     "output_type": "stream",
     "text": [
      "\r",
      "Map:  98%|█████████▊| 60000/61371 [00:10<00:00, 5205.96 examples/s]"
     ]
    },
    {
     "name": "stderr",
     "output_type": "stream",
     "text": [
      "\r",
      "Map:  99%|█████████▉| 60855/61371 [00:10<00:00, 5959.56 examples/s]"
     ]
    },
    {
     "name": "stderr",
     "output_type": "stream",
     "text": [
      "\r",
      "Map: 100%|██████████| 61371/61371 [00:11<00:00, 5136.87 examples/s]"
     ]
    },
    {
     "name": "stderr",
     "output_type": "stream",
     "text": [
      "\n"
     ]
    },
    {
     "name": "stdout",
     "output_type": "stream",
     "text": [
      "              precision    recall  f1-score   support\n",
      "\n",
      "       B-LOC       0.81      0.89      0.85     17495\n",
      "      B-MISC       0.63      0.69      0.66     10657\n",
      "       B-ORG       0.61      0.63      0.62     13041\n",
      "       B-PER       0.90      0.90      0.90     15547\n",
      "       I-LOC       0.68      0.58      0.62      5367\n",
      "      I-MISC       0.59      0.24      0.34      7305\n",
      "       I-ORG       0.86      0.61      0.72     18313\n",
      "       I-PER       0.93      0.87      0.90     11086\n",
      "           O       0.99      0.99      0.99   1011383\n",
      "\n",
      "    accuracy                           0.97   1110194\n",
      "   macro avg       0.78      0.71      0.73   1110194\n",
      "weighted avg       0.97      0.97      0.97   1110194\n",
      "\n"
     ]
    },
    {
     "name": "stderr",
     "output_type": "stream",
     "text": [
      "Some weights of BertForTokenClassification were not initialized from the model checkpoint at bert-base-uncased and are newly initialized: ['classifier.bias', 'classifier.weight']\n",
      "You should probably TRAIN this model on a down-stream task to be able to use it for predictions and inference.\n"
     ]
    },
    {
     "name": "stderr",
     "output_type": "stream",
     "text": [
      "/scratch/1051104/ipykernel_1402827/2779880192.py:29: FutureWarning: `tokenizer` is deprecated and will be removed in version 5.0.0 for `Trainer.__init__`. Use `processing_class` instead.\n",
      "  seed_trainer = Trainer(\n"
     ]
    },
    {
     "data": {
      "text/html": [
       "\n",
       "    <div>\n",
       "      \n",
       "      <progress value='3114' max='3114' style='width:300px; height:20px; vertical-align: middle;'></progress>\n",
       "      [3114/3114 15:23, Epoch 3/3]\n",
       "    </div>\n",
       "    <table border=\"1\" class=\"dataframe\">\n",
       "  <thead>\n",
       " <tr style=\"text-align: left;\">\n",
       "      <th>Step</th>\n",
       "      <th>Training Loss</th>\n",
       "    </tr>\n",
       "  </thead>\n",
       "  <tbody>\n",
       "    <tr>\n",
       "      <td>1000</td>\n",
       "      <td>0.159500</td>\n",
       "    </tr>\n",
       "    <tr>\n",
       "      <td>2000</td>\n",
       "      <td>0.045900</td>\n",
       "    </tr>\n",
       "    <tr>\n",
       "      <td>3000</td>\n",
       "      <td>0.027700</td>\n",
       "    </tr>\n",
       "  </tbody>\n",
       "</table><p>"
      ],
      "text/plain": [
       "<IPython.core.display.HTML object>"
      ]
     },
     "metadata": {},
     "output_type": "display_data"
    },
    {
     "data": {
      "text/html": [],
      "text/plain": [
       "<IPython.core.display.HTML object>"
      ]
     },
     "metadata": {},
     "output_type": "display_data"
    },
    {
     "name": "stderr",
     "output_type": "stream",
     "text": [
      "\r",
      "Map:   0%|          | 0/61371 [00:00<?, ? examples/s]"
     ]
    },
    {
     "name": "stderr",
     "output_type": "stream",
     "text": [
      "\r",
      "Map:   1%|▏         | 896/61371 [00:00<00:06, 8850.91 examples/s]"
     ]
    },
    {
     "name": "stderr",
     "output_type": "stream",
     "text": [
      "\r",
      "Map:   3%|▎         | 1958/61371 [00:00<00:09, 6064.33 examples/s]"
     ]
    },
    {
     "name": "stderr",
     "output_type": "stream",
     "text": [
      "\r",
      "Map:   5%|▍         | 2922/61371 [00:00<00:09, 5988.85 examples/s]"
     ]
    },
    {
     "name": "stderr",
     "output_type": "stream",
     "text": [
      "\r",
      "Map:   6%|▋         | 3952/61371 [00:00<00:09, 6276.55 examples/s]"
     ]
    },
    {
     "name": "stderr",
     "output_type": "stream",
     "text": [
      "\r",
      "Map:   8%|▊         | 5000/61371 [00:00<00:09, 5970.13 examples/s]"
     ]
    },
    {
     "name": "stderr",
     "output_type": "stream",
     "text": [
      "\r",
      "Map:   9%|▉         | 5782/61371 [00:00<00:08, 6397.80 examples/s]"
     ]
    },
    {
     "name": "stderr",
     "output_type": "stream",
     "text": [
      "\r",
      "Map:  11%|█         | 6841/61371 [00:01<00:08, 6266.03 examples/s]"
     ]
    },
    {
     "name": "stderr",
     "output_type": "stream",
     "text": [
      "\r",
      "Map:  12%|█▏        | 7567/61371 [00:01<00:09, 5639.52 examples/s]"
     ]
    },
    {
     "name": "stderr",
     "output_type": "stream",
     "text": [
      "\r",
      "Map:  14%|█▍        | 8457/61371 [00:01<00:09, 5354.79 examples/s]"
     ]
    },
    {
     "name": "stderr",
     "output_type": "stream",
     "text": [
      "\r",
      "Map:  15%|█▌        | 9413/61371 [00:01<00:09, 5468.75 examples/s]"
     ]
    },
    {
     "name": "stderr",
     "output_type": "stream",
     "text": [
      "\r",
      "Map:  16%|█▋        | 10000/61371 [00:01<00:09, 5356.65 examples/s]"
     ]
    },
    {
     "name": "stderr",
     "output_type": "stream",
     "text": [
      "\r",
      "Map:  18%|█▊        | 10879/61371 [00:01<00:08, 6123.15 examples/s]"
     ]
    },
    {
     "name": "stderr",
     "output_type": "stream",
     "text": [
      "\r",
      "Map:  19%|█▉        | 11705/61371 [00:01<00:08, 5830.04 examples/s]"
     ]
    },
    {
     "name": "stderr",
     "output_type": "stream",
     "text": [
      "\r",
      "Map:  20%|██        | 12402/61371 [00:02<00:08, 5519.27 examples/s]"
     ]
    },
    {
     "name": "stderr",
     "output_type": "stream",
     "text": [
      "\r",
      "Map:  21%|██        | 13000/61371 [00:02<00:08, 5376.01 examples/s]"
     ]
    },
    {
     "name": "stderr",
     "output_type": "stream",
     "text": [
      "\r",
      "Map:  23%|██▎       | 13902/61371 [00:02<00:07, 6249.44 examples/s]"
     ]
    },
    {
     "name": "stderr",
     "output_type": "stream",
     "text": [
      "\r",
      "Map:  24%|██▍       | 14837/61371 [00:02<00:07, 6175.13 examples/s]"
     ]
    },
    {
     "name": "stderr",
     "output_type": "stream",
     "text": [
      "\r",
      "Map:  26%|██▌       | 15756/61371 [00:02<00:07, 5956.97 examples/s]"
     ]
    },
    {
     "name": "stderr",
     "output_type": "stream",
     "text": [
      "\r",
      "Map:  27%|██▋       | 16403/61371 [00:02<00:07, 5649.47 examples/s]"
     ]
    },
    {
     "name": "stderr",
     "output_type": "stream",
     "text": [
      "\r",
      "Map:  28%|██▊       | 17000/61371 [00:02<00:08, 5440.46 examples/s]"
     ]
    },
    {
     "name": "stderr",
     "output_type": "stream",
     "text": [
      "\r",
      "Map:  29%|██▉       | 17805/61371 [00:03<00:07, 6067.59 examples/s]"
     ]
    },
    {
     "name": "stderr",
     "output_type": "stream",
     "text": [
      "\r",
      "Map:  31%|███       | 18804/61371 [00:03<00:07, 5963.75 examples/s]"
     ]
    },
    {
     "name": "stderr",
     "output_type": "stream",
     "text": [
      "\r",
      "Map:  32%|███▏      | 19794/61371 [00:03<00:07, 5872.85 examples/s]"
     ]
    },
    {
     "name": "stderr",
     "output_type": "stream",
     "text": [
      "\r",
      "Map:  33%|███▎      | 20412/61371 [00:03<00:07, 5653.90 examples/s]"
     ]
    },
    {
     "name": "stderr",
     "output_type": "stream",
     "text": [
      "\r",
      "Map:  34%|███▍      | 21000/61371 [00:03<00:07, 5481.57 examples/s]"
     ]
    },
    {
     "name": "stderr",
     "output_type": "stream",
     "text": [
      "\r",
      "Map:  35%|███▌      | 21678/61371 [00:03<00:06, 5793.85 examples/s]"
     ]
    },
    {
     "name": "stderr",
     "output_type": "stream",
     "text": [
      "\r",
      "Map:  37%|███▋      | 22428/61371 [00:03<00:07, 5536.00 examples/s]"
     ]
    },
    {
     "name": "stderr",
     "output_type": "stream",
     "text": [
      "\r",
      "Map:  37%|███▋      | 23000/61371 [00:03<00:07, 5418.95 examples/s]"
     ]
    },
    {
     "name": "stderr",
     "output_type": "stream",
     "text": [
      "\r",
      "Map:  39%|███▉      | 23813/61371 [00:04<00:06, 6106.01 examples/s]"
     ]
    },
    {
     "name": "stderr",
     "output_type": "stream",
     "text": [
      "\r",
      "Map:  40%|████      | 24776/61371 [00:04<00:06, 5911.48 examples/s]"
     ]
    },
    {
     "name": "stderr",
     "output_type": "stream",
     "text": [
      "\r",
      "Map:  41%|████▏     | 25423/61371 [00:04<00:06, 5677.76 examples/s]"
     ]
    },
    {
     "name": "stderr",
     "output_type": "stream",
     "text": [
      "\r",
      "Map:  43%|████▎     | 26323/61371 [00:04<00:06, 5620.45 examples/s]"
     ]
    },
    {
     "name": "stderr",
     "output_type": "stream",
     "text": [
      "\r",
      "Map:  44%|████▍     | 26955/61371 [00:04<00:05, 5780.38 examples/s]"
     ]
    },
    {
     "name": "stderr",
     "output_type": "stream",
     "text": [
      "\r",
      "Map:  45%|████▌     | 27801/61371 [00:04<00:06, 5577.49 examples/s]"
     ]
    },
    {
     "name": "stderr",
     "output_type": "stream",
     "text": [
      "\r",
      "Map:  46%|████▋     | 28454/61371 [00:04<00:05, 5516.78 examples/s]"
     ]
    },
    {
     "name": "stderr",
     "output_type": "stream",
     "text": [
      "\r",
      "Map:  48%|████▊     | 29436/61371 [00:05<00:05, 5759.62 examples/s]"
     ]
    },
    {
     "name": "stderr",
     "output_type": "stream",
     "text": [
      "\r",
      "Map:  50%|████▉     | 30403/61371 [00:05<00:05, 5871.98 examples/s]"
     ]
    },
    {
     "name": "stderr",
     "output_type": "stream",
     "text": [
      "\r",
      "Map:  51%|█████     | 31000/61371 [00:05<00:05, 5658.75 examples/s]"
     ]
    },
    {
     "name": "stderr",
     "output_type": "stream",
     "text": [
      "\r",
      "Map:  52%|█████▏    | 31868/61371 [00:05<00:04, 6375.15 examples/s]"
     ]
    },
    {
     "name": "stderr",
     "output_type": "stream",
     "text": [
      "\r",
      "Map:  53%|█████▎    | 32760/61371 [00:05<00:04, 6082.29 examples/s]"
     ]
    },
    {
     "name": "stderr",
     "output_type": "stream",
     "text": [
      "\r",
      "Map:  55%|█████▍    | 33611/61371 [00:05<00:04, 5591.04 examples/s]"
     ]
    },
    {
     "name": "stderr",
     "output_type": "stream",
     "text": [
      "\r",
      "Map:  56%|█████▌    | 34446/61371 [00:05<00:04, 5400.60 examples/s]"
     ]
    },
    {
     "name": "stderr",
     "output_type": "stream",
     "text": [
      "\r",
      "Map:  58%|█████▊    | 35432/61371 [00:06<00:04, 5631.50 examples/s]"
     ]
    },
    {
     "name": "stderr",
     "output_type": "stream",
     "text": [
      "\r",
      "Map:  59%|█████▉    | 36461/61371 [00:06<00:04, 5851.85 examples/s]"
     ]
    },
    {
     "name": "stderr",
     "output_type": "stream",
     "text": [
      "\r",
      "Map:  61%|██████    | 37417/61371 [00:06<00:04, 5944.37 examples/s]"
     ]
    },
    {
     "name": "stderr",
     "output_type": "stream",
     "text": [
      "\r",
      "Map:  63%|██████▎   | 38412/61371 [00:06<00:03, 5951.79 examples/s]"
     ]
    },
    {
     "name": "stderr",
     "output_type": "stream",
     "text": [
      "\r",
      "Map:  64%|██████▍   | 39397/61371 [00:06<00:03, 5950.10 examples/s]"
     ]
    },
    {
     "name": "stderr",
     "output_type": "stream",
     "text": [
      "\r",
      "Map:  65%|██████▌   | 40000/61371 [00:06<00:03, 5615.52 examples/s]"
     ]
    },
    {
     "name": "stderr",
     "output_type": "stream",
     "text": [
      "\r",
      "Map:  66%|██████▋   | 40677/61371 [00:07<00:03, 5867.75 examples/s]"
     ]
    },
    {
     "name": "stderr",
     "output_type": "stream",
     "text": [
      "\r",
      "Map:  68%|██████▊   | 41495/61371 [00:07<00:03, 5705.48 examples/s]"
     ]
    },
    {
     "name": "stderr",
     "output_type": "stream",
     "text": [
      "\r",
      "Map:  69%|██████▉   | 42505/61371 [00:07<00:03, 6024.25 examples/s]"
     ]
    },
    {
     "name": "stderr",
     "output_type": "stream",
     "text": [
      "\r",
      "Map:  71%|███████   | 43397/61371 [00:07<00:02, 5998.18 examples/s]"
     ]
    },
    {
     "name": "stderr",
     "output_type": "stream",
     "text": [
      "\r",
      "Map:  72%|███████▏  | 44000/61371 [00:07<00:03, 5647.97 examples/s]"
     ]
    },
    {
     "name": "stderr",
     "output_type": "stream",
     "text": [
      "\r",
      "Map:  73%|███████▎  | 44590/61371 [00:07<00:02, 5706.88 examples/s]"
     ]
    },
    {
     "name": "stderr",
     "output_type": "stream",
     "text": [
      "\r",
      "Map:  74%|███████▍  | 45432/61371 [00:07<00:02, 5372.93 examples/s]"
     ]
    },
    {
     "name": "stderr",
     "output_type": "stream",
     "text": [
      "\r",
      "Map:  75%|███████▍  | 46000/61371 [00:07<00:02, 5273.58 examples/s]"
     ]
    },
    {
     "name": "stderr",
     "output_type": "stream",
     "text": [
      "\r",
      "Map:  76%|███████▋  | 46820/61371 [00:08<00:02, 5981.16 examples/s]"
     ]
    },
    {
     "name": "stderr",
     "output_type": "stream",
     "text": [
      "\r",
      "Map:  78%|███████▊  | 47719/61371 [00:08<00:02, 5739.85 examples/s]"
     ]
    },
    {
     "name": "stderr",
     "output_type": "stream",
     "text": [
      "\r",
      "Map:  79%|███████▉  | 48393/61371 [00:08<00:02, 5429.08 examples/s]"
     ]
    },
    {
     "name": "stderr",
     "output_type": "stream",
     "text": [
      "\r",
      "Map:  80%|███████▉  | 49000/61371 [00:08<00:02, 5265.69 examples/s]"
     ]
    },
    {
     "name": "stderr",
     "output_type": "stream",
     "text": [
      "\r",
      "Map:  81%|████████  | 49656/61371 [00:08<00:02, 5575.93 examples/s]"
     ]
    },
    {
     "name": "stderr",
     "output_type": "stream",
     "text": [
      "\r",
      "Map:  82%|████████▏ | 50354/61371 [00:08<00:02, 5212.20 examples/s]"
     ]
    },
    {
     "name": "stderr",
     "output_type": "stream",
     "text": [
      "\r",
      "Map:  83%|████████▎ | 51000/61371 [00:08<00:02, 5041.58 examples/s]"
     ]
    },
    {
     "name": "stderr",
     "output_type": "stream",
     "text": [
      "\r",
      "Map:  84%|████████▍ | 51765/61371 [00:09<00:01, 5668.17 examples/s]"
     ]
    },
    {
     "name": "stderr",
     "output_type": "stream",
     "text": [
      "\r",
      "Map:  85%|████████▌ | 52446/61371 [00:09<00:01, 5563.46 examples/s]"
     ]
    },
    {
     "name": "stderr",
     "output_type": "stream",
     "text": [
      "\r",
      "Map:  87%|████████▋ | 53415/61371 [00:09<00:01, 5753.14 examples/s]"
     ]
    },
    {
     "name": "stderr",
     "output_type": "stream",
     "text": [
      "\r",
      "Map:  88%|████████▊ | 54000/61371 [00:09<00:01, 5563.40 examples/s]"
     ]
    },
    {
     "name": "stderr",
     "output_type": "stream",
     "text": [
      "\r",
      "Map:  89%|████████▉ | 54643/61371 [00:09<00:01, 5777.81 examples/s]"
     ]
    },
    {
     "name": "stderr",
     "output_type": "stream",
     "text": [
      "\r",
      "Map:  90%|█████████ | 55471/61371 [00:09<00:01, 5673.86 examples/s]"
     ]
    },
    {
     "name": "stderr",
     "output_type": "stream",
     "text": [
      "\r",
      "Map:  92%|█████████▏| 56431/61371 [00:09<00:00, 5910.38 examples/s]"
     ]
    },
    {
     "name": "stderr",
     "output_type": "stream",
     "text": [
      "\r",
      "Map:  93%|█████████▎| 57373/61371 [00:09<00:00, 5860.25 examples/s]"
     ]
    },
    {
     "name": "stderr",
     "output_type": "stream",
     "text": [
      "\r",
      "Map:  95%|█████████▍| 58000/61371 [00:10<00:00, 5511.81 examples/s]"
     ]
    },
    {
     "name": "stderr",
     "output_type": "stream",
     "text": [
      "\r",
      "Map:  95%|█████████▌| 58584/61371 [00:10<00:00, 5585.64 examples/s]"
     ]
    },
    {
     "name": "stderr",
     "output_type": "stream",
     "text": [
      "\r",
      "Map:  97%|█████████▋| 59432/61371 [00:10<00:00, 5270.70 examples/s]"
     ]
    },
    {
     "name": "stderr",
     "output_type": "stream",
     "text": [
      "\r",
      "Map:  98%|█████████▊| 60000/61371 [00:11<00:01, 1278.60 examples/s]"
     ]
    },
    {
     "name": "stderr",
     "output_type": "stream",
     "text": [
      "\r",
      "Map:  99%|█████████▉| 60850/61371 [00:11<00:00, 1801.60 examples/s]"
     ]
    },
    {
     "name": "stderr",
     "output_type": "stream",
     "text": [
      "\r",
      "Map: 100%|██████████| 61371/61371 [00:12<00:00, 4945.01 examples/s]"
     ]
    },
    {
     "name": "stderr",
     "output_type": "stream",
     "text": [
      "\n"
     ]
    },
    {
     "name": "stdout",
     "output_type": "stream",
     "text": [
      "              precision    recall  f1-score   support\n",
      "\n",
      "       B-LOC       0.82      0.88      0.85     17495\n",
      "      B-MISC       0.63      0.70      0.66     10657\n",
      "       B-ORG       0.62      0.63      0.63     13041\n",
      "       B-PER       0.90      0.90      0.90     15547\n",
      "       I-LOC       0.68      0.56      0.61      5367\n",
      "      I-MISC       0.61      0.25      0.36      7305\n",
      "       I-ORG       0.87      0.62      0.72     18313\n",
      "       I-PER       0.94      0.87      0.91     11086\n",
      "           O       0.98      0.99      0.99   1011383\n",
      "\n",
      "    accuracy                           0.97   1110194\n",
      "   macro avg       0.78      0.71      0.74   1110194\n",
      "weighted avg       0.97      0.97      0.97   1110194\n",
      "\n"
     ]
    },
    {
     "name": "stderr",
     "output_type": "stream",
     "text": [
      "Some weights of BertForTokenClassification were not initialized from the model checkpoint at bert-base-uncased and are newly initialized: ['classifier.bias', 'classifier.weight']\n",
      "You should probably TRAIN this model on a down-stream task to be able to use it for predictions and inference.\n"
     ]
    },
    {
     "name": "stderr",
     "output_type": "stream",
     "text": [
      "/scratch/1051104/ipykernel_1402827/2779880192.py:29: FutureWarning: `tokenizer` is deprecated and will be removed in version 5.0.0 for `Trainer.__init__`. Use `processing_class` instead.\n",
      "  seed_trainer = Trainer(\n"
     ]
    },
    {
     "data": {
      "text/html": [
       "\n",
       "    <div>\n",
       "      \n",
       "      <progress value='3114' max='3114' style='width:300px; height:20px; vertical-align: middle;'></progress>\n",
       "      [3114/3114 15:27, Epoch 3/3]\n",
       "    </div>\n",
       "    <table border=\"1\" class=\"dataframe\">\n",
       "  <thead>\n",
       " <tr style=\"text-align: left;\">\n",
       "      <th>Step</th>\n",
       "      <th>Training Loss</th>\n",
       "    </tr>\n",
       "  </thead>\n",
       "  <tbody>\n",
       "    <tr>\n",
       "      <td>1000</td>\n",
       "      <td>0.151600</td>\n",
       "    </tr>\n",
       "    <tr>\n",
       "      <td>2000</td>\n",
       "      <td>0.046500</td>\n",
       "    </tr>\n",
       "    <tr>\n",
       "      <td>3000</td>\n",
       "      <td>0.028900</td>\n",
       "    </tr>\n",
       "  </tbody>\n",
       "</table><p>"
      ],
      "text/plain": [
       "<IPython.core.display.HTML object>"
      ]
     },
     "metadata": {},
     "output_type": "display_data"
    },
    {
     "data": {
      "text/html": [],
      "text/plain": [
       "<IPython.core.display.HTML object>"
      ]
     },
     "metadata": {},
     "output_type": "display_data"
    },
    {
     "name": "stderr",
     "output_type": "stream",
     "text": [
      "\r",
      "Map:   0%|          | 0/61371 [00:00<?, ? examples/s]"
     ]
    },
    {
     "name": "stderr",
     "output_type": "stream",
     "text": [
      "\r",
      "Map:   1%|▏         | 800/61371 [00:00<00:07, 7894.96 examples/s]"
     ]
    },
    {
     "name": "stderr",
     "output_type": "stream",
     "text": [
      "\r",
      "Map:   3%|▎         | 1627/61371 [00:00<00:10, 5792.91 examples/s]"
     ]
    },
    {
     "name": "stderr",
     "output_type": "stream",
     "text": [
      "\r",
      "Map:   4%|▍         | 2459/61371 [00:00<00:10, 5395.09 examples/s]"
     ]
    },
    {
     "name": "stderr",
     "output_type": "stream",
     "text": [
      "\r",
      "Map:   6%|▌         | 3468/61371 [00:00<00:09, 5882.58 examples/s]"
     ]
    },
    {
     "name": "stderr",
     "output_type": "stream",
     "text": [
      "\r",
      "Map:   7%|▋         | 4515/61371 [00:00<00:09, 6250.39 examples/s]"
     ]
    },
    {
     "name": "stderr",
     "output_type": "stream",
     "text": [
      "\r",
      "Map:   9%|▉         | 5446/61371 [00:00<00:08, 6233.21 examples/s]"
     ]
    },
    {
     "name": "stderr",
     "output_type": "stream",
     "text": [
      "\r",
      "Map:  10%|█         | 6413/61371 [00:01<00:09, 6043.56 examples/s]"
     ]
    },
    {
     "name": "stderr",
     "output_type": "stream",
     "text": [
      "\r",
      "Map:  12%|█▏        | 7254/61371 [00:01<00:09, 5707.05 examples/s]"
     ]
    },
    {
     "name": "stderr",
     "output_type": "stream",
     "text": [
      "\r",
      "Map:  13%|█▎        | 8000/61371 [00:01<00:10, 5065.68 examples/s]"
     ]
    },
    {
     "name": "stderr",
     "output_type": "stream",
     "text": [
      "\r",
      "Map:  14%|█▍        | 8890/61371 [00:01<00:08, 5859.72 examples/s]"
     ]
    },
    {
     "name": "stderr",
     "output_type": "stream",
     "text": [
      "\r",
      "Map:  16%|█▌        | 9825/61371 [00:01<00:08, 5888.66 examples/s]"
     ]
    },
    {
     "name": "stderr",
     "output_type": "stream",
     "text": [
      "\r",
      "Map:  18%|█▊        | 10886/61371 [00:01<00:08, 6043.69 examples/s]"
     ]
    },
    {
     "name": "stderr",
     "output_type": "stream",
     "text": [
      "\r",
      "Map:  19%|█▉        | 11701/61371 [00:02<00:08, 5769.09 examples/s]"
     ]
    },
    {
     "name": "stderr",
     "output_type": "stream",
     "text": [
      "\r",
      "Map:  20%|██        | 12394/61371 [00:02<00:08, 5491.41 examples/s]"
     ]
    },
    {
     "name": "stderr",
     "output_type": "stream",
     "text": [
      "\r",
      "Map:  21%|██        | 13000/61371 [00:02<00:09, 5335.89 examples/s]"
     ]
    },
    {
     "name": "stderr",
     "output_type": "stream",
     "text": [
      "\r",
      "Map:  23%|██▎       | 13895/61371 [00:02<00:07, 6165.34 examples/s]"
     ]
    },
    {
     "name": "stderr",
     "output_type": "stream",
     "text": [
      "\r",
      "Map:  24%|██▍       | 14834/61371 [00:02<00:07, 6117.70 examples/s]"
     ]
    },
    {
     "name": "stderr",
     "output_type": "stream",
     "text": [
      "\r",
      "Map:  26%|██▌       | 15754/61371 [00:02<00:07, 5824.56 examples/s]"
     ]
    },
    {
     "name": "stderr",
     "output_type": "stream",
     "text": [
      "\r",
      "Map:  27%|██▋       | 16400/61371 [00:02<00:08, 5524.86 examples/s]"
     ]
    },
    {
     "name": "stderr",
     "output_type": "stream",
     "text": [
      "\r",
      "Map:  28%|██▊       | 17000/61371 [00:02<00:08, 5357.12 examples/s]"
     ]
    },
    {
     "name": "stderr",
     "output_type": "stream",
     "text": [
      "\r",
      "Map:  29%|██▉       | 17798/61371 [00:03<00:07, 5976.75 examples/s]"
     ]
    },
    {
     "name": "stderr",
     "output_type": "stream",
     "text": [
      "\r",
      "Map:  31%|███       | 18791/61371 [00:03<00:07, 5880.13 examples/s]"
     ]
    },
    {
     "name": "stderr",
     "output_type": "stream",
     "text": [
      "\r",
      "Map:  32%|███▏      | 19789/61371 [00:03<00:07, 5831.53 examples/s]"
     ]
    },
    {
     "name": "stderr",
     "output_type": "stream",
     "text": [
      "\r",
      "Map:  33%|███▎      | 20407/61371 [00:03<00:07, 5612.12 examples/s]"
     ]
    },
    {
     "name": "stderr",
     "output_type": "stream",
     "text": [
      "\r",
      "Map:  34%|███▍      | 21000/61371 [00:03<00:07, 5426.59 examples/s]"
     ]
    },
    {
     "name": "stderr",
     "output_type": "stream",
     "text": [
      "\r",
      "Map:  35%|███▌      | 21683/61371 [00:03<00:06, 5760.08 examples/s]"
     ]
    },
    {
     "name": "stderr",
     "output_type": "stream",
     "text": [
      "\r",
      "Map:  37%|███▋      | 22425/61371 [00:03<00:07, 5448.11 examples/s]"
     ]
    },
    {
     "name": "stderr",
     "output_type": "stream",
     "text": [
      "\r",
      "Map:  37%|███▋      | 23000/61371 [00:04<00:07, 5358.66 examples/s]"
     ]
    },
    {
     "name": "stderr",
     "output_type": "stream",
     "text": [
      "\r",
      "Map:  39%|███▉      | 23803/61371 [00:04<00:06, 6030.06 examples/s]"
     ]
    },
    {
     "name": "stderr",
     "output_type": "stream",
     "text": [
      "\r",
      "Map:  40%|████      | 24793/61371 [00:04<00:06, 5918.78 examples/s]"
     ]
    },
    {
     "name": "stderr",
     "output_type": "stream",
     "text": [
      "\r",
      "Map:  41%|████▏     | 25426/61371 [00:04<00:06, 5688.63 examples/s]"
     ]
    },
    {
     "name": "stderr",
     "output_type": "stream",
     "text": [
      "\r",
      "Map:  43%|████▎     | 26320/61371 [00:04<00:06, 5588.81 examples/s]"
     ]
    },
    {
     "name": "stderr",
     "output_type": "stream",
     "text": [
      "\r",
      "Map:  44%|████▍     | 26945/61371 [00:04<00:05, 5740.60 examples/s]"
     ]
    },
    {
     "name": "stderr",
     "output_type": "stream",
     "text": [
      "\r",
      "Map:  45%|████▌     | 27793/61371 [00:04<00:06, 5526.17 examples/s]"
     ]
    },
    {
     "name": "stderr",
     "output_type": "stream",
     "text": [
      "\r",
      "Map:  46%|████▋     | 28450/61371 [00:04<00:06, 5436.89 examples/s]"
     ]
    },
    {
     "name": "stderr",
     "output_type": "stream",
     "text": [
      "\r",
      "Map:  47%|████▋     | 29000/61371 [00:05<00:06, 5368.90 examples/s]"
     ]
    },
    {
     "name": "stderr",
     "output_type": "stream",
     "text": [
      "\r",
      "Map:  49%|████▊     | 29902/61371 [00:05<00:05, 6287.82 examples/s]"
     ]
    },
    {
     "name": "stderr",
     "output_type": "stream",
     "text": [
      "\r",
      "Map:  50%|█████     | 30843/61371 [00:05<00:04, 6172.25 examples/s]"
     ]
    },
    {
     "name": "stderr",
     "output_type": "stream",
     "text": [
      "\r",
      "Map:  52%|█████▏    | 31871/61371 [00:05<00:04, 6201.12 examples/s]"
     ]
    },
    {
     "name": "stderr",
     "output_type": "stream",
     "text": [
      "\r",
      "Map:  53%|█████▎    | 32746/61371 [00:05<00:04, 5942.80 examples/s]"
     ]
    },
    {
     "name": "stderr",
     "output_type": "stream",
     "text": [
      "\r",
      "Map:  55%|█████▍    | 33629/61371 [00:05<00:04, 5563.73 examples/s]"
     ]
    },
    {
     "name": "stderr",
     "output_type": "stream",
     "text": [
      "\r",
      "Map:  56%|█████▌    | 34441/61371 [00:06<00:04, 5392.72 examples/s]"
     ]
    },
    {
     "name": "stderr",
     "output_type": "stream",
     "text": [
      "\r",
      "Map:  57%|█████▋    | 35000/61371 [00:06<00:04, 5339.11 examples/s]"
     ]
    },
    {
     "name": "stderr",
     "output_type": "stream",
     "text": [
      "\r",
      "Map:  58%|█████▊    | 35863/61371 [00:06<00:04, 6092.81 examples/s]"
     ]
    },
    {
     "name": "stderr",
     "output_type": "stream",
     "text": [
      "\r",
      "Map:  60%|██████    | 36942/61371 [00:06<00:03, 6291.13 examples/s]"
     ]
    },
    {
     "name": "stderr",
     "output_type": "stream",
     "text": [
      "\r",
      "Map:  62%|██████▏   | 37799/61371 [00:06<00:03, 6030.80 examples/s]"
     ]
    },
    {
     "name": "stderr",
     "output_type": "stream",
     "text": [
      "\r",
      "Map:  63%|██████▎   | 38416/61371 [00:06<00:03, 5769.22 examples/s]"
     ]
    },
    {
     "name": "stderr",
     "output_type": "stream",
     "text": [
      "\r",
      "Map:  64%|██████▎   | 39000/61371 [00:06<00:04, 5585.13 examples/s]"
     ]
    },
    {
     "name": "stderr",
     "output_type": "stream",
     "text": [
      "\r",
      "Map:  65%|██████▍   | 39789/61371 [00:06<00:03, 6151.76 examples/s]"
     ]
    },
    {
     "name": "stderr",
     "output_type": "stream",
     "text": [
      "\r",
      "Map:  66%|██████▋   | 40677/61371 [00:07<00:03, 5690.51 examples/s]"
     ]
    },
    {
     "name": "stderr",
     "output_type": "stream",
     "text": [
      "\r",
      "Map:  68%|██████▊   | 41501/61371 [00:07<00:03, 5629.08 examples/s]"
     ]
    },
    {
     "name": "stderr",
     "output_type": "stream",
     "text": [
      "\r",
      "Map:  69%|██████▉   | 42498/61371 [00:07<00:03, 5943.54 examples/s]"
     ]
    },
    {
     "name": "stderr",
     "output_type": "stream",
     "text": [
      "\r",
      "Map:  71%|███████   | 43389/61371 [00:07<00:03, 5909.33 examples/s]"
     ]
    },
    {
     "name": "stderr",
     "output_type": "stream",
     "text": [
      "\r",
      "Map:  72%|███████▏  | 44000/61371 [00:07<00:03, 5580.74 examples/s]"
     ]
    },
    {
     "name": "stderr",
     "output_type": "stream",
     "text": [
      "\r",
      "Map:  73%|███████▎  | 44586/61371 [00:07<00:02, 5642.57 examples/s]"
     ]
    },
    {
     "name": "stderr",
     "output_type": "stream",
     "text": [
      "\r",
      "Map:  74%|███████▍  | 45426/61371 [00:07<00:03, 5298.79 examples/s]"
     ]
    },
    {
     "name": "stderr",
     "output_type": "stream",
     "text": [
      "\r",
      "Map:  75%|███████▍  | 46000/61371 [00:08<00:02, 5240.45 examples/s]"
     ]
    },
    {
     "name": "stderr",
     "output_type": "stream",
     "text": [
      "\r",
      "Map:  76%|███████▋  | 46820/61371 [00:08<00:02, 5952.94 examples/s]"
     ]
    },
    {
     "name": "stderr",
     "output_type": "stream",
     "text": [
      "\r",
      "Map:  78%|███████▊  | 47711/61371 [00:08<00:02, 5707.56 examples/s]"
     ]
    },
    {
     "name": "stderr",
     "output_type": "stream",
     "text": [
      "\r",
      "Map:  79%|███████▉  | 48392/61371 [00:08<00:02, 5428.92 examples/s]"
     ]
    },
    {
     "name": "stderr",
     "output_type": "stream",
     "text": [
      "\r",
      "Map:  80%|███████▉  | 49000/61371 [00:08<00:02, 5255.19 examples/s]"
     ]
    },
    {
     "name": "stderr",
     "output_type": "stream",
     "text": [
      "\r",
      "Map:  81%|████████  | 49642/61371 [00:08<00:02, 5532.98 examples/s]"
     ]
    },
    {
     "name": "stderr",
     "output_type": "stream",
     "text": [
      "\r",
      "Map:  82%|████████▏ | 50379/61371 [00:08<00:02, 5146.53 examples/s]"
     ]
    },
    {
     "name": "stderr",
     "output_type": "stream",
     "text": [
      "\r",
      "Map:  83%|████████▎ | 51000/61371 [00:08<00:02, 4996.74 examples/s]"
     ]
    },
    {
     "name": "stderr",
     "output_type": "stream",
     "text": [
      "\r",
      "Map:  84%|████████▍ | 51768/61371 [00:09<00:01, 5638.19 examples/s]"
     ]
    },
    {
     "name": "stderr",
     "output_type": "stream",
     "text": [
      "\r",
      "Map:  85%|████████▌ | 52437/61371 [00:09<00:01, 5439.67 examples/s]"
     ]
    },
    {
     "name": "stderr",
     "output_type": "stream",
     "text": [
      "\r",
      "Map:  86%|████████▋ | 53000/61371 [00:09<00:01, 5363.51 examples/s]"
     ]
    },
    {
     "name": "stderr",
     "output_type": "stream",
     "text": [
      "\r",
      "Map:  88%|████████▊ | 53825/61371 [00:09<00:01, 6111.01 examples/s]"
     ]
    },
    {
     "name": "stderr",
     "output_type": "stream",
     "text": [
      "\r",
      "Map:  89%|████████▉ | 54689/61371 [00:09<00:01, 5734.22 examples/s]"
     ]
    },
    {
     "name": "stderr",
     "output_type": "stream",
     "text": [
      "\r",
      "Map:  90%|█████████ | 55469/61371 [00:09<00:01, 5629.70 examples/s]"
     ]
    },
    {
     "name": "stderr",
     "output_type": "stream",
     "text": [
      "\r",
      "Map:  92%|█████████▏| 56431/61371 [00:09<00:00, 5874.92 examples/s]"
     ]
    },
    {
     "name": "stderr",
     "output_type": "stream",
     "text": [
      "\r",
      "Map:  93%|█████████▎| 57373/61371 [00:10<00:00, 5805.35 examples/s]"
     ]
    },
    {
     "name": "stderr",
     "output_type": "stream",
     "text": [
      "\r",
      "Map:  95%|█████████▍| 58000/61371 [00:10<00:00, 5499.45 examples/s]"
     ]
    },
    {
     "name": "stderr",
     "output_type": "stream",
     "text": [
      "\r",
      "Map:  95%|█████████▌| 58574/61371 [00:10<00:00, 5553.60 examples/s]"
     ]
    },
    {
     "name": "stderr",
     "output_type": "stream",
     "text": [
      "\r",
      "Map:  97%|█████████▋| 59427/61371 [00:10<00:00, 5244.20 examples/s]"
     ]
    },
    {
     "name": "stderr",
     "output_type": "stream",
     "text": [
      "\r",
      "Map:  98%|█████████▊| 60000/61371 [00:10<00:00, 5231.91 examples/s]"
     ]
    },
    {
     "name": "stderr",
     "output_type": "stream",
     "text": [
      "\r",
      "Map:  99%|█████████▉| 60844/61371 [00:10<00:00, 6003.77 examples/s]"
     ]
    },
    {
     "name": "stderr",
     "output_type": "stream",
     "text": [
      "\r",
      "Map: 100%|██████████| 61371/61371 [00:13<00:00, 4585.86 examples/s]"
     ]
    },
    {
     "name": "stderr",
     "output_type": "stream",
     "text": [
      "\n"
     ]
    },
    {
     "name": "stdout",
     "output_type": "stream",
     "text": [
      "              precision    recall  f1-score   support\n",
      "\n",
      "       B-LOC       0.82      0.89      0.85     17495\n",
      "      B-MISC       0.63      0.70      0.66     10657\n",
      "       B-ORG       0.61      0.63      0.62     13041\n",
      "       B-PER       0.89      0.90      0.90     15547\n",
      "       I-LOC       0.67      0.57      0.62      5367\n",
      "      I-MISC       0.61      0.23      0.33      7305\n",
      "       I-ORG       0.87      0.61      0.72     18313\n",
      "       I-PER       0.93      0.87      0.90     11086\n",
      "           O       0.98      0.99      0.99   1011383\n",
      "\n",
      "    accuracy                           0.97   1110194\n",
      "   macro avg       0.78      0.71      0.73   1110194\n",
      "weighted avg       0.97      0.97      0.97   1110194\n",
      "\n"
     ]
    },
    {
     "name": "stderr",
     "output_type": "stream",
     "text": [
      "Some weights of BertForTokenClassification were not initialized from the model checkpoint at bert-base-uncased and are newly initialized: ['classifier.bias', 'classifier.weight']\n",
      "You should probably TRAIN this model on a down-stream task to be able to use it for predictions and inference.\n"
     ]
    },
    {
     "name": "stderr",
     "output_type": "stream",
     "text": [
      "/scratch/1051104/ipykernel_1402827/2779880192.py:29: FutureWarning: `tokenizer` is deprecated and will be removed in version 5.0.0 for `Trainer.__init__`. Use `processing_class` instead.\n",
      "  seed_trainer = Trainer(\n"
     ]
    },
    {
     "data": {
      "text/html": [
       "\n",
       "    <div>\n",
       "      \n",
       "      <progress value='3114' max='3114' style='width:300px; height:20px; vertical-align: middle;'></progress>\n",
       "      [3114/3114 17:17, Epoch 3/3]\n",
       "    </div>\n",
       "    <table border=\"1\" class=\"dataframe\">\n",
       "  <thead>\n",
       " <tr style=\"text-align: left;\">\n",
       "      <th>Step</th>\n",
       "      <th>Training Loss</th>\n",
       "    </tr>\n",
       "  </thead>\n",
       "  <tbody>\n",
       "    <tr>\n",
       "      <td>1000</td>\n",
       "      <td>0.157900</td>\n",
       "    </tr>\n",
       "    <tr>\n",
       "      <td>2000</td>\n",
       "      <td>0.047100</td>\n",
       "    </tr>\n",
       "    <tr>\n",
       "      <td>3000</td>\n",
       "      <td>0.028700</td>\n",
       "    </tr>\n",
       "  </tbody>\n",
       "</table><p>"
      ],
      "text/plain": [
       "<IPython.core.display.HTML object>"
      ]
     },
     "metadata": {},
     "output_type": "display_data"
    },
    {
     "data": {
      "text/html": [],
      "text/plain": [
       "<IPython.core.display.HTML object>"
      ]
     },
     "metadata": {},
     "output_type": "display_data"
    },
    {
     "name": "stderr",
     "output_type": "stream",
     "text": [
      "\r",
      "Map:   0%|          | 0/61371 [00:00<?, ? examples/s]"
     ]
    },
    {
     "name": "stderr",
     "output_type": "stream",
     "text": [
      "\r",
      "Map:   1%|          | 755/61371 [00:00<00:08, 7457.66 examples/s]"
     ]
    },
    {
     "name": "stderr",
     "output_type": "stream",
     "text": [
      "\r",
      "Map:   3%|▎         | 1630/61371 [00:00<00:10, 5803.48 examples/s]"
     ]
    },
    {
     "name": "stderr",
     "output_type": "stream",
     "text": [
      "\r",
      "Map:   4%|▍         | 2458/61371 [00:00<00:10, 5432.63 examples/s]"
     ]
    },
    {
     "name": "stderr",
     "output_type": "stream",
     "text": [
      "\r",
      "Map:   6%|▌         | 3474/61371 [00:00<00:09, 5881.27 examples/s]"
     ]
    },
    {
     "name": "stderr",
     "output_type": "stream",
     "text": [
      "\r",
      "Map:   7%|▋         | 4502/61371 [00:00<00:09, 6154.28 examples/s]"
     ]
    },
    {
     "name": "stderr",
     "output_type": "stream",
     "text": [
      "\r",
      "Map:   9%|▉         | 5429/61371 [00:00<00:09, 6160.28 examples/s]"
     ]
    },
    {
     "name": "stderr",
     "output_type": "stream",
     "text": [
      "\r",
      "Map:  10%|█         | 6423/61371 [00:01<00:09, 5869.92 examples/s]"
     ]
    },
    {
     "name": "stderr",
     "output_type": "stream",
     "text": [
      "\r",
      "Map:  12%|█▏        | 7281/61371 [00:01<00:09, 5639.89 examples/s]"
     ]
    },
    {
     "name": "stderr",
     "output_type": "stream",
     "text": [
      "\r",
      "Map:  13%|█▎        | 8000/61371 [00:01<00:10, 5031.54 examples/s]"
     ]
    },
    {
     "name": "stderr",
     "output_type": "stream",
     "text": [
      "\r",
      "Map:  15%|█▍        | 8905/61371 [00:01<00:08, 5861.85 examples/s]"
     ]
    },
    {
     "name": "stderr",
     "output_type": "stream",
     "text": [
      "\r",
      "Map:  16%|█▌        | 9817/61371 [00:01<00:08, 5862.31 examples/s]"
     ]
    },
    {
     "name": "stderr",
     "output_type": "stream",
     "text": [
      "\r",
      "Map:  17%|█▋        | 10442/61371 [00:01<00:08, 5697.03 examples/s]"
     ]
    },
    {
     "name": "stderr",
     "output_type": "stream",
     "text": [
      "\r",
      "Map:  19%|█▊        | 11354/61371 [00:01<00:08, 5672.77 examples/s]"
     ]
    },
    {
     "name": "stderr",
     "output_type": "stream",
     "text": [
      "\r",
      "Map:  20%|█▉        | 12000/61371 [00:02<00:09, 5315.72 examples/s]"
     ]
    },
    {
     "name": "stderr",
     "output_type": "stream",
     "text": [
      "\r",
      "Map:  21%|██        | 12796/61371 [00:02<00:08, 5914.64 examples/s]"
     ]
    },
    {
     "name": "stderr",
     "output_type": "stream",
     "text": [
      "\r",
      "Map:  23%|██▎       | 13846/61371 [00:02<00:07, 5951.76 examples/s]"
     ]
    },
    {
     "name": "stderr",
     "output_type": "stream",
     "text": [
      "\r",
      "Map:  24%|██▍       | 14834/61371 [00:02<00:07, 5931.84 examples/s]"
     ]
    },
    {
     "name": "stderr",
     "output_type": "stream",
     "text": [
      "\r",
      "Map:  26%|██▌       | 15755/61371 [00:02<00:07, 5787.06 examples/s]"
     ]
    },
    {
     "name": "stderr",
     "output_type": "stream",
     "text": [
      "\r",
      "Map:  27%|██▋       | 16398/61371 [00:02<00:08, 5544.27 examples/s]"
     ]
    },
    {
     "name": "stderr",
     "output_type": "stream",
     "text": [
      "\r",
      "Map:  28%|██▊       | 17000/61371 [00:02<00:08, 5338.44 examples/s]"
     ]
    },
    {
     "name": "stderr",
     "output_type": "stream",
     "text": [
      "\r",
      "Map:  29%|██▉       | 17802/61371 [00:03<00:07, 5957.35 examples/s]"
     ]
    },
    {
     "name": "stderr",
     "output_type": "stream",
     "text": [
      "\r",
      "Map:  31%|███       | 18800/61371 [00:03<00:07, 5886.38 examples/s]"
     ]
    },
    {
     "name": "stderr",
     "output_type": "stream",
     "text": [
      "\r",
      "Map:  32%|███▏      | 19800/61371 [00:03<00:07, 5838.23 examples/s]"
     ]
    },
    {
     "name": "stderr",
     "output_type": "stream",
     "text": [
      "\r",
      "Map:  33%|███▎      | 20412/61371 [00:03<00:07, 5588.95 examples/s]"
     ]
    },
    {
     "name": "stderr",
     "output_type": "stream",
     "text": [
      "\r",
      "Map:  34%|███▍      | 21000/61371 [00:03<00:07, 5419.37 examples/s]"
     ]
    },
    {
     "name": "stderr",
     "output_type": "stream",
     "text": [
      "\r",
      "Map:  35%|███▌      | 21682/61371 [00:03<00:06, 5753.50 examples/s]"
     ]
    },
    {
     "name": "stderr",
     "output_type": "stream",
     "text": [
      "\r",
      "Map:  37%|███▋      | 22427/61371 [00:03<00:07, 5507.28 examples/s]"
     ]
    },
    {
     "name": "stderr",
     "output_type": "stream",
     "text": [
      "\r",
      "Map:  37%|███▋      | 23000/61371 [00:04<00:07, 5376.07 examples/s]"
     ]
    },
    {
     "name": "stderr",
     "output_type": "stream",
     "text": [
      "\r",
      "Map:  39%|███▉      | 23812/61371 [00:04<00:06, 6068.50 examples/s]"
     ]
    },
    {
     "name": "stderr",
     "output_type": "stream",
     "text": [
      "\r",
      "Map:  40%|████      | 24787/61371 [00:04<00:06, 5909.76 examples/s]"
     ]
    },
    {
     "name": "stderr",
     "output_type": "stream",
     "text": [
      "\r",
      "Map:  41%|████▏     | 25426/61371 [00:04<00:06, 5678.58 examples/s]"
     ]
    },
    {
     "name": "stderr",
     "output_type": "stream",
     "text": [
      "\r",
      "Map:  43%|████▎     | 26320/61371 [00:04<00:06, 5573.62 examples/s]"
     ]
    },
    {
     "name": "stderr",
     "output_type": "stream",
     "text": [
      "\r",
      "Map:  44%|████▍     | 26951/61371 [00:04<00:05, 5742.41 examples/s]"
     ]
    },
    {
     "name": "stderr",
     "output_type": "stream",
     "text": [
      "\r",
      "Map:  45%|████▌     | 27796/61371 [00:04<00:06, 5561.37 examples/s]"
     ]
    },
    {
     "name": "stderr",
     "output_type": "stream",
     "text": [
      "\r",
      "Map:  46%|████▋     | 28457/61371 [00:04<00:06, 5485.31 examples/s]"
     ]
    },
    {
     "name": "stderr",
     "output_type": "stream",
     "text": [
      "\r",
      "Map:  48%|████▊     | 29465/61371 [00:05<00:05, 5782.02 examples/s]"
     ]
    },
    {
     "name": "stderr",
     "output_type": "stream",
     "text": [
      "\r",
      "Map:  50%|████▉     | 30419/61371 [00:05<00:05, 5928.22 examples/s]"
     ]
    },
    {
     "name": "stderr",
     "output_type": "stream",
     "text": [
      "\r",
      "Map:  51%|█████     | 31431/61371 [00:05<00:05, 5963.92 examples/s]"
     ]
    },
    {
     "name": "stderr",
     "output_type": "stream",
     "text": [
      "\r",
      "Map:  53%|█████▎    | 32377/61371 [00:05<00:04, 5922.42 examples/s]"
     ]
    },
    {
     "name": "stderr",
     "output_type": "stream",
     "text": [
      "\r",
      "Map:  54%|█████▍    | 33000/61371 [00:05<00:05, 5597.26 examples/s]"
     ]
    },
    {
     "name": "stderr",
     "output_type": "stream",
     "text": [
      "\r",
      "Map:  55%|█████▍    | 33618/61371 [00:05<00:04, 5726.50 examples/s]"
     ]
    },
    {
     "name": "stderr",
     "output_type": "stream",
     "text": [
      "\r",
      "Map:  56%|█████▌    | 34446/61371 [00:06<00:04, 5464.47 examples/s]"
     ]
    },
    {
     "name": "stderr",
     "output_type": "stream",
     "text": [
      "\r",
      "Map:  57%|█████▋    | 35000/61371 [00:06<00:04, 5379.39 examples/s]"
     ]
    },
    {
     "name": "stderr",
     "output_type": "stream",
     "text": [
      "\r",
      "Map:  58%|█████▊    | 35867/61371 [00:06<00:04, 6179.51 examples/s]"
     ]
    },
    {
     "name": "stderr",
     "output_type": "stream",
     "text": [
      "\r",
      "Map:  60%|██████    | 36906/61371 [00:06<00:03, 6237.13 examples/s]"
     ]
    },
    {
     "name": "stderr",
     "output_type": "stream",
     "text": [
      "\r",
      "Map:  62%|██████▏   | 37826/61371 [00:06<00:03, 6115.92 examples/s]"
     ]
    },
    {
     "name": "stderr",
     "output_type": "stream",
     "text": [
      "\r",
      "Map:  63%|██████▎   | 38808/61371 [00:06<00:03, 6019.19 examples/s]"
     ]
    },
    {
     "name": "stderr",
     "output_type": "stream",
     "text": [
      "\r",
      "Map:  65%|██████▍   | 39808/61371 [00:06<00:03, 5924.13 examples/s]"
     ]
    },
    {
     "name": "stderr",
     "output_type": "stream",
     "text": [
      "\r",
      "Map:  66%|██████▋   | 40683/61371 [00:07<00:03, 5650.32 examples/s]"
     ]
    },
    {
     "name": "stderr",
     "output_type": "stream",
     "text": [
      "\r",
      "Map:  68%|██████▊   | 41496/61371 [00:07<00:03, 5557.49 examples/s]"
     ]
    },
    {
     "name": "stderr",
     "output_type": "stream",
     "text": [
      "\r",
      "Map:  69%|██████▉   | 42460/61371 [00:07<00:03, 5805.13 examples/s]"
     ]
    },
    {
     "name": "stderr",
     "output_type": "stream",
     "text": [
      "\r",
      "Map:  71%|███████   | 43378/61371 [00:07<00:03, 5822.08 examples/s]"
     ]
    },
    {
     "name": "stderr",
     "output_type": "stream",
     "text": [
      "\r",
      "Map:  72%|███████▏  | 44000/61371 [00:07<00:03, 5562.31 examples/s]"
     ]
    },
    {
     "name": "stderr",
     "output_type": "stream",
     "text": [
      "\r",
      "Map:  73%|███████▎  | 44587/61371 [00:07<00:02, 5629.98 examples/s]"
     ]
    },
    {
     "name": "stderr",
     "output_type": "stream",
     "text": [
      "\r",
      "Map:  74%|███████▍  | 45434/61371 [00:07<00:02, 5347.96 examples/s]"
     ]
    },
    {
     "name": "stderr",
     "output_type": "stream",
     "text": [
      "\r",
      "Map:  75%|███████▍  | 46000/61371 [00:08<00:02, 5258.46 examples/s]"
     ]
    },
    {
     "name": "stderr",
     "output_type": "stream",
     "text": [
      "\r",
      "Map:  76%|███████▋  | 46827/61371 [00:08<00:02, 5977.53 examples/s]"
     ]
    },
    {
     "name": "stderr",
     "output_type": "stream",
     "text": [
      "\r",
      "Map:  78%|███████▊  | 47721/61371 [00:08<00:02, 5720.78 examples/s]"
     ]
    },
    {
     "name": "stderr",
     "output_type": "stream",
     "text": [
      "\r",
      "Map:  79%|███████▉  | 48392/61371 [00:08<00:02, 5405.74 examples/s]"
     ]
    },
    {
     "name": "stderr",
     "output_type": "stream",
     "text": [
      "\r",
      "Map:  80%|███████▉  | 49000/61371 [00:08<00:02, 5233.62 examples/s]"
     ]
    },
    {
     "name": "stderr",
     "output_type": "stream",
     "text": [
      "\r",
      "Map:  81%|████████  | 49650/61371 [00:08<00:02, 5536.21 examples/s]"
     ]
    },
    {
     "name": "stderr",
     "output_type": "stream",
     "text": [
      "\r",
      "Map:  82%|████████▏ | 50375/61371 [00:08<00:02, 5222.37 examples/s]"
     ]
    },
    {
     "name": "stderr",
     "output_type": "stream",
     "text": [
      "\r",
      "Map:  83%|████████▎ | 51000/61371 [00:08<00:02, 5083.20 examples/s]"
     ]
    },
    {
     "name": "stderr",
     "output_type": "stream",
     "text": [
      "\r",
      "Map:  84%|████████▍ | 51770/61371 [00:09<00:01, 5717.26 examples/s]"
     ]
    },
    {
     "name": "stderr",
     "output_type": "stream",
     "text": [
      "\r",
      "Map:  85%|████████▌ | 52447/61371 [00:09<00:01, 5581.29 examples/s]"
     ]
    },
    {
     "name": "stderr",
     "output_type": "stream",
     "text": [
      "\r",
      "Map:  87%|████████▋ | 53417/61371 [00:09<00:01, 5730.78 examples/s]"
     ]
    },
    {
     "name": "stderr",
     "output_type": "stream",
     "text": [
      "\r",
      "Map:  88%|████████▊ | 54000/61371 [00:09<00:01, 5526.53 examples/s]"
     ]
    },
    {
     "name": "stderr",
     "output_type": "stream",
     "text": [
      "\r",
      "Map:  89%|████████▉ | 54699/61371 [00:09<00:01, 5885.52 examples/s]"
     ]
    },
    {
     "name": "stderr",
     "output_type": "stream",
     "text": [
      "\r",
      "Map:  90%|█████████ | 55476/61371 [00:09<00:01, 5702.11 examples/s]"
     ]
    },
    {
     "name": "stderr",
     "output_type": "stream",
     "text": [
      "\r",
      "Map:  92%|█████████▏| 56428/61371 [00:09<00:00, 5896.06 examples/s]"
     ]
    },
    {
     "name": "stderr",
     "output_type": "stream",
     "text": [
      "\r",
      "Map:  93%|█████████▎| 57369/61371 [00:10<00:00, 5854.64 examples/s]"
     ]
    },
    {
     "name": "stderr",
     "output_type": "stream",
     "text": [
      "\r",
      "Map:  95%|█████████▍| 58000/61371 [00:10<00:00, 5490.35 examples/s]"
     ]
    },
    {
     "name": "stderr",
     "output_type": "stream",
     "text": [
      "\r",
      "Map:  95%|█████████▌| 58579/61371 [00:10<00:00, 5556.65 examples/s]"
     ]
    },
    {
     "name": "stderr",
     "output_type": "stream",
     "text": [
      "\r",
      "Map:  97%|█████████▋| 59446/61371 [00:10<00:00, 5285.90 examples/s]"
     ]
    },
    {
     "name": "stderr",
     "output_type": "stream",
     "text": [
      "\r",
      "Map:  98%|█████████▊| 60000/61371 [00:12<00:01, 1149.27 examples/s]"
     ]
    },
    {
     "name": "stderr",
     "output_type": "stream",
     "text": [
      "\r",
      "Map:  99%|█████████▉| 60854/61371 [00:12<00:00, 1634.76 examples/s]"
     ]
    },
    {
     "name": "stderr",
     "output_type": "stream",
     "text": [
      "\r",
      "Map: 100%|██████████| 61371/61371 [00:12<00:00, 4796.64 examples/s]"
     ]
    },
    {
     "name": "stderr",
     "output_type": "stream",
     "text": [
      "\n"
     ]
    },
    {
     "name": "stdout",
     "output_type": "stream",
     "text": [
      "              precision    recall  f1-score   support\n",
      "\n",
      "       B-LOC       0.82      0.89      0.85     17495\n",
      "      B-MISC       0.63      0.69      0.66     10657\n",
      "       B-ORG       0.62      0.63      0.62     13041\n",
      "       B-PER       0.90      0.90      0.90     15547\n",
      "       I-LOC       0.68      0.57      0.62      5367\n",
      "      I-MISC       0.60      0.24      0.34      7305\n",
      "       I-ORG       0.87      0.61      0.72     18313\n",
      "       I-PER       0.92      0.87      0.90     11086\n",
      "           O       0.98      0.99      0.99   1011383\n",
      "\n",
      "    accuracy                           0.97   1110194\n",
      "   macro avg       0.78      0.71      0.73   1110194\n",
      "weighted avg       0.97      0.97      0.97   1110194\n",
      "\n"
     ]
    }
   ],
   "source": [
    "seeds = [33, 42, 57, 106, 812, ]\n",
    "results = []\n",
    "\n",
    "for seed in seeds:\n",
    "    set_seed(seed)\n",
    "\n",
    "    seed_model = AutoModelForTokenClassification.from_pretrained(\n",
    "        model_name,\n",
    "        num_labels=len(conll_label_to_id)\n",
    "    )\n",
    "\n",
    "    seed_args = TrainingArguments(\n",
    "        output_dir=f\"./output/{seed}\",\n",
    "        seed=seed,\n",
    "        eval_strategy=\"no\",\n",
    "        learning_rate=2e-5,\n",
    "        per_device_train_batch_size=8,\n",
    "        per_device_eval_batch_size=8,\n",
    "        gradient_accumulation_steps=2,\n",
    "        num_train_epochs=3,\n",
    "        weight_decay=0.01,\n",
    "        load_best_model_at_end=True,\n",
    "        report_to=\"none\",\n",
    "        fp16=True,\n",
    "        logging_steps=1000,\n",
    "        save_strategy=\"no\",\n",
    "    )\n",
    "\n",
    "    seed_trainer = Trainer(\n",
    "        model=seed_model,\n",
    "        args=seed_args,\n",
    "        train_dataset=train_data,\n",
    "        eval_dataset=test_data,\n",
    "        tokenizer=tokenizer,\n",
    "        data_collator=data_collator,\n",
    "        compute_metrics=compute_metrics,\n",
    "    )\n",
    "\n",
    "    seed_trainer.train()\n",
    "\n",
    "    pred = seed_trainer.predict(test_data)\n",
    "\n",
    "    x, y = evaluate_predictions(pred, test_data)\n",
    "    eval_result = {'predictions': x, 'seed': seed}\n",
    "    results.append(eval_result)\n",
    "    with open(f'./results/{model_name}_{train_data_name}_seed_var_results.pkl', 'wb') as f:\n",
    "        pickle.dump(results, f)"
   ]
  },
  {
   "cell_type": "code",
   "execution_count": 31,
   "id": "ee9a317a-7bc8-4283-80e2-dc82360cbe9b",
   "metadata": {
    "execution": {
     "iopub.execute_input": "2025-06-14T17:50:32.301429Z",
     "iopub.status.busy": "2025-06-14T17:50:32.301067Z",
     "iopub.status.idle": "2025-06-14T17:50:32.945065Z",
     "shell.execute_reply": "2025-06-14T17:50:32.944539Z"
    }
   },
   "outputs": [],
   "source": [
    "with open(f'./results/{model_name}_{train_data_name}_seed_var_results.pkl', 'rb') as f:\n",
    "    seed_res = pickle.load(f)"
   ]
  },
  {
   "cell_type": "code",
   "execution_count": 32,
   "id": "9c499fcf-70b1-46d4-b0b9-8217b0c17d36",
   "metadata": {
    "execution": {
     "iopub.execute_input": "2025-06-14T17:50:32.947474Z",
     "iopub.status.busy": "2025-06-14T17:50:32.947074Z",
     "iopub.status.idle": "2025-06-14T17:51:25.182014Z",
     "shell.execute_reply": "2025-06-14T17:51:25.180996Z"
    }
   },
   "outputs": [
    {
     "name": "stdout",
     "output_type": "stream",
     "text": [
      "Cohen's kappa between seed 0 and seed 1: 0.961243\n"
     ]
    },
    {
     "name": "stdout",
     "output_type": "stream",
     "text": [
      "Cohen's kappa between seed 0 and seed 2: 0.961859\n"
     ]
    },
    {
     "name": "stdout",
     "output_type": "stream",
     "text": [
      "Cohen's kappa between seed 0 and seed 3: 0.960661\n"
     ]
    },
    {
     "name": "stdout",
     "output_type": "stream",
     "text": [
      "Cohen's kappa between seed 0 and seed 4: 0.962042\n"
     ]
    },
    {
     "name": "stdout",
     "output_type": "stream",
     "text": [
      "Cohen's kappa between seed 1 and seed 2: 0.959457\n"
     ]
    },
    {
     "name": "stdout",
     "output_type": "stream",
     "text": [
      "Cohen's kappa between seed 1 and seed 3: 0.961246\n"
     ]
    },
    {
     "name": "stdout",
     "output_type": "stream",
     "text": [
      "Cohen's kappa between seed 1 and seed 4: 0.962179\n"
     ]
    },
    {
     "name": "stdout",
     "output_type": "stream",
     "text": [
      "Cohen's kappa between seed 2 and seed 3: 0.962004\n"
     ]
    },
    {
     "name": "stdout",
     "output_type": "stream",
     "text": [
      "Cohen's kappa between seed 2 and seed 4: 0.964880\n"
     ]
    },
    {
     "name": "stdout",
     "output_type": "stream",
     "text": [
      "Cohen's kappa between seed 3 and seed 4: 0.963745\n",
      "\n",
      "Average Cohen's kappa across all pairs: 0.961932\n"
     ]
    }
   ],
   "source": [
    "kappa_scores = []\n",
    "\n",
    "for i, j in combinations(range(len(seed_res)), 2):\n",
    "    preds_i = seed_res[i]['predictions']\n",
    "    preds_j = seed_res[j]['predictions']\n",
    "\n",
    "    kappa = cohen_kappa_score(preds_i, preds_j)\n",
    "    kappa_scores.append(kappa)\n",
    "\n",
    "    print(f\"Cohen's kappa between seed {i} and seed {j}: {kappa:.6f}\")\n",
    "\n",
    "average_kappa = sum(kappa_scores) / len(kappa_scores)\n",
    "print(f\"\\nAverage Cohen's kappa across all pairs: {average_kappa:.6f}\")"
   ]
  },
  {
   "cell_type": "code",
   "execution_count": 33,
   "id": "edf15a7d-d0a4-48fb-be53-2330aec4f100",
   "metadata": {
    "execution": {
     "iopub.execute_input": "2025-06-14T17:51:25.184574Z",
     "iopub.status.busy": "2025-06-14T17:51:25.184228Z",
     "iopub.status.idle": "2025-06-14T17:52:37.893954Z",
     "shell.execute_reply": "2025-06-14T17:52:37.893232Z"
    }
   },
   "outputs": [
    {
     "name": "stdout",
     "output_type": "stream",
     "text": [
      "\n",
      "Krippendorff’s alpha (nominal): 0.9619\n"
     ]
    }
   ],
   "source": [
    "data = np.array([seed['predictions'] for seed in seed_res])\n",
    "\n",
    "alpha = krippendorff.alpha(reliability_data=data,\n",
    "                           level_of_measurement='nominal')\n",
    "\n",
    "print(f\"\\nKrippendorff’s alpha (nominal): {alpha:.4f}\")"
   ]
  }
 ],
 "metadata": {
  "kernelspec": {
   "display_name": "Python 3 (ipykernel)",
   "language": "python",
   "name": "python3"
  },
  "language_info": {
   "codemirror_mode": {
    "name": "ipython",
    "version": 3
   },
   "file_extension": ".py",
   "mimetype": "text/x-python",
   "name": "python",
   "nbconvert_exporter": "python",
   "pygments_lexer": "ipython3",
   "version": "3.12.3"
  }
 },
 "nbformat": 4,
 "nbformat_minor": 5
}
