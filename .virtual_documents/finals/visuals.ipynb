import matplotlib.pyplot as plt
import numpy as np

# Define the entity tags
tags = ["B-LOC", "B-MISC", "B-ORG", "B-PER",
        "I-LOC", "I-MISC", "I-ORG", "I-PER"]
x = np.arange(len(tags))
width = 0.12  # Bar width

# --- Values grouped by TEST SET ---

# 1. Tested on CoNLL
onto_cased_conll = [0.80, 0.71, 0.60, 0.89, 0.65, 0.56, 0.74, 0.94]
onto_uncased_conll = [0.84, 0.73, 0.61, 0.93, 0.68, 0.52, 0.69, 0.94]
conll_cased_conll = [0.86, 0.68, 0.65, 0.91, 0.68, 0.47, 0.79, 0.91]
conll_uncased_conll = [0.85, 0.66, 0.62, 0.90, 0.62, 0.34, 0.72, 0.90]

# 2. Tested on OntoNotes (overall)
onto_cased_onto = [0.86, 0.68, 0.65, 0.91, 0.68, 0.47, 0.79, 0.91]
onto_uncased_onto = [0.85, 0.66, 0.62, 0.90, 0.62, 0.34, 0.72, 0.90]
conll_cased_onto_news = [0.87, 0.60, 0.74, 0.92, 0.69, 0.48, 0.84, 0.92]
conll_uncased_onto_news = [0.86, 0.58, 0.73, 0.88, 0.64, 0.36, 0.80, 0.88]

# 3. Tested on OntoNotes (split: News vs Rest)
conll_cased_onto_rest = [0.70, 0.58, 0.50, 0.60, 0.59, 0.41, 0.66, 0.85]
conll_uncased_onto_rest = [0.69, 0.58, 0.46, 0.58, 0.56, 0.31, 0.58, 0.84]

# --- Plot 1: Models Tested on CoNLL ---
plt.figure(figsize=(14, 6))
plt.bar(x - 1.5*width, onto_cased_conll, width,
        label='OntoNotes (cased) → CoNLL')
plt.bar(x - 0.5*width, onto_uncased_conll, width,
        label='OntoNotes (uncased) → CoNLL')
plt.bar(x + 0.5*width, conll_cased_conll, width, label='CoNLL (cased) → CoNLL')
plt.bar(x + 1.5*width, conll_uncased_conll,
        width, label='CoNLL (uncased) → CoNLL')

plt.xticks(x, tags, rotation=45)
plt.ylim(0.3, 1.0)
plt.ylabel('F1-score')
plt.title('F1-score by Tag (Tested on CoNLL)')
plt.legend(loc='upper center', bbox_to_anchor=(0.5, -0.15), ncol=2)
plt.tight_layout()
plt.grid(True, axis='y', linestyle='--', alpha=0.7)
plt.show()

# --- Plot 2: Models Tested on OntoNotes (overall) ---
plt.figure(figsize=(14, 6))
plt.bar(x - 1.5*width, onto_cased_onto, width,
        label='OntoNotes (cased) → OntoNotes')
plt.bar(x - 0.5*width, onto_uncased_onto, width,
        label='OntoNotes (uncased) → OntoNotes')
plt.bar(x + 0.5*width, conll_cased_onto_news, width,
        label='CoNLL (cased) → OntoNotes (News)')
plt.bar(x + 1.5*width, conll_uncased_onto_news, width,
        label='CoNLL (uncased) → OntoNotes (News)')

plt.xticks(x, tags, rotation=45)
plt.ylim(0.3, 1.0)
plt.ylabel('F1-score')
plt.title('F1-score by Tag (Tested on OntoNotes)')
plt.legend(loc='upper center', bbox_to_anchor=(0.5, -0.15), ncol=2)
plt.tight_layout()
plt.grid(True, axis='y', linestyle='--', alpha=0.7)
plt.show()

# --- Plot 3: Models Tested on OntoNotes (News vs Rest) ---
plt.figure(figsize=(14, 6))
plt.bar(x - width, conll_cased_onto_news, width,
        label='CoNLL (cased) → OntoNotes (News)')
plt.bar(x, conll_uncased_onto_news, width,
        label='CoNLL (uncased) → OntoNotes (News)')
plt.bar(x + width, conll_cased_onto_rest, width,
        label='CoNLL (cased) → OntoNotes (Rest)')
plt.bar(x + 2*width, conll_uncased_onto_rest, width,
        label='CoNLL (uncased) → OntoNotes (Rest)')

plt.xticks(x, tags, rotation=45)
plt.ylim(0.3, 1.0)
plt.ylabel('F1-score')
plt.title('F1-score by Tag (CoNLL Models Tested on OntoNotes News vs Rest)')
plt.legend(loc='upper center', bbox_to_anchor=(0.5, -0.15), ncol=2)
plt.tight_layout()
plt.grid(True, axis='y', linestyle='--', alpha=0.7)
plt.show()


import matplotlib.pyplot as plt
import numpy as np

# Define the entity tags
tags = ["B-LOC", "B-MISC", "B-ORG", "B-PER",
        "I-LOC", "I-MISC", "I-ORG", "I-PER"]
x = np.arange(len(tags))
width = 0.12  # Thinner bars

# CoNLL-trained model scores
conll_cased_conll = [0.86, 0.68, 0.65, 0.91, 0.68, 0.47, 0.79, 0.91]
conll_uncased_conll = [0.85, 0.66, 0.62, 0.90, 0.62, 0.34, 0.72, 0.90]
conll_cased_onto_news = [0.87, 0.60, 0.74, 0.92, 0.69, 0.48, 0.84, 0.92]
conll_uncased_onto_news = [0.86, 0.58, 0.73, 0.88, 0.64, 0.36, 0.80, 0.88]
conll_cased_onto_rest = [0.70, 0.58, 0.50, 0.60, 0.59, 0.41, 0.66, 0.85]
conll_uncased_onto_rest = [0.69, 0.58, 0.46, 0.58, 0.56, 0.31, 0.58, 0.84]

# Plotting
plt.figure(figsize=(14, 6))
plt.bar(x - 3*width, conll_cased_conll, width, label='CoNLL (cased) → CoNLL')
plt.bar(x - 2*width, conll_uncased_conll,
        width, label='CoNLL (uncased) → CoNLL')
plt.bar(x - width, conll_cased_onto_news, width,
        label='CoNLL (cased) → OntoNotes (News)')
plt.bar(x, conll_uncased_onto_news, width,
        label='CoNLL (uncased) → OntoNotes (News)')
plt.bar(x + width, conll_cased_onto_rest, width,
        label='CoNLL (cased) → OntoNotes (Rest)')
plt.bar(x + 2*width, conll_uncased_onto_rest, width,
        label='CoNLL (uncased) → OntoNotes (Rest)')

plt.xticks(x, tags, rotation=45)
plt.ylim(0.3, 1.0)
plt.ylabel('F1-score')
plt.title('Tag-wise F1-scores (Models Trained on CoNLL)')
plt.legend(loc='upper center', bbox_to_anchor=(0.5, -0.15), ncol=2)
plt.tight_layout()
plt.grid(True, axis='y', linestyle='--', alpha=0.7)
plt.show()


import matplotlib.pyplot as plt
import numpy as np

# Define the entity tags
tags = ["B-LOC", "B-MISC", "B-ORG", "B-PER",
        "I-LOC", "I-MISC", "I-ORG", "I-PER"]
x = np.arange(len(tags))  # Numeric x-axis
width = 0.18  # Width of each bar

# CoNLL-trained models
conll_cased_conll = [0.86, 0.68, 0.65, 0.91, 0.68, 0.47, 0.79, 0.91]
conll_uncased_conll = [0.85, 0.66, 0.62, 0.90, 0.62, 0.34, 0.72, 0.90]
conll_cased_onto_news = [0.87, 0.60, 0.74, 0.92, 0.69, 0.48, 0.84, 0.92]
conll_uncased_onto_news = [0.86, 0.58, 0.73, 0.88, 0.64, 0.36, 0.80, 0.88]
conll_cased_onto_rest = [0.70, 0.58, 0.50, 0.60, 0.59, 0.41, 0.66, 0.85]
conll_uncased_onto_rest = [0.69, 0.58, 0.46, 0.58, 0.56, 0.31, 0.58, 0.84]

# OntoNotes-trained models
onto_cased_onto = [0.86, 0.68, 0.65, 0.91, 0.68, 0.47, 0.79, 0.91]
onto_uncased_onto = [0.85, 0.66, 0.62, 0.90, 0.62, 0.34, 0.72, 0.90]
onto_cased_conll = [0.80, 0.71, 0.60, 0.89, 0.65, 0.56, 0.74, 0.94]
onto_uncased_conll = [0.84, 0.73, 0.61, 0.93, 0.68, 0.52, 0.69, 0.94]

# --- Plot 1: CoNLL-trained models ---
plt.figure(figsize=(14, 6))
plt.bar(x - 2.5*width, conll_cased_conll, width, label='CoNLL (cased) → CoNLL')
plt.bar(x - 1.5*width, conll_uncased_conll,
        width, label='CoNLL (uncased) → CoNLL')
plt.bar(x - 0.5*width, conll_cased_onto_news, width,
        label='CoNLL (cased) → OntoNotes (News)')
plt.bar(x + 0.5*width, conll_uncased_onto_news, width,
        label='CoNLL (uncased) → OntoNotes (News)')
plt.bar(x + 1.5*width, conll_cased_onto_rest, width,
        label='CoNLL (cased) → OntoNotes (Rest)')
plt.bar(x + 2.5*width, conll_uncased_onto_rest, width,
        label='CoNLL (uncased) → OntoNotes (Rest)')

plt.xticks(x, tags, rotation=45)
plt.ylim(0.3, 1.0)
plt.ylabel('F1-score')
plt.title('Tag-wise F1-scores (Models Trained on CoNLL)')
plt.legend(loc='upper center', bbox_to_anchor=(0.5, -0.15), ncol=2)
plt.tight_layout()
plt.grid(True, axis='y', linestyle='--', alpha=0.7)
plt.show()

# --- Plot 2: OntoNotes-trained models ---
plt.figure(figsize=(14, 6))
plt.bar(x - width, onto_cased_onto, width,
        label='OntoNotes (cased) → OntoNotes')
plt.bar(x, onto_uncased_onto, width, label='OntoNotes (uncased) → OntoNotes')
plt.bar(x + width, onto_cased_conll, width, label='OntoNotes (cased) → CoNLL')
plt.bar(x + 2*width, onto_uncased_conll, width,
        label='OntoNotes (uncased) → CoNLL')

plt.xticks(x, tags, rotation=45)
plt.ylim(0.3, 1.0)
plt.ylabel('F1-score')
plt.title('Tag-wise F1-scores (Models Trained on OntoNotes)')
plt.legend(loc='upper center', bbox_to_anchor=(0.5, -0.15), ncol=2)
plt.tight_layout()
plt.grid(True, axis='y', linestyle='--', alpha=0.7)
plt.show()


import matplotlib.pyplot as plt

# Define the entity tags
tags = ["B-LOC", "B-MISC", "B-ORG", "B-PER",
        "I-LOC", "I-MISC", "I-ORG", "I-PER"]

# F1-scores from evaluations

# CoNLL-trained models (evaluated on OntoNotes - news and rest separately)
conll2onto_news_cased = [0.87, 0.60, 0.74, 0.92, 0.69, 0.48, 0.84, 0.92]
conll2onto_news_uncased = [0.86, 0.58, 0.73, 0.88, 0.64, 0.36, 0.80, 0.88]

conll2onto_rest_cased = [0.70, 0.58, 0.50, 0.60, 0.59, 0.41, 0.66, 0.85]
conll2onto_rest_uncased = [0.69, 0.58, 0.46, 0.58, 0.56, 0.31, 0.58, 0.84]

# CoNLL-trained models (in-domain)
conll2conll_cased = [0.86, 0.68, 0.65, 0.91, 0.68, 0.47, 0.79, 0.91]
conll2conll_uncased = [0.85, 0.66, 0.62, 0.90, 0.62, 0.34, 0.72, 0.90]

# OntoNotes-trained models (in-domain on OntoNotes)
onto2onto_cased = [0.86, 0.68, 0.65, 0.91, 0.68, 0.47, 0.79, 0.91]
onto2onto_uncased = [0.85, 0.66, 0.62, 0.90, 0.62, 0.34, 0.72, 0.90]

# OntoNotes-trained models (evaluated on CoNLL)
onto2conll_cased = [0.80, 0.71, 0.60, 0.89, 0.65, 0.56, 0.74, 0.94]
onto2conll_uncased = [0.84, 0.73, 0.61, 0.93, 0.68, 0.52, 0.69, 0.94]

# Plotting
plt.figure(figsize=(14, 8))
x = range(len(tags))

plt.plot(x, conll2onto_news_cased, marker='o',
         label='Train: CoNLL (cased) → Test: OntoNotes (News)')
plt.plot(x, conll2onto_news_uncased, marker='o',
         label='Train: CoNLL (uncased) → Test: OntoNotes (News)')
plt.plot(x, conll2onto_rest_cased, marker='o',
         label='Train: CoNLL (cased) → Test: OntoNotes (Rest)')
plt.plot(x, conll2onto_rest_uncased, marker='o',
         label='Train: CoNLL (uncased) → Test: OntoNotes (Rest)')
plt.plot(x, conll2conll_cased, marker='s',
         label='Train: CoNLL (cased) → Test: CoNLL')
plt.plot(x, conll2conll_uncased, marker='s',
         label='Train: CoNLL (uncased) → Test: CoNLL')
plt.plot(x, onto2onto_cased, marker='^',
         label='Train: OntoNotes (cased) → Test: OntoNotes')
plt.plot(x, onto2onto_uncased, marker='^',
         label='Train: OntoNotes (uncased) → Test: OntoNotes')
plt.plot(x, onto2conll_cased, marker='x',
         label='Train: OntoNotes (cased) → Test: CoNLL')
plt.plot(x, onto2conll_uncased, marker='x',
         label='Train: OntoNotes (uncased) → Test: CoNLL')


plt.xticks(x, tags, rotation=45)
plt.ylim(0.3, 1.0)
plt.ylabel('F1-score')
plt.title('Tag-wise F1-score Comparison Across Models and Domains')
plt.legend()
plt.grid(True)
plt.tight_layout()
plt.show()


import matplotlib.pyplot as plt
import pandas as pd

# Tag-wise F1-scores from Stanford set
tags = ["B-LOC", "B-MISC", "B-ORG", "B-PER",
        "I-LOC", "I-MISC", "I-ORG", "I-PER"]

conll_cased = [0.72, 0.93, 0.77, 0.74, 0.53, 0.87, 0.90, 0.77]
conll_uncased = [0.71, 0.92, 0.75, 0.76, 0.84, 0.87, 0.85, 0.77]
onto_cased = [0.75, 0.77, 0.43, 0.73, 0.64, 0.60, 0.81, 0.79]
onto_uncased = [0.67, 0.76, 0.41, 0.72, 0.63, 0.58, 0.76, 0.78]

plt.figure(figsize=(14, 6))
x = range(len(tags))

plt.plot(x, conll_cased, marker='o', label='CoNLL-BERT-cased')
plt.plot(x, conll_uncased, marker='o', label='CoNLL-BERT-uncased')
plt.plot(x, onto_cased, marker='s', label='Onto-BERT-cased')
plt.plot(x, onto_uncased, marker='s', label='Onto-BERT-uncased')

plt.xticks(x, tags, rotation=45)
plt.ylabel('F1-score')
plt.title('Stanford Challenge: Tag-wise F1-score Comparison')
plt.legend()
plt.grid(True)
plt.tight_layout()
plt.show()


import numpy as np

regions = ["Asia", "Europe", "South America",
           "Africa", "North America", "Oceania"]

recall_data = {
    "CoNLL-BERT-cased": [0.97, 0.97, 0.97, 0.96, 0.96, 0.91],
    "CoNLL-BERT-uncased": [0.94, 0.97, 0.97, 0.96, 0.95, 0.86],
    "Onto-BERT-cased": [0.95, 0.97, 0.98, 0.94, 0.96, 0.87],
    "Onto-BERT-uncased": [0.95, 0.97, 0.98, 0.95, 0.95, 0.83],
}

x = np.arange(len(regions))
width = 0.2

plt.figure(figsize=(14, 6))
plt.bar(x - 1.5*width,
        recall_data["CoNLL-BERT-cased"], width, label="CoNLL-BERT-cased")
plt.bar(x - 0.5*width,
        recall_data["CoNLL-BERT-uncased"], width, label="CoNLL-BERT-uncased")
plt.bar(x + 0.5*width,
        recall_data["Onto-BERT-cased"], width, label="Onto-BERT-cased")
plt.bar(x + 1.5*width,
        recall_data["Onto-BERT-uncased"], width, label="Onto-BERT-uncased")

plt.xticks(x, regions, rotation=45)
plt.ylabel("Recall (B-PER)")
plt.title("B-PER Recall by Region")
plt.ylim(0.8, 1.0)
plt.legend()
plt.grid(axis='y')
plt.tight_layout()
plt.show()


import matplotlib.pyplot as plt

models = ["CoNLL-BERT-cased", "CoNLL-BERT-uncased",
          "Onto-BERT-cased", "Onto-BERT-uncased"]
recall_scores = [0.94, 0.92, 0.92, 0.89]

plt.figure(figsize=(10, 5))
plt.bar(models, recall_scores, color="lightcoral")
plt.ylabel("Recall (B-PER)")
plt.title("Common Nouns Challenge: B-PER Recall")
plt.xticks(rotation=30)
plt.ylim(0.85, 1.0)
plt.grid(axis='y')
plt.tight_layout()
plt.show()


alphas = [0.9683, 0.9619, 0.9499, 0.9557]

plt.figure(figsize=(10, 5))
plt.bar(models, alphas, color="lightgreen")
plt.ylabel("Krippendorff’s Alpha")
plt.title("Model Agreement (Krippendorff’s Alpha)")
plt.xticks(rotation=30)
plt.ylim(0.94, 0.975)
plt.grid(axis='y')
plt.tight_layout()
plt.show()
